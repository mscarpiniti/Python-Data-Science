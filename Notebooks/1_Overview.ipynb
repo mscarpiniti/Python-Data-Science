{
 "cells": [
  {
   "cell_type": "markdown",
   "id": "0cd53ac5",
   "metadata": {
    "slideshow": {
     "slide_type": "slide"
    }
   },
   "source": [
    "# Course overview\n",
    "\n",
    "**Prof. Michele Scarpiniti**\n"
   ]
  },
  {
   "cell_type": "markdown",
   "id": "af81d0f0",
   "metadata": {
    "slideshow": {
     "slide_type": "slide"
    }
   },
   "source": [
    "## Instructor\n",
    "\n",
    "The course instructor is: **Michele Scarpiniti**\n",
    "\n",
    "For contacts and explanations:\n",
    "\n",
    "* **Location**: DIET Department, I floor, room 121, Faculty of Information Engineering, Informatics, and Statistics (San Pietro in Vincoli), Via Eudossiana 18, Rome.\n",
    "\t\n",
    "* **Office hours**: every day by appointment.\n",
    "\t\n",
    "* **Contact numbers**: 06 44585869 (inside: 25869), Fax: 06 44585632.\n",
    "\t\n",
    "* **Email**: <michele.scarpiniti@uniroma1.it> (write *Python for Data Science* in the subject).\n",
    "\t\n",
    "* **Web site**: <http://michelescarpiniti.site.uniroma1.it>\n"
   ]
  },
  {
   "cell_type": "markdown",
   "id": "f654c18e",
   "metadata": {
    "slideshow": {
     "slide_type": "slide"
    }
   },
   "source": [
    "## Course Description and Motivation\n",
    "\n",
    "**Python** is the most useful and powerful programming language oriented to data science and machine learning. \n",
    "\n",
    "Although simple, some aspects need to be carefully addressed. The course aims to introduce methods, techniques, and tools for the analysis of experimental data using Python language. Particular emphasis is placed on data manipulation and transformation.\n",
    "\n",
    "The objective of this three CFU module is to provide a general overview of available software libraries and modern programming techniques for **Data Science** and their applicability to ICT environment. \n"
   ]
  },
  {
   "cell_type": "markdown",
   "id": "5753f73f",
   "metadata": {
    "slideshow": {
     "slide_type": "slide"
    }
   },
   "source": [
    "## Prerequisites\n",
    "\n",
    "Students are **expected** to have the following background:\n",
    "\n",
    "*  Basic computer programming.\n"
   ]
  },
  {
   "cell_type": "markdown",
   "id": "c8e41680",
   "metadata": {
    "slideshow": {
     "slide_type": "slide"
    }
   },
   "source": [
    "## Time and Location\n",
    "\n",
    "The course will start on **January 15, 2025**, with the following schedule:\n",
    "\n",
    "* Wednesday, January 15, 14:00 - 17:00, Room DIET09\n",
    "  \n",
    "* Thursday, January 16,\t14:00 - 17:00, Room DIET09\n",
    "  \n",
    "* Wednesday, January 22, 14:00 - 17:00, Room DIET09\n",
    "  \n",
    "* Thursday, January 23,\t14:00 - 17:00, Room DIET09\n",
    "  \n",
    "* Wednesday, January 29, 14:00 - 17:00, Room DIET09\n",
    "  \n",
    "* Thursday, January 30, 14:00 - 17:00, Room DIET09\n",
    "\n",
    "The course is also available on Google Classroom, with the code: **3un72tv**.\n"
   ]
  },
  {
   "cell_type": "markdown",
   "id": "d91751b6",
   "metadata": {
    "slideshow": {
     "slide_type": "slide"
    }
   },
   "source": [
    "## Textbooks\n",
    "\n",
    "The suggested textbook, available both in English and Italian, is:\n",
    "\n",
    "1.  Naomi Ceder, **The Quick Python Book**, 3rd Edition, Manning, 2018.\n",
    "\t\n",
    "2.  Naomi Ceder, **Python -- Guida alla sintassi, alle funzionalità avanzate e all'analisi dei dati**, Apogeo, 2019. (*in Italian*).\n",
    "\n",
    "\n",
    "Some other good practical textbooks with useful **Python** code are:\n",
    "\n",
    "1.  Jake VanderPlas, **A Whirlwind Tour of Python**, O'Reilly Media, 2016.\n",
    "\t\n",
    "2.  Jake VanderPlas, **Python Data Science Handbook: Essential Tools for Working with Data**, O'Reilly Media, 2016.\n",
    "\t\n",
    "3.  Joel Grus, **Data Science from Scratch**, O'Reilly Media, 2nd Edition, 2019."
   ]
  },
  {
   "cell_type": "markdown",
   "id": "de39f8c8",
   "metadata": {
    "slideshow": {
     "slide_type": "slide"
    }
   },
   "source": [
    "## Final Exam\n",
    "\n",
    "The **final exam** will be performed by developing a small practical project assignment on one of the course topics. The topic can also be agreed based on the student's PhD research program.\n"
   ]
  },
  {
   "cell_type": "markdown",
   "id": "995d8672",
   "metadata": {
    "slideshow": {
     "slide_type": "slide"
    }
   },
   "source": [
    "## Syllabus\n",
    "\n",
    "The general syllabus of the course is as follows:\n",
    "\n",
    "1. **Course overview**.\n",
    "\t\n",
    "2. **Introduction to Python**.\n",
    "  \n",
    "3. **Basics of Python programming and Python data structures**.\n",
    "\t\n",
    "4. **Python programming fundamentals**.\n",
    "  \n",
    "5. **Main scientific libraries**.\n",
    "\n",
    "6. **Data manipulation**.\n",
    "  \n",
    "7. **Data preparation and transformation in Python**.\n",
    "\n",
    "8. **Specific topics**.\n"
   ]
  },
  {
   "cell_type": "markdown",
   "id": "c77e1ce6",
   "metadata": {
    "slideshow": {
     "slide_type": "slide"
    }
   },
   "source": [
    "## Course materials\n",
    "\n",
    "All the **course materials** (lecture slides, source code, lecture notes) are available online at the instructor homepage: <https://michelescarpiniti.site.uniroma1.it/didattica/pyds>\n",
    "\n",
    "The course is also available in a repository on **GitHub** as *Jupyter Notebooks*: <https://github.com/mscarpiniti/Python-Data-Science>"
   ]
  },
  {
   "cell_type": "markdown",
   "id": "24465165",
   "metadata": {
    "slideshow": {
     "slide_type": "slide"
    }
   },
   "source": [
    "## References\n",
    "\n",
    "1. Naomi Ceder, The Quick Python Book, Third Edition, Manning, 2018.\n",
    "2. Naomi Ceder, Python - Guida alla sintassi, alle funzionalità avanzate e all'analisi dei dati, Apogeo, 2019.\n",
    "3. Jake VanderPlas, A Whirlwind Tour of Python, O'Reilly Media, 2016.\n",
    "4. Jake VanderPlas, Python Data Science Handbook: Essential Tools for Working with Data, O'Reilly Media, 2016.\n",
    "5. Joel Grus, Data Science from Scratch, O'Reilly Media, 2nd Edition, 2019.\n"
   ]
  }
 ],
 "metadata": {
  "celltoolbar": "Slideshow",
  "kernelspec": {
   "display_name": "Python 3 (ipykernel)",
   "language": "python",
   "name": "python3"
  },
  "language": "python",
  "language_info": {
   "codemirror_mode": {
    "name": "ipython",
    "version": 3
   },
   "file_extension": ".py",
   "mimetype": "text/x-python",
   "name": "python",
   "nbconvert_exporter": "python",
   "pygments_lexer": "ipython3",
   "version": "3.11.7"
  },
  "livereveal": {
   "controls": true,
   "help": true,
   "scroll": true,
   "slideNumber": true,
   "transition": "none"
  }
 },
 "nbformat": 4,
 "nbformat_minor": 5
}
