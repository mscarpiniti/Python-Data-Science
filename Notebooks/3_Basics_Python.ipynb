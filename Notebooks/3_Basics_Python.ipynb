{
 "cells": [
  {
   "cell_type": "markdown",
   "id": "82340727",
   "metadata": {
    "slideshow": {
     "slide_type": "slide"
    }
   },
   "source": [
    "# Basic of Python programming\n",
    "\n",
    "**Prof. Michele Scarpiniti**\n"
   ]
  },
  {
   "cell_type": "markdown",
   "id": "b67921bd",
   "metadata": {
    "slideshow": {
     "slide_type": "slide"
    }
   },
   "source": [
    "## Outline\n",
    "\n",
    "- [Variables](#Variables)\n",
    "- [Lists, Dictionaries, and other objects](#Liste)\n",
    "- [String manipulation](#String_manipulation)\n",
    "- [Differences between Python and MATLAB](#PythonVsMatlab)\n",
    "- [References](#References)"
   ]
  },
  {
   "cell_type": "markdown",
   "id": "8081889a",
   "metadata": {
    "slideshow": {
     "slide_type": "slide"
    }
   },
   "source": [
    "# Code Basics\n"
   ]
  },
  {
   "cell_type": "markdown",
   "id": "22ed1f6e",
   "metadata": {
    "slideshow": {
     "slide_type": "slide"
    }
   },
   "source": [
    "## Variables <a id=\"Variables\"></a>\n"
   ]
  },
  {
   "cell_type": "markdown",
   "id": "0f2a40df",
   "metadata": {
    "slideshow": {
     "slide_type": "slide"
    }
   },
   "source": [
    "Creating a **variable**  in **Python**  is easy: *you give it a name and assign a value*:\n"
   ]
  },
  {
   "cell_type": "code",
   "execution_count": 1,
   "id": "f97786b5",
   "metadata": {
    "slideshow": {
     "slide_type": "-"
    }
   },
   "outputs": [],
   "source": [
    "a = 3\n",
    "b = 4.2\n",
    "C = -1.5"
   ]
  },
  {
   "cell_type": "markdown",
   "id": "b32a9ec0",
   "metadata": {
    "slideshow": {
     "slide_type": "-"
    }
   },
   "source": [
    "An then you can performs simple calculations:\n"
   ]
  },
  {
   "cell_type": "code",
   "execution_count": 2,
   "id": "f0fc532a",
   "metadata": {
    "slideshow": {
     "slide_type": "-"
    }
   },
   "outputs": [
    {
     "data": {
      "text/plain": [
       "6.2"
      ]
     },
     "execution_count": 2,
     "metadata": {},
     "output_type": "execute_result"
    }
   ],
   "source": [
    "b + 2"
   ]
  },
  {
   "cell_type": "code",
   "execution_count": 3,
   "id": "693dc205-1c6c-4ce2-89b5-acd891ece307",
   "metadata": {},
   "outputs": [
    {
     "data": {
      "text/plain": [
       "1.5"
      ]
     },
     "execution_count": 3,
     "metadata": {},
     "output_type": "execute_result"
    }
   ],
   "source": [
    "a/2"
   ]
  },
  {
   "cell_type": "markdown",
   "id": "702d8328",
   "metadata": {
    "slideshow": {
     "slide_type": "-"
    }
   },
   "source": [
    "In any case, Python is a *dynamic programming* language and we can explicitly **change** the data type:\n"
   ]
  },
  {
   "cell_type": "code",
   "execution_count": 4,
   "id": "5afcf677",
   "metadata": {
    "slideshow": {
     "slide_type": "-"
    }
   },
   "outputs": [],
   "source": [
    "a = 3      # It is an integer\n",
    "a = 'pq'   # It is a string\n",
    "a = 5.4    # It is a float"
   ]
  },
  {
   "cell_type": "markdown",
   "id": "b7c22174",
   "metadata": {
    "slideshow": {
     "slide_type": "slide"
    }
   },
   "source": [
    "The *type* of a variable can be checked by the following command:\n",
    "\n"
   ]
  },
  {
   "cell_type": "code",
   "execution_count": 5,
   "id": "109dc588",
   "metadata": {
    "slideshow": {
     "slide_type": "-"
    }
   },
   "outputs": [
    {
     "data": {
      "text/plain": [
       "float"
      ]
     },
     "execution_count": 5,
     "metadata": {},
     "output_type": "execute_result"
    }
   ],
   "source": [
    "type(a)"
   ]
  },
  {
   "cell_type": "code",
   "execution_count": 6,
   "id": "152cd946-a16d-40df-b56e-59bf7b616239",
   "metadata": {},
   "outputs": [
    {
     "data": {
      "text/plain": [
       "float"
      ]
     },
     "execution_count": 6,
     "metadata": {},
     "output_type": "execute_result"
    }
   ],
   "source": [
    "type(b)"
   ]
  },
  {
   "cell_type": "markdown",
   "id": "8a956a5b",
   "metadata": {
    "slideshow": {
     "slide_type": "-"
    }
   },
   "source": [
    "There is **no**  need to end a line with the semicolon (`;`). The output is generally **suppressed** . The semicolon can be used to make multiple assignments in a **single** line:\n"
   ]
  },
  {
   "cell_type": "code",
   "execution_count": 7,
   "id": "0cf9dee6",
   "metadata": {
    "slideshow": {
     "slide_type": "-"
    }
   },
   "outputs": [],
   "source": [
    "a = 3.1; b = 5.4; c = -0.4"
   ]
  },
  {
   "cell_type": "markdown",
   "id": "1762d54c",
   "metadata": {
    "slideshow": {
     "slide_type": "-"
    }
   },
   "source": [
    "To **see**  a variable on the *prompt*, can be used the command `print` as follows:\n",
    "\n"
   ]
  },
  {
   "cell_type": "code",
   "execution_count": 8,
   "id": "2d476d04",
   "metadata": {
    "slideshow": {
     "slide_type": "-"
    }
   },
   "outputs": [
    {
     "name": "stdout",
     "output_type": "stream",
     "text": [
      "3.1\n"
     ]
    }
   ],
   "source": [
    "print(a)"
   ]
  },
  {
   "cell_type": "markdown",
   "id": "1d5ea0fc",
   "metadata": {
    "slideshow": {
     "slide_type": "slide"
    }
   },
   "source": [
    "### Math operations and comparisons\n",
    "\n",
    "The basic math operations and arithmetic comparisons operators are shown in the following tables:\n",
    "\n",
    "| **Operation**  | **Command** | **Usage** |\n",
    "|:---------------|:-----------:|:----------|\n",
    "| Addition       |  **`+`**    | `a + b`   |\n",
    "| Subtraction    |  **`-`**    | `a - b`   |\n",
    "| Multiplication |  **`*`**    | `a * b`   |\n",
    "| Division       |  **`/`**    | `a / b`   |\n",
    "| Floor Division |  **`//`**   | `a // b`  |\n",
    "| Exponent       |  **`**`**   | `a ** b`  |\n",
    "| Modulus        |  **`%`**    | `a % b`   |\n",
    "\n",
    "\n",
    "\n",
    "| **Operation**       | **Command**  |\n",
    "|:--------------------|:------------:|\n",
    "| Less                |   **`<`**    |\n",
    "| Less or equal       |   **`<=`**   |\n",
    "| Greater             |   **`>`**    |\n",
    "| Greater or equal    |   **`>=`**   |\n",
    "| Equal               |   **`==`**   |\n",
    "| Not equal           |   **`!=`**   |\n",
    "| Not equal           |   **`<>`**   |\n",
    "\n"
   ]
  },
  {
   "cell_type": "markdown",
   "id": "55221716",
   "metadata": {
    "slideshow": {
     "slide_type": "slide"
    }
   },
   "source": [
    "### Logical operations\n",
    "\n",
    "The logic operations and bit-wise and/or operations are performed by the command shown in the following tables:\n",
    "\n",
    "| **Operation** | **Command** |\n",
    "|:--------------|:-----------:|\n",
    "| AND           |  **`and`**  |\n",
    "| OR            |  **`or`**   |\n",
    "| NOT           |  **`not`**  |\n",
    "\n",
    "and\n",
    "\n",
    "| **Operation**       | **Command** |\n",
    "|:--------------------|:-----------:|\n",
    "| Bit-wise AND        |  **`&`**    |\n",
    "| Bit-wise OR         |  **`|`**    |\n",
    "| Bit-wise complement |  **`~`**    |\n",
    "\n",
    "\n",
    "These bit-wise operators are actually quite useful in cascading several **comparisons** in a condition test.\n"
   ]
  },
  {
   "cell_type": "markdown",
   "id": "e95e1f65",
   "metadata": {
    "slideshow": {
     "slide_type": "slide"
    }
   },
   "source": [
    "As we have previously seen, the assignment is performed by the `=` symbol, as in:\n"
   ]
  },
  {
   "cell_type": "code",
   "execution_count": 9,
   "id": "a8540ffe",
   "metadata": {
    "slideshow": {
     "slide_type": "-"
    }
   },
   "outputs": [],
   "source": [
    "a = b + c"
   ]
  },
  {
   "cell_type": "markdown",
   "id": "647e85cd",
   "metadata": {
    "slideshow": {
     "slide_type": "-"
    }
   },
   "source": [
    "The expression on the **right**  of the `=` symbol is evaluated and stored in the memory associated to the variable `a` on the **left**  of the `=`  symbol.\n",
    "\n",
    "Some operations can be **compacted**  in a nice form, as in the following table:\n",
    "\n",
    "| **Command** |     | **Usage** |     | **Meaning**  |\n",
    "|:-----------:|:---:|:----------|:---:|:-------------|\n",
    "|  **`+=`**   |     | `c += a`  |     | `c = c + a`  |\n",
    "|  **`-=`**   |     | `c -= a`  |     | `c = c - a`  |\n",
    "|  **`*=`**   |     | `c *= a`  |     | `c = c * a`  |\n",
    "|  **`/=`**   |     | `c /= a`  |     | `c = c / a`  |\n",
    "|  **`//=`**  |     | `c //= a` |     | `c = c // a` |\n",
    "|    `**=`    |     | `c **= a` |     | `c = c ** a` |\n",
    "|  **`%=`**   |     | `c %= a`  |     | `c = c % a`  |"
   ]
  },
  {
   "cell_type": "markdown",
   "id": "88cb8baf",
   "metadata": {
    "slideshow": {
     "slide_type": "slide"
    }
   },
   "source": [
    "It is also possible to make **multiple**  assignments in a single line:\n"
   ]
  },
  {
   "cell_type": "code",
   "execution_count": 10,
   "id": "17946448",
   "metadata": {
    "slideshow": {
     "slide_type": "-"
    }
   },
   "outputs": [
    {
     "name": "stdout",
     "output_type": "stream",
     "text": [
      "1.3\n",
      "4.6\n"
     ]
    }
   ],
   "source": [
    "a, b = 1.3, 4.6\n",
    "\n",
    "print(a)\n",
    "print(b)"
   ]
  },
  {
   "cell_type": "markdown",
   "id": "5842445a",
   "metadata": {
    "slideshow": {
     "slide_type": "-"
    }
   },
   "source": [
    "This is very helpful to **swap**  two variables **without**  resorting to a `temp` variable:\n"
   ]
  },
  {
   "cell_type": "code",
   "execution_count": 11,
   "id": "c6be56ff",
   "metadata": {
    "slideshow": {
     "slide_type": "-"
    }
   },
   "outputs": [],
   "source": [
    "# Swapping two variables\n",
    "a, b = b, a"
   ]
  },
  {
   "cell_type": "markdown",
   "id": "e059a652",
   "metadata": {
    "slideshow": {
     "slide_type": "-"
    }
   },
   "source": [
    "We can add also **comments**  in the code, which start with a `#`  symbol, and Python will **ignore**  them during the execution, but are used to explain the code and make it more readable.\n"
   ]
  },
  {
   "cell_type": "markdown",
   "id": "cb61fbbb",
   "metadata": {
    "slideshow": {
     "slide_type": "slide"
    }
   },
   "source": [
    "When dealing with very large or very small values, it is common to exploit **power of ten**  expressions, such as:\n",
    "$$\n",
    "2 \\times 10^3, \\quad 3.47 \\times 10^{21}, \\quad 7.21 \\times 10 ^{-9}, \\quad\\text{etc.}$$\n",
    "These **power of ten**  expressions can be implemented by using the so called scientific notation employing the `e` symbol:\n"
   ]
  },
  {
   "cell_type": "code",
   "execution_count": 12,
   "id": "70cf3389",
   "metadata": {
    "slideshow": {
     "slide_type": "-"
    }
   },
   "outputs": [],
   "source": [
    "a1 = 2e3\n",
    "a2 = 3.47e+21  # The + symbol is optional\n",
    "a3 = 7.21e-9"
   ]
  },
  {
   "cell_type": "markdown",
   "id": "9742146b",
   "metadata": {
    "slideshow": {
     "slide_type": "-"
    }
   },
   "source": [
    "Be aware that the `e`  symbol does **not**  represent the **Napier** 's (or **Euler** 's) constant *e*, but it simply means the **power of ten** (10 elevated to the number following the `e` notation).\n"
   ]
  },
  {
   "cell_type": "markdown",
   "id": "6427312c",
   "metadata": {
    "slideshow": {
     "slide_type": "slide"
    }
   },
   "source": [
    "### Casting\n",
    "\n",
    "In some situations it is necessary to **convert**  a **float**  number into an integer one or viceversa, or also convert a **number**  into a **string**  and viceversa. \n",
    "\n",
    "**Casting**  in python is therefore done using constructor functions:\n",
    "* `int()` : constructs an **integer**  number from a **float**  number (by removing all decimals), or a **string**  literal (providing the string represents a whole number);\n",
    "\t\n",
    "* `float()` : constructs a **float**  number from an **integer**  number or a **string**  literal (providing the string represents a float or an integer);\n",
    "\t\n",
    "* `str()` : constructs a **string**  from a wide variety of data types, including strings, integer, and float literals.\n",
    "\\columns \\column 0.5\\textwidth "
   ]
  },
  {
   "cell_type": "code",
   "execution_count": 13,
   "id": "82750176",
   "metadata": {
    "slideshow": {
     "slide_type": "-"
    }
   },
   "outputs": [
    {
     "data": {
      "text/plain": [
       "2"
      ]
     },
     "execution_count": 13,
     "metadata": {},
     "output_type": "execute_result"
    }
   ],
   "source": [
    "int(2.8)"
   ]
  },
  {
   "cell_type": "code",
   "execution_count": 14,
   "id": "d54034c4-ba88-4b9e-a47b-528160d79e4d",
   "metadata": {},
   "outputs": [
    {
     "data": {
      "text/plain": [
       "3"
      ]
     },
     "execution_count": 14,
     "metadata": {},
     "output_type": "execute_result"
    }
   ],
   "source": [
    "int(\"3\")"
   ]
  },
  {
   "cell_type": "code",
   "execution_count": 15,
   "id": "4ae7a981-d436-4228-9edf-61ec911bb2ac",
   "metadata": {},
   "outputs": [
    {
     "data": {
      "text/plain": [
       "5.0"
      ]
     },
     "execution_count": 15,
     "metadata": {},
     "output_type": "execute_result"
    }
   ],
   "source": [
    "float(5)"
   ]
  },
  {
   "cell_type": "code",
   "execution_count": 16,
   "id": "4840c7bf",
   "metadata": {
    "slideshow": {
     "slide_type": "-"
    }
   },
   "outputs": [
    {
     "data": {
      "text/plain": [
       "4.3"
      ]
     },
     "execution_count": 16,
     "metadata": {},
     "output_type": "execute_result"
    }
   ],
   "source": [
    "float(\"4.3\")"
   ]
  },
  {
   "cell_type": "code",
   "execution_count": 17,
   "id": "432bc8d9-5f44-4d7f-862b-3c5c815d0f49",
   "metadata": {},
   "outputs": [
    {
     "data": {
      "text/plain": [
       "'5'"
      ]
     },
     "execution_count": 17,
     "metadata": {},
     "output_type": "execute_result"
    }
   ],
   "source": [
    "str(5)"
   ]
  },
  {
   "cell_type": "code",
   "execution_count": 18,
   "id": "165716f0-6a5f-4ff6-9952-4e3025982960",
   "metadata": {},
   "outputs": [
    {
     "data": {
      "text/plain": [
       "'3.2'"
      ]
     },
     "execution_count": 18,
     "metadata": {},
     "output_type": "execute_result"
    }
   ],
   "source": [
    "str(3.2)"
   ]
  },
  {
   "cell_type": "markdown",
   "id": "37b689f3",
   "metadata": {
    "slideshow": {
     "slide_type": "slide"
    }
   },
   "source": [
    "### Mathematical functions\n",
    "\n",
    "Apart the functions `int()`, `float()`, `hex()` (for *hexadecimal* numbers), and `oct()` (for *octal* numbers), Python provide the following **built-in** mathematical functions:\n",
    "\n",
    "\n",
    "| **Command**                | **Meaning**                                                                     |\n",
    "|:---------------------------|:--------------------------------------------------------------------------------|\n",
    "| **`abs(x)`**               | Returns the absolute value $|x|$ of $x$                                         |\n",
    "| **`divmod(x, y)`**         | Returns a tuple containing the quotient and the remainder of $x$ divided by $y$ |\n",
    "| **`max(x1, x2, x3, ...)`** | Returns the maximum value between $x_1$, $x_2$, $x_3$, ...                      |\n",
    "| **`min(x1, x2, x3, ...)`** | Returns the minimum value between $x_1$, $x_2$, $x_3$, ...                      |\n",
    "| **`pow(x, n)`**            | Returns the value of $x$ to the power of $n$: $x^n$                             |\n",
    "| **`round(x, n)`**          | Returns the rounded version of $x$, with $n$ decimals                           |\n"
   ]
  },
  {
   "cell_type": "code",
   "execution_count": 19,
   "id": "3cda42d1",
   "metadata": {
    "slideshow": {
     "slide_type": "-"
    }
   },
   "outputs": [
    {
     "data": {
      "text/plain": [
       "3.8"
      ]
     },
     "execution_count": 19,
     "metadata": {},
     "output_type": "execute_result"
    }
   ],
   "source": [
    "abs(-3.8)"
   ]
  },
  {
   "cell_type": "code",
   "execution_count": 20,
   "id": "8f64e881-326e-419e-b74e-bf9761bcd0be",
   "metadata": {},
   "outputs": [
    {
     "data": {
      "text/plain": [
       "(3, 1)"
      ]
     },
     "execution_count": 20,
     "metadata": {},
     "output_type": "execute_result"
    }
   ],
   "source": [
    "divmod(10, 3)"
   ]
  },
  {
   "cell_type": "code",
   "execution_count": 21,
   "id": "7bbf233f-1a0a-4a34-bebd-083f0448e7ae",
   "metadata": {},
   "outputs": [
    {
     "data": {
      "text/plain": [
       "5"
      ]
     },
     "execution_count": 21,
     "metadata": {},
     "output_type": "execute_result"
    }
   ],
   "source": [
    "max(-3.2, 5, 4.1)"
   ]
  },
  {
   "cell_type": "code",
   "execution_count": 22,
   "id": "9db660d5",
   "metadata": {
    "slideshow": {
     "slide_type": "-"
    }
   },
   "outputs": [
    {
     "data": {
      "text/plain": [
       "-3.2"
      ]
     },
     "execution_count": 22,
     "metadata": {},
     "output_type": "execute_result"
    }
   ],
   "source": [
    "min(-3.2, 5, 4.1)"
   ]
  },
  {
   "cell_type": "code",
   "execution_count": 23,
   "id": "507171d5-5b98-471b-9151-ab6ac2d324be",
   "metadata": {},
   "outputs": [
    {
     "data": {
      "text/plain": [
       "64"
      ]
     },
     "execution_count": 23,
     "metadata": {},
     "output_type": "execute_result"
    }
   ],
   "source": [
    "pow(4, 3)"
   ]
  },
  {
   "cell_type": "code",
   "execution_count": 24,
   "id": "3ab2f5df-1942-4aa2-a2ed-b73afba37077",
   "metadata": {},
   "outputs": [
    {
     "data": {
      "text/plain": [
       "8.4"
      ]
     },
     "execution_count": 24,
     "metadata": {},
     "output_type": "execute_result"
    }
   ],
   "source": [
    "round(8.425, 1)"
   ]
  },
  {
   "cell_type": "markdown",
   "id": "2880be85",
   "metadata": {
    "slideshow": {
     "slide_type": "slide"
    }
   },
   "source": [
    "For using the other mathematical functions, such as *square root*, *logarithm*, *sinusoidal functions*, etc., it is necessary to **import**  a specific module, which contains also the two numbers $\\pi$ and *e*:\n"
   ]
  },
  {
   "cell_type": "code",
   "execution_count": 25,
   "id": "f51b3a03",
   "metadata": {
    "slideshow": {
     "slide_type": "-"
    }
   },
   "outputs": [],
   "source": [
    "import math"
   ]
  },
  {
   "cell_type": "markdown",
   "id": "5e4389be",
   "metadata": {
    "slideshow": {
     "slide_type": "-"
    }
   },
   "source": [
    "Now we can use all the **23**  functions contained in the module:\n"
   ]
  },
  {
   "cell_type": "code",
   "execution_count": 26,
   "id": "564c77e6",
   "metadata": {
    "slideshow": {
     "slide_type": "-"
    }
   },
   "outputs": [
    {
     "data": {
      "text/plain": [
       "4.0"
      ]
     },
     "execution_count": 26,
     "metadata": {},
     "output_type": "execute_result"
    }
   ],
   "source": [
    "math.sqrt(16)"
   ]
  },
  {
   "cell_type": "code",
   "execution_count": 27,
   "id": "8194b7e0-215c-48a2-b233-35aaa50ceb45",
   "metadata": {},
   "outputs": [
    {
     "data": {
      "text/plain": [
       "2.0"
      ]
     },
     "execution_count": 27,
     "metadata": {},
     "output_type": "execute_result"
    }
   ],
   "source": [
    "math.log10(100)"
   ]
  },
  {
   "cell_type": "code",
   "execution_count": 28,
   "id": "bd43b0c7-44d9-4ab2-bb89-0c36c552e672",
   "metadata": {},
   "outputs": [
    {
     "data": {
      "text/plain": [
       "1.0"
      ]
     },
     "execution_count": 28,
     "metadata": {},
     "output_type": "execute_result"
    }
   ],
   "source": [
    "math.sin(math.pi/2)"
   ]
  },
  {
   "cell_type": "markdown",
   "id": "ba205eab",
   "metadata": {
    "slideshow": {
     "slide_type": "slide"
    }
   },
   "source": [
    "### Complex numbers\n",
    "\n",
    "In Python it is possible to represent also **complex numbers**  by denoting the imaginary parts as `nj` , using the `j`  notation for the *imaginary unit*:\n"
   ]
  },
  {
   "cell_type": "code",
   "execution_count": 29,
   "id": "49b41b98",
   "metadata": {
    "slideshow": {
     "slide_type": "-"
    }
   },
   "outputs": [],
   "source": [
    "z = 3 + 2j"
   ]
  },
  {
   "cell_type": "code",
   "execution_count": 30,
   "id": "c1d8c86b-6865-4ca6-82b1-c1ff595fc75d",
   "metadata": {},
   "outputs": [
    {
     "data": {
      "text/plain": [
       "(-5+10j)"
      ]
     },
     "execution_count": 30,
     "metadata": {},
     "output_type": "execute_result"
    }
   ],
   "source": [
    "(1 + 2j)*(3 + 4j)"
   ]
  },
  {
   "cell_type": "markdown",
   "id": "52e13e5e",
   "metadata": {
    "slideshow": {
     "slide_type": "-"
    }
   },
   "source": [
    "Otherwise, we can use the `complex()`  function providing the *real* and *imaginary* parts:\n"
   ]
  },
  {
   "cell_type": "code",
   "execution_count": 31,
   "id": "a8ecf78a",
   "metadata": {
    "slideshow": {
     "slide_type": "-"
    }
   },
   "outputs": [],
   "source": [
    "z = complex(3, 2)"
   ]
  },
  {
   "cell_type": "markdown",
   "id": "503ee43c",
   "metadata": {
    "slideshow": {
     "slide_type": "-"
    }
   },
   "source": [
    "The real and imaginary parts can be retrieved as:"
   ]
  },
  {
   "cell_type": "code",
   "execution_count": 32,
   "id": "35d82c54",
   "metadata": {
    "slideshow": {
     "slide_type": "-"
    }
   },
   "outputs": [
    {
     "data": {
      "text/plain": [
       "3.0"
      ]
     },
     "execution_count": 32,
     "metadata": {},
     "output_type": "execute_result"
    }
   ],
   "source": [
    "z.real"
   ]
  },
  {
   "cell_type": "code",
   "execution_count": 33,
   "id": "58b6f8aa-d107-4fc2-b0f7-2eaf59f226d8",
   "metadata": {},
   "outputs": [
    {
     "data": {
      "text/plain": [
       "2.0"
      ]
     },
     "execution_count": 33,
     "metadata": {},
     "output_type": "execute_result"
    }
   ],
   "source": [
    "z.imag"
   ]
  },
  {
   "cell_type": "markdown",
   "id": "4ccc1577",
   "metadata": {
    "slideshow": {
     "slide_type": "slide"
    }
   },
   "source": [
    "In order to use mathematical function with **complex numbers** , it is necessary to **import**  the *complex-valued* version of the `math` module:\n"
   ]
  },
  {
   "cell_type": "code",
   "execution_count": 34,
   "id": "6ba2d11e",
   "metadata": {
    "slideshow": {
     "slide_type": "-"
    }
   },
   "outputs": [],
   "source": [
    "import cmath"
   ]
  },
  {
   "cell_type": "markdown",
   "id": "8749f23a",
   "metadata": {
    "slideshow": {
     "slide_type": "-"
    }
   },
   "source": [
    "For example, if we need to compute the **phase**  of a complex number *z*, we can use:\n"
   ]
  },
  {
   "cell_type": "code",
   "execution_count": 35,
   "id": "760f5636",
   "metadata": {
    "slideshow": {
     "slide_type": "-"
    }
   },
   "outputs": [
    {
     "name": "stdout",
     "output_type": "stream",
     "text": [
      "0.5880026035475675\n"
     ]
    }
   ],
   "source": [
    "z = complex(3, 2)\n",
    "p = cmath.phase(z)\n",
    "print(p)"
   ]
  },
  {
   "cell_type": "markdown",
   "id": "41e36f1a",
   "metadata": {
    "slideshow": {
     "slide_type": "-"
    }
   },
   "source": [
    "which is equivalent to $\\pi/4$.\n"
   ]
  },
  {
   "cell_type": "markdown",
   "id": "18dff3b8",
   "metadata": {
    "slideshow": {
     "slide_type": "slide"
    }
   },
   "source": [
    "Python introduces a specific keyword to indicate a **no value**. Specifically, the `None`  keyword is used to define a null value, or no value at all.\n",
    "\n",
    "`None`  is not the same as `0`, `False`, or an *empty* string. `None` is a data type of its own (`NoneType`) and only `None` can be `None`."
   ]
  },
  {
   "cell_type": "code",
   "execution_count": 36,
   "id": "c8a7b251",
   "metadata": {
    "slideshow": {
     "slide_type": "-"
    }
   },
   "outputs": [
    {
     "name": "stdout",
     "output_type": "stream",
     "text": [
      "None\n"
     ]
    }
   ],
   "source": [
    "x = None\n",
    "print(x)"
   ]
  },
  {
   "cell_type": "markdown",
   "id": "0e55147a",
   "metadata": {
    "slideshow": {
     "slide_type": "-"
    }
   },
   "source": [
    "However, in **comparisons** it is considered as `False`:\n"
   ]
  },
  {
   "cell_type": "code",
   "execution_count": 37,
   "id": "f817fbb2",
   "metadata": {
    "slideshow": {
     "slide_type": "-"
    }
   },
   "outputs": [
    {
     "name": "stdout",
     "output_type": "stream",
     "text": [
      "False\n"
     ]
    }
   ],
   "source": [
    "if x:\n",
    "    print('True')\n",
    "else:\n",
    "    print('False')"
   ]
  },
  {
   "cell_type": "markdown",
   "id": "f65a79bd",
   "metadata": {
    "slideshow": {
     "slide_type": "slide"
    }
   },
   "source": [
    "### Strings\n",
    "\n",
    "Python also deals with strings, which are described by using single or double **quotes** (`'` or `\"` ) to surround them:"
   ]
  },
  {
   "cell_type": "code",
   "execution_count": 38,
   "id": "9a70f341",
   "metadata": {
    "slideshow": {
     "slide_type": "-"
    }
   },
   "outputs": [],
   "source": [
    "a = \"hello\""
   ]
  },
  {
   "cell_type": "markdown",
   "id": "48e605f9",
   "metadata": {
    "slideshow": {
     "slide_type": "-"
    }
   },
   "source": [
    "For strings, the `+` operator is *overloaded* (given a new meaning), which is the **concatenation**: merging the strings. Hence:\n"
   ]
  },
  {
   "cell_type": "code",
   "execution_count": 39,
   "id": "5f989954",
   "metadata": {
    "slideshow": {
     "slide_type": "-"
    }
   },
   "outputs": [
    {
     "data": {
      "text/plain": [
       "'cd'"
      ]
     },
     "execution_count": 39,
     "metadata": {},
     "output_type": "execute_result"
    }
   ],
   "source": [
    "'c' + 'd' "
   ]
  },
  {
   "cell_type": "markdown",
   "id": "9e6ea503",
   "metadata": {
    "slideshow": {
     "slide_type": "-"
    }
   },
   "source": [
    "returns the new string `cd`.\n",
    "\n",
    "The use of the double quotes avoid the backslash for using the **apostrophe** :"
   ]
  },
  {
   "cell_type": "code",
   "execution_count": 40,
   "id": "7d3c0071",
   "metadata": {
    "slideshow": {
     "slide_type": "-"
    }
   },
   "outputs": [],
   "source": [
    "x = \"Don't need a backslash\" \n",
    "x = 'Can\\'t get by without a backslash'"
   ]
  },
  {
   "cell_type": "markdown",
   "id": "33c4ee98",
   "metadata": {
    "slideshow": {
     "slide_type": "slide"
    }
   },
   "source": [
    "The `input()` function allow to ask an input to the user, by describing the request with a string:"
   ]
  },
  {
   "cell_type": "code",
   "execution_count": 41,
   "id": "5556610f",
   "metadata": {
    "slideshow": {
     "slide_type": "-"
    }
   },
   "outputs": [
    {
     "name": "stdin",
     "output_type": "stream",
     "text": [
      "What is your name?  Michele\n"
     ]
    }
   ],
   "source": [
    "name = input(\"What is your name? \")"
   ]
  },
  {
   "cell_type": "code",
   "execution_count": 42,
   "id": "9bd9c397-1cf7-481d-bb22-ec0851a89e40",
   "metadata": {},
   "outputs": [
    {
     "name": "stdout",
     "output_type": "stream",
     "text": [
      "Michele\n"
     ]
    }
   ],
   "source": [
    "print(name)"
   ]
  },
  {
   "cell_type": "markdown",
   "id": "ee42bcac",
   "metadata": {
    "slideshow": {
     "slide_type": "-"
    }
   },
   "source": [
    "If we ask for a number, it is necessary to explicitly cast to `int` or `float`:\n"
   ]
  },
  {
   "cell_type": "code",
   "execution_count": 43,
   "id": "e65ed8c7",
   "metadata": {
    "slideshow": {
     "slide_type": "-"
    }
   },
   "outputs": [
    {
     "name": "stdin",
     "output_type": "stream",
     "text": [
      "How old are you?  21\n"
     ]
    }
   ],
   "source": [
    "age = int(input(\"How old are you? \"))"
   ]
  },
  {
   "cell_type": "code",
   "execution_count": 44,
   "id": "4ea9ddd4-6eda-4ef6-b55d-48029ba45aac",
   "metadata": {},
   "outputs": [
    {
     "name": "stdout",
     "output_type": "stream",
     "text": [
      "21\n"
     ]
    }
   ],
   "source": [
    "print(age)"
   ]
  },
  {
   "cell_type": "markdown",
   "id": "5df228ac",
   "metadata": {
    "slideshow": {
     "slide_type": "slide"
    }
   },
   "source": [
    "## Lists, Dictionaries, and other objects <a id=\"Liste\"></a>\n"
   ]
  },
  {
   "cell_type": "markdown",
   "id": "3b32cb65-9650-4bb0-a5c0-891940b15fdf",
   "metadata": {},
   "source": [
    "### Lists"
   ]
  },
  {
   "cell_type": "markdown",
   "id": "e3f6822f",
   "metadata": {
    "slideshow": {
     "slide_type": "slide"
    }
   },
   "source": [
    "A **list** is a combination of basic data types, surrounded by square brackets:"
   ]
  },
  {
   "cell_type": "code",
   "execution_count": 45,
   "id": "efbe82cd",
   "metadata": {
    "slideshow": {
     "slide_type": "-"
    }
   },
   "outputs": [],
   "source": [
    "mylist = [0, 3, 2, 'hi']"
   ]
  },
  {
   "cell_type": "markdown",
   "id": "37d29d99",
   "metadata": {
    "slideshow": {
     "slide_type": "-"
    }
   },
   "source": [
    "The previous example contains integers and a string. Generally, a list can store different data types.\n",
    "\n",
    "It can also be constructed lists of lists without problems:"
   ]
  },
  {
   "cell_type": "code",
   "execution_count": 46,
   "id": "6f69e07c",
   "metadata": {
    "slideshow": {
     "slide_type": "-"
    }
   },
   "outputs": [],
   "source": [
    "newlist = [3, 2, [5, 4, 3], [2, 3, 2]]"
   ]
  },
  {
   "cell_type": "markdown",
   "id": "e5d2a932",
   "metadata": {
    "slideshow": {
     "slide_type": "-"
    }
   },
   "source": [
    "Accessing particular elements of a list simply requires giving it an index. Like C, **Python**  indices start at **0** :\n"
   ]
  },
  {
   "cell_type": "code",
   "execution_count": 47,
   "id": "cd799b18",
   "metadata": {
    "slideshow": {
     "slide_type": "-"
    }
   },
   "outputs": [
    {
     "data": {
      "text/plain": [
       "3"
      ]
     },
     "execution_count": 47,
     "metadata": {},
     "output_type": "execute_result"
    }
   ],
   "source": [
    "newlist[0]"
   ]
  },
  {
   "cell_type": "code",
   "execution_count": 48,
   "id": "9aa9dead-1a46-4de0-9940-2e1d8dd0b02f",
   "metadata": {},
   "outputs": [
    {
     "data": {
      "text/plain": [
       "2"
      ]
     },
     "execution_count": 48,
     "metadata": {},
     "output_type": "execute_result"
    }
   ],
   "source": [
    "newlist[1]"
   ]
  },
  {
   "cell_type": "markdown",
   "id": "a79044d7",
   "metadata": {
    "slideshow": {
     "slide_type": "slide"
    }
   },
   "source": [
    "However, we have also:"
   ]
  },
  {
   "cell_type": "code",
   "execution_count": 49,
   "id": "f38a4460",
   "metadata": {
    "slideshow": {
     "slide_type": "-"
    }
   },
   "outputs": [
    {
     "data": {
      "text/plain": [
       "[5, 4, 3]"
      ]
     },
     "execution_count": 49,
     "metadata": {},
     "output_type": "execute_result"
    }
   ],
   "source": [
    "newlist[2]"
   ]
  },
  {
   "cell_type": "code",
   "execution_count": 50,
   "id": "5097c485-2cf5-4938-893e-825275f507e9",
   "metadata": {},
   "outputs": [
    {
     "data": {
      "text/plain": [
       "[2, 3, 2]"
      ]
     },
     "execution_count": 50,
     "metadata": {},
     "output_type": "execute_result"
    }
   ],
   "source": [
    "newlist[3]"
   ]
  },
  {
   "cell_type": "markdown",
   "id": "bf1f8e2d",
   "metadata": {
    "slideshow": {
     "slide_type": "-"
    }
   },
   "source": [
    "To access an element of that list you need an extra index:\n"
   ]
  },
  {
   "cell_type": "code",
   "execution_count": 51,
   "id": "1fb9513f",
   "metadata": {
    "slideshow": {
     "slide_type": "-"
    }
   },
   "outputs": [
    {
     "data": {
      "text/plain": [
       "3"
      ]
     },
     "execution_count": 51,
     "metadata": {},
     "output_type": "execute_result"
    }
   ],
   "source": [
    "newlist[3][1]"
   ]
  },
  {
   "cell_type": "markdown",
   "id": "db21ec29",
   "metadata": {
    "slideshow": {
     "slide_type": "-"
    }
   },
   "source": [
    "You can also index from the end using a minus sign:\n"
   ]
  },
  {
   "cell_type": "code",
   "execution_count": 52,
   "id": "7cc1fe3a",
   "metadata": {
    "slideshow": {
     "slide_type": "-"
    }
   },
   "outputs": [
    {
     "data": {
      "text/plain": [
       "[2, 3, 2]"
      ]
     },
     "execution_count": 52,
     "metadata": {},
     "output_type": "execute_result"
    }
   ],
   "source": [
    "newlist[-1]"
   ]
  },
  {
   "cell_type": "code",
   "execution_count": 53,
   "id": "c1fa5718-3bad-47f9-89a5-1eb7e5a83b19",
   "metadata": {},
   "outputs": [
    {
     "data": {
      "text/plain": [
       "[5, 4, 3]"
      ]
     },
     "execution_count": 53,
     "metadata": {},
     "output_type": "execute_result"
    }
   ],
   "source": [
    "newlist[-2]"
   ]
  },
  {
   "cell_type": "markdown",
   "id": "ec62d189",
   "metadata": {
    "slideshow": {
     "slide_type": "slide"
    }
   },
   "source": [
    "A useful feature is the *slice* operator. This is written as a colon (`:`) and enables to directly access sections of a list easily, such as:"
   ]
  },
  {
   "cell_type": "code",
   "execution_count": 54,
   "id": "563a0fdd",
   "metadata": {
    "slideshow": {
     "slide_type": "-"
    }
   },
   "outputs": [
    {
     "data": {
      "text/plain": [
       "[[5, 4, 3], [2, 3, 2]]"
      ]
     },
     "execution_count": 54,
     "metadata": {},
     "output_type": "execute_result"
    }
   ],
   "source": [
    "newlist[2:4]"
   ]
  },
  {
   "cell_type": "markdown",
   "id": "4bc41dc1",
   "metadata": {
    "slideshow": {
     "slide_type": "-"
    }
   },
   "source": [
    "that returns the elements of `newlist`  in positions 2 and 3.\n",
    "\n",
    "**Attention**: *slice*  indices! The arguments you use in a slice are **inclusive**  at the start and **exclusive**  at the end, so *the second parameter is the first index that is excluded* .\n",
    "The *slice* operator can take **three** terms, in the form `[start:stop:step]`: the third element saying what stepsize to use:"
   ]
  },
  {
   "cell_type": "code",
   "execution_count": 55,
   "id": "4b77d2f8",
   "metadata": {
    "slideshow": {
     "slide_type": "-"
    }
   },
   "outputs": [
    {
     "data": {
      "text/plain": [
       "[3, [5, 4, 3]]"
      ]
     },
     "execution_count": 55,
     "metadata": {},
     "output_type": "execute_result"
    }
   ],
   "source": [
    "newlist[0:4:2]"
   ]
  },
  {
   "cell_type": "markdown",
   "id": "e9e72b3a",
   "metadata": {
    "slideshow": {
     "slide_type": "-"
    }
   },
   "source": [
    "It returns the elements in locations 0 and 2.\n"
   ]
  },
  {
   "cell_type": "markdown",
   "id": "33f96842",
   "metadata": {
    "slideshow": {
     "slide_type": "slide"
    }
   },
   "source": [
    "The *slice* operator can be used to **reverse** a list:"
   ]
  },
  {
   "cell_type": "code",
   "execution_count": 56,
   "id": "d3f083c9",
   "metadata": {
    "slideshow": {
     "slide_type": "-"
    }
   },
   "outputs": [
    {
     "data": {
      "text/plain": [
       "[[2, 3, 2], [5, 4, 3], 2, 3]"
      ]
     },
     "execution_count": 56,
     "metadata": {},
     "output_type": "execute_result"
    }
   ],
   "source": [
    "newlist[::-1]"
   ]
  },
  {
   "cell_type": "markdown",
   "id": "06260e03",
   "metadata": {
    "slideshow": {
     "slide_type": "-"
    }
   },
   "source": [
    "This last example shows a couple of other useful refinements of the slice operator: \n",
    "*  if you **don't** put a value in for the first number(so it looks like `[:3]` ) then the value is taken as **0**; \n",
    "\t\n",
    "*  if you **don't** put a value for the second operator(`[1:]` ) then it is taken as running to the **end** of the list;\n",
    "\t\n",
    "* `newlist[:]` returns the **whole** list.\n",
    "\n",
    "These can be very useful, especially the second one, since it avoids having to calculate the **length** of the list every time you need it.\n"
   ]
  },
  {
   "cell_type": "markdown",
   "id": "ba840ed7",
   "metadata": {
    "slideshow": {
     "slide_type": "slide"
    }
   },
   "source": [
    "A fast way to **initialize**  a list is to resort to the `*` operator, with whom we can replicate item for a specified number of times:"
   ]
  },
  {
   "cell_type": "code",
   "execution_count": 57,
   "id": "486687da",
   "metadata": {
    "slideshow": {
     "slide_type": "-"
    }
   },
   "outputs": [
    {
     "name": "stdout",
     "output_type": "stream",
     "text": [
      "[None, None, None, None]\n"
     ]
    }
   ],
   "source": [
    "L1 = [None] * 4\n",
    "print(L1)"
   ]
  },
  {
   "cell_type": "code",
   "execution_count": 58,
   "id": "85fbacc7-0f1f-40bf-91c7-7457d1475e42",
   "metadata": {},
   "outputs": [
    {
     "name": "stdout",
     "output_type": "stream",
     "text": [
      "[3, 1, 3, 1]\n"
     ]
    }
   ],
   "source": [
    "L2 = [3, 1] * 2\n",
    "print(L2)"
   ]
  },
  {
   "cell_type": "code",
   "execution_count": 59,
   "id": "cb20dafa-cf17-43df-ac9d-3e49f09a454c",
   "metadata": {},
   "outputs": [
    {
     "name": "stdout",
     "output_type": "stream",
     "text": [
      "[2, 2, 2, 2, 2]\n"
     ]
    }
   ],
   "source": [
    "L3 = [2] * 5\n",
    "print(L3)"
   ]
  },
  {
   "cell_type": "markdown",
   "id": "b5e5ee9e",
   "metadata": {
    "slideshow": {
     "slide_type": "-"
    }
   },
   "source": [
    "**Attention!**\n",
    "Be aware that: `L3 = 2 * 5` is simple **equal** to 10!\n"
   ]
  },
  {
   "cell_type": "markdown",
   "id": "7efdc0ae",
   "metadata": {
    "slideshow": {
     "slide_type": "slide"
    }
   },
   "source": [
    "The **length** of a list is evaluated by the `len` command, hence:"
   ]
  },
  {
   "cell_type": "code",
   "execution_count": 60,
   "id": "d8cdd71d",
   "metadata": {
    "slideshow": {
     "slide_type": "-"
    }
   },
   "outputs": [
    {
     "data": {
      "text/plain": [
       "4"
      ]
     },
     "execution_count": 60,
     "metadata": {},
     "output_type": "execute_result"
    }
   ],
   "source": [
    "len(newlist)"
   ]
  },
  {
   "cell_type": "markdown",
   "id": "44a917ef",
   "metadata": {
    "slideshow": {
     "slide_type": "-"
    }
   },
   "source": [
    "For printing **only**  the elements of a list, **without**  the brackets:\n"
   ]
  },
  {
   "cell_type": "code",
   "execution_count": 61,
   "id": "2ec86712",
   "metadata": {
    "slideshow": {
     "slide_type": "-"
    }
   },
   "outputs": [
    {
     "name": "stdout",
     "output_type": "stream",
     "text": [
      "3 2 4 1\n"
     ]
    }
   ],
   "source": [
    "mylist = [3, 2, 4, 1]\n",
    "print(*mylist)"
   ]
  },
  {
   "cell_type": "markdown",
   "id": "a4f722c6",
   "metadata": {
    "slideshow": {
     "slide_type": "-"
    }
   },
   "source": [
    "Also for lists, the **+** operator is *overloaded* and produces the **concatenation**  between two or more lists:"
   ]
  },
  {
   "cell_type": "code",
   "execution_count": 62,
   "id": "3658b586",
   "metadata": {
    "slideshow": {
     "slide_type": "-"
    }
   },
   "outputs": [
    {
     "name": "stdout",
     "output_type": "stream",
     "text": [
      "[3, 2, 4, 1, -2, 0, 5]\n"
     ]
    }
   ],
   "source": [
    "L1 = [3, 2, 4, 1]\n",
    "L2 = [-2, 0, 5]\n",
    "\n",
    "L = L1 + L2\n",
    "print(L)"
   ]
  },
  {
   "cell_type": "markdown",
   "id": "2044623f",
   "metadata": {
    "slideshow": {
     "slide_type": "slide"
    }
   },
   "source": [
    "In order to **change** one or more entries in a list, we can simply assign the element(s) with the **new**  value(s):"
   ]
  },
  {
   "cell_type": "code",
   "execution_count": 63,
   "id": "0bd85351",
   "metadata": {
    "slideshow": {
     "slide_type": "-"
    }
   },
   "outputs": [
    {
     "name": "stdout",
     "output_type": "stream",
     "text": [
      "3 0 4 [1, -4] -5\n"
     ]
    }
   ],
   "source": [
    "mylist = [3, 2, 4, [1, -4], -5]\n",
    "\n",
    "mylist[1] = 0\n",
    "print(*mylist)"
   ]
  },
  {
   "cell_type": "code",
   "execution_count": 64,
   "id": "c84157f2-a149-4b75-9cde-b9f11865549e",
   "metadata": {},
   "outputs": [
    {
     "name": "stdout",
     "output_type": "stream",
     "text": [
      "3 0 4 -2 [0, 1]\n"
     ]
    }
   ],
   "source": [
    "mylist[3:] = [-2, [0, 1]]\n",
    "print(*mylist)"
   ]
  },
  {
   "cell_type": "code",
   "execution_count": 65,
   "id": "b9b0cd5a-9ee5-4aaf-9428-bde3077ae157",
   "metadata": {},
   "outputs": [
    {
     "name": "stdout",
     "output_type": "stream",
     "text": [
      "3 5 None -2 [0, 1]\n"
     ]
    }
   ],
   "source": [
    "mylist[1:3] = [5, None]\n",
    "print(*mylist)"
   ]
  },
  {
   "cell_type": "markdown",
   "id": "748441b8",
   "metadata": {
    "slideshow": {
     "slide_type": "slide"
    }
   },
   "source": [
    "Similarly, one or more items can be **deleted**  by assigning them to the **empty**  list `[]`:"
   ]
  },
  {
   "cell_type": "code",
   "execution_count": 66,
   "id": "e46c964e",
   "metadata": {
    "slideshow": {
     "slide_type": "-"
    }
   },
   "outputs": [
    {
     "name": "stdout",
     "output_type": "stream",
     "text": [
      "3 5 None -2 []\n"
     ]
    }
   ],
   "source": [
    "mylist[4] = []\n",
    "print(*mylist)"
   ]
  },
  {
   "cell_type": "markdown",
   "id": "d56918ba",
   "metadata": {
    "slideshow": {
     "slide_type": "-"
    }
   },
   "source": [
    "It is also possible to **add** new items at the **tail**  of a list:\n"
   ]
  },
  {
   "cell_type": "code",
   "execution_count": 67,
   "id": "0ad96d0f",
   "metadata": {
    "slideshow": {
     "slide_type": "-"
    }
   },
   "outputs": [
    {
     "name": "stdout",
     "output_type": "stream",
     "text": [
      "3 5 None -2 [] 5 6 7\n"
     ]
    }
   ],
   "source": [
    "mylist[len( mylist):] = [5, 6, 7]\n",
    "print(*mylist)"
   ]
  },
  {
   "cell_type": "markdown",
   "id": "b1060559",
   "metadata": {
    "slideshow": {
     "slide_type": "-"
    }
   },
   "source": [
    "However, this task can be **easily**  accomplished by using the `append()` method, which *append* a single value or a sub-list to the list:"
   ]
  },
  {
   "cell_type": "code",
   "execution_count": 68,
   "id": "7a9826dd",
   "metadata": {
    "slideshow": {
     "slide_type": "-"
    }
   },
   "outputs": [
    {
     "name": "stdout",
     "output_type": "stream",
     "text": [
      "3 5 None -2 [] 5 6 7 0\n"
     ]
    }
   ],
   "source": [
    "mylist.append(0)\n",
    "print(*mylist)"
   ]
  },
  {
   "cell_type": "markdown",
   "id": "2ac63836",
   "metadata": {
    "slideshow": {
     "slide_type": "slide"
    }
   },
   "source": [
    "It possible to **check**  if an element is **inside** a list by using the `in` keyword. This returns a Boolean value:"
   ]
  },
  {
   "cell_type": "code",
   "execution_count": 69,
   "id": "be54495d",
   "metadata": {
    "slideshow": {
     "slide_type": "-"
    }
   },
   "outputs": [
    {
     "data": {
      "text/plain": [
       "True"
      ]
     },
     "execution_count": 69,
     "metadata": {},
     "output_type": "execute_result"
    }
   ],
   "source": [
    "mylist = [3, 2, 4, 1]\n",
    "\n",
    "2 in mylist"
   ]
  },
  {
   "cell_type": "code",
   "execution_count": 70,
   "id": "e6cbce30-05d1-4bb8-a014-f89614c12bcd",
   "metadata": {},
   "outputs": [
    {
     "data": {
      "text/plain": [
       "False"
      ]
     },
     "execution_count": 70,
     "metadata": {},
     "output_type": "execute_result"
    }
   ],
   "source": [
    "0 in mylist"
   ]
  },
  {
   "cell_type": "markdown",
   "id": "619fdf71",
   "metadata": {
    "slideshow": {
     "slide_type": "-"
    }
   },
   "source": [
    "There are a variety of other **functions**  that can be applied to lists. For example, we can sort the elements of a list by using:"
   ]
  },
  {
   "cell_type": "code",
   "execution_count": 71,
   "id": "f0dd256d",
   "metadata": {
    "slideshow": {
     "slide_type": "-"
    }
   },
   "outputs": [
    {
     "name": "stdout",
     "output_type": "stream",
     "text": [
      "[1, 2, 3, 4]\n"
     ]
    }
   ],
   "source": [
    "mylist.sort()\n",
    "print(mylist)"
   ]
  },
  {
   "cell_type": "markdown",
   "id": "fcdbe479",
   "metadata": {
    "slideshow": {
     "slide_type": "-"
    }
   },
   "source": [
    "The command itself produces **no output** . Rather, it modifies the list that can be printed on the prompt."
   ]
  },
  {
   "cell_type": "markdown",
   "id": "31a79b6c",
   "metadata": {
    "slideshow": {
     "slide_type": "slide"
    }
   },
   "source": [
    "The previous example shows an interesting feature of the fact that the lists are **objects**: \n",
    "\n",
    "**Consequence of objects:**\n",
    "The functions (methods) that can be used are part of the object class, so they **modify**  the list itself and **do not** return a new list (this is known as working in place).\n",
    "\n",
    "**Attention**: using **functions**  on lists. Hence, **functions**  on lists **modify** the list, and any future operations will be applied to this modified list.\n"
   ]
  },
  {
   "cell_type": "markdown",
   "id": "42db8400",
   "metadata": {
    "slideshow": {
     "slide_type": "slide"
    }
   },
   "source": [
    "Some other functions that are available to operate on **lists**  are summarized in the following table:\n",
    "\n",
    "| **Function**     | **Usage**          | **Meaning**                                                                   |\n",
    "|:-----------------|:-------------------|:------------------------------------------------------------------------------|\n",
    "|**`append(x)`**   | `list.append(x)`   | Adds *x* to the end of the list                                               |\n",
    "|**`count(x)`**    | `list.count(x)`    | Counts how many times *x* appears in the list                                 |\n",
    "|**`extend(L)`**   | `list.extend(L)`   | Adds the items in list `L` to the end of the original list                    |\n",
    "|**`index(x)`**    | `list.index(x)`    | Returns the index of the first element of the list to match *x*               |\n",
    "|**`insert(i,x)`** | `list.insert(i,x)` | Inserts element *x* at location *i* in the list, moving everything else along |\n",
    "|**`max()`**       | `max(list)`        | Evaluate the maximum item of the list                                         |\n",
    "|**`min()`**       | `min(list)`        | Evaluate the minimum item of the list                                         |\n",
    "|**`pop(i)`**      | `list.pop(i)`      | Removes the item at index *i*                                                 |\n",
    "|**`remove(x)`**   | `list.remove(x)`   |  Deletes the first element that matches *x*                                   |\n",
    "|**`reverse()`**   | `list.reverse()`   | Reverses the order of the list                                                |\n",
    "|**`sort()`**      | `list.sort()`      | Sorts the elements of the list in ascending order                             |\n",
    "|**`sum()`**       | `sum(list)`        | Evaluate the sum of all items in the list                                     | \n",
    "\n"
   ]
  },
  {
   "cell_type": "markdown",
   "id": "3e6b7ff0",
   "metadata": {
    "slideshow": {
     "slide_type": "slide"
    }
   },
   "source": [
    "We provide some examples of using the previous functions."
   ]
  },
  {
   "cell_type": "code",
   "execution_count": 72,
   "id": "5901d4e6",
   "metadata": {
    "slideshow": {
     "slide_type": "-"
    }
   },
   "outputs": [
    {
     "data": {
      "text/plain": [
       "2"
      ]
     },
     "execution_count": 72,
     "metadata": {},
     "output_type": "execute_result"
    }
   ],
   "source": [
    "mylist = [4, 0, -2, 7, 0, 5]\n",
    "\n",
    "mylist.count(0)"
   ]
  },
  {
   "cell_type": "code",
   "execution_count": 73,
   "id": "8bbcca8f-d1d9-4fcb-9dcd-1032c578af92",
   "metadata": {},
   "outputs": [
    {
     "data": {
      "text/plain": [
       "1"
      ]
     },
     "execution_count": 73,
     "metadata": {},
     "output_type": "execute_result"
    }
   ],
   "source": [
    "mylist.index(0)"
   ]
  },
  {
   "cell_type": "code",
   "execution_count": 74,
   "id": "7fc6c320-7d58-4c67-ad16-ea2bc4a88251",
   "metadata": {},
   "outputs": [
    {
     "name": "stdout",
     "output_type": "stream",
     "text": [
      "[4, 0, -2, 7, 0, 5, 1, 2, 3]\n"
     ]
    }
   ],
   "source": [
    "mylist.extend([1, 2, 3])\n",
    "print(mylist)"
   ]
  },
  {
   "cell_type": "code",
   "execution_count": 75,
   "id": "4750f41f-bd58-43aa-9d67-260b879ada34",
   "metadata": {},
   "outputs": [
    {
     "name": "stdout",
     "output_type": "stream",
     "text": [
      "[4, 0, 8, -2, 7, 0, 5, 1, 2, 3]\n"
     ]
    }
   ],
   "source": [
    "mylist.insert(2, 8)\n",
    "print(mylist)"
   ]
  },
  {
   "cell_type": "code",
   "execution_count": 76,
   "id": "1a4f18db-14df-47c2-bf82-c8f703064ac1",
   "metadata": {},
   "outputs": [
    {
     "data": {
      "text/plain": [
       "1"
      ]
     },
     "execution_count": 76,
     "metadata": {},
     "output_type": "execute_result"
    }
   ],
   "source": [
    "mylist.pop(7)"
   ]
  },
  {
   "cell_type": "code",
   "execution_count": 77,
   "id": "c5a0c57f-bdae-4072-8f2e-146a0ca164f3",
   "metadata": {},
   "outputs": [
    {
     "name": "stdout",
     "output_type": "stream",
     "text": [
      "[4, 8, -2, 7, 0, 5, 2, 3]\n"
     ]
    }
   ],
   "source": [
    "mylist.remove(0)\n",
    "print(mylist)"
   ]
  },
  {
   "cell_type": "code",
   "execution_count": 78,
   "id": "809bcd33",
   "metadata": {
    "slideshow": {
     "slide_type": "-"
    }
   },
   "outputs": [
    {
     "name": "stdout",
     "output_type": "stream",
     "text": [
      "[3, 2, 5, 0, 7, -2, 8, 4]\n"
     ]
    }
   ],
   "source": [
    "mylist.reverse()\n",
    "print(mylist)"
   ]
  },
  {
   "cell_type": "code",
   "execution_count": 79,
   "id": "80319e17-c11f-4c6e-aba3-5919593f1576",
   "metadata": {},
   "outputs": [
    {
     "data": {
      "text/plain": [
       "8"
      ]
     },
     "execution_count": 79,
     "metadata": {},
     "output_type": "execute_result"
    }
   ],
   "source": [
    "max(mylist)"
   ]
  },
  {
   "cell_type": "code",
   "execution_count": 80,
   "id": "8606e9ef-dc2c-4ee7-8185-327bbae68a2a",
   "metadata": {},
   "outputs": [
    {
     "data": {
      "text/plain": [
       "-2"
      ]
     },
     "execution_count": 80,
     "metadata": {},
     "output_type": "execute_result"
    }
   ],
   "source": [
    "min(mylist)"
   ]
  },
  {
   "cell_type": "code",
   "execution_count": 81,
   "id": "bd668da9-085f-4548-be9b-e615c76624b9",
   "metadata": {},
   "outputs": [
    {
     "data": {
      "text/plain": [
       "27"
      ]
     },
     "execution_count": 81,
     "metadata": {},
     "output_type": "execute_result"
    }
   ],
   "source": [
    "sum(mylist)"
   ]
  },
  {
   "cell_type": "markdown",
   "id": "1821314a",
   "metadata": {
    "slideshow": {
     "slide_type": "slide"
    }
   },
   "source": [
    "Because Python is object-oriented, all variable names are simply **references**  to objects. This means that copying a variable of type list isn't as obvious as it could be. Consider the following example:"
   ]
  },
  {
   "cell_type": "code",
   "execution_count": 82,
   "id": "4695b096",
   "metadata": {
    "slideshow": {
     "slide_type": "-"
    }
   },
   "outputs": [
    {
     "name": "stdout",
     "output_type": "stream",
     "text": [
      "[3, 2, 10, 1]\n"
     ]
    }
   ],
   "source": [
    "mylist = [3, 2, 4, 1]\n",
    "alist = mylist\n",
    "alist[2] = 10\n",
    "print(mylist)"
   ]
  },
  {
   "cell_type": "markdown",
   "id": "f1f403bf",
   "metadata": {
    "slideshow": {
     "slide_type": "-"
    }
   },
   "source": [
    "It can be seen that the 3rd element of `mylist`  is **now**  10, even if we change **only**  the 3rd element of `alist` .\n",
    "\n",
    "The slice operator can **partially** solve this issue:"
   ]
  },
  {
   "cell_type": "code",
   "execution_count": 83,
   "id": "f4063069",
   "metadata": {
    "slideshow": {
     "slide_type": "-"
    }
   },
   "outputs": [
    {
     "name": "stdout",
     "output_type": "stream",
     "text": [
      "[3, 2, 4, 1]\n"
     ]
    }
   ],
   "source": [
    "mylist = [3, 2, 4, 1]\n",
    "blist = mylist[:]\n",
    "blist[2] = 10\n",
    "print(mylist)"
   ]
  },
  {
   "cell_type": "markdown",
   "id": "a16dbfd5",
   "metadata": {
    "slideshow": {
     "slide_type": "slide"
    }
   },
   "source": [
    "However, the previous trick **does not**  work properly in the case of lists of lists:"
   ]
  },
  {
   "cell_type": "code",
   "execution_count": 84,
   "id": "7863602d",
   "metadata": {
    "slideshow": {
     "slide_type": "-"
    }
   },
   "outputs": [
    {
     "name": "stdout",
     "output_type": "stream",
     "text": [
      "[3, 2, [5, 10, 3], [2, 3, 2]]\n"
     ]
    }
   ],
   "source": [
    "mylist = [3, 2, [5, 4, 3], [2, 3, 2]]\n",
    "clist = mylist[:]\n",
    "clist[2][1] = 10\n",
    "print(mylist)"
   ]
  },
  {
   "cell_type": "markdown",
   "id": "42baab93",
   "metadata": {
    "slideshow": {
     "slide_type": "-"
    }
   },
   "source": [
    "The solution consists in performing a **deep copy** (instead of a **shallow copy** ), through the use of the following function:"
   ]
  },
  {
   "cell_type": "code",
   "execution_count": 85,
   "id": "89c74e80",
   "metadata": {
    "slideshow": {
     "slide_type": "-"
    }
   },
   "outputs": [
    {
     "name": "stdout",
     "output_type": "stream",
     "text": [
      "[3, 2, [5, 4, 3], [2, 3, 2]]\n"
     ]
    }
   ],
   "source": [
    "import copy\n",
    "\n",
    "mylist = [3, 2, [5, 4, 3], [2, 3, 2]]\n",
    "dlist = copy.deepcopy(mylist)\n",
    "dlist[2][1] = 10\n",
    "print(mylist)"
   ]
  },
  {
   "cell_type": "markdown",
   "id": "8cc24439",
   "metadata": {
    "slideshow": {
     "slide_type": "slide"
    }
   },
   "source": [
    "### Tuples\n",
    "\n",
    "A **tuple**  is an immutable list, meaning that it is read-only and **doesn't**  change. They are very useful to create lists that cannot be modified, especially by mistake.\n",
    "\n",
    "**Tuples** are defined using round brackets instead square brackets, for example:"
   ]
  },
  {
   "cell_type": "code",
   "execution_count": 86,
   "id": "c2f6bcb7",
   "metadata": {
    "slideshow": {
     "slide_type": "-"
    }
   },
   "outputs": [],
   "source": [
    "mytuple = (0, 3, 'Jan', 'Feb', 'March')"
   ]
  },
  {
   "cell_type": "markdown",
   "id": "4380c6f2",
   "metadata": {
    "slideshow": {
     "slide_type": "-"
    }
   },
   "source": [
    "If needed, a tuple and its elements can be **print**  as for a list. Similarly for evaluating the **number**  of items:"
   ]
  },
  {
   "cell_type": "code",
   "execution_count": 87,
   "id": "c172c40f",
   "metadata": {
    "slideshow": {
     "slide_type": "-"
    }
   },
   "outputs": [
    {
     "name": "stdout",
     "output_type": "stream",
     "text": [
      "(0, 3, 'Jan', 'Feb', 'March')\n"
     ]
    }
   ],
   "source": [
    "print(mytuple)"
   ]
  },
  {
   "cell_type": "code",
   "execution_count": 88,
   "id": "d873b234-2567-479d-a375-4bb51986fe00",
   "metadata": {},
   "outputs": [
    {
     "name": "stdout",
     "output_type": "stream",
     "text": [
      "0 3 Jan Feb March\n"
     ]
    }
   ],
   "source": [
    "print(*mytuple)"
   ]
  },
  {
   "cell_type": "code",
   "execution_count": 89,
   "id": "d2ac9ea4-89b3-4c38-90ee-cccdb45a2c9f",
   "metadata": {},
   "outputs": [
    {
     "data": {
      "text/plain": [
       "5"
      ]
     },
     "execution_count": 89,
     "metadata": {},
     "output_type": "execute_result"
    }
   ],
   "source": [
    "len(mytuple)"
   ]
  },
  {
   "cell_type": "markdown",
   "id": "c7819a1f",
   "metadata": {
    "slideshow": {
     "slide_type": "slide"
    }
   },
   "source": [
    "Also for **tuples**, the *overloaded* **+** operator **concatenate**  two or more of them:"
   ]
  },
  {
   "cell_type": "code",
   "execution_count": 90,
   "id": "7bdc7a83",
   "metadata": {
    "slideshow": {
     "slide_type": "-"
    }
   },
   "outputs": [],
   "source": [
    "mytuple1 = ('Jan', 'Feb', 'Mar')\n",
    "mytuple2 = ('Apr', 'May', 'Jun')\n",
    "\n",
    "mytuple = mytuple1 + mytuple2"
   ]
  },
  {
   "cell_type": "markdown",
   "id": "a1eb7b1c",
   "metadata": {
    "slideshow": {
     "slide_type": "-"
    }
   },
   "source": [
    "As a remark, note that a tuple with a **single**  elements needs of an additional **comma** after the element, in order to avoid confusion with standard mathematical round brackets:\n"
   ]
  },
  {
   "cell_type": "code",
   "execution_count": 91,
   "id": "c3bc0a88",
   "metadata": {
    "slideshow": {
     "slide_type": "-"
    }
   },
   "outputs": [],
   "source": [
    "mytuple = (5,)"
   ]
  },
  {
   "cell_type": "markdown",
   "id": "91fae90a-a5bb-4554-b83b-6d3fa1f35597",
   "metadata": {},
   "source": [
    "Finally, a **tuple** can be **initialized**  in a single line:"
   ]
  },
  {
   "cell_type": "code",
   "execution_count": 92,
   "id": "ffe33f75",
   "metadata": {
    "slideshow": {
     "slide_type": "-"
    }
   },
   "outputs": [],
   "source": [
    "(one, two, three, four) = (1, 2, 3, 4)"
   ]
  },
  {
   "cell_type": "markdown",
   "id": "0d6b548d",
   "metadata": {
    "slideshow": {
     "slide_type": "slide"
    }
   },
   "source": [
    "**Conversion between lists and tuples**\n",
    "\n",
    "It is possible to **convert**  a list in a tuple and viceversa by using the `tuple()` and `list()` commands:"
   ]
  },
  {
   "cell_type": "code",
   "execution_count": 93,
   "id": "d3463627-6333-4f61-aea8-f13c41e10899",
   "metadata": {
    "slideshow": {
     "slide_type": "-"
    }
   },
   "outputs": [
    {
     "data": {
      "text/plain": [
       "[1, 2, 3, 4]"
      ]
     },
     "execution_count": 93,
     "metadata": {},
     "output_type": "execute_result"
    }
   ],
   "source": [
    "list((1, 2, 3, 4))"
   ]
  },
  {
   "cell_type": "code",
   "execution_count": 94,
   "id": "63ffbd5a-b9be-4a5e-b7a0-8717a39264ba",
   "metadata": {
    "slideshow": {
     "slide_type": "-"
    }
   },
   "outputs": [
    {
     "data": {
      "text/plain": [
       "(1, 2, 3, 4)"
      ]
     },
     "execution_count": 94,
     "metadata": {},
     "output_type": "execute_result"
    }
   ],
   "source": [
    "tuple([1, 2, 3, 4])"
   ]
  },
  {
   "cell_type": "markdown",
   "id": "e5613132",
   "metadata": {
    "slideshow": {
     "slide_type": "-"
    }
   },
   "source": [
    "However, the `tuple()` and `list()` commands are more **general**  and can be applied to **every** Python sequence:"
   ]
  },
  {
   "cell_type": "code",
   "execution_count": 95,
   "id": "6222107d",
   "metadata": {
    "slideshow": {
     "slide_type": "-"
    }
   },
   "outputs": [
    {
     "data": {
      "text/plain": [
       "['H', 'e', 'l', 'l', 'o']"
      ]
     },
     "execution_count": 95,
     "metadata": {},
     "output_type": "execute_result"
    }
   ],
   "source": [
    "list(\"Hello\")"
   ]
  },
  {
   "cell_type": "markdown",
   "id": "6feb82ea",
   "metadata": {
    "slideshow": {
     "slide_type": "slide"
    }
   },
   "source": [
    "### Sets\n",
    "\n",
    "A third basic data type is the **set** , which containsunordered collections of **unique**  items. They are defined like lists and tuples, except they use the curly brackets:"
   ]
  },
  {
   "cell_type": "code",
   "execution_count": 96,
   "id": "011da770",
   "metadata": {
    "slideshow": {
     "slide_type": "-"
    }
   },
   "outputs": [],
   "source": [
    "primes = {2, 3, 5, 7}\n",
    "odds = {1, 3, 5, 7, 9}"
   ]
  },
  {
   "cell_type": "markdown",
   "id": "b9c34c1b",
   "metadata": {
    "slideshow": {
     "slide_type": "-"
    }
   },
   "source": [
    "Since these are sets, we can use operations like the **union** , **intersection**, and **difference**. This can be done by using some operators:"
   ]
  },
  {
   "cell_type": "code",
   "execution_count": 97,
   "id": "6155654a-3f68-474a-98e2-1ee6350e25ba",
   "metadata": {
    "slideshow": {
     "slide_type": "-"
    }
   },
   "outputs": [
    {
     "name": "stdout",
     "output_type": "stream",
     "text": [
      "{1, 2, 3, 5, 7, 9}\n"
     ]
    }
   ],
   "source": [
    "U = primes | odds  # Union\n",
    "print(U)"
   ]
  },
  {
   "cell_type": "code",
   "execution_count": 98,
   "id": "efaaa88c-7f38-486f-ab54-9ce0e5a9f8a3",
   "metadata": {
    "slideshow": {
     "slide_type": "-"
    }
   },
   "outputs": [
    {
     "name": "stdout",
     "output_type": "stream",
     "text": [
      "{3, 5, 7}\n"
     ]
    }
   ],
   "source": [
    "I = primes & odds  # Intersection\n",
    "print(I)"
   ]
  },
  {
   "cell_type": "code",
   "execution_count": 99,
   "id": "25257c97-762c-47b0-9faf-3ae034699e7c",
   "metadata": {
    "slideshow": {
     "slide_type": "-"
    }
   },
   "outputs": [
    {
     "name": "stdout",
     "output_type": "stream",
     "text": [
      "{2}\n"
     ]
    }
   ],
   "source": [
    "D1 = primes - odds # Difference (in primes but not in odds)\n",
    "print(D1)"
   ]
  },
  {
   "cell_type": "code",
   "execution_count": 100,
   "id": "2deac74c-d3bf-4c58-9b6f-529795193399",
   "metadata": {
    "slideshow": {
     "slide_type": "-"
    }
   },
   "outputs": [
    {
     "name": "stdout",
     "output_type": "stream",
     "text": [
      "{1, 2, 9}\n"
     ]
    }
   ],
   "source": [
    "D2 = primes ^ odds # Simmetric Difference (only in one set but not in both)\n",
    "print(D2)"
   ]
  },
  {
   "cell_type": "markdown",
   "id": "375ac94f",
   "metadata": {
    "slideshow": {
     "slide_type": "slide"
    }
   },
   "source": [
    "However, sets operations can be performed by using also some methods:"
   ]
  },
  {
   "cell_type": "code",
   "execution_count": 101,
   "id": "8db4775b-a740-4db2-b9fe-2b3e358d3529",
   "metadata": {
    "slideshow": {
     "slide_type": "-"
    }
   },
   "outputs": [
    {
     "name": "stdout",
     "output_type": "stream",
     "text": [
      "{1, 2, 3, 5, 7, 9}\n"
     ]
    }
   ],
   "source": [
    "U = primes.union(odds)         # Union\n",
    "print(U)"
   ]
  },
  {
   "cell_type": "code",
   "execution_count": 102,
   "id": "884f0b59-5f6d-49b9-8748-dd54921a7005",
   "metadata": {
    "slideshow": {
     "slide_type": "-"
    }
   },
   "outputs": [
    {
     "name": "stdout",
     "output_type": "stream",
     "text": [
      "{3, 5, 7}\n"
     ]
    }
   ],
   "source": [
    "I = primes.intersection(odds)  # Intersection\n",
    "print(I)"
   ]
  },
  {
   "cell_type": "code",
   "execution_count": 103,
   "id": "8745283e-6119-4641-a536-701e2c6c0ea8",
   "metadata": {
    "slideshow": {
     "slide_type": "-"
    }
   },
   "outputs": [
    {
     "name": "stdout",
     "output_type": "stream",
     "text": [
      "{2}\n"
     ]
    }
   ],
   "source": [
    "D = primes.difference(odds)    # Difference\n",
    "print(D)"
   ]
  },
  {
   "cell_type": "markdown",
   "id": "0394531e",
   "metadata": {
    "slideshow": {
     "slide_type": "-"
    }
   },
   "source": [
    "The number of element in a set is always obtained by the `len()` function:\n"
   ]
  },
  {
   "cell_type": "code",
   "execution_count": 104,
   "id": "563e6405-5c43-404b-b7a9-15f2286f662f",
   "metadata": {
    "slideshow": {
     "slide_type": "-"
    }
   },
   "outputs": [
    {
     "data": {
      "text/plain": [
       "4"
      ]
     },
     "execution_count": 104,
     "metadata": {},
     "output_type": "execute_result"
    }
   ],
   "source": [
    "len(primes)"
   ]
  },
  {
   "cell_type": "code",
   "execution_count": 105,
   "id": "7a07b986-277d-49d1-bbaf-518acfaeddeb",
   "metadata": {
    "slideshow": {
     "slide_type": "-"
    }
   },
   "outputs": [
    {
     "data": {
      "text/plain": [
       "5"
      ]
     },
     "execution_count": 105,
     "metadata": {},
     "output_type": "execute_result"
    }
   ],
   "source": [
    "len(odds)"
   ]
  },
  {
   "cell_type": "markdown",
   "id": "8a656241",
   "metadata": {
    "slideshow": {
     "slide_type": "slide"
    }
   },
   "source": [
    "A set can be **initialized**  by a list or a tuple (in general by a Python sequence) using the `set()` method:"
   ]
  },
  {
   "cell_type": "code",
   "execution_count": 106,
   "id": "6c0dd876",
   "metadata": {
    "slideshow": {
     "slide_type": "-"
    }
   },
   "outputs": [],
   "source": [
    "S = set([1, 2, 3, 1, 3, 5])"
   ]
  },
  {
   "cell_type": "markdown",
   "id": "f8279224",
   "metadata": {
    "slideshow": {
     "slide_type": "-"
    }
   },
   "source": [
    "Then it is possible to **add**  or **remove** items:\n"
   ]
  },
  {
   "cell_type": "code",
   "execution_count": 107,
   "id": "d4d9ca0f-0b56-4f38-8434-b0c3cb27d081",
   "metadata": {
    "slideshow": {
     "slide_type": "-"
    }
   },
   "outputs": [
    {
     "name": "stdout",
     "output_type": "stream",
     "text": [
      "{1, 2, 3, 4, 5}\n"
     ]
    }
   ],
   "source": [
    "S.add(4)\n",
    "print(S)"
   ]
  },
  {
   "cell_type": "code",
   "execution_count": 108,
   "id": "a355540a-a769-4e70-ad99-5e624a02e421",
   "metadata": {
    "slideshow": {
     "slide_type": "-"
    }
   },
   "outputs": [
    {
     "name": "stdout",
     "output_type": "stream",
     "text": [
      "{1, 2, 3, 4}\n"
     ]
    }
   ],
   "source": [
    "S.remove(5)\n",
    "print(S)"
   ]
  },
  {
   "cell_type": "markdown",
   "id": "f126d091",
   "metadata": {
    "slideshow": {
     "slide_type": "-"
    }
   },
   "source": [
    "Finally, we can **check** if an element is **inside** a set:\n"
   ]
  },
  {
   "cell_type": "code",
   "execution_count": 109,
   "id": "84aee490-c26e-4c43-8c49-3096b32941e7",
   "metadata": {
    "slideshow": {
     "slide_type": "-"
    }
   },
   "outputs": [
    {
     "data": {
      "text/plain": [
       "True"
      ]
     },
     "execution_count": 109,
     "metadata": {},
     "output_type": "execute_result"
    }
   ],
   "source": [
    "1 in S                   "
   ]
  },
  {
   "cell_type": "code",
   "execution_count": 110,
   "id": "3c921c07-81bc-4115-8c72-878c158a28ee",
   "metadata": {
    "slideshow": {
     "slide_type": "-"
    }
   },
   "outputs": [
    {
     "data": {
      "text/plain": [
       "False"
      ]
     },
     "execution_count": 110,
     "metadata": {},
     "output_type": "execute_result"
    }
   ],
   "source": [
    "5 in S"
   ]
  },
  {
   "cell_type": "markdown",
   "id": "fd98240a",
   "metadata": {
    "slideshow": {
     "slide_type": "slide"
    }
   },
   "source": [
    "### Dictionaries\n",
    "\n",
    "In a list (or a tuple) elements are indexed by their position within the list (or tuple). In a **dictionary**  it is used a key to each entry that can be used to access it.\n",
    "\n",
    "A dictionary is defined by the curly braces: "
   ]
  },
  {
   "cell_type": "code",
   "execution_count": 111,
   "id": "2d4bd62e",
   "metadata": {
    "slideshow": {
     "slide_type": "-"
    }
   },
   "outputs": [
    {
     "data": {
      "text/plain": [
       "28"
      ]
     },
     "execution_count": 111,
     "metadata": {},
     "output_type": "execute_result"
    }
   ],
   "source": [
    "months = {'Jan': 31, 'Feb': 28, 'Mar': 31, 'Apr': 30} \n",
    "months['Feb']"
   ]
  },
  {
   "cell_type": "markdown",
   "id": "15b70ae1",
   "metadata": {
    "slideshow": {
     "slide_type": "-"
    }
   },
   "source": [
    "The elements of the dictionary is **accessed**  by using their **key**, so `months['Feb']` returns 28. Giving an **incorrect** key results in anexception error.\n",
    "\n",
    "Also for dictionaries we can use the `print` command. However, the star version provides only the keys:"
   ]
  },
  {
   "cell_type": "code",
   "execution_count": 112,
   "id": "608fc4bc-1ce4-4a8c-a5c7-d4e8cc3edccf",
   "metadata": {
    "slideshow": {
     "slide_type": "-"
    }
   },
   "outputs": [
    {
     "name": "stdout",
     "output_type": "stream",
     "text": [
      "{'Jan': 31, 'Feb': 28, 'Mar': 31, 'Apr': 30}\n"
     ]
    }
   ],
   "source": [
    "print(months)"
   ]
  },
  {
   "cell_type": "code",
   "execution_count": 113,
   "id": "b5510b22-2751-430d-a753-f8b667a923c4",
   "metadata": {
    "slideshow": {
     "slide_type": "-"
    }
   },
   "outputs": [
    {
     "name": "stdout",
     "output_type": "stream",
     "text": [
      "Jan Feb Mar Apr\n"
     ]
    }
   ],
   "source": [
    "print(*months)"
   ]
  },
  {
   "cell_type": "markdown",
   "id": "ab4960cb",
   "metadata": {
    "slideshow": {
     "slide_type": "slide"
    }
   },
   "source": [
    "There are some useful functions on **dictionaries** . The most **important**  are listed in the follows:\n",
    "* `dic.keys()`: returns a list of all the keys in the dictionary `dic` , which is useful for looping over all elements in a dictionary;\n",
    "* `dic.values()`: returns a list of all the values in the dictionary `dic`;\n",
    "* `dic.items()`: returns a list of  tuples containing everything (both the keys and the values).\n",
    "\n",
    "The objects returned by the previous functions are **ordered**  with respect the keys."
   ]
  },
  {
   "cell_type": "code",
   "execution_count": 114,
   "id": "081d8b23-6d99-49d1-9585-b5ae3e54a23c",
   "metadata": {
    "slideshow": {
     "slide_type": "-"
    }
   },
   "outputs": [
    {
     "data": {
      "text/plain": [
       "['Jan', 'Feb', 'Mar', 'Apr']"
      ]
     },
     "execution_count": 114,
     "metadata": {},
     "output_type": "execute_result"
    }
   ],
   "source": [
    "list(months.keys())"
   ]
  },
  {
   "cell_type": "code",
   "execution_count": 115,
   "id": "c40cfad1-b6c3-41da-b939-c4b779f47541",
   "metadata": {
    "slideshow": {
     "slide_type": "-"
    }
   },
   "outputs": [
    {
     "data": {
      "text/plain": [
       "[31, 28, 31, 30]"
      ]
     },
     "execution_count": 115,
     "metadata": {},
     "output_type": "execute_result"
    }
   ],
   "source": [
    "list(months.values())"
   ]
  },
  {
   "cell_type": "code",
   "execution_count": 116,
   "id": "3c41fd3d-67c3-4129-9dc5-0c8c1912bb92",
   "metadata": {
    "slideshow": {
     "slide_type": "-"
    }
   },
   "outputs": [
    {
     "data": {
      "text/plain": [
       "[('Jan', 31), ('Feb', 28), ('Mar', 31), ('Apr', 30)]"
      ]
     },
     "execution_count": 116,
     "metadata": {},
     "output_type": "execute_result"
    }
   ],
   "source": [
    "list(months.items())"
   ]
  },
  {
   "cell_type": "markdown",
   "id": "92109dd1",
   "metadata": {
    "slideshow": {
     "slide_type": "slide"
    }
   },
   "source": [
    "The number of elements in a dictionary is evaluated with the `len()` function, while the `in}` keyword is used to check if a key is **inside** the dictionary:"
   ]
  },
  {
   "cell_type": "code",
   "execution_count": 117,
   "id": "e92c7e37",
   "metadata": {
    "slideshow": {
     "slide_type": "-"
    }
   },
   "outputs": [
    {
     "data": {
      "text/plain": [
       "4"
      ]
     },
     "execution_count": 117,
     "metadata": {},
     "output_type": "execute_result"
    }
   ],
   "source": [
    "len(months)"
   ]
  },
  {
   "cell_type": "code",
   "execution_count": 118,
   "id": "9bf6802c-35e5-461c-9c4b-9aec7754fe91",
   "metadata": {},
   "outputs": [
    {
     "data": {
      "text/plain": [
       "True"
      ]
     },
     "execution_count": 118,
     "metadata": {},
     "output_type": "execute_result"
    }
   ],
   "source": [
    "'Feb' in months "
   ]
  },
  {
   "cell_type": "code",
   "execution_count": 119,
   "id": "890bd336-0e52-4243-8f11-ad84d2c1acc3",
   "metadata": {},
   "outputs": [
    {
     "data": {
      "text/plain": [
       "False"
      ]
     },
     "execution_count": 119,
     "metadata": {},
     "output_type": "execute_result"
    }
   ],
   "source": [
    "'Jun' in months"
   ]
  },
  {
   "cell_type": "code",
   "execution_count": 120,
   "id": "278fc0a9-571c-4439-ab43-18af36429982",
   "metadata": {},
   "outputs": [
    {
     "data": {
      "text/plain": [
       "False"
      ]
     },
     "execution_count": 120,
     "metadata": {},
     "output_type": "execute_result"
    }
   ],
   "source": [
    "30 in months"
   ]
  },
  {
   "cell_type": "code",
   "execution_count": 121,
   "id": "f3457aa1-8e80-4861-a8d0-1167cdb300f3",
   "metadata": {},
   "outputs": [
    {
     "data": {
      "text/plain": [
       "True"
      ]
     },
     "execution_count": 121,
     "metadata": {},
     "output_type": "execute_result"
    }
   ],
   "source": [
    "28 in months.values()"
   ]
  },
  {
   "cell_type": "code",
   "execution_count": 122,
   "id": "d8f0210a-f1e3-4d52-ac77-5d30ae125165",
   "metadata": {},
   "outputs": [
    {
     "data": {
      "text/plain": [
       "True"
      ]
     },
     "execution_count": 122,
     "metadata": {},
     "output_type": "execute_result"
    }
   ],
   "source": [
    "('Mar', 31) in months.items()"
   ]
  },
  {
   "cell_type": "markdown",
   "id": "7cfb719f",
   "metadata": {
    "slideshow": {
     "slide_type": "-"
    }
   },
   "source": [
    "A dictionary is a very **efficient**  data structure and implements *Hash Tables*. A dictionary is also **suitable**  for storing sparse matrices:"
   ]
  },
  {
   "cell_type": "code",
   "execution_count": 123,
   "id": "c03a907e",
   "metadata": {
    "slideshow": {
     "slide_type": "-"
    }
   },
   "outputs": [
    {
     "name": "stdout",
     "output_type": "stream",
     "text": [
      "0\n"
     ]
    }
   ],
   "source": [
    "mat = {(0,0): 3, (0,2): -2, (0,3): 11, (1,1): 9, (2,1): 7}\n",
    "\n",
    "row = 1; col = 2\n",
    "if (row, col) in mat:\n",
    "    element = mat[(row, col)]\n",
    "else:\n",
    "\telement = 0\n",
    "\n",
    "print(element)"
   ]
  },
  {
   "cell_type": "markdown",
   "id": "1c84f9ce",
   "metadata": {
    "slideshow": {
     "slide_type": "slide"
    }
   },
   "source": [
    "### Mutable vs. immutable types\n",
    "\n",
    "Similarly to lists, also for sets and dictionaries their name are **references** to object. \n",
    "\n",
    "This because lists, sets, and dictionaries are **mutable**  objects, in contrast to other data types that are **immutable** as summarized in the following table.\n",
    "\n",
    "\n",
    "| **Data type**  |     | **Mutable/Immutable** |\n",
    "|:---------------|:---:|:----------------------|\n",
    "| `int`          |     | Immutable             |\n",
    "| `float`        |     | Immutable             |\n",
    "| `boolean`      |     | Immutable             |\n",
    "| `complex`      |     | Immutable             |\n",
    "| `str`          |     | Immutable             |\n",
    "| `bytes`        |     | Immutable             |\n",
    "| `list`         |     | Mutable               |\n",
    "| `tuple`        |     | Immutable             |\n",
    "| `set`          |     | Mutable               |\n",
    "| `dictionary`   |     | Mutable               |"
   ]
  },
  {
   "cell_type": "markdown",
   "id": "11e5f069",
   "metadata": {
    "slideshow": {
     "slide_type": "slide"
    }
   },
   "source": [
    "### Files\n"
   ]
  },
  {
   "cell_type": "markdown",
   "id": "840c3f9e",
   "metadata": {
    "slideshow": {
     "slide_type": "slide"
    }
   },
   "source": [
    "There is one more data type that is built directly into **Python**, and that is the file. This makes reading from and writing to files very simple in Python. Files are **opened** by using:\n"
   ]
  },
  {
   "cell_type": "markdown",
   "id": "71508da2-ec01-4558-8037-3a80a5b0eea1",
   "metadata": {
    "slideshow": {
     "slide_type": "-"
    }
   },
   "source": [
    "input = open('filename', 'mode')"
   ]
  },
  {
   "cell_type": "markdown",
   "id": "f68bc214",
   "metadata": {
    "slideshow": {
     "slide_type": "-"
    }
   },
   "source": [
    "A file can be opened in different ways, specified by the `mode` variable that can assume the following choices:\n",
    "\n",
    "\n",
    "| *Text files* |     |                      |     | *Binary files* |\n",
    "|:-------------|:---:|:---------------------|:---:|:---------------|\n",
    "| **Mode**     |     | **Meaning**          |     | **Mode**       |\n",
    "| **`r`**      |     | Read mode            |     | **`rb`**       |\n",
    "| **`w`**      |     | Write mode           |     | **`wb`**       |\n",
    "| **`a`**      |     | Append mode          |     | **`ab`**       |\n",
    "| **`r+`**     |     | Read/Write mode      |     | **`r+b`**      |\n",
    "| **`a+`**     |     | Append and Read mode |     | **`a+b`**      |\n",
    "| **`x`**      |     | Exclusive creation   |     | **`xb`**       |\n"
   ]
  },
  {
   "cell_type": "markdown",
   "id": "f64a070d",
   "metadata": {
    "slideshow": {
     "slide_type": "slide"
    }
   },
   "source": [
    "The other operations on **files** (such as reading, writing and closing) are performed by the following functions:\n",
    "\n",
    "\n",
    "| **Function**      | **Usage**            | **Meaning**                          |\n",
    "|:------------------|:---------------------|:-------------------------------------|\n",
    "|**`close()`**      | `input.close()`      |   Close the file                     |\n",
    "|**`read()`**       | `input.read()`       |   Read file contents                 |\n",
    "|**`readlines()`**  | `input.readlines()`  |   Read a list of lines from the file |\n",
    "|**`readline()`**   | `input.readline()`   |   Read a single line from the file   |\n",
    "|**`write()`**      | `input.write()`      |   Write contents to file             |\n",
    "|**`writelines()`** | `input.writelines()` |   Write a list of lines to file      |\n",
    "|**`writeline()`**  | `input.writeline()`  |   Write a single line to file        |\n"
   ]
  },
  {
   "cell_type": "code",
   "execution_count": 124,
   "id": "4ba55bee",
   "metadata": {
    "slideshow": {
     "slide_type": "-"
    }
   },
   "outputs": [],
   "source": [
    "input = open('../data/myfile.txt', 'a')    # Open a file\n",
    "input.write(\"Hello world!\\n\")  # Write something\n",
    "input.close()                  # Close the file"
   ]
  },
  {
   "cell_type": "markdown",
   "id": "62ab4896",
   "metadata": {
    "slideshow": {
     "slide_type": "slide"
    }
   },
   "source": [
    "As shown in the previous example, files need **always** to be **closed** after their use.\n",
    "\n",
    "In order to avoid to **close** manually the file, we can resort to a  **context manager**  interface by using the `with` keyword, which automatically closes the file at the end and handles possible error **exceptions**:"
   ]
  },
  {
   "cell_type": "code",
   "execution_count": 125,
   "id": "492d9d85-b780-4a97-9fcf-e633bdf438d4",
   "metadata": {
    "slideshow": {
     "slide_type": "-"
    }
   },
   "outputs": [],
   "source": [
    "with open('../data/myfile.txt', 'a') as file:\n",
    "    file.write(\"Hello world!\\n\")"
   ]
  },
  {
   "cell_type": "code",
   "execution_count": 126,
   "id": "5059fa8b-655e-4e66-a474-4e30433ed467",
   "metadata": {
    "slideshow": {
     "slide_type": "-"
    }
   },
   "outputs": [
    {
     "name": "stdout",
     "output_type": "stream",
     "text": [
      "Hello world!\n",
      "\n"
     ]
    }
   ],
   "source": [
    "with open('../data/myfile.txt', 'r') as file:\n",
    "    line = file.readline()\n",
    "    print(line)"
   ]
  },
  {
   "cell_type": "markdown",
   "id": "f42dde1a",
   "metadata": {
    "slideshow": {
     "slide_type": "-"
    }
   },
   "source": [
    "This trick can be used for any resource, not only for files. \n",
    "\n",
    "By using the **context manager**  interface we will **never**  risk to leave any resource open."
   ]
  },
  {
   "cell_type": "markdown",
   "id": "bb8d594c",
   "metadata": {
    "slideshow": {
     "slide_type": "slide"
    }
   },
   "source": [
    "## String manipulation <a id=\"String_manipulation\"></a>\n",
    "\n",
    "\n",
    "Basically, **strings**  are **lists**  of  characters, so we can use all list methods:"
   ]
  },
  {
   "cell_type": "code",
   "execution_count": 127,
   "id": "4dc306f5",
   "metadata": {
    "slideshow": {
     "slide_type": "-"
    }
   },
   "outputs": [
    {
     "data": {
      "text/plain": [
       "'o'"
      ]
     },
     "execution_count": 127,
     "metadata": {},
     "output_type": "execute_result"
    }
   ],
   "source": [
    "x = \"Goodbye!\"\n",
    "\n",
    "x[1]"
   ]
  },
  {
   "cell_type": "code",
   "execution_count": 128,
   "id": "53b4aa3c-61b6-4630-8df5-489823664384",
   "metadata": {},
   "outputs": [
    {
     "data": {
      "text/plain": [
       "'odb'"
      ]
     },
     "execution_count": 128,
     "metadata": {},
     "output_type": "execute_result"
    }
   ],
   "source": [
    "x[2:5]"
   ]
  },
  {
   "cell_type": "code",
   "execution_count": 129,
   "id": "ea11e2ac-7d7e-41f7-99a7-a0a9737b7b0f",
   "metadata": {},
   "outputs": [
    {
     "data": {
      "text/plain": [
       "'Goodbye'"
      ]
     },
     "execution_count": 129,
     "metadata": {},
     "output_type": "execute_result"
    }
   ],
   "source": [
    "x[:-1]"
   ]
  },
  {
   "cell_type": "code",
   "execution_count": 130,
   "id": "332f2f7b-ec41-4f9a-9eef-744d7c90af96",
   "metadata": {},
   "outputs": [
    {
     "data": {
      "text/plain": [
       "8"
      ]
     },
     "execution_count": 130,
     "metadata": {},
     "output_type": "execute_result"
    }
   ],
   "source": [
    "len(x)"
   ]
  },
  {
   "cell_type": "code",
   "execution_count": 131,
   "id": "64e27566-5cf7-4d62-a015-a35f3f0dde5a",
   "metadata": {},
   "outputs": [
    {
     "data": {
      "text/plain": [
       "'Goodbye! Bob'"
      ]
     },
     "execution_count": 131,
     "metadata": {},
     "output_type": "execute_result"
    }
   ],
   "source": [
    "x + \" Bob\""
   ]
  },
  {
   "cell_type": "code",
   "execution_count": 132,
   "id": "2e23b9b1-bcab-47f6-b0aa-f9d0ff3d06b7",
   "metadata": {},
   "outputs": [
    {
     "data": {
      "text/plain": [
       "'bbbbb'"
      ]
     },
     "execution_count": 132,
     "metadata": {},
     "output_type": "execute_result"
    }
   ],
   "source": [
    "5 * \"b\""
   ]
  },
  {
   "cell_type": "markdown",
   "id": "b5362c41",
   "metadata": {
    "slideshow": {
     "slide_type": "slide"
    }
   },
   "source": [
    "Often, we need to insert special characters in a string, such as a quote symbol, a backslash, a new line or tab character, etc. These special characters can be added by using an **escape sequence** , as summarized in the following table.\n",
    "\n",
    "\n",
    "| **Escape sequence**  |     | **Meaning**               |\n",
    "|:---------------------|:---:|:--------------------------|\n",
    "| `\\`                  |     | Single quote              |\n",
    "| `\\\"`                 |     | Double quote              |\n",
    "| `\\\\`                 |     | Backslash character       |\n",
    "| `\\a`                 |     | Acoustic signal           |\n",
    "| `\\b`                 |     | Backspace character       |\n",
    "| `\\f`                 |     | Form-feed character       |\n",
    "| `\\n`                 |     | End of line character     |\n",
    "| `\\r`                 |     | Carriage-return character |\n",
    "| `\\t`                 |     | Tab character             |\n",
    "| `\\v`                 |     | Vertical tab character    |"
   ]
  },
  {
   "cell_type": "code",
   "execution_count": 133,
   "id": "423c89cb",
   "metadata": {
    "slideshow": {
     "slide_type": "-"
    }
   },
   "outputs": [
    {
     "name": "stdout",
     "output_type": "stream",
     "text": [
      "Some words followed by a tab \t and a new line\n",
      "\n"
     ]
    }
   ],
   "source": [
    "print(\"Some words followed by a tab \\t and a new line\\n\")"
   ]
  },
  {
   "cell_type": "markdown",
   "id": "299ff477",
   "metadata": {
    "slideshow": {
     "slide_type": "slide"
    }
   },
   "source": [
    "It is also possible to use any **ASCII**  character by recovering it by the \"\\\" symbol followed by the *octal* or *hexadecimal* (which starts with the `x`) code of the chosen character. Similarly, we can obtain any  **Unicode**  character by using \"\\u\" followed by the related code:"
   ]
  },
  {
   "cell_type": "code",
   "execution_count": 134,
   "id": "4781c8db-540a-470a-9eb3-607a6aeb2386",
   "metadata": {
    "slideshow": {
     "slide_type": "-"
    }
   },
   "outputs": [
    {
     "data": {
      "text/plain": [
       "'~'"
      ]
     },
     "execution_count": 134,
     "metadata": {},
     "output_type": "execute_result"
    }
   ],
   "source": [
    "'\\176'"
   ]
  },
  {
   "cell_type": "code",
   "execution_count": 135,
   "id": "2f09580f-c3cb-4ed5-b6be-f47332d17129",
   "metadata": {
    "slideshow": {
     "slide_type": "-"
    }
   },
   "outputs": [
    {
     "data": {
      "text/plain": [
       "'~'"
      ]
     },
     "execution_count": 135,
     "metadata": {},
     "output_type": "execute_result"
    }
   ],
   "source": [
    "'\\x7E'"
   ]
  },
  {
   "cell_type": "code",
   "execution_count": 136,
   "id": "b4983465-681a-4162-a6db-d4c116255986",
   "metadata": {
    "slideshow": {
     "slide_type": "-"
    }
   },
   "outputs": [
    {
     "data": {
      "text/plain": [
       "'~'"
      ]
     },
     "execution_count": 136,
     "metadata": {},
     "output_type": "execute_result"
    }
   ],
   "source": [
    "'\\u007E'"
   ]
  },
  {
   "cell_type": "markdown",
   "id": "5f55eb8c",
   "metadata": {
    "slideshow": {
     "slide_type": "-"
    }
   },
   "source": [
    "The keywords `int`, `float`, and `str` can be used for transforming strings to numbers and viceversa. An **error**  will rise if we try to convert a string representing a float number to an integer one.\n"
   ]
  },
  {
   "cell_type": "code",
   "execution_count": 137,
   "id": "8d5f0c1d",
   "metadata": {
    "slideshow": {
     "slide_type": "-"
    }
   },
   "outputs": [
    {
     "data": {
      "text/plain": [
       "'123.54'"
      ]
     },
     "execution_count": 137,
     "metadata": {},
     "output_type": "execute_result"
    }
   ],
   "source": [
    "str(123.54)"
   ]
  },
  {
   "cell_type": "code",
   "execution_count": 138,
   "id": "ef8ce7fd-3630-4d67-bbc6-32446aa5ab70",
   "metadata": {},
   "outputs": [
    {
     "data": {
      "text/plain": [
       "54.32"
      ]
     },
     "execution_count": 138,
     "metadata": {},
     "output_type": "execute_result"
    }
   ],
   "source": [
    "float('54.32')"
   ]
  },
  {
   "cell_type": "code",
   "execution_count": 139,
   "id": "328b5ee9-e8c7-43c1-8e3e-9e2e511adfee",
   "metadata": {},
   "outputs": [
    {
     "data": {
      "text/plain": [
       "103"
      ]
     },
     "execution_count": 139,
     "metadata": {},
     "output_type": "execute_result"
    }
   ],
   "source": [
    "int('103')"
   ]
  },
  {
   "cell_type": "markdown",
   "id": "d31a1164",
   "metadata": {
    "slideshow": {
     "slide_type": "slide"
    }
   },
   "source": [
    "It is possible to **check**  if a string is composed by **numbers**  or **characters**  by suing the `isdigit` and `isalpha` methods, which return Boolean values:"
   ]
  },
  {
   "cell_type": "code",
   "execution_count": 140,
   "id": "f408ca15-f81c-4d51-a8f9-2d506e5876a9",
   "metadata": {
    "slideshow": {
     "slide_type": "-"
    }
   },
   "outputs": [
    {
     "data": {
      "text/plain": [
       "True"
      ]
     },
     "execution_count": 140,
     "metadata": {},
     "output_type": "execute_result"
    }
   ],
   "source": [
    "x = '125'\n",
    "x.isdigit()"
   ]
  },
  {
   "cell_type": "code",
   "execution_count": 141,
   "id": "1a9a061b-2147-4871-9afb-39aeadebc57c",
   "metadata": {
    "slideshow": {
     "slide_type": "-"
    }
   },
   "outputs": [
    {
     "data": {
      "text/plain": [
       "False"
      ]
     },
     "execution_count": 141,
     "metadata": {},
     "output_type": "execute_result"
    }
   ],
   "source": [
    "x.isalpha()"
   ]
  },
  {
   "cell_type": "markdown",
   "id": "54b0c206",
   "metadata": {
    "slideshow": {
     "slide_type": "-"
    }
   },
   "source": [
    "Python offers many methods working on strings that are very useful. To start, it is very simple to **transform** all characters in **lowercase** (`lower`) or **uppercase** (`upper`), or making only the **first character**  of each word in uppercase (`title`):\n"
   ]
  },
  {
   "cell_type": "code",
   "execution_count": 142,
   "id": "ff6625dd-fa1c-4fc4-9298-012d9ddee210",
   "metadata": {
    "slideshow": {
     "slide_type": "-"
    }
   },
   "outputs": [
    {
     "data": {
      "text/plain": [
       "'first'"
      ]
     },
     "execution_count": 142,
     "metadata": {},
     "output_type": "execute_result"
    }
   ],
   "source": [
    "x = \"FIRST\"\n",
    "x.lower()"
   ]
  },
  {
   "cell_type": "code",
   "execution_count": 143,
   "id": "ab767d6c-d252-450e-9b35-c14e972c5099",
   "metadata": {},
   "outputs": [
    {
     "data": {
      "text/plain": [
       "'SECOND'"
      ]
     },
     "execution_count": 143,
     "metadata": {},
     "output_type": "execute_result"
    }
   ],
   "source": [
    "y = \"second\"\n",
    "y.upper()"
   ]
  },
  {
   "cell_type": "code",
   "execution_count": 144,
   "id": "74c198b4-3f96-465a-9dd1-645cd00fbb2f",
   "metadata": {
    "slideshow": {
     "slide_type": "-"
    }
   },
   "outputs": [
    {
     "data": {
      "text/plain": [
       "'This Is A Simple Short Sentence'"
      ]
     },
     "execution_count": 144,
     "metadata": {},
     "output_type": "execute_result"
    }
   ],
   "source": [
    "z = \"this is a simple short sentence\"\n",
    "z.title()"
   ]
  },
  {
   "cell_type": "markdown",
   "id": "0ab9834b",
   "metadata": {
    "slideshow": {
     "slide_type": "slide"
    }
   },
   "source": [
    "It is possible to **verify** if a string is compose of **uppercase** or **owercase** characters by using the `isupper` or `islower` methods, which return Boolean values:\n"
   ]
  },
  {
   "cell_type": "code",
   "execution_count": 145,
   "id": "f72ef65c-a69d-439d-b41f-70f1309edfc8",
   "metadata": {
    "slideshow": {
     "slide_type": "-"
    }
   },
   "outputs": [
    {
     "data": {
      "text/plain": [
       "True"
      ]
     },
     "execution_count": 145,
     "metadata": {},
     "output_type": "execute_result"
    }
   ],
   "source": [
    "x = 'MINE'\n",
    "x.isupper()"
   ]
  },
  {
   "cell_type": "code",
   "execution_count": 146,
   "id": "f857dc71-e3f6-4d77-a92e-6b803086f714",
   "metadata": {
    "slideshow": {
     "slide_type": "-"
    }
   },
   "outputs": [
    {
     "data": {
      "text/plain": [
       "False"
      ]
     },
     "execution_count": 146,
     "metadata": {},
     "output_type": "execute_result"
    }
   ],
   "source": [
    "x.islower()"
   ]
  },
  {
   "cell_type": "markdown",
   "id": "bd322995",
   "metadata": {
    "slideshow": {
     "slide_type": "-"
    }
   },
   "source": [
    "It is also possible to **remove** **blank spaces**  both at the beginning and at the end of a string (`strip`), otherwise **only** at the beginning (`lstrip`) or only at the end (`rstrip`):\n"
   ]
  },
  {
   "cell_type": "code",
   "execution_count": 147,
   "id": "ac60e3c1-c6ad-4b05-b6dd-18f1115c0c82",
   "metadata": {
    "slideshow": {
     "slide_type": "-"
    }
   },
   "outputs": [
    {
     "data": {
      "text/plain": [
       "'a sentence   with many blank   spaces'"
      ]
     },
     "execution_count": 147,
     "metadata": {},
     "output_type": "execute_result"
    }
   ],
   "source": [
    "x = \"    a sentence   with many blank   spaces      \"\n",
    "x.strip()"
   ]
  },
  {
   "cell_type": "code",
   "execution_count": 148,
   "id": "a5c85dfc-7c34-4366-9e89-88906f5bfb21",
   "metadata": {
    "slideshow": {
     "slide_type": "-"
    }
   },
   "outputs": [
    {
     "data": {
      "text/plain": [
       "'a sentence   with many blank   spaces      '"
      ]
     },
     "execution_count": 148,
     "metadata": {},
     "output_type": "execute_result"
    }
   ],
   "source": [
    "x.lstrip()"
   ]
  },
  {
   "cell_type": "code",
   "execution_count": 149,
   "id": "c1f511c2-072b-4cce-aadf-cfe1ed628958",
   "metadata": {
    "slideshow": {
     "slide_type": "-"
    }
   },
   "outputs": [
    {
     "data": {
      "text/plain": [
       "'    a sentence   with many blank   spaces'"
      ]
     },
     "execution_count": 149,
     "metadata": {},
     "output_type": "execute_result"
    }
   ],
   "source": [
    "x.rstrip()"
   ]
  },
  {
   "cell_type": "markdown",
   "id": "db6f366e",
   "metadata": {
    "slideshow": {
     "slide_type": "slide"
    }
   },
   "source": [
    "The `split` method allows to **split** a string at blank spaces by returning a list of **words**:"
   ]
  },
  {
   "cell_type": "code",
   "execution_count": 150,
   "id": "7e384db8",
   "metadata": {
    "slideshow": {
     "slide_type": "-"
    }
   },
   "outputs": [
    {
     "data": {
      "text/plain": [
       "['This', 'is', 'a', 'long', 'sentence']"
      ]
     },
     "execution_count": 150,
     "metadata": {},
     "output_type": "execute_result"
    }
   ],
   "source": [
    "x = \"This is a long sentence\"\n",
    "\n",
    "x.split()"
   ]
  },
  {
   "cell_type": "markdown",
   "id": "33797932",
   "metadata": {
    "slideshow": {
     "slide_type": "-"
    }
   },
   "source": [
    "It is also possible to **split** a string at specific occurrences of desired characters or sequence of characters:"
   ]
  },
  {
   "cell_type": "code",
   "execution_count": 151,
   "id": "fdc218c1",
   "metadata": {
    "slideshow": {
     "slide_type": "-"
    }
   },
   "outputs": [
    {
     "data": {
      "text/plain": [
       "['Mi', 'i', 'ippi']"
      ]
     },
     "execution_count": 151,
     "metadata": {},
     "output_type": "execute_result"
    }
   ],
   "source": [
    "x = \"Mississippi\"\n",
    "\n",
    "x.split(\"ss\")"
   ]
  },
  {
   "cell_type": "markdown",
   "id": "7ac12949",
   "metadata": {
    "slideshow": {
     "slide_type": "slide"
    }
   },
   "source": [
    "Similarly, the method `join` accepts a list of strings and produces a longer string obtained by **concatenating** the strings inside the list separate by the character or sequence of characters before the `join` method:\n"
   ]
  },
  {
   "cell_type": "code",
   "execution_count": 152,
   "id": "bde70302-c560-46f3-8146-ada773db3b6b",
   "metadata": {
    "slideshow": {
     "slide_type": "-"
    }
   },
   "outputs": [
    {
     "data": {
      "text/plain": [
       "'Words separated by spaces'"
      ]
     },
     "execution_count": 152,
     "metadata": {},
     "output_type": "execute_result"
    }
   ],
   "source": [
    "\" \".join([\"Words\", \"separated\", \"by\", \"spaces\"])"
   ]
  },
  {
   "cell_type": "code",
   "execution_count": 153,
   "id": "9557dfdc-d273-4ef7-a3dd-72abe2497b3a",
   "metadata": {
    "slideshow": {
     "slide_type": "-"
    }
   },
   "outputs": [
    {
     "data": {
      "text/plain": [
       "'Wordsseparatedbynothing'"
      ]
     },
     "execution_count": 153,
     "metadata": {},
     "output_type": "execute_result"
    }
   ],
   "source": [
    "\"\".join([\"Words\", \"separated\", \"by\", \"nothing\"])"
   ]
  },
  {
   "cell_type": "code",
   "execution_count": 154,
   "id": "a440b3f6-8f87-41b4-92d8-8994495b063a",
   "metadata": {
    "slideshow": {
     "slide_type": "-"
    }
   },
   "outputs": [
    {
     "data": {
      "text/plain": [
       "'Words::separated::by::two::colons'"
      ]
     },
     "execution_count": 154,
     "metadata": {},
     "output_type": "execute_result"
    }
   ],
   "source": [
    "\"::\".join([\"Words\", \"separated\", \"by\", \"two\", \"colons\"])"
   ]
  },
  {
   "cell_type": "markdown",
   "id": "4a12f501",
   "metadata": {
    "slideshow": {
     "slide_type": "-"
    }
   },
   "source": [
    "The `replace` method allows to **replace**  all the occurrences of a sub-string with a new one:"
   ]
  },
  {
   "cell_type": "code",
   "execution_count": 155,
   "id": "0e49703b",
   "metadata": {
    "slideshow": {
     "slide_type": "-"
    }
   },
   "outputs": [
    {
     "data": {
      "text/plain": [
       "'Mi+++i+++ippi'"
      ]
     },
     "execution_count": 155,
     "metadata": {},
     "output_type": "execute_result"
    }
   ],
   "source": [
    "x = \"Mississippi\"\n",
    "\n",
    "x.replace(\"ss\", \"+++\")"
   ]
  },
  {
   "cell_type": "markdown",
   "id": "eef75e04",
   "metadata": {
    "slideshow": {
     "slide_type": "slide"
    }
   },
   "source": [
    "The `find` method returns the **index** of the first character of the first occurrence in the found sub-string. Similarly, the `rfind` method works for the last occurrence (it starts from the **end**). If the sub-string is **not** found, these methods return -1:"
   ]
  },
  {
   "cell_type": "code",
   "execution_count": 156,
   "id": "9921bea4-07a1-40ee-bafe-4eccc986fd07",
   "metadata": {
    "slideshow": {
     "slide_type": "-"
    }
   },
   "outputs": [
    {
     "data": {
      "text/plain": [
       "2"
      ]
     },
     "execution_count": 156,
     "metadata": {},
     "output_type": "execute_result"
    }
   ],
   "source": [
    "x = \"Mississippi\"\n",
    "\n",
    "x.find(\"ss\")"
   ]
  },
  {
   "cell_type": "code",
   "execution_count": 157,
   "id": "4f06a6b8-4d58-4d41-8a0e-68965291b412",
   "metadata": {
    "slideshow": {
     "slide_type": "-"
    }
   },
   "outputs": [
    {
     "data": {
      "text/plain": [
       "5"
      ]
     },
     "execution_count": 157,
     "metadata": {},
     "output_type": "execute_result"
    }
   ],
   "source": [
    "x.rfind(\"ss\")"
   ]
  },
  {
   "cell_type": "code",
   "execution_count": 158,
   "id": "91b19b10-0c71-40d5-b9fb-8fb10f4891f6",
   "metadata": {
    "slideshow": {
     "slide_type": "-"
    }
   },
   "outputs": [
    {
     "data": {
      "text/plain": [
       "-1"
      ]
     },
     "execution_count": 158,
     "metadata": {},
     "output_type": "execute_result"
    }
   ],
   "source": [
    "x.find('rho')"
   ]
  },
  {
   "cell_type": "markdown",
   "id": "48ae1b5c",
   "metadata": {
    "slideshow": {
     "slide_type": "-"
    }
   },
   "source": [
    "There exist two Boolean methods that **check** of the string **begins** (`startswith`) or **ends** (`endswith`) with a specific sub-string:"
   ]
  },
  {
   "cell_type": "code",
   "execution_count": 159,
   "id": "586381ad-abb2-41b0-a0d8-483f4648270b",
   "metadata": {
    "slideshow": {
     "slide_type": "-"
    }
   },
   "outputs": [
    {
     "data": {
      "text/plain": [
       "True"
      ]
     },
     "execution_count": 159,
     "metadata": {},
     "output_type": "execute_result"
    }
   ],
   "source": [
    "x.startswith(\"Miss\")"
   ]
  },
  {
   "cell_type": "code",
   "execution_count": 160,
   "id": "5d9f86f8-34c8-4f7f-b69c-a7f9868df423",
   "metadata": {
    "slideshow": {
     "slide_type": "-"
    }
   },
   "outputs": [
    {
     "data": {
      "text/plain": [
       "True"
      ]
     },
     "execution_count": 160,
     "metadata": {},
     "output_type": "execute_result"
    }
   ],
   "source": [
    "x.endswith(\"pi\")"
   ]
  },
  {
   "cell_type": "markdown",
   "id": "bda8b6f0",
   "metadata": {
    "slideshow": {
     "slide_type": "slide"
    }
   },
   "source": [
    "The number of **occurrences** of a character or a sub-string **inside** a string can be computed by using the `count` method:"
   ]
  },
  {
   "cell_type": "code",
   "execution_count": 161,
   "id": "c5d975a1",
   "metadata": {
    "slideshow": {
     "slide_type": "-"
    }
   },
   "outputs": [
    {
     "data": {
      "text/plain": [
       "2"
      ]
     },
     "execution_count": 161,
     "metadata": {},
     "output_type": "execute_result"
    }
   ],
   "source": [
    "x.count(\"ss\")"
   ]
  },
  {
   "cell_type": "markdown",
   "id": "e62e2c4c",
   "metadata": {
    "slideshow": {
     "slide_type": "-"
    }
   },
   "source": [
    "Finally, the `repr()` function returns a **printable representation** of an **object** in Python, by converting that object to a string. It works with, lists, sets, dictionaries, but also with more complicated objects:"
   ]
  },
  {
   "cell_type": "code",
   "execution_count": 162,
   "id": "063f96a4-83d5-45d3-9a9a-21d01b093b0a",
   "metadata": {
    "slideshow": {
     "slide_type": "-"
    }
   },
   "outputs": [
    {
     "data": {
      "text/plain": [
       "'[1, 2, 3]'"
      ]
     },
     "execution_count": 162,
     "metadata": {},
     "output_type": "execute_result"
    }
   ],
   "source": [
    "L = [1, 2, 3]\n",
    "repr(L)"
   ]
  },
  {
   "cell_type": "code",
   "execution_count": 163,
   "id": "7b7a4e96-4be8-4384-bacc-c53d3735ccbb",
   "metadata": {
    "slideshow": {
     "slide_type": "-"
    }
   },
   "outputs": [
    {
     "data": {
      "text/plain": [
       "\"{'Jan': 31, 'Feb': 28, 'Mar': 31, 'Apr': 30}\""
      ]
     },
     "execution_count": 163,
     "metadata": {},
     "output_type": "execute_result"
    }
   ],
   "source": [
    "months = {'Jan':31, 'Feb':28, 'Mar':31, 'Apr':30}\n",
    "repr(months)"
   ]
  },
  {
   "cell_type": "markdown",
   "id": "87ea245d",
   "metadata": {
    "slideshow": {
     "slide_type": "slide"
    }
   },
   "source": [
    "The main **methods**  working with strings are summarized in the following table.\n",
    "\n",
    "\n",
    "| **Method**              |     | **Description**                           |\n",
    "|:------------------------|:---:|:------------------------------------------|\n",
    "| `upper`                 |     | Make uppercase                            |\n",
    "| `lower`                 |     | Make lowercase                            |\n",
    "| `title`                 |     | Make uppercase first letter of each word  |\n",
    "| `isupper, islower`      |     | Check if uppercase or lowercase           |\n",
    "| `isdigit, isalpha`      |     | Check if composed of digits or characters |\n",
    "| `find, index`           |     | Find a sub-string                         |\n",
    "| `rfind, rindex`         |     | Find a sub-string from the end            |\n",
    "| `startswidth, endswith` |     | Find a sub-string at the beginning or end |\n",
    "| `replace`               |     | Change a sub-string                       |\n",
    "| `strip, rstrip, lstrip` |     | Remove blank spaces                       |\n",
    "| `repr`                  |     | Printable representation of a string      |\n",
    "| `split, join`           |     | Split and join strings                    |\n",
    "\n"
   ]
  },
  {
   "cell_type": "markdown",
   "id": "763d4928",
   "metadata": {
    "slideshow": {
     "slide_type": "slide"
    }
   },
   "source": [
    "### String formatting\n",
    "\n",
    "An important task in programming, especially for printing, is the problem of **formatting** strings containing both text and variables. There exist **three** approaches for formatting a string by:\n",
    "1.  using the `format`  method;\n",
    "2.  using the `%`  character; and\n",
    "3.  using the f-strings.\n",
    "4.  \n",
    "The `format` method considers using some brackets **marks** `{}` with positional numbers inside. The text that should be used at this marks is listed inside the `format` method following the main string:"
   ]
  },
  {
   "cell_type": "code",
   "execution_count": 164,
   "id": "d1f91086",
   "metadata": {
    "slideshow": {
     "slide_type": "-"
    }
   },
   "outputs": [
    {
     "data": {
      "text/plain": [
       "'A isosceles triangle is composed of two equal sides'"
      ]
     },
     "execution_count": 164,
     "metadata": {},
     "output_type": "execute_result"
    }
   ],
   "source": [
    "\"A {0} triangle is composed of {1} equal {2}\".format(\"isosceles\", \"two\", \"sides\")"
   ]
  },
  {
   "cell_type": "markdown",
   "id": "15e662ee",
   "metadata": {
    "slideshow": {
     "slide_type": "slide"
    }
   },
   "source": [
    "It is also possible to use variables inside:"
   ]
  },
  {
   "cell_type": "code",
   "execution_count": 165,
   "id": "8ec7756b",
   "metadata": {
    "slideshow": {
     "slide_type": "-"
    }
   },
   "outputs": [
    {
     "data": {
      "text/plain": [
       "'The surface of a rectangle of sides 10 and 5 is 50'"
      ]
     },
     "execution_count": 165,
     "metadata": {},
     "output_type": "execute_result"
    }
   ],
   "source": [
    "w, h = 10, 5\n",
    "S = w*h\n",
    "\"The surface of a rectangle of sides {0} and {1} is {2}\".format(w, h, S)"
   ]
  },
  {
   "cell_type": "markdown",
   "id": "cebccd79",
   "metadata": {
    "slideshow": {
     "slide_type": "-"
    }
   },
   "source": [
    "Instead of positional numbers, it is also possible to assign some **names** to the marks:"
   ]
  },
  {
   "cell_type": "code",
   "execution_count": 166,
   "id": "8c046ee5",
   "metadata": {
    "slideshow": {
     "slide_type": "-"
    }
   },
   "outputs": [
    {
     "data": {
      "text/plain": [
       "'The surface of a rectangle of sides 10 and 5 is 50'"
      ]
     },
     "execution_count": 166,
     "metadata": {},
     "output_type": "execute_result"
    }
   ],
   "source": [
    "\"The surface of a rectangle of sides {width} and {height} is {surface}\".format(width=w, height=h, surface=S)"
   ]
  },
  {
   "cell_type": "markdown",
   "id": "9f068bbc",
   "metadata": {
    "slideshow": {
     "slide_type": "-"
    }
   },
   "source": [
    "The number *n* of characters allocated for printing the marker content can be **controlled** by specifying it after the marker followed by colons (`>`  denotes the right justification):"
   ]
  },
  {
   "cell_type": "code",
   "execution_count": 167,
   "id": "f75b3c59",
   "metadata": {
    "slideshow": {
     "slide_type": "-"
    }
   },
   "outputs": [
    {
     "data": {
      "text/plain": [
       "'The surface is      50'"
      ]
     },
     "execution_count": 167,
     "metadata": {},
     "output_type": "execute_result"
    }
   ],
   "source": [
    "\"The surface is {0:>7}\".format(S)"
   ]
  },
  {
   "cell_type": "markdown",
   "id": "5fe7dc88",
   "metadata": {
    "slideshow": {
     "slide_type": "slide"
    }
   },
   "source": [
    "The second approach exploits the **modulo** operator (`%`) and is more similar to the C language:"
   ]
  },
  {
   "cell_type": "code",
   "execution_count": 168,
   "id": "539e649d",
   "metadata": {
    "slideshow": {
     "slide_type": "-"
    }
   },
   "outputs": [
    {
     "data": {
      "text/plain": [
       "'A isosceles triangle is composed of two equal sides'"
      ]
     },
     "execution_count": 168,
     "metadata": {},
     "output_type": "execute_result"
    }
   ],
   "source": [
    "\"A %s triangle is composed of %s equal %s\" % (\"isosceles\", \"two\", \"sides\")"
   ]
  },
  {
   "cell_type": "markdown",
   "id": "f823c00a",
   "metadata": {
    "slideshow": {
     "slide_type": "-"
    }
   },
   "source": [
    "The `\\%s` symbol indicate that we need to print a string. Similarly, if we need to print float number, we can use `\\%f`. Main **conversion** types are:\n",
    "\n",
    "\n",
    "| **Conv. type** | **Description** |     | **Conv. type** | **Description**              |\n",
    "|:---------------|:----------------|:---:|:---------------|:-----------------------------|\n",
    "| `%d`           | Integer         |     | `%o`           | Octal value                  |\n",
    "| `%f`           | Float           |     | `%x`           | Hexadecimal value            |\n",
    "| `%c`           | Character       |     | `%e`           | Float in scientific notation |\n",
    "| `%s`           | String          |     | `%g`           | Float with no decimal        |\n"
   ]
  },
  {
   "cell_type": "code",
   "execution_count": 169,
   "id": "da88c824",
   "metadata": {
    "slideshow": {
     "slide_type": "-"
    }
   },
   "outputs": [
    {
     "data": {
      "text/plain": [
       "'Surface is 5.650000'"
      ]
     },
     "execution_count": 169,
     "metadata": {},
     "output_type": "execute_result"
    }
   ],
   "source": [
    "\"Surface is %f\" % (5.65)"
   ]
  },
  {
   "cell_type": "markdown",
   "id": "7602dd1d",
   "metadata": {
    "slideshow": {
     "slide_type": "slide"
    }
   },
   "source": [
    "We can **control**  the number of total digits and decimal digits to print by setting the **width** (`w`) and **precision** (`p`) fields between the `%`  and `f` characters: `%w.pf`. Specifically, `w` denotes the total number of digits, while the precision `p` denotes the number of decimal digits. An hyphen (-) is used for **left** alignment:\n"
   ]
  },
  {
   "cell_type": "code",
   "execution_count": 170,
   "id": "d42b54e5-6369-4f3b-93f1-d78620248c7e",
   "metadata": {
    "slideshow": {
     "slide_type": "-"
    }
   },
   "outputs": [
    {
     "data": {
      "text/plain": [
       "'Surface is   5.65'"
      ]
     },
     "execution_count": 170,
     "metadata": {},
     "output_type": "execute_result"
    }
   ],
   "source": [
    "\"Surface is %6.2f\" % (5.6534)"
   ]
  },
  {
   "cell_type": "code",
   "execution_count": 171,
   "id": "dd9337e6-9df9-489d-8495-896b84a7b248",
   "metadata": {
    "slideshow": {
     "slide_type": "-"
    }
   },
   "outputs": [
    {
     "data": {
      "text/plain": [
       "'Surface is 5.65  '"
      ]
     },
     "execution_count": 171,
     "metadata": {},
     "output_type": "execute_result"
    }
   ],
   "source": [
    "\"Surface is %-6.2f\" % (5.6534)"
   ]
  },
  {
   "cell_type": "markdown",
   "id": "993f9bc6",
   "metadata": {
    "slideshow": {
     "slide_type": "-"
    }
   },
   "source": [
    "The **modulo** operator can be also used for printing variables inside a **dictionary**. In this case, instead of the width (`w`) field we use the **key**  of the variable enclosed in round bracket `()`:"
   ]
  },
  {
   "cell_type": "code",
   "execution_count": 172,
   "id": "f1e589a0",
   "metadata": {
    "slideshow": {
     "slide_type": "-"
    }
   },
   "outputs": [
    {
     "name": "stdout",
     "output_type": "stream",
     "text": [
      "3.14 -- 3.1416 -- 2.72\n"
     ]
    }
   ],
   "source": [
    "numbers = {'e': 2.718, 'pi': 3.14159}\n",
    "print(\"%(pi).2f -- %(pi).4f -- %(e).2f\" % numbers)"
   ]
  },
  {
   "cell_type": "markdown",
   "id": "cda26d72",
   "metadata": {
    "slideshow": {
     "slide_type": "slide"
    }
   },
   "source": [
    "The third and last approach is based on the string interpolation, or simply **f-strings** , since it uses the `f` character to construct a string:"
   ]
  },
  {
   "cell_type": "code",
   "execution_count": 173,
   "id": "536c8634",
   "metadata": {
    "slideshow": {
     "slide_type": "-"
    }
   },
   "outputs": [
    {
     "name": "stdout",
     "output_type": "stream",
     "text": [
      "The answer is 42\n"
     ]
    }
   ],
   "source": [
    "value = 42\n",
    "message = f\"The answer is {value}\"\n",
    "print(message)"
   ]
  },
  {
   "cell_type": "markdown",
   "id": "fa5c5546",
   "metadata": {
    "slideshow": {
     "slide_type": "-"
    }
   },
   "source": [
    "Also in this case we can use the width and precision fields:"
   ]
  },
  {
   "cell_type": "code",
   "execution_count": 174,
   "id": "b2590e6b",
   "metadata": {
    "slideshow": {
     "slide_type": "-"
    }
   },
   "outputs": [
    {
     "name": "stdout",
     "output_type": "stream",
     "text": [
      "pi is    3.14\n"
     ]
    }
   ],
   "source": [
    "pi = 3.14159\n",
    "print(f\"pi is {pi:{7}.{2}f}\")"
   ]
  },
  {
   "cell_type": "markdown",
   "id": "21db09cb",
   "metadata": {
    "slideshow": {
     "slide_type": "slide"
    }
   },
   "source": [
    "## Differences between Python and MATLAB <a id=\"PythonVsMatlab\"></a>\n",
    "\n",
    "**Python** and **MATLAB** languages are very similar to each other, except for some **differences**.\n",
    "\n",
    "The **main** differences with respect to **MATLAB** are that in **Python**:\n",
    "1.  indexing starts at **0**  instead of 1;\n",
    "2.  array items are accessed with square brackets [] instead of round ones ();\n",
    "3.  blocks must be **indented**;\n",
    "4.  comments are denoted by the `#` symbol;\n",
    "5.  statement keywords **end** with a colon (`:`) character;\n",
    "6.  lines **are not** terminated by the semicolon (`;`) character;\n",
    "7. **slices** (intervals) are **inclusive** at the **start** and **exclusive** at the **end**;\n",
    "8. lists and arrays are always **references** to objects.\n"
   ]
  },
  {
   "cell_type": "markdown",
   "id": "d85a1eba",
   "metadata": {
    "slideshow": {
     "slide_type": "slide"
    }
   },
   "source": [
    "## References <a id=\"References\"></a>\n",
    "1. Naomi Ceder, The Quick Python Book, Third Edition, Manning, 2018.\n",
    "2. Naomi Ceder, Python -- Guida alla sintassi, alle funzionalità avanzate e all'analisi dei dati, Apogeo, 2019.\n",
    "3. K. A. Lambert, Fundamentals of Python: First Programs, 2nd Edition, Course Technology, 2018.\n",
    "4. K. A. Lambert, Programmazione in Python, 2nd Edition, Apogeo Education, 2018.\n",
    "5. J. VanderPlas, A Whirlwind Tour of Python, O'Reilly Media, 2016 (https://jakevdp.github.io/WhirlwindTourOfPython/). \n",
    "6. Mark Lutz, Programming Python, 4th Edition, O'Reilly Media, 2011.\n",
    "7. Mark Lutz, Learning Python, 5th Edition, O'Reilly Media, 2013.\n",
    "\n",
    "\n",
    "\n",
    "\n",
    "\n",
    "\n",
    "\n",
    "\n",
    "\n",
    "\n",
    "\n",
    "\n",
    "\n",
    "\n",
    "\n",
    "\n",
    "\n",
    "\n",
    "\n",
    "\n",
    "\n"
   ]
  }
 ],
 "metadata": {
  "celltoolbar": "Slideshow",
  "kernelspec": {
   "display_name": "Python 3 (ipykernel)",
   "language": "python",
   "name": "python3"
  },
  "language": "python",
  "language_info": {
   "codemirror_mode": {
    "name": "ipython",
    "version": 3
   },
   "file_extension": ".py",
   "mimetype": "text/x-python",
   "name": "python",
   "nbconvert_exporter": "python",
   "pygments_lexer": "ipython3",
   "version": "3.11.7"
  },
  "livereveal": {
   "controls": true,
   "help": true,
   "scroll": true,
   "slideNumber": true,
   "transition": "none"
  }
 },
 "nbformat": 4,
 "nbformat_minor": 5
}
