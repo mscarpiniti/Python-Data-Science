{
 "cells": [
  {
   "cell_type": "markdown",
   "id": "f482d08f",
   "metadata": {
    "slideshow": {
     "slide_type": "slide"
    }
   },
   "source": [
    "# Python coding\n",
    "\n",
    "**Prof. Michele Scarpiniti**\n"
   ]
  },
  {
   "cell_type": "markdown",
   "id": "661ee2bb",
   "metadata": {
    "slideshow": {
     "slide_type": "slide"
    }
   },
   "source": [
    "## Outline\n",
    "\n",
    "- [Writing code](#Writing_code)\n",
    "- [Control flow](#Control_flow)\n",
    "- [Iterators](#Iterators)\n",
    "- [List comprehension](#List_comprehension)\n",
    "- [Functions](#Functions)\n",
    "- [Exceptions](#Exceptions)\n",
    "- [Absolute and relative paths](#Paths)\n",
    "- [Use of the file system](#File_system)\n",
    "- [Writing new modules](#New_modules)\n",
    "- [Python programs](#Programs)\n",
    "- [Classes](#Classes)\n",
    "- [References](#References)"
   ]
  },
  {
   "cell_type": "markdown",
   "id": "4d747895",
   "metadata": {
    "slideshow": {
     "slide_type": "slide"
    }
   },
   "source": [
    "# Coding\n"
   ]
  },
  {
   "cell_type": "markdown",
   "id": "356f4444",
   "metadata": {
    "slideshow": {
     "slide_type": "slide"
    }
   },
   "source": [
    "## Writing code <a id=\"Writing_code\"></a>\n",
    "\n",
    "**Python** is a scripting language, meaning that everything can be run interactively from the command line. \n",
    "\n",
    "However, when writing any reasonable sized piece of code it is better to write it in a text editor or **IDE**  and then run it. \n",
    "\n",
    "The programming **GUIs** provide their own code writing editors, but you can also use any text editor available on your machine. \n",
    "\n",
    "The file can contain a **script** , which is simply a series of commands, or a set of functions and classes. In either case it should be saved with a `.py` extension, which **Python** will compile into a `.pyc` file when you first load it. \n",
    "\n",
    "Any set of **commands** or **functions** is known as a module in Python.\n"
   ]
  },
  {
   "cell_type": "markdown",
   "id": "40de7902",
   "metadata": {
    "slideshow": {
     "slide_type": "slide"
    }
   },
   "source": [
    "### Importing modules\n"
   ]
  },
  {
   "cell_type": "markdown",
   "id": "eadee40d",
   "metadata": {
    "slideshow": {
     "slide_type": "slide"
    }
   },
   "source": [
    "A module(`modulename`) can be loaded by using the `import` command:\n"
   ]
  },
  {
   "cell_type": "raw",
   "id": "8645683d-b4b8-43d1-94db-8cec733c7979",
   "metadata": {
    "slideshow": {
     "slide_type": "-"
    }
   },
   "source": [
    "import modulename"
   ]
  },
  {
   "cell_type": "markdown",
   "id": "b44beaed",
   "metadata": {
    "slideshow": {
     "slide_type": "-"
    }
   },
   "source": [
    "If you import a script file then Python will run it immediately, but if it is a set of functions then it will **not** run anything.\n",
    "\n",
    "To run a function(`functionname`) inside a module(`modulename`) it can be used:"
   ]
  },
  {
   "cell_type": "raw",
   "id": "c30ff7b1-d9f8-428f-8c20-d41884ec39a0",
   "metadata": {
    "slideshow": {
     "slide_type": "-"
    }
   },
   "source": [
    "modulename.functionname()"
   ]
  },
  {
   "cell_type": "markdown",
   "id": "d7896cca",
   "metadata": {
    "slideshow": {
     "slide_type": "-"
    }
   },
   "source": [
    "Arguments can be passed as required in the brackets, but even if **no** arguments are passed, then the brackets are **still needed**.\n",
    "\n",
    "Some names are quite **long**, so it can be useful to use an alias:"
   ]
  },
  {
   "cell_type": "raw",
   "id": "5619d313-5508-4909-9b09-46a1fe8aa1ba",
   "metadata": {
    "slideshow": {
     "slide_type": "-"
    }
   },
   "source": [
    "import modulename as x\n",
    "x.functionname()"
   ]
  },
  {
   "cell_type": "markdown",
   "id": "8551c788",
   "metadata": {
    "slideshow": {
     "slide_type": "slide"
    }
   },
   "source": [
    "Many modules contain several subsets, so when importing you may need to be more  specific. You can import particular parts of a module in this way:"
   ]
  },
  {
   "cell_type": "raw",
   "id": "c3bfafe5-dc95-42a8-931d-6a4dad2e4a72",
   "metadata": {
    "slideshow": {
     "slide_type": "-"
    }
   },
   "source": [
    "from x import y"
   ]
  },
  {
   "cell_type": "markdown",
   "id": "b332834e",
   "metadata": {
    "slideshow": {
     "slide_type": "-"
    }
   },
   "source": [
    "or to import **everything** use:\n"
   ]
  },
  {
   "cell_type": "raw",
   "id": "d0b1305e-bdfb-4c7f-9a5c-2eec29cbab70",
   "metadata": {
    "slideshow": {
     "slide_type": "-"
    }
   },
   "source": [
    "from x import *"
   ]
  },
  {
   "cell_type": "markdown",
   "id": "d08b598e",
   "metadata": {
    "slideshow": {
     "slide_type": "-"
    }
   },
   "source": [
    "although this is **rarely** a good idea as some of the modules are very large. \n",
    "\n",
    "Finally, it can be used an alias: "
   ]
  },
  {
   "cell_type": "raw",
   "id": "0043a833-bb4d-497c-845c-a224538a38ca",
   "metadata": {
    "slideshow": {
     "slide_type": "-"
    }
   },
   "source": [
    "from x import y as z"
   ]
  },
  {
   "cell_type": "markdown",
   "id": "090d72c0",
   "metadata": {
    "slideshow": {
     "slide_type": "-"
    }
   },
   "source": [
    "When developing code at a command line, if you **modify** the code of a module, it must be reloaded by (the use of simply `import` has no effect):"
   ]
  },
  {
   "cell_type": "raw",
   "id": "328bf323-f830-4384-9488-919e9fe329b6",
   "metadata": {
    "slideshow": {
     "slide_type": "-"
    }
   },
   "source": [
    "reload(modulename)"
   ]
  },
  {
   "cell_type": "markdown",
   "id": "1a44959d",
   "metadata": {
    "slideshow": {
     "slide_type": "slide"
    }
   },
   "source": [
    "Program code also needs to import any modules that it uses, and these are usually declared at the **top** of the file (although it can be added anywhere).\n",
    "\n",
    "**Python** uses the `pythonpath` variable to tell it **where** to look for code. Some IDEs have a menu to set the path. However, it can be done manually by using something like:"
   ]
  },
  {
   "cell_type": "raw",
   "id": "8a774dd5-c432-4ee9-9d77-68111d7b12d7",
   "metadata": {
    "slideshow": {
     "slide_type": "-"
    }
   },
   "source": [
    "import sys\n",
    "sys.path.append('mypath')"
   ]
  },
  {
   "cell_type": "markdown",
   "id": "56f4d4d1",
   "metadata": {
    "slideshow": {
     "slide_type": "slide"
    }
   },
   "source": [
    "**Comparisons and Boolean values**\n",
    "\n",
    "**Comparisons** are implemented with arithmetic comparison operators($>$, $>=$, $==$, $!=$, etc.) and logical operations(`and`, `or`, `not`) introduced in Slide 6 and 7 of Lesson 3. Comparisons result in a Boolean value (`True` or `False`) and are essential in control flow.\n",
    "\n",
    "Variable values are **interpreted** as follows:\n",
    "\n",
    "*  numbers `0`, `0.0`, and `0+0j` are `False`, all other numbers are `True`;\n",
    "\t\n",
    "*  empty string `\"\"` is `False`, all other strings are `True`;\n",
    "\t\n",
    "*  empty list `[]` is `False`, all other lists are `True`;\n",
    "\t\n",
    "*  empty dictionary `{}` is `False`, all other dictionaries are `True`;\n",
    "\t\n",
    "*  empty set `set()` is `False`, all other sets are `True`;\n",
    "\t\n",
    "*  the Python special value `None` is `False`.\n"
   ]
  },
  {
   "cell_type": "markdown",
   "id": "5e70cdd6",
   "metadata": {
    "slideshow": {
     "slide_type": "slide"
    }
   },
   "source": [
    "**Indentation**\n",
    "\n",
    "The most obviously strange thing about **Python** for those who are used to other programming languages is that the *indentation* means something.\n",
    "\n",
    "**White** space (*indentation*) is the way that blocks of code are shown.\n",
    "So if you have a loop or other construct, then the equivalent of `begin ... end` or the braces `{...}` in other languages is a **colon** (`:`) after the keyword and indented commands **following on**. This looks quite strange at first, but is actually quite nice once you get used to it.\n",
    "\n",
    "The control structures that are available in **Python** are `if`, `for`, and `while`, described in the following slides."
   ]
  },
  {
   "cell_type": "markdown",
   "id": "f1c67468",
   "metadata": {
    "slideshow": {
     "slide_type": "slide"
    }
   },
   "source": [
    "## Control flow <a id=\"Control_flow\"></a>\n"
   ]
  },
  {
   "cell_type": "markdown",
   "id": "9bd635e7",
   "metadata": {
    "slideshow": {
     "slide_type": "slide"
    }
   },
   "source": [
    "### Control flow: `if`  statement\n",
    "\n",
    "The `if` statement syntax is:"
   ]
  },
  {
   "cell_type": "raw",
   "id": "b29a4b71-e1ff-406b-8b99-be2631e68e90",
   "metadata": {
    "slideshow": {
     "slide_type": "-"
    }
   },
   "source": [
    "if condition:\n",
    "    commands\n",
    "elif:\n",
    "    commands\n",
    "else:\n",
    "    commands"
   ]
  },
  {
   "cell_type": "markdown",
   "id": "260f76b3",
   "metadata": {
    "slideshow": {
     "slide_type": "-"
    }
   },
   "source": [
    "If the condition after the keyword `if` is true, the first set of commands will be executed and the statement terminated. A condition usually use logical and comparison operators. \n",
    "\n",
    "The `elif` keyword is Python's way of saying *if the previous conditions were not true, then try this condition*. The `else` keyword catches anything which isn't caught by the preceding conditions.\n",
    "\n",
    "Remind to use *indentation*, otherwise an **error** will be raised."
   ]
  },
  {
   "cell_type": "markdown",
   "id": "1cf0f3c8",
   "metadata": {
    "slideshow": {
     "slide_type": "slide"
    }
   },
   "source": [
    "We provide a simple example of the `if` statement used for a **comparison** of integer numbers:"
   ]
  },
  {
   "cell_type": "code",
   "execution_count": 1,
   "id": "d2d10246",
   "metadata": {
    "slideshow": {
     "slide_type": "-"
    }
   },
   "outputs": [
    {
     "name": "stdout",
     "output_type": "stream",
     "text": [
      "a is greater than b\n"
     ]
    }
   ],
   "source": [
    "a = 200\n",
    "b = 33\n",
    "\n",
    "if b > a:\n",
    "    print(\"b is greater than a\")\n",
    "elif a == b:\n",
    "    print(\"a and b are equal\")\n",
    "else:\n",
    "    print(\"a is greater than b\")"
   ]
  },
  {
   "cell_type": "markdown",
   "id": "3bdbef0c",
   "metadata": {
    "slideshow": {
     "slide_type": "-"
    }
   },
   "source": [
    "In the previous example, a string is printed depending on the respective **values** of the two variables $a$ and $b$."
   ]
  },
  {
   "cell_type": "markdown",
   "id": "abd89ef5",
   "metadata": {
    "slideshow": {
     "slide_type": "slide"
    }
   },
   "source": [
    "### Control flow: `for` loop\n",
    "\n",
    "The most common loop is the `for` loop, which differs slightly from other languages in that it iterates over a list of values (`set`):"
   ]
  },
  {
   "cell_type": "raw",
   "id": "68f9fcb0-9239-4780-ae9c-10ec89597700",
   "metadata": {
    "slideshow": {
     "slide_type": "-"
    }
   },
   "source": [
    "for var in set:\n",
    "    commands"
   ]
  },
  {
   "cell_type": "markdown",
   "id": "ec4d8164",
   "metadata": {
    "slideshow": {
     "slide_type": "-"
    }
   },
   "source": [
    "There is one very useful command that produces a list output that can be used in the loop. Its most  basic form is simply:"
   ]
  },
  {
   "cell_type": "code",
   "execution_count": 2,
   "id": "54e611f8",
   "metadata": {
    "slideshow": {
     "slide_type": "-"
    }
   },
   "outputs": [
    {
     "data": {
      "text/plain": [
       "range(0, 4)"
      ]
     },
     "execution_count": 2,
     "metadata": {},
     "output_type": "execute_result"
    }
   ],
   "source": [
    "range(4)"
   ]
  },
  {
   "cell_type": "markdown",
   "id": "f476ae11",
   "metadata": {
    "slideshow": {
     "slide_type": "-"
    }
   },
   "source": [
    "`range(n)` produces a list from $0$ to $n-1$. However, it can also take 2 or 3 arguments in the form: `range(start,stop,step)`. For example:"
   ]
  },
  {
   "cell_type": "code",
   "execution_count": 3,
   "id": "748ec209",
   "metadata": {
    "slideshow": {
     "slide_type": "-"
    }
   },
   "outputs": [
    {
     "data": {
      "text/plain": [
       "range(5, -3, -2)"
      ]
     },
     "execution_count": 3,
     "metadata": {},
     "output_type": "execute_result"
    }
   ],
   "source": [
    "range(5,-3,-2)"
   ]
  },
  {
   "cell_type": "markdown",
   "id": "254a5752",
   "metadata": {
    "slideshow": {
     "slide_type": "slide"
    }
   },
   "source": [
    "We provide a simple example in which the `for` loop is used to evaluate the **sum** of the first 100 integer numbers:"
   ]
  },
  {
   "cell_type": "code",
   "execution_count": 4,
   "id": "627311ef",
   "metadata": {
    "slideshow": {
     "slide_type": "-"
    }
   },
   "outputs": [
    {
     "name": "stdout",
     "output_type": "stream",
     "text": [
      "5050\n"
     ]
    }
   ],
   "source": [
    "S = 0\n",
    "\n",
    "for k in range(101):\n",
    "    S = S+k\n",
    "\n",
    "print(S)"
   ]
  },
  {
   "cell_type": "markdown",
   "id": "a1c419e0",
   "metadata": {
    "slideshow": {
     "slide_type": "-"
    }
   },
   "source": [
    "We used the command `range(101)` because it produces the interval $[0, \\, 100]$ and this has **no** problems since the addition with 0 **does not** change the final summation."
   ]
  },
  {
   "cell_type": "markdown",
   "id": "0b42147f",
   "metadata": {
    "slideshow": {
     "slide_type": "slide"
    }
   },
   "source": [
    "### Control flow: `while` loop\n",
    "\n",
    "The second type of loop is the `while` loop, in which we can execute a set of statements as long as a condition is **true**. The syntax is as follows:"
   ]
  },
  {
   "cell_type": "raw",
   "id": "25e869ff-ea3c-48f2-8246-e0f3d6d082cd",
   "metadata": {
    "slideshow": {
     "slide_type": "-"
    }
   },
   "source": [
    "while condition:\n",
    "    commands"
   ]
  },
  {
   "cell_type": "markdown",
   "id": "9b438468",
   "metadata": {
    "slideshow": {
     "slide_type": "-"
    }
   },
   "source": [
    "In the `for` and `while` loops, there are two other  useful statements:\n",
    "1. `break`: with this statement we can **stop** the loop even if the for/while condition is **true**;\n",
    "2. `continue`: with this statement we can **stop** the current iteration, and **continue** with the next one.\n",
    "\n",
    "However, we wish to remark that both the `for` and `while` loops can have an `else` statement, used to **run** a block of code once when the condition no longer is **true**."
   ]
  },
  {
   "cell_type": "markdown",
   "id": "f10bd968",
   "metadata": {
    "slideshow": {
     "slide_type": "slide"
    }
   },
   "source": [
    "We provide a simple example in which the `while` loop is used to evaluate again the **sum** of the first 100 integer numbers:"
   ]
  },
  {
   "cell_type": "code",
   "execution_count": 5,
   "id": "5d199d95",
   "metadata": {
    "slideshow": {
     "slide_type": "-"
    }
   },
   "outputs": [
    {
     "name": "stdout",
     "output_type": "stream",
     "text": [
      "5050\n"
     ]
    }
   ],
   "source": [
    "S = 0\n",
    "k = 1\n",
    "\n",
    "while k < 101:\n",
    "    S = S+k\n",
    "    k = k+1\n",
    "\n",
    "print(S)"
   ]
  },
  {
   "cell_type": "markdown",
   "id": "5ca6ceab",
   "metadata": {
    "slideshow": {
     "slide_type": "-"
    }
   },
   "source": [
    "In this case, inside the `while` loop, also the variable $k$ must be manually **incremented**.\n",
    "\n",
    "Note that the logical condition in the previous code can be **changed** as:\n",
    "`while k <= 100`."
   ]
  },
  {
   "cell_type": "markdown",
   "id": "932625d5",
   "metadata": {
    "slideshow": {
     "slide_type": "slide"
    }
   },
   "source": [
    "### Control flow: `break` and `continue`\n",
    "\n",
    "Next codes show the use of `break` and `continue` commands in  `while` loops to evaluate again the **sum** of the first 100 integer numbers and the same sum **except** the value 50, respectively:"
   ]
  },
  {
   "cell_type": "code",
   "execution_count": 6,
   "id": "19f4f81a",
   "metadata": {
    "slideshow": {
     "slide_type": "-"
    }
   },
   "outputs": [
    {
     "name": "stdout",
     "output_type": "stream",
     "text": [
      "End!\n",
      "5050\n"
     ]
    }
   ],
   "source": [
    "S = 0\n",
    "k = 1\n",
    "\n",
    "while 1:\n",
    "    S = S+k\n",
    "    k = k+1\n",
    "    if k > 100:\n",
    "        print('End!')\n",
    "        break\n",
    "\n",
    "print(S)"
   ]
  },
  {
   "cell_type": "code",
   "execution_count": 7,
   "id": "1a5d296a",
   "metadata": {
    "slideshow": {
     "slide_type": "-"
    }
   },
   "outputs": [
    {
     "name": "stdout",
     "output_type": "stream",
     "text": [
      "5000\n"
     ]
    }
   ],
   "source": [
    "S = 0\n",
    "k = 1\n",
    "\n",
    "while k < 101:\n",
    "    if k == 50:\n",
    "        k = k+1\n",
    "        continue\n",
    "    S = S+k\n",
    "    k = k+1\n",
    "\n",
    "print(S)"
   ]
  },
  {
   "cell_type": "markdown",
   "id": "5687a4eb-a508-48e2-9baa-add188117165",
   "metadata": {},
   "source": [
    "Note also, in the previous codes, the use of the `if` statement."
   ]
  },
  {
   "cell_type": "markdown",
   "id": "853c6076",
   "metadata": {
    "slideshow": {
     "slide_type": "slide"
    }
   },
   "source": [
    "## Iterators <a id=\"Iterators\"></a>\n",
    "\n",
    "Often we need to iterate not only the values in an array, but also keep track of the index. This could be done as:"
   ]
  },
  {
   "cell_type": "code",
   "execution_count": 8,
   "id": "588fc464",
   "metadata": {
    "slideshow": {
     "slide_type": "-"
    }
   },
   "outputs": [
    {
     "name": "stdout",
     "output_type": "stream",
     "text": [
      "0 2\n",
      "1 4\n",
      "2 6\n",
      "3 8\n"
     ]
    }
   ],
   "source": [
    "L = [2, 4, 6, 8]\n",
    "\n",
    "for i in range(len(L)):\n",
    "    print(i, L[i])"
   ]
  },
  {
   "cell_type": "markdown",
   "id": "ca0751d4",
   "metadata": {
    "slideshow": {
     "slide_type": "-"
    }
   },
   "source": [
    "However, Python provides a **clearer** syntax using the `enumerate` iterator:\n"
   ]
  },
  {
   "cell_type": "code",
   "execution_count": 9,
   "id": "560298d1",
   "metadata": {
    "slideshow": {
     "slide_type": "-"
    }
   },
   "outputs": [
    {
     "name": "stdout",
     "output_type": "stream",
     "text": [
      "0 2\n",
      "1 4\n",
      "2 6\n",
      "3 8\n"
     ]
    }
   ],
   "source": [
    "for i, val in enumerate(L):\n",
    "    print(i, val)"
   ]
  },
  {
   "cell_type": "markdown",
   "id": "f77d8dc5",
   "metadata": {
    "slideshow": {
     "slide_type": "slide"
    }
   },
   "source": [
    "The use of an iterator is the more \"Pythonic\" way to enumerate the indices and values in a list.\n",
    "\n",
    "Other times, we may have multiple lists that we want to iterate over **simultaneously**. In this case, we can use the `zip` iterator, which zips together iterables:"
   ]
  },
  {
   "cell_type": "code",
   "execution_count": 10,
   "id": "ec31d679",
   "metadata": {
    "slideshow": {
     "slide_type": "-"
    }
   },
   "outputs": [
    {
     "name": "stdout",
     "output_type": "stream",
     "text": [
      "2 3\n",
      "4 6\n",
      "6 9\n",
      "8 12\n",
      "10 15\n"
     ]
    }
   ],
   "source": [
    "L = [2, 4, 6, 8, 10]\n",
    "R = [3, 6, 9, 12, 15]\n",
    "\n",
    "for lval, rval in zip(L, R):\n",
    "    print(lval, rval)"
   ]
  },
  {
   "cell_type": "markdown",
   "id": "0a65efd7",
   "metadata": {
    "slideshow": {
     "slide_type": "slide"
    }
   },
   "source": [
    "## List comprehension <a id=\"List_comprehension\"></a>\n",
    "\n",
    "**List comprehension** is a simply way to compress a list-building for loop into a single, short and readable line. For example, if we want to construct a list of the first 12 square integers, instead of using the `for` loop:"
   ]
  },
  {
   "cell_type": "code",
   "execution_count": 11,
   "id": "41bae1bb",
   "metadata": {
    "slideshow": {
     "slide_type": "-"
    }
   },
   "outputs": [
    {
     "name": "stdout",
     "output_type": "stream",
     "text": [
      "[0, 1, 4, 9, 16, 25, 36, 49, 64, 81, 100, 121]\n"
     ]
    }
   ],
   "source": [
    "L = []\n",
    "\n",
    "for n in range(12):\n",
    "    L.append(n ** 2)\n",
    "\n",
    "print(L)"
   ]
  },
  {
   "cell_type": "markdown",
   "id": "f021ab7c",
   "metadata": {
    "slideshow": {
     "slide_type": "-"
    }
   },
   "source": [
    "we can simply write the list comprehension:\n"
   ]
  },
  {
   "cell_type": "code",
   "execution_count": 12,
   "id": "ef67873c",
   "metadata": {
    "slideshow": {
     "slide_type": "-"
    }
   },
   "outputs": [
    {
     "data": {
      "text/plain": [
       "[0, 1, 4, 9, 16, 25, 36, 49, 64, 81, 100, 121]"
      ]
     },
     "execution_count": 12,
     "metadata": {},
     "output_type": "execute_result"
    }
   ],
   "source": [
    "[n ** 2 for n in range(12)]"
   ]
  },
  {
   "cell_type": "markdown",
   "id": "3b422b08",
   "metadata": {
    "slideshow": {
     "slide_type": "-"
    }
   },
   "source": [
    "This basic  syntax is `[expr for var in iterable]`, where `expr` is any valid expression, `var` is a variable name, and `iterable` is any iterable Python object."
   ]
  },
  {
   "cell_type": "markdown",
   "id": "743e4bcf",
   "metadata": {
    "slideshow": {
     "slide_type": "slide"
    }
   },
   "source": [
    "Sometimes you want to build a list not just from one value, but from two. To do this, simply **add** another for expression in the comprehension:"
   ]
  },
  {
   "cell_type": "code",
   "execution_count": 13,
   "id": "9f3f258c",
   "metadata": {
    "slideshow": {
     "slide_type": "-"
    }
   },
   "outputs": [
    {
     "data": {
      "text/plain": [
       "[(0, 0), (0, 1), (0, 2), (1, 0), (1, 1), (1, 2)]"
      ]
     },
     "execution_count": 13,
     "metadata": {},
     "output_type": "execute_result"
    }
   ],
   "source": [
    "[(i, j) for i in range(2) for j in range(3)]"
   ]
  },
  {
   "cell_type": "markdown",
   "id": "e728fad9",
   "metadata": {
    "slideshow": {
     "slide_type": "-"
    }
   },
   "source": [
    "Notice that the second `for` expression acts as the *interior* index, varying the fastest in the resulting list. This type of construction can be extended to an arbitrary number of iterators.\n",
    "\n",
    "You can further control the iteration by adding a **conditional** to the **end** of the expression. For example, we produce all numbers from 1 to 20, but left out multiples of 3:"
   ]
  },
  {
   "cell_type": "code",
   "execution_count": 14,
   "id": "33fae621",
   "metadata": {
    "slideshow": {
     "slide_type": "-"
    }
   },
   "outputs": [
    {
     "data": {
      "text/plain": [
       "[1, 2, 4, 5, 7, 8, 10, 11, 13, 14, 16, 17, 19]"
      ]
     },
     "execution_count": 14,
     "metadata": {},
     "output_type": "execute_result"
    }
   ],
   "source": [
    "[val for val in range(20) if val % 3 > 0]"
   ]
  },
  {
   "cell_type": "markdown",
   "id": "bd21ff0c",
   "metadata": {
    "slideshow": {
     "slide_type": "slide"
    }
   },
   "source": [
    "By using the list comprehension, we can do very **complicated** things in just a line. For example, we want to construct a list, leaving out multiples of 3, and negating all multiples of 2:"
   ]
  },
  {
   "cell_type": "code",
   "execution_count": 15,
   "id": "074766fe",
   "metadata": {
    "slideshow": {
     "slide_type": "-"
    }
   },
   "outputs": [
    {
     "data": {
      "text/plain": [
       "[1, -2, -4, 5, 7, -8, -10, 11, 13, -14, -16, 17, 19]"
      ]
     },
     "execution_count": 15,
     "metadata": {},
     "output_type": "execute_result"
    }
   ],
   "source": [
    "[val if val % 2 else -val for val in range(20) if val % 3]"
   ]
  },
  {
   "cell_type": "markdown",
   "id": "697dd389",
   "metadata": {
    "slideshow": {
     "slide_type": "-"
    }
   },
   "source": [
    "Once understood the dynamics of list comprehensions, it is simple to extend it to other objects. The syntax is largely the **same**; the only difference is the type of bracket you use.\n",
    "\n",
    "Hence, we can easily produce a dictionary with comprehension:"
   ]
  },
  {
   "cell_type": "code",
   "execution_count": 16,
   "id": "090983e5",
   "metadata": {
    "slideshow": {
     "slide_type": "-"
    }
   },
   "outputs": [
    {
     "data": {
      "text/plain": [
       "{0: 0, 1: 1, 2: 4, 3: 9, 4: 16, 5: 25}"
      ]
     },
     "execution_count": 16,
     "metadata": {},
     "output_type": "execute_result"
    }
   ],
   "source": [
    "{n: n**2 for n in range(6)}"
   ]
  },
  {
   "cell_type": "markdown",
   "id": "0821fbd1",
   "metadata": {
    "slideshow": {
     "slide_type": "slide"
    }
   },
   "source": [
    "Similarly, comprehension can be used to generate a set:"
   ]
  },
  {
   "cell_type": "code",
   "execution_count": 17,
   "id": "9f80ca39",
   "metadata": {
    "slideshow": {
     "slide_type": "-"
    }
   },
   "outputs": [
    {
     "data": {
      "text/plain": [
       "{0, 1, 4, 9, 16, 25, 36, 49, 64, 81, 100, 121}"
      ]
     },
     "execution_count": 17,
     "metadata": {},
     "output_type": "execute_result"
    }
   ],
   "source": [
    "{n**2 for n in range(12)}"
   ]
  },
  {
   "cell_type": "markdown",
   "id": "14f490b7",
   "metadata": {
    "slideshow": {
     "slide_type": "-"
    }
   },
   "source": [
    "Remember that `a` set is a collection that contains **no** duplicates. The set comprehension respects this rule, and eliminates any duplicate entries:"
   ]
  },
  {
   "cell_type": "code",
   "execution_count": 18,
   "id": "7e228ddf",
   "metadata": {
    "slideshow": {
     "slide_type": "-"
    }
   },
   "outputs": [
    {
     "data": {
      "text/plain": [
       "{0, 1, 2}"
      ]
     },
     "execution_count": 18,
     "metadata": {},
     "output_type": "execute_result"
    }
   ],
   "source": [
    "{a % 3 for a in range(1000)}"
   ]
  },
  {
   "cell_type": "markdown",
   "id": "7e536754",
   "metadata": {
    "slideshow": {
     "slide_type": "-"
    }
   },
   "source": [
    "Finally, if you use round parentheses rather than square or curly brackets, you get what's called a **generator** expression."
   ]
  },
  {
   "cell_type": "markdown",
   "id": "f9ff1a0c",
   "metadata": {
    "slideshow": {
     "slide_type": "slide"
    }
   },
   "source": [
    "### Generators\n",
    "\n",
    "A **generator expression** is essentially a list comprehension in which elements are generated as needed rather than all at once. It is obtained by using the round brackets:"
   ]
  },
  {
   "cell_type": "code",
   "execution_count": 19,
   "id": "998784ef",
   "metadata": {
    "slideshow": {
     "slide_type": "-"
    }
   },
   "outputs": [
    {
     "data": {
      "text/plain": [
       "<generator object <genexpr> at 0x000002B27F9C9BE0>"
      ]
     },
     "execution_count": 19,
     "metadata": {},
     "output_type": "execute_result"
    }
   ],
   "source": [
    "(n**2 for n in range(12))"
   ]
  },
  {
   "cell_type": "markdown",
   "id": "0dd99064",
   "metadata": {
    "slideshow": {
     "slide_type": "-"
    }
   },
   "source": [
    "This **does not** produce a direct output, but an expression that can be used to generate an iterable object. A way to print the contents of a generator expression is to pass it to the `list` constructor:\n"
   ]
  },
  {
   "cell_type": "code",
   "execution_count": 20,
   "id": "5d8ac52c",
   "metadata": {
    "slideshow": {
     "slide_type": "-"
    }
   },
   "outputs": [
    {
     "data": {
      "text/plain": [
       "[0, 1, 4, 9, 16, 25, 36, 49, 64, 81, 100, 121]"
      ]
     },
     "execution_count": 20,
     "metadata": {},
     "output_type": "execute_result"
    }
   ],
   "source": [
    "G = (n**2 for n in range(12))\n",
    "list(G)"
   ]
  },
  {
   "cell_type": "markdown",
   "id": "a42ec024",
   "metadata": {
    "slideshow": {
     "slide_type": "-"
    }
   },
   "source": [
    "When you create a list, you are actually building a collection of **values**, while when you create a generator you are building a **recipe** for producing those values. \n",
    "This not only leads to memory efficiency, but to computational efficiency as well."
   ]
  },
  {
   "cell_type": "markdown",
   "id": "bda3325c",
   "metadata": {
    "slideshow": {
     "slide_type": "slide"
    }
   },
   "source": [
    "However, while list can be iterated multiple times, a generator expression can be used only  one time:"
   ]
  },
  {
   "cell_type": "code",
   "execution_count": 21,
   "id": "a12c51d5-8847-4f3d-9ffe-e8da959faa09",
   "metadata": {
    "slideshow": {
     "slide_type": "-"
    }
   },
   "outputs": [
    {
     "data": {
      "text/plain": [
       "[0, 1, 4, 9, 16, 25, 36, 49, 64, 81, 100, 121]"
      ]
     },
     "execution_count": 21,
     "metadata": {},
     "output_type": "execute_result"
    }
   ],
   "source": [
    "G = (n**2 for n in range(12))\n",
    "list(G)"
   ]
  },
  {
   "cell_type": "code",
   "execution_count": 22,
   "id": "b4662b4d-b60f-4851-b2d1-7be505da2a7f",
   "metadata": {
    "slideshow": {
     "slide_type": "-"
    }
   },
   "outputs": [
    {
     "data": {
      "text/plain": [
       "[]"
      ]
     },
     "execution_count": 22,
     "metadata": {},
     "output_type": "execute_result"
    }
   ],
   "source": [
    "list(G)"
   ]
  },
  {
   "cell_type": "markdown",
   "id": "5def95c9",
   "metadata": {
    "slideshow": {
     "slide_type": "-"
    }
   },
   "source": [
    "This can be very **useful** because it means iteration can be stopped and started:"
   ]
  },
  {
   "cell_type": "code",
   "execution_count": 23,
   "id": "6d65774e",
   "metadata": {
    "slideshow": {
     "slide_type": "-"
    }
   },
   "outputs": [
    {
     "name": "stdout",
     "output_type": "stream",
     "text": [
      "0 1 4 9 16 25 36 \n",
      "Doing something in between ...\n",
      "49 64 81 100 121 "
     ]
    }
   ],
   "source": [
    "G = (n**2 for n in range(12))\n",
    "\n",
    "for n in G:\n",
    "    print(n, end=' ')\n",
    "    if n > 30: break\n",
    "\n",
    "print(\"\\nDoing something in between ...\")\n",
    "\n",
    "for n in G:\n",
    "    print(n, end=' ')"
   ]
  },
  {
   "cell_type": "markdown",
   "id": "527a78ae",
   "metadata": {
    "slideshow": {
     "slide_type": "slide"
    }
   },
   "source": [
    "## Functions <a id=\"Functions\"></a>\n"
   ]
  },
  {
   "cell_type": "markdown",
   "id": "a9a873eb",
   "metadata": {
    "slideshow": {
     "slide_type": "slide"
    }
   },
   "source": [
    "A new function can be **defined** with the following syntax:"
   ]
  },
  {
   "cell_type": "markdown",
   "id": "5126b7df-8cb7-4078-a77a-42837e13504c",
   "metadata": {
    "slideshow": {
     "slide_type": "-"
    }
   },
   "source": [
    "def funname(args):\n",
    "    commands\n",
    "    \n",
    "    return value\n"
   ]
  },
  {
   "cell_type": "markdown",
   "id": "e259c73b",
   "metadata": {
    "slideshow": {
     "slide_type": "-"
    }
   },
   "source": [
    "The return value line is optional, but enables you to return values **from** the function (otherwise it returns `None`). You can list **several** things to return in the line with commas between them, and they will all be returned. \n",
    "\n",
    "Once you have defined a function you can call it from the command line and from within other functions. Python is case sensitive, so with both function names and variable names, `Name` is **different** to `name`.\n",
    "\n",
    "A comment text inside the code is started with the `#` symbol, and it is useful to provide an explanation of the line of code."
   ]
  },
  {
   "cell_type": "markdown",
   "id": "1545b172",
   "metadata": {
    "slideshow": {
     "slide_type": "slide"
    }
   },
   "source": [
    "As an example, it is provided a function that computes the hypotenuse of a triangle given the other two distances ($a$ and $b$):"
   ]
  },
  {
   "cell_type": "code",
   "execution_count": 24,
   "id": "b8454c3e",
   "metadata": {
    "slideshow": {
     "slide_type": "-"
    }
   },
   "outputs": [],
   "source": [
    "def pythagoras(a, b):\n",
    "    \"\"\" Computes the hypotenuse of two arguments \"\"\"\n",
    "    c = pow(a**2+b**2, 0.5)   # pow(x,0.5) is the square root\n",
    "    \n",
    "    return c"
   ]
  },
  {
   "cell_type": "markdown",
   "id": "2916bca0",
   "metadata": {
    "slideshow": {
     "slide_type": "-"
    }
   },
   "source": [
    "Now calling `pythagoras(3,4)` gets the expected **answer** of 5.0. You can also call the function with the parameters in any order provided that you specify which is which, so `pythagoras(b=4, a=3)` is perfectly valid. \n",
    "\n",
    "When you make functions you can allow for default values, which means that if **fewer** arguments are presented the default values are given. To do this, modify the function definition line: "
   ]
  },
  {
   "cell_type": "raw",
   "id": "ffbca691-6553-465c-b129-badddeec9a5a",
   "metadata": {
    "slideshow": {
     "slide_type": "-"
    }
   },
   "source": [
    "def pythagoras(a=3, b=4):\n",
    "    ...\n"
   ]
  },
  {
   "cell_type": "markdown",
   "id": "316244bb",
   "metadata": {
    "slideshow": {
     "slide_type": "slide"
    }
   },
   "source": [
    "All variables used inside a function have a local scope. We can use a global scope by explicitly declaring a variable as **global** in **all** functions need to use it:"
   ]
  },
  {
   "cell_type": "raw",
   "id": "0897275f-4038-4830-9d66-88aa1fc0f356",
   "metadata": {
    "slideshow": {
     "slide_type": "-"
    }
   },
   "source": [
    "def myfun(x, y, ..):\n",
    "    global A   # A is a global variable\n",
    "    ...\n"
   ]
  },
  {
   "cell_type": "markdown",
   "id": "df2deb09",
   "metadata": {
    "slideshow": {
     "slide_type": "-"
    }
   },
   "source": [
    "However, be aware that if a function works on a mutable object it **changes** it! This is known as side effect:"
   ]
  },
  {
   "cell_type": "code",
   "execution_count": 26,
   "id": "2a01d24a",
   "metadata": {
    "slideshow": {
     "slide_type": "-"
    }
   },
   "outputs": [
    {
     "data": {
      "text/plain": [
       "(5, [1, 2, 3], [4, 5])"
      ]
     },
     "execution_count": 26,
     "metadata": {},
     "output_type": "execute_result"
    }
   ],
   "source": [
    "def myfun(n, list1, list2):\n",
    "    list1.append(3)  # Modifies the list1\n",
    "    list2 = [7, 8, 9]\n",
    "    n = n + 1\n",
    "\t\t\t\t\n",
    "x, y, z = 5, [1, 2], [4, 5]\n",
    "myfun(x, y, z)\n",
    "x, y, z"
   ]
  },
  {
   "cell_type": "markdown",
   "id": "17c218d7",
   "metadata": {
    "slideshow": {
     "slide_type": "slide"
    }
   },
   "source": [
    "When the **last** input parameter is preceded by a **star** symbol($\\ast$), all input arguments **in excess** are collected as a **tuple** in this variable:"
   ]
  },
  {
   "cell_type": "code",
   "execution_count": 27,
   "id": "ad961b49",
   "metadata": {
    "slideshow": {
     "slide_type": "-"
    }
   },
   "outputs": [
    {
     "data": {
      "text/plain": [
       "17.0"
      ]
     },
     "execution_count": 27,
     "metadata": {},
     "output_type": "execute_result"
    }
   ],
   "source": [
    "def myfun(a, b, *c):\n",
    "    S = (a + sum(list(c)))/b   \n",
    "    return S\n",
    "\t\t\t\t\n",
    "myfun(2, 1, 4, 5, 6)"
   ]
  },
  {
   "cell_type": "markdown",
   "id": "ca78f9cc",
   "metadata": {
    "slideshow": {
     "slide_type": "-"
    }
   },
   "source": [
    "It is possible to manage an arbitrary number of input variables passed with **keywords** by using a **double** star symbol($\\ast \\ast$) preceding the **last** input variable. In this case this variable will collect all exceeding arguments in a **dictionary**:"
   ]
  },
  {
   "cell_type": "code",
   "execution_count": 28,
   "id": "ba4cf36b",
   "metadata": {
    "slideshow": {
     "slide_type": "-"
    }
   },
   "outputs": [
    {
     "name": "stdout",
     "output_type": "stream",
     "text": [
      "x: 2, y: 1, keys in 'other': ['foo', 'bar']\n"
     ]
    }
   ],
   "source": [
    "def myfun2(x, y, **other):\n",
    "    print(\"x: {0}, y: {1}, keys in 'other': {2}\".format(x, y, list(other.keys())))\n",
    "\t\t\t\t\n",
    "myfun2(2, 1, foo=4, bar=5)"
   ]
  },
  {
   "cell_type": "markdown",
   "id": "68824b4f",
   "metadata": {
    "slideshow": {
     "slide_type": "slide"
    }
   },
   "source": [
    "### The `doc` string\n",
    "\n",
    "A useful resource for most code is the doc string, which is the **first** thing defined within the function, and is a text string enclosed in three sets of double quotes(`\"\"\"`). It is intended to act as the **documentation** for the function or class.\n",
    "\n",
    "This documentation of a function (or a class) can be accessed in **two** different ways. The first one is:"
   ]
  },
  {
   "cell_type": "raw",
   "id": "a454f61d-e99d-41a0-9c6a-8d845183eb9f",
   "metadata": {
    "slideshow": {
     "slide_type": "-"
    }
   },
   "source": [
    "help(functionname)"
   ]
  },
  {
   "cell_type": "markdown",
   "id": "fb36be84",
   "metadata": {
    "slideshow": {
     "slide_type": "-"
    }
   },
   "source": [
    "The second one is:"
   ]
  },
  {
   "cell_type": "raw",
   "id": "0f2840fb-218e-44fe-95d1-0c1f14f9288c",
   "metadata": {
    "slideshow": {
     "slide_type": "-"
    }
   },
   "source": [
    "print(functionname.__doc__)"
   ]
  },
  {
   "cell_type": "markdown",
   "id": "52d0726c",
   "metadata": {
    "slideshow": {
     "slide_type": "-"
    }
   },
   "source": [
    "The `doc` word is preceded and followed by **two underscore** characters (`__`)."
   ]
  },
  {
   "cell_type": "markdown",
   "id": "01871976",
   "metadata": {
    "slideshow": {
     "slide_type": "slide"
    }
   },
   "source": [
    "### The decorator\n",
    "\n",
    "Python **decorators** allow you to wrap a function with another function to extend or modify its behavior without altering the original function's code. The decorator **avoid** using functions as an argument to other functions:"
   ]
  },
  {
   "cell_type": "code",
   "execution_count": 38,
   "id": "5703439c",
   "metadata": {
    "slideshow": {
     "slide_type": "-"
    }
   },
   "outputs": [],
   "source": [
    "def decorator(func):\n",
    "    def wrapper():\n",
    "        print(\"Before.\")\n",
    "        func()\n",
    "        print(\"After.\")\n",
    "    return wrapper\n",
    "\n",
    "@decorator\n",
    "def say_hello():\n",
    "    print(\"Hello!\")"
   ]
  },
  {
   "cell_type": "markdown",
   "id": "ee3e9b33",
   "metadata": {
    "slideshow": {
     "slide_type": "-"
    }
   },
   "source": [
    "This is a *syntactic sugar*, it **avoids** to define separately `decorator()` and `say\\_hello()` and then call:"
   ]
  },
  {
   "cell_type": "raw",
   "id": "8ed7400f-9d35-40f6-8abf-1517d8ecfd7d",
   "metadata": {
    "slideshow": {
     "slide_type": "-"
    }
   },
   "source": [
    "say_hello = decorator(say_hello)"
   ]
  },
  {
   "cell_type": "markdown",
   "id": "23ead73e",
   "metadata": {
    "slideshow": {
     "slide_type": "slide"
    }
   },
   "source": [
    "Using directly the **decorated** function `say_hello()` will produce:"
   ]
  },
  {
   "cell_type": "code",
   "execution_count": 39,
   "id": "bb189438",
   "metadata": {
    "slideshow": {
     "slide_type": "-"
    }
   },
   "outputs": [
    {
     "name": "stdout",
     "output_type": "stream",
     "text": [
      "Before.\n",
      "Hello!\n",
      "After.\n"
     ]
    }
   ],
   "source": [
    "say_hello()"
   ]
  },
  {
   "cell_type": "markdown",
   "id": "8ba40e79",
   "metadata": {
    "slideshow": {
     "slide_type": "-"
    }
   },
   "source": [
    "**Decorators** can be used  in several manners. For example, they are useful to check if a user is connected before using related functions."
   ]
  },
  {
   "cell_type": "markdown",
   "id": "aee27741",
   "metadata": {
    "slideshow": {
     "slide_type": "slide"
    }
   },
   "source": [
    "### The `lambda` command\n",
    "\n",
    "Afunction can be created in an anonymous way (that is created just for this job **without** needing a name) by using the `lambda`command, which looks like:"
   ]
  },
  {
   "cell_type": "markdown",
   "id": "3d721ce2-f538-44b8-ba13-d53d65f70d07",
   "metadata": {
    "slideshow": {
     "slide_type": "-"
    }
   },
   "source": [
    "func = lambda args : command"
   ]
  },
  {
   "cell_type": "markdown",
   "id": "d224ea86",
   "metadata": {
    "slideshow": {
     "slide_type": "-"
    }
   },
   "source": [
    "As a practical example:\n"
   ]
  },
  {
   "cell_type": "code",
   "execution_count": 32,
   "id": "ef34fd05",
   "metadata": {
    "slideshow": {
     "slide_type": "-"
    }
   },
   "outputs": [
    {
     "data": {
      "text/plain": [
       "350"
      ]
     },
     "execution_count": 32,
     "metadata": {},
     "output_type": "execute_result"
    }
   ],
   "source": [
    "f = lambda x : pow(x,3)+7 \n",
    "f(7)"
   ]
  },
  {
   "cell_type": "markdown",
   "id": "19e59ee1",
   "metadata": {
    "slideshow": {
     "slide_type": "-"
    }
   },
   "source": [
    "Another example:\n"
   ]
  },
  {
   "cell_type": "code",
   "execution_count": 33,
   "id": "91ea0e63",
   "metadata": {
    "slideshow": {
     "slide_type": "-"
    }
   },
   "outputs": [
    {
     "data": {
      "text/plain": [
       "3"
      ]
     },
     "execution_count": 33,
     "metadata": {},
     "output_type": "execute_result"
    }
   ],
   "source": [
    "add = lambda x, y: x + y\n",
    "add(1, 2)"
   ]
  },
  {
   "cell_type": "markdown",
   "id": "9cd29e38",
   "metadata": {
    "slideshow": {
     "slide_type": "slide"
    }
   },
   "source": [
    "### The `map` command\n",
    "\n",
    "**Python** has a special way of performing repeated function calls. If you want to apply the **same** function to every element of a list you don't need to loop over the elements of the list, but can instead use the `map` command, which looks like:"
   ]
  },
  {
   "cell_type": "raw",
   "id": "1bb6f8a0-a94b-45d1-8d5b-cfe7fbe67087",
   "metadata": {
    "slideshow": {
     "slide_type": "-"
    }
   },
   "source": [
    "newlist = map(function, list)"
   ]
  },
  {
   "cell_type": "markdown",
   "id": "0e710ab6",
   "metadata": {
    "slideshow": {
     "slide_type": "-"
    }
   },
   "source": [
    "This **applies**  the function to every element of the list.\n",
    "\n",
    "A lambda function can **only** execute one command, but it enables you to use it inside the `map` command. As an example, the following instruction takes a list and cubes each number in it and adds 7:"
   ]
  },
  {
   "cell_type": "code",
   "execution_count": 34,
   "id": "df52baa6",
   "metadata": {
    "slideshow": {
     "slide_type": "-"
    }
   },
   "outputs": [
    {
     "name": "stdout",
     "output_type": "stream",
     "text": [
      "34 15 71 8\n"
     ]
    }
   ],
   "source": [
    "mylist = [3, 2, 4, 1]\n",
    "fun = lambda x:pow(x,3)+7\n",
    "newlist = map(fun, mylist)\n",
    "print(*newlist)   # or list(newlist)"
   ]
  },
  {
   "cell_type": "markdown",
   "id": "b985388d",
   "metadata": {
    "slideshow": {
     "slide_type": "slide"
    }
   },
   "source": [
    "### The `filter` command\n",
    "\n",
    "Another way that `lambda` can be used is in conjunction with the `filter` command:"
   ]
  },
  {
   "cell_type": "raw",
   "id": "96856e25-bbed-4a26-b099-5322ee9e873b",
   "metadata": {
    "slideshow": {
     "slide_type": "-"
    }
   },
   "source": [
    "newlist = filter(condition, list)"
   ]
  },
  {
   "cell_type": "markdown",
   "id": "34d520b4",
   "metadata": {
    "slideshow": {
     "slide_type": "-"
    }
   },
   "source": [
    "This **returns** elements of a list that are evaluate as `True` on a logical condition.\n",
    "\n",
    "For example, the following code:"
   ]
  },
  {
   "cell_type": "code",
   "execution_count": 35,
   "id": "8ab8f737",
   "metadata": {
    "slideshow": {
     "slide_type": "-"
    }
   },
   "outputs": [
    {
     "name": "stdout",
     "output_type": "stream",
     "text": [
      "3 4\n"
     ]
    }
   ],
   "source": [
    "mylist = [3, 2, 4, 1]\n",
    "fun = lambda x:x>=3\n",
    "newlist = filter(fun, mylist)\n",
    "print(*newlist)   # or list(newlist)"
   ]
  },
  {
   "cell_type": "markdown",
   "id": "a2eefb57",
   "metadata": {
    "slideshow": {
     "slide_type": "-"
    }
   },
   "source": [
    "returns those elements of the **list** that are *greater than or equal* to 3."
   ]
  },
  {
   "cell_type": "markdown",
   "id": "16c0be12",
   "metadata": {
    "slideshow": {
     "slide_type": "slide"
    }
   },
   "source": [
    "### Generator Function\n",
    "\n",
    "A **generator function** is a function that, rather than using `return` to return a value once, uses `yield` to yield a (potentially infinite) sequence of values. "
   ]
  },
  {
   "cell_type": "code",
   "execution_count": 40,
   "id": "08a87fc1",
   "metadata": {
    "slideshow": {
     "slide_type": "-"
    }
   },
   "outputs": [
    {
     "name": "stdout",
     "output_type": "stream",
     "text": [
      "0 1 4 9 16 25 36 49 64 81 100 121\n"
     ]
    }
   ],
   "source": [
    "def gen():\n",
    "    for n in range(12):\n",
    "\t    yield n ** 2\n",
    "\t\t\t\t\n",
    "G = gen()\n",
    "print(*G)"
   ]
  },
  {
   "cell_type": "markdown",
   "id": "bcdcd8a5",
   "metadata": {
    "slideshow": {
     "slide_type": "-"
    }
   },
   "source": [
    "Just as in generator expressions, the state of the generator is preserved between partial iterations, but if we want a fresh copy of the generator we can simply call the function **again**."
   ]
  },
  {
   "cell_type": "markdown",
   "id": "c4323d5d",
   "metadata": {
    "slideshow": {
     "slide_type": "slide"
    }
   },
   "source": [
    "## Exceptions <a id=\"Exceptions\"></a>\n",
    "\n",
    "Like other modern languages, **Python**  allows for the trapping of exceptions. This is done through the `try ... except ... else` and `try... finally`  constructions. The following example shows the use of the most **common** version: "
   ]
  },
  {
   "cell_type": "raw",
   "id": "cf95b2ba-92b6-4d7c-bcfb-04b3e6ea4dd6",
   "metadata": {
    "slideshow": {
     "slide_type": "-"
    }
   },
   "source": [
    "try:\n",
    "    x/y\n",
    "except ZeroDivisonError:\n",
    "    print \"Divisor must not be 0\"\n",
    "except TypeError:\n",
    "    print \"They must be numbers\"\n",
    "except:\n",
    "    print \"Something unspecified went wrong\"\n",
    "else:\n",
    "    print \"Everything worked\""
   ]
  },
  {
   "cell_type": "markdown",
   "id": "60673b73",
   "metadata": {
    "slideshow": {
     "slide_type": "-"
    }
   },
   "source": [
    "For more details, including the **types** of exceptions that are defined, see a **Python** programming book."
   ]
  },
  {
   "cell_type": "markdown",
   "id": "6bcc02fc",
   "metadata": {
    "slideshow": {
     "slide_type": "slide"
    }
   },
   "source": [
    "An **exception** can be **manually** launched by the following functions:"
   ]
  },
  {
   "cell_type": "raw",
   "id": "02bb4bbe-cbc6-41d2-84dd-1e67a0501df5",
   "metadata": {
    "slideshow": {
     "slide_type": "-"
    }
   },
   "source": [
    "raise exception(args)\n",
    "\n",
    "assert expression, argument"
   ]
  },
  {
   "cell_type": "markdown",
   "id": "0efc9b4a",
   "metadata": {
    "slideshow": {
     "slide_type": "-"
    }
   },
   "source": [
    "Specifically, the `assert` function is used to **check** if a variable assignment is compliant with respect to some conditions:"
   ]
  },
  {
   "cell_type": "code",
   "execution_count": 41,
   "id": "aeb91123",
   "metadata": {
    "slideshow": {
     "slide_type": "-"
    }
   },
   "outputs": [
    {
     "ename": "AssertionError",
     "evalue": "len(x) not > 5",
     "output_type": "error",
     "traceback": [
      "\u001b[1;31m---------------------------------------------------------------------------\u001b[0m",
      "\u001b[1;31mAssertionError\u001b[0m                            Traceback (most recent call last)",
      "Cell \u001b[1;32mIn[41], line 3\u001b[0m\n\u001b[0;32m      1\u001b[0m x \u001b[38;5;241m=\u001b[39m (\u001b[38;5;241m1\u001b[39m, \u001b[38;5;241m2\u001b[39m, \u001b[38;5;241m3\u001b[39m)\n\u001b[1;32m----> 3\u001b[0m \u001b[38;5;28;01massert\u001b[39;00m \u001b[38;5;28mlen\u001b[39m(x) \u001b[38;5;241m>\u001b[39m \u001b[38;5;241m5\u001b[39m, \u001b[38;5;124m\"\u001b[39m\u001b[38;5;124mlen(x) not > 5\u001b[39m\u001b[38;5;124m\"\u001b[39m\n",
      "\u001b[1;31mAssertionError\u001b[0m: len(x) not > 5"
     ]
    }
   ],
   "source": [
    "x = (1, 2, 3)\n",
    "\n",
    "assert len(x) > 5, \"len(x) not > 5\""
   ]
  },
  {
   "cell_type": "markdown",
   "id": "dbb1223b",
   "metadata": {
    "slideshow": {
     "slide_type": "-"
    }
   },
   "source": [
    "Note that the context manager `with` **automatically** handles the **exceptions**. Hence, there is no need to manually write code for them. "
   ]
  },
  {
   "cell_type": "markdown",
   "id": "81692675",
   "metadata": {
    "slideshow": {
     "slide_type": "slide"
    }
   },
   "source": [
    "## Absolute and relative paths <a id=\"Paths\"></a>\n",
    "\n",
    "An **absolute path** is a file path that starts from the root directory of the file system and specifies the exact location of the file. A **relative path**, on the other hand, is a file path that is relative to the **current** working directory. \n",
    "\n",
    "An **absolute path** can be specified by the full location or combining a base path with a relative one:"
   ]
  },
  {
   "cell_type": "code",
   "execution_count": 42,
   "id": "122cd1ba",
   "metadata": {
    "slideshow": {
     "slide_type": "-"
    }
   },
   "outputs": [],
   "source": [
    "path1 = \"C:/example/cwd/mydir/\"\n",
    "base_path = \"C:/example/\"\n",
    "path2 = base_path + \"mydir/data/\""
   ]
  },
  {
   "cell_type": "markdown",
   "id": "e49a08f2",
   "metadata": {
    "slideshow": {
     "slide_type": "-"
    }
   },
   "source": [
    "When using a **relative path**, we can move in a folder inside the path using a dot (`.`) before the folder name or moving in a parent directory by using two dots (`..`) before the folder name:"
   ]
  },
  {
   "cell_type": "code",
   "execution_count": 43,
   "id": "668a4205",
   "metadata": {
    "slideshow": {
     "slide_type": "-"
    }
   },
   "outputs": [],
   "source": [
    "data_path = \"./data/\"\n",
    "save_path = \"../results/mytest/\""
   ]
  },
  {
   "cell_type": "markdown",
   "id": "743cf28d",
   "metadata": {
    "slideshow": {
     "slide_type": "slide"
    }
   },
   "source": [
    "Unfortunately, differently from Unix/Linux and MacOS operating systems, Windows uses the **backslash** (\\) to denote folders (\"C:\\example\\cwd\\mydir\\myfile.txt\"). This does **not** work in Python! \n",
    "\n",
    "We need to manually change the backslash to **slash** (/): \"C:/example/cwd/mydir/myfile.txt\" or manually add an additional **backslash** symbol (\\\\): \"C:\\\\example\\\\cwd\\\\mydir\\\\myfile.txt\"\n",
    "\n",
    "Path and file system can be handled by using the `os` and `pathlib` modules. The `os` module is a very common and **standard** approach. The `pathlib`  module, introduced in Python 3.5, is more modern and object-oriented but not so used."
   ]
  },
  {
   "cell_type": "markdown",
   "id": "1ca8e56a",
   "metadata": {
    "slideshow": {
     "slide_type": "slide"
    }
   },
   "source": [
    "## Use of the file system <a id=\"File_system\"></a>\n",
    "\n",
    "It is important to work with the file system. To this aim we can use the `os` module. The path name of the **current** directory can be obtained with the method `getcwd()`, while the current directory is accessed by the constant `curdir`. \n",
    "\n",
    "The `listdir()` method list **all** the content in a directory:"
   ]
  },
  {
   "cell_type": "code",
   "execution_count": 44,
   "id": "e2872d0e-3a20-469c-ae7f-13e101f324fb",
   "metadata": {
    "slideshow": {
     "slide_type": "-"
    }
   },
   "outputs": [
    {
     "data": {
      "text/plain": [
       "'C:\\\\Notebooks\\\\PyDS\\\\Notebooks'"
      ]
     },
     "execution_count": 44,
     "metadata": {},
     "output_type": "execute_result"
    }
   ],
   "source": [
    "import os\n",
    "\n",
    "os.getcwd()"
   ]
  },
  {
   "cell_type": "code",
   "execution_count": 45,
   "id": "707e16d5-3860-48b5-8384-e15548c8b14a",
   "metadata": {
    "slideshow": {
     "slide_type": "-"
    }
   },
   "outputs": [
    {
     "data": {
      "text/plain": [
       "['.ipynb_checkpoints', '3_Basics_Python.ipynb', '4_Python_Coding.ipynb']"
      ]
     },
     "execution_count": 45,
     "metadata": {},
     "output_type": "execute_result"
    }
   ],
   "source": [
    "os.listdir(os.curdir)"
   ]
  },
  {
   "cell_type": "markdown",
   "id": "ab155146",
   "metadata": {
    "slideshow": {
     "slide_type": "slide"
    }
   },
   "source": [
    "Follows an **example** of elaborating different files contained in several sub-folders of a data folder:"
   ]
  },
  {
   "cell_type": "raw",
   "id": "83042b66-11f0-4a73-a3be-08f0ab28f2d5",
   "metadata": {
    "slideshow": {
     "slide_type": "-"
    }
   },
   "source": [
    "directory = \"C:/Michele/Python/mydir/\"\n",
    "\n",
    "directories = os.listdir(directory)\n",
    "directories.sort()\n",
    "\t\t\n",
    "for d in directories:\n",
    "    path_directories = directory + d\n",
    "    file_list = os.listdir(path_directories)\n",
    "\t\t\t\t\n",
    "\tfor f in file_list:\n",
    "        file_name = path_directories + '/' + f\n",
    "\t\t\t\t\t\t\t\t\n",
    "\t\t# Load wave file as an example\n",
    "        x, fs = librosa.load(file_name, sr=None)\n",
    "\t\t\n",
    "        # Specific code\n"
   ]
  },
  {
   "cell_type": "markdown",
   "id": "56601ef5",
   "metadata": {
    "slideshow": {
     "slide_type": "slide"
    }
   },
   "source": [
    "The `path.join` and `path.split` functions **concatenate** names into a path or **split** the current file or directory from the rest of the path:"
   ]
  },
  {
   "cell_type": "code",
   "execution_count": 46,
   "id": "b8ed9e84-ea29-45d6-a9f3-67f0edb88c31",
   "metadata": {
    "slideshow": {
     "slide_type": "-"
    }
   },
   "outputs": [
    {
     "data": {
      "text/plain": [
       "'data\\\\audio\\\\raw'"
      ]
     },
     "execution_count": 46,
     "metadata": {},
     "output_type": "execute_result"
    }
   ],
   "source": [
    "os.path.join('data', 'audio', 'raw')"
   ]
  },
  {
   "cell_type": "code",
   "execution_count": 47,
   "id": "db8d2048-3cd9-46af-b366-98008eec49f2",
   "metadata": {
    "slideshow": {
     "slide_type": "-"
    }
   },
   "outputs": [
    {
     "data": {
      "text/plain": [
       "('data\\\\audio', 'raw')"
      ]
     },
     "execution_count": 47,
     "metadata": {},
     "output_type": "execute_result"
    }
   ],
   "source": [
    "os.path.split('data\\\\audio\\\\raw')"
   ]
  },
  {
   "cell_type": "markdown",
   "id": "71c133a8",
   "metadata": {
    "slideshow": {
     "slide_type": "-"
    }
   },
   "source": [
    "Similarly, methods `path.basename` and `path.dirname` return the file name and the path(without the file name), while method `path.splitext` **split** the file extension from the rest of the path:"
   ]
  },
  {
   "cell_type": "code",
   "execution_count": 48,
   "id": "77978c7e-24ae-402d-9d9a-5ae351102d6c",
   "metadata": {
    "slideshow": {
     "slide_type": "-"
    }
   },
   "outputs": [
    {
     "data": {
      "text/plain": [
       "'test.wav'"
      ]
     },
     "execution_count": 48,
     "metadata": {},
     "output_type": "execute_result"
    }
   ],
   "source": [
    "os.path.basename('data\\\\audio\\\\raw\\\\test.wav')"
   ]
  },
  {
   "cell_type": "code",
   "execution_count": 49,
   "id": "c9c609d3-27d8-408f-8a46-9f99566203e6",
   "metadata": {
    "slideshow": {
     "slide_type": "-"
    }
   },
   "outputs": [
    {
     "data": {
      "text/plain": [
       "'data\\\\audio\\\\raw'"
      ]
     },
     "execution_count": 49,
     "metadata": {},
     "output_type": "execute_result"
    }
   ],
   "source": [
    "os.path.dirname('data\\\\audio\\\\raw\\\\test.wav')"
   ]
  },
  {
   "cell_type": "code",
   "execution_count": 50,
   "id": "48dc0cb1-4467-400b-8030-0bc92a7b9b1d",
   "metadata": {
    "slideshow": {
     "slide_type": "-"
    }
   },
   "outputs": [
    {
     "data": {
      "text/plain": [
       "('data\\\\audio\\\\raw\\\\test', '.wav')"
      ]
     },
     "execution_count": 50,
     "metadata": {},
     "output_type": "execute_result"
    }
   ],
   "source": [
    "os.path.splitext('data\\\\audio\\\\raw\\\\test.wav')"
   ]
  },
  {
   "cell_type": "markdown",
   "id": "55105c70",
   "metadata": {
    "slideshow": {
     "slide_type": "slide"
    }
   },
   "source": [
    "We can **change** the current directory also as:"
   ]
  },
  {
   "cell_type": "raw",
   "id": "fdbfac47-a2dc-4c32-9434-78bfbca6322e",
   "metadata": {
    "slideshow": {
     "slide_type": "-"
    }
   },
   "source": [
    "os.path.chdir(newdir)"
   ]
  },
  {
   "cell_type": "markdown",
   "id": "ff453172",
   "metadata": {
    "slideshow": {
     "slide_type": "-"
    }
   },
   "source": [
    "We can **rename** or **move** a file or a directory as:"
   ]
  },
  {
   "cell_type": "raw",
   "id": "abee6b60-c85d-41e4-b9ba-7216d3141cfc",
   "metadata": {
    "slideshow": {
     "slide_type": "-"
    }
   },
   "source": [
    "os.path.rename(oldname, newname)"
   ]
  },
  {
   "cell_type": "markdown",
   "id": "0a0b0470",
   "metadata": {
    "slideshow": {
     "slide_type": "-"
    }
   },
   "source": [
    "We can **remove** (**delete**) a file as:"
   ]
  },
  {
   "cell_type": "raw",
   "id": "1f2f3b10-5a21-4910-8d3f-edec62b524dd",
   "metadata": {
    "slideshow": {
     "slide_type": "-"
    }
   },
   "source": [
    "os.path.remove(filename)"
   ]
  },
  {
   "cell_type": "markdown",
   "id": "f31937a7",
   "metadata": {
    "slideshow": {
     "slide_type": "-"
    }
   },
   "source": [
    "Finally, we can **delete** an **empty** directory as:"
   ]
  },
  {
   "cell_type": "raw",
   "id": "e56ba6fb-7f5f-4522-88c5-9320cfbe0ad5",
   "metadata": {
    "slideshow": {
     "slide_type": "-"
    }
   },
   "source": [
    "os.path.rmdir(dirname)"
   ]
  },
  {
   "cell_type": "markdown",
   "id": "aaad27c9",
   "metadata": {
    "slideshow": {
     "slide_type": "-"
    }
   },
   "source": [
    "Removing a **non-empty** directory with `rmdir` will raise an exception."
   ]
  },
  {
   "cell_type": "markdown",
   "id": "296540f0",
   "metadata": {
    "slideshow": {
     "slide_type": "slide"
    }
   },
   "source": [
    "The constant `name` will return `'nt'` for Windows and `'posix'` for Unix/Linux and MacOS:"
   ]
  },
  {
   "cell_type": "code",
   "execution_count": 53,
   "id": "8137f27b",
   "metadata": {
    "slideshow": {
     "slide_type": "-"
    }
   },
   "outputs": [
    {
     "data": {
      "text/plain": [
       "'nt'"
      ]
     },
     "execution_count": 53,
     "metadata": {},
     "output_type": "execute_result"
    }
   ],
   "source": [
    "os.name"
   ]
  },
  {
   "cell_type": "markdown",
   "id": "4364e3a5",
   "metadata": {
    "slideshow": {
     "slide_type": "-"
    }
   },
   "source": [
    "We can **check** if a path or file exists with the `path.exist` method, while the `path.isdir` and `path.isfile` check if the input string is a valid path or file, respectively. These methods return Boolean values:"
   ]
  },
  {
   "cell_type": "code",
   "execution_count": 54,
   "id": "2b0286e3-f17c-4f0d-b5a4-e0f130d039f4",
   "metadata": {
    "slideshow": {
     "slide_type": "-"
    }
   },
   "outputs": [
    {
     "data": {
      "text/plain": [
       "False"
      ]
     },
     "execution_count": 54,
     "metadata": {},
     "output_type": "execute_result"
    }
   ],
   "source": [
    "os.path.exists(\"C:/Michele/Python/mydir/\")"
   ]
  },
  {
   "cell_type": "code",
   "execution_count": 55,
   "id": "3ac31341-fc0a-4a81-aac3-a70d78c66a2b",
   "metadata": {
    "slideshow": {
     "slide_type": "-"
    }
   },
   "outputs": [
    {
     "data": {
      "text/plain": [
       "False"
      ]
     },
     "execution_count": 55,
     "metadata": {},
     "output_type": "execute_result"
    }
   ],
   "source": [
    "os.path.isdir(\"C:/Michele/Python/mydir/\")\t"
   ]
  },
  {
   "cell_type": "code",
   "execution_count": 56,
   "id": "53699237-f70c-4adc-97a0-6242e5be6e23",
   "metadata": {
    "slideshow": {
     "slide_type": "-"
    }
   },
   "outputs": [
    {
     "data": {
      "text/plain": [
       "False"
      ]
     },
     "execution_count": 56,
     "metadata": {},
     "output_type": "execute_result"
    }
   ],
   "source": [
    "os.path.isfile(\"C:/Michele/Python/mydir/ijsfgd.tst\")"
   ]
  },
  {
   "cell_type": "markdown",
   "id": "d7ae1951",
   "metadata": {
    "slideshow": {
     "slide_type": "slide"
    }
   },
   "source": [
    "## Writing new modules <a id=\"New_modules\"></a>\n",
    "\n",
    "When the program uses a *large number* of functions, it is more convenient to **pack** the in one or more **modules** and the import them. \n",
    "\n",
    "Specifically, **modules** are usually composed of a set of functions. It is also possible to define some functions that **cannot** be used **outside** the module: in this case it is necessary to **start** the name of the function with an underscore symbol(`_`):"
   ]
  },
  {
   "cell_type": "code",
   "execution_count": 57,
   "id": "d4f1f087-c738-47ed-a3bf-a6cb168570c3",
   "metadata": {
    "slideshow": {
     "slide_type": "-"
    }
   },
   "outputs": [],
   "source": [
    "\"\"\"modtest file\"\"\"\n",
    "def fun1(x):    # Public function\n",
    "    return x\n",
    "\n",
    "def _fun2(x):   # Hidden function\n",
    "    return x"
   ]
  },
  {
   "cell_type": "markdown",
   "id": "f8b3c7d0",
   "metadata": {
    "slideshow": {
     "slide_type": "-"
    }
   },
   "source": [
    "Then using the module:\n"
   ]
  },
  {
   "cell_type": "raw",
   "id": "86a07b26-8d66-4d57-ad3b-cfdb8168d819",
   "metadata": {
    "slideshow": {
     "slide_type": "-"
    }
   },
   "source": [
    "from modtest import *\n",
    "\n",
    "fun1(3)"
   ]
  },
  {
   "cell_type": "raw",
   "id": "f8139e82-465b-4ac9-b832-aa61a16584a1",
   "metadata": {},
   "source": [
    "_fun2(3)"
   ]
  },
  {
   "cell_type": "markdown",
   "id": "cadae1ac",
   "metadata": {
    "slideshow": {
     "slide_type": "slide"
    }
   },
   "source": [
    "## Python programs <a id=\"Programs\"></a>\n",
    "\n",
    "Usually, a Python program is composed of a set of modules, by defining the functions necessary to perform all operations and a main file that **controls** the execution, which is simply composed of a list of commands and is also called a **script**.\n",
    "\n",
    "However, often it is more convenient to define a **main** function that controls the program and then **call** this main function:"
   ]
  },
  {
   "cell_type": "raw",
   "id": "c322eb31-10b0-46c8-b433-0ca7ed71061b",
   "metadata": {
    "slideshow": {
     "slide_type": "-"
    }
   },
   "source": [
    "def main():\n",
    "    # Specific code\n",
    "\t\t\t\t\n",
    "main()"
   ]
  },
  {
   "cell_type": "markdown",
   "id": "04da54fd",
   "metadata": {
    "slideshow": {
     "slide_type": "-"
    }
   },
   "source": [
    "Often, a script contains helpful functions that should be used in other scripts by importing the first one. It is possible to use a file **both** as script or module, by including the following code inside the script:"
   ]
  },
  {
   "cell_type": "raw",
   "id": "2af4c6de-d526-4efa-a827-75e1b2646eae",
   "metadata": {
    "slideshow": {
     "slide_type": "-"
    }
   },
   "source": [
    "if __name__ == '__main__':\n",
    "    main()\n",
    "else:\n",
    "\t# module-specific code if any"
   ]
  },
  {
   "cell_type": "markdown",
   "id": "931e2c57",
   "metadata": {
    "slideshow": {
     "slide_type": "slide"
    }
   },
   "source": [
    "When used from a console, the main function can accept optional arguments specified after the name of the program:"
   ]
  },
  {
   "cell_type": "raw",
   "id": "7614ae3f-d2ec-42bf-ade1-8940581a705d",
   "metadata": {
    "slideshow": {
     "slide_type": "-"
    }
   },
   "source": [
    "> python script.py arg1 arg2 arg3"
   ]
  },
  {
   "cell_type": "markdown",
   "id": "707bce61",
   "metadata": {
    "slideshow": {
     "slide_type": "-"
    }
   },
   "source": [
    "The `sys.argv` capture this optional arguments:"
   ]
  },
  {
   "cell_type": "code",
   "execution_count": 60,
   "id": "1405eed0",
   "metadata": {
    "slideshow": {
     "slide_type": "-"
    }
   },
   "outputs": [],
   "source": [
    "import sys\n",
    "\n",
    "def main():\n",
    "    print(sys.argv)"
   ]
  },
  {
   "cell_type": "markdown",
   "id": "a0d00b46",
   "metadata": {
    "slideshow": {
     "slide_type": "-"
    }
   },
   "source": [
    "which will print:"
   ]
  },
  {
   "cell_type": "raw",
   "id": "4f3cc0ca-110e-4332-b985-67913dadd258",
   "metadata": {
    "slideshow": {
     "slide_type": "-"
    }
   },
   "source": [
    "    ['script.py', 'arg1', 'arg2', 'arg3']"
   ]
  },
  {
   "cell_type": "markdown",
   "id": "9e239b79",
   "metadata": {
    "slideshow": {
     "slide_type": "-"
    }
   },
   "source": [
    "It is also possible to read the standard input channel:"
   ]
  },
  {
   "cell_type": "raw",
   "id": "d8336c6e-419f-4a72-a2d2-697cc4a939c4",
   "metadata": {
    "slideshow": {
     "slide_type": "-"
    }
   },
   "source": [
    "contents = sys.stdin.read()"
   ]
  },
  {
   "cell_type": "markdown",
   "id": "b2586c1e",
   "metadata": {
    "slideshow": {
     "slide_type": "slide"
    }
   },
   "source": [
    "### The `argparse` module\n",
    "\n",
    "It is possible to **configure** a script top accept different options from the command line by using the `argparse` module (for its usage see: <https://docs.python.org/3/library/argparse.html>). Just an example:"
   ]
  },
  {
   "cell_type": "code",
   "execution_count": 61,
   "id": "2ed2fa61",
   "metadata": {
    "slideshow": {
     "slide_type": "-"
    }
   },
   "outputs": [],
   "source": [
    "from argparse import ArgumentParser\n",
    "\n",
    "def main():\n",
    "    parser = ArgumentParser()\n",
    "    parser.add_argument(\"indent\", type=int, help=\"indent for report\")  \n",
    "    parser.add_argument(\"input_file\", help=\"read data from this file\")\n",
    "    parser.add_argument(\"-f\", \"--file\", dest=\"filename\", \n",
    "                  help=\"write report to FILE\", metavar=\"FILE\")\n",
    "    parser.add_argument(\"-x\", \"--xray\", \n",
    "                  help=\"specify xray strength factor\")\n",
    "    parser.add_argument(\"-q\", \"--quiet\", action=\"store_false\",\n",
    "                  dest=\"verbose\", default=True,\n",
    "                  help=\"don't print status messages to stdout\")\n",
    "\n",
    "    args = parser.parse_args()"
   ]
  },
  {
   "cell_type": "markdown",
   "id": "63d0a5f2",
   "metadata": {
    "slideshow": {
     "slide_type": "slide"
    }
   },
   "source": [
    "## Classes <a id=\"Classes\"></a>\n",
    "\n",
    "For those that wish to use it in this way, **Python** is fully object-oriented, and **classes** are defined (with their constructor) by:"
   ]
  },
  {
   "cell_type": "raw",
   "id": "eaa21055-f1fb-44da-9ce2-9be3b6997a1c",
   "metadata": {
    "slideshow": {
     "slide_type": "-"
    }
   },
   "source": [
    "class myclass(superclass):\n",
    "\n",
    "    def __init__(self, args):\n",
    "\n",
    "    def functionname(self, args):"
   ]
  },
  {
   "cell_type": "markdown",
   "id": "6fb34cf2",
   "metadata": {
    "slideshow": {
     "slide_type": "-"
    }
   },
   "source": [
    "If a superclass is **not** specified, then the class **does not** inherit from elsewhere. \n",
    "\n",
    "The `__init__(self,args)` function is the *constructor* for the **class**. \n",
    "\n",
    "There can also be a *destructor* `__del__(self)`, although they are **rarely** used. \n",
    "\n",
    "The constructor and destructor names are preceded and followed by **two underscore** characters (__). However, there exist other special methods, like the `__str__(self)` one, used for print a representation of the object."
   ]
  },
  {
   "cell_type": "markdown",
   "id": "3c5dcda7",
   "metadata": {
    "slideshow": {
     "slide_type": "slide"
    }
   },
   "source": [
    "In a class, we can define as many functions we need. In the object oriented programming, such functions are called **methods**. In a class's method, the **first** argument is usually called `self` by convention."
   ]
  },
  {
   "cell_type": "code",
   "execution_count": 62,
   "id": "a8e9a1ae",
   "metadata": {
    "slideshow": {
     "slide_type": "-"
    }
   },
   "outputs": [],
   "source": [
    "class Rat(object):\n",
    "    \"\"\"Represents a rational number.\"\"\"\n",
    "\n",
    "    def __init__(self, numer, denom):\n",
    "        self.numer = numer\n",
    "        self.denom = denom\n",
    "\n",
    "    def __str__(self):\n",
    "        return str(self.numer) + \"/\" + str(self.denom)\n",
    "\t\t\t\t\t\t\n",
    "    def numerator(self):\n",
    "        return self.numer\n",
    "  \n",
    "    def denominator(self):\n",
    "        return self.denom\t\t\t\t\t\t\n"
   ]
  },
  {
   "cell_type": "markdown",
   "id": "61a8e231",
   "metadata": {
    "slideshow": {
     "slide_type": "slide"
    }
   },
   "source": [
    "It is also possible to write some methods that **overloads** a classical Python operation(summation, multiplication, etc.), in order to **particularize** an operation for a specific data type implemented by the class. This technique is called **overloading**.\n",
    "\n",
    "In Python, the functions that can be **overloaded** has a specific name, the most important of which are shown in the following table.\n",
    "\n",
    "| **Operator**  | **Method**   | **Operator**  | **Method**   |\n",
    "|:--------------|:------------:|:--------------|:-------------|\n",
    "|  +            |  `__add__`   |  ==           |  `__eq__`    |\n",
    "|  -            |  `__sub__`   |  !=           |  `__neq__`   |\n",
    "|  *            |  `__mul__`   |  <            |  `__lt__`    |\n",
    "|  /            |  `__div__`   |  <=           |  `__le__`    |\n",
    "|  %            |  `__mod__`   |  >            |  `__gt__`    |\n",
    "|  **           |  `__pow__`   |  >=           |  `__ge__`    |\n"
   ]
  },
  {
   "cell_type": "code",
   "execution_count": 63,
   "id": "d7f98636",
   "metadata": {
    "slideshow": {
     "slide_type": "-"
    }
   },
   "outputs": [],
   "source": [
    "    def __add__(self, other):\n",
    "        \"\"\"Returns the sum of the numbers.\"\"\"\n",
    "        newNumer = self.numer * other.denom + other.numer * self.denom\n",
    "        newDenom = self.denom * other.denom\n",
    "        return Rat(newNumer, newDenom)\n",
    "\n",
    "    def __lt__(self, other):\n",
    "        \"\"\"Returns self < other.\"\"\"\n",
    "        extremes = self.numer * other.denom\n",
    "        means = other.numer * self.denom\n",
    "        return extremes < means\n"
   ]
  },
  {
   "cell_type": "markdown",
   "id": "c9da6b55",
   "metadata": {
    "slideshow": {
     "slide_type": "-"
    }
   },
   "source": [
    "Although in Python is not present a strong **protection** of methods(functions) and members(variables), it can be obtained by preceding a variable's name or a function's name with **one** underscore character(_myVar or _myFun) for **protected** method or member, and **two** underscores characters (__myVar or __myFun) for **private** ones. **Note that the single underscore is just a convention!** "
   ]
  },
  {
   "cell_type": "markdown",
   "id": "ff93119d",
   "metadata": {
    "slideshow": {
     "slide_type": "slide"
    }
   },
   "source": [
    "In order to **get** the value of a variable or to change its current value, we can resort to the **getter** and **setter** methods. These methods are particularly helpful if the variables are private and hence are **not directly** accessible:"
   ]
  },
  {
   "cell_type": "code",
   "execution_count": 64,
   "id": "1bd523d4",
   "metadata": {
    "slideshow": {
     "slide_type": "-"
    }
   },
   "outputs": [],
   "source": [
    "class People():\n",
    "    def __init__(self, name, surname, age=0):\n",
    "        self.name = name\n",
    "        self.surname = surname\n",
    "        self.__age = age\n",
    "        \n",
    "    # Getter method\n",
    "    def get_age(self):\n",
    "        return self.__age\n",
    "    \n",
    "    # Setter method\n",
    "    def set_age(self, a):\n",
    "        self.__age = a\n"
   ]
  },
  {
   "cell_type": "markdown",
   "id": "0e8102c0",
   "metadata": {
    "slideshow": {
     "slide_type": "-"
    }
   },
   "source": [
    "Try to use this class as an exercise."
   ]
  },
  {
   "cell_type": "markdown",
   "id": "38ce5e92",
   "metadata": {
    "slideshow": {
     "slide_type": "slide"
    }
   },
   "source": [
    "Alternatively, it is possible to create a **property** from the getter and setter that can be used as an instance variable. It is sufficient to **add** as last line:"
   ]
  },
  {
   "cell_type": "raw",
   "id": "b3878c5b-7570-4998-bb7c-7edeec6c229a",
   "metadata": {
    "slideshow": {
     "slide_type": "-"
    }
   },
   "source": [
    "age = property(get_age, set_age)"
   ]
  },
  {
   "cell_type": "markdown",
   "id": "6122d285",
   "metadata": {
    "slideshow": {
     "slide_type": "-"
    }
   },
   "source": [
    "and now `age` can be used as a normal variable. We cal also add a third method (`del_age`) for the destructor.\n",
    "\n",
    "Otherwise, to reach the same purpose we can **decorate** the getter and the setter:"
   ]
  },
  {
   "cell_type": "code",
   "execution_count": 65,
   "id": "f7d13d0b",
   "metadata": {
    "slideshow": {
     "slide_type": "-"
    }
   },
   "outputs": [
    {
     "ename": "IndentationError",
     "evalue": "unexpected indent (203467450.py, line 2)",
     "output_type": "error",
     "traceback": [
      "\u001b[1;36m  Cell \u001b[1;32mIn[65], line 2\u001b[1;36m\u001b[0m\n\u001b[1;33m    @property\u001b[0m\n\u001b[1;37m    ^\u001b[0m\n\u001b[1;31mIndentationError\u001b[0m\u001b[1;31m:\u001b[0m unexpected indent\n"
     ]
    }
   ],
   "source": [
    "    # Getter method\n",
    "\t@property\n",
    "    def age(self):\n",
    "        return self.__age\n",
    "    \n",
    "    # Setter method\n",
    "\t@age.setter\n",
    "    def age(self, a):\n",
    "        self.__age = a\n"
   ]
  },
  {
   "cell_type": "markdown",
   "id": "3dab044f",
   "metadata": {
    "slideshow": {
     "slide_type": "slide"
    }
   },
   "source": [
    "**Static**  methods are methods that are bound to a class rather than its object. They **do not** require a class instance creation, so they do **not** use the `self` keyword. Hence, they are **independent** on the state of the object. \n",
    "\n",
    "**Static** methods are defined by using the decorator`@staticmethod`:"
   ]
  },
  {
   "cell_type": "code",
   "execution_count": 66,
   "id": "72427799",
   "metadata": {
    "slideshow": {
     "slide_type": "-"
    }
   },
   "outputs": [
    {
     "name": "stdout",
     "output_type": "stream",
     "text": [
      "30\n",
      "30\n"
     ]
    }
   ],
   "source": [
    "class MyClass():\n",
    "    def __init__(self, value):\n",
    "        self.value = value\n",
    "\n",
    "    @staticmethod\n",
    "    def get_max_value(x, y):\n",
    "        return max(x, y)\n",
    "\n",
    "\n",
    "obj = MyClass(10)  # Create an instance of MyClass\n",
    "print(MyClass.get_max_value(20, 30))  \n",
    "print(obj.get_max_value(20, 30))"
   ]
  },
  {
   "cell_type": "markdown",
   "id": "54af0203",
   "metadata": {
    "slideshow": {
     "slide_type": "slide"
    }
   },
   "source": [
    "A **class** method is similar to static methods, since it **doesn't**  require creation of a class instance. The difference between a static method and a class method is:\n",
    "* **static** method knows **nothing** about the class and just deals with the parameters;\n",
    "* **class** method works with the **class** since its parameter is always the class itself.\n",
    "* \n",
    "The **class** method can be called both by the class and its object, it is always attached to a class with the first argument as the class itself `cls`. **Class** methods are defined by using the decorator`@classmethod`:"
   ]
  },
  {
   "cell_type": "code",
   "execution_count": 71,
   "id": "e22ac1fa",
   "metadata": {
    "slideshow": {
     "slide_type": "-"
    }
   },
   "outputs": [
    {
     "name": "stdout",
     "output_type": "stream",
     "text": [
      "25\n"
     ]
    }
   ],
   "source": [
    "from datetime import date\n",
    "\n",
    "class Person():\n",
    "    def __init__(self, name, age):\n",
    "        self.name = name\n",
    "        self.age = age\n",
    "\n",
    "    @classmethod  # used to create the object by birth year\n",
    "    def fromBirthYear(cls, name, year):\n",
    "        return cls(name, date.today().year - year)\n",
    "\n",
    "person = Person.fromBirthYear('Michele', 2000)\n",
    "print(person.age)"
   ]
  },
  {
   "cell_type": "markdown",
   "id": "31d9459a",
   "metadata": {
    "slideshow": {
     "slide_type": "slide"
    }
   },
   "source": [
    "**Inheritance** is a fundamental concept in object-oriented programming (**OOP**) that allows a class (called a **child** or **derived** class) to **inherit** attributes and methods from another class(called a **parent** or **base** class). This promotes code reuse, modularity, and a hierarchical class structure.\n",
    "\n",
    "**Inheritance** allows us to define a class that **inherits** all the methods and variables (properties) from another class. The **derived** class can have **specific** method and variables or **redefine** methods and variables. The **constructor** of the derived class call the **construct** of the parent class by using the `super()` function:"
   ]
  },
  {
   "cell_type": "code",
   "execution_count": 72,
   "id": "4eb0dfe5",
   "metadata": {
    "slideshow": {
     "slide_type": "-"
    }
   },
   "outputs": [
    {
     "name": "stdout",
     "output_type": "stream",
     "text": [
      "Michele Scarpiniti\n",
      "Mario Rossi\n",
      "Welcome Mario Rossi to the class of 2020\n"
     ]
    }
   ],
   "source": [
    "class Person():   # Parent or base class\n",
    "    def __init__(self, fname, lname):\n",
    "        self.firstname = fname\n",
    "        self.lastname  = lname\n",
    "\n",
    "    def printname(self):\n",
    "        print(self.firstname, self.lastname)\n",
    "\n",
    "class Student(Person):   # Child or derived class\n",
    "    def __init__(self, fname, lname, year):\n",
    "        super().__init__(fname, lname)\n",
    "        self.graduationyear = year\n",
    "\n",
    "    def welcome(self):\n",
    "        print(\"Welcome\", self.firstname, self.lastname, \"to the class of\", self.graduationyear)\n",
    "\t\t\t\t\t\t\n",
    "person1 = Person('Michele', 'Scarpiniti')\n",
    "person2 = Student('Mario', 'Rossi', 2020)\n",
    "\n",
    "person1.printname()\n",
    "\n",
    "person2.printname()\n",
    "\t\t\n",
    "person2.welcome()"
   ]
  },
  {
   "cell_type": "markdown",
   "id": "60588cac",
   "metadata": {
    "jp-MarkdownHeadingCollapsed": true,
    "slideshow": {
     "slide_type": "slide"
    }
   },
   "source": [
    "Accessing **methods** from the class uses the `classname.functionname()` syntax.\n",
    "\n",
    "The `self` argument can be ignored in **all** function calls, since **Python** fills it in for you, but it does need to be specified in the function definition.\n",
    "\n",
    "You need to be **aware** that you have to create an instance of the class **before** you can run it.\n",
    "\n",
    "**Attention** that: if you have imported a module within a program and then you **change** the code of the module that you have imported, reloading the program **won't reload** the module: the module must by explicitly **reloaded**."
   ]
  },
  {
   "cell_type": "markdown",
   "id": "530f8eb0",
   "metadata": {
    "jp-MarkdownHeadingCollapsed": true,
    "slideshow": {
     "slide_type": "slide"
    }
   },
   "source": [
    "## References <a id=\"References\"></a>\n",
    "\n",
    "1. Naomi Ceder, The Quick Python Book, Third Edition, Manning, 2018.\n",
    "2. Naomi Ceder, Python - Guida alla sintassi, alle funzionalità avanzate e all'analisi dei dati, Apogeo, 2019.\n",
    "3. K. A. Lambert, Fundamentals of Python: First Programs, 2nd Edition, Course Technology, 2018.\n",
    "4. K. A. Lambert, Programmazione in Python, 2nd Edition, Apogeo Education, 2018.\n",
    "5. J. VanderPlas, A Whirlwind Tour of Python, O'Reilly Media, 2016. (<https://jakevdp.github.io/WhirlwindTourOfPython/>\n",
    "6. Mark Lutz, Programming Python, 4th Edition, O'Reilly Media, 2011.\n",
    "7. Mark Lutz, Learning Python, 5th Edition, O'Reilly Media, 2013.\n"
   ]
  }
 ],
 "metadata": {
  "celltoolbar": "Slideshow",
  "kernelspec": {
   "display_name": "Python 3 (ipykernel)",
   "language": "python",
   "name": "python3"
  },
  "language": "python",
  "language_info": {
   "codemirror_mode": {
    "name": "ipython",
    "version": 3
   },
   "file_extension": ".py",
   "mimetype": "text/x-python",
   "name": "python",
   "nbconvert_exporter": "python",
   "pygments_lexer": "ipython3",
   "version": "3.11.7"
  },
  "livereveal": {
   "controls": true,
   "help": true,
   "scroll": true,
   "slideNumber": true,
   "transition": "none"
  }
 },
 "nbformat": 4,
 "nbformat_minor": 5
}
