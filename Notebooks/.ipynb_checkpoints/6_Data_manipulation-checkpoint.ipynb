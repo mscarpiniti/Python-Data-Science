{
 "cells": [
  {
   "cell_type": "markdown",
   "id": "c9df2b21",
   "metadata": {
    "slideshow": {
     "slide_type": "slide"
    }
   },
   "source": [
    "# Data Manipulation\n",
    "\n",
    "**Prof. Michele Scarpiniti**\n"
   ]
  },
  {
   "cell_type": "markdown",
   "id": "a177ad56",
   "metadata": {
    "slideshow": {
     "slide_type": "slide"
    }
   },
   "source": [
    "## Outline\n",
    "\n",
    "- [Introduction](#Introduction)\n",
    "- [Pandas](#Pandas)\n",
    "- [Data formats](#Data_formats)\n",
    "- [Useful file formats](#File_formats)"
   ]
  },
  {
   "cell_type": "markdown",
   "id": "975ee4b0",
   "metadata": {
    "slideshow": {
     "slide_type": "slide"
    }
   },
   "source": [
    "## Introduction <a id=\"Introduction\"></a>\n",
    "\n",
    "The previous lessons have been addressed toward the basics of **Python** language, such as declaring variables, importing modules and writing some codes that use `if` statement or `for` and `while` loops. In addition, three well-known and useful libraries (**NumPy**, **MatPlotLib**, and **SciPy**) have been introduced in order to enlarge the Python functionalities.\n",
    "\n",
    "In this lesson, the **focus** will be moved towards **Pandas**: a library for data manipulation and analysis. In particular, it offers data structures and operations for manipulating numerical **tables** and **time series**.\n",
    "\n",
    "Finally, in the last part of the lesson, we introduce the **most** used datasets for didactic purposes and **where** we can download them and other useful datasets to test the developed models.\n"
   ]
  },
  {
   "cell_type": "markdown",
   "id": "8e8a6af1",
   "metadata": {
    "slideshow": {
     "slide_type": "slide"
    }
   },
   "source": [
    "## Pandas <a id=\"Pandas\"></a>\n"
   ]
  },
  {
   "cell_type": "markdown",
   "id": "bd104a58",
   "metadata": {
    "slideshow": {
     "slide_type": "slide"
    }
   },
   "source": [
    "**Pandas** (available at <https://pandas.pydata.org>) is a fast, powerful, flexible, and easy to use open source data analysis and manipulation tool. Its **objects** can be thought of as an enhanced version of **NumPy** structured arrays in which the rows and columns are **identified** with labels rather than simple integer indices.\n",
    "\n",
    "To **load** the pandas package and start working with it, **import** the package:"
   ]
  },
  {
   "cell_type": "code",
   "execution_count": 1,
   "id": "cf4436ef",
   "metadata": {
    "slideshow": {
     "slide_type": "-"
    }
   },
   "outputs": [],
   "source": [
    "import pandas as pd"
   ]
  },
  {
   "cell_type": "markdown",
   "id": "0be4049a",
   "metadata": {
    "slideshow": {
     "slide_type": "-"
    }
   },
   "source": [
    "The community agreed **alias** for pandas is `pd`, so loading pandas as `pd` is assumed standard practice for all of the pandas documentation and related books.\n"
   ]
  },
  {
   "cell_type": "markdown",
   "id": "43fd5a39",
   "metadata": {
    "slideshow": {
     "slide_type": "slide"
    }
   },
   "source": [
    "### Data types and basic operations\n"
   ]
  },
  {
   "cell_type": "markdown",
   "id": "08542120",
   "metadata": {
    "slideshow": {
     "slide_type": "slide"
    }
   },
   "source": [
    "#### Pandas Series\n",
    "\n",
    "The two primary data structures of Pandas, **Series** (1-dimensional) and **DataFrame** (2-dimensional), handle the vast majority of typical use cases in finance, statistics, social science, and many areas of engineering.\n",
    "\n",
    "<img src=\"Pandas_Series.jpg\"/>\n"
   ]
  },
  {
   "cell_type": "markdown",
   "id": "3bad0754",
   "metadata": {
    "slideshow": {
     "slide_type": "slide"
    }
   },
   "source": [
    "A Pandas Series is a one-dimensional array of indexed data. It can be created from a list or array as follows:"
   ]
  },
  {
   "cell_type": "code",
   "execution_count": 2,
   "id": "24e773f7",
   "metadata": {
    "slideshow": {
     "slide_type": "-"
    }
   },
   "outputs": [
    {
     "data": {
      "text/plain": [
       "0    0.25\n",
       "1    0.50\n",
       "2    0.75\n",
       "3    1.00\n",
       "dtype: float64"
      ]
     },
     "execution_count": 2,
     "metadata": {},
     "output_type": "execute_result"
    }
   ],
   "source": [
    "data = pd.Series([0.25, 0.5, 0.75, 1.0])\n",
    "data"
   ]
  },
  {
   "cell_type": "markdown",
   "id": "19fb4d3d",
   "metadata": {
    "slideshow": {
     "slide_type": "-"
    }
   },
   "source": [
    "As we see in the preceding output, the Series wraps both a sequence of values and a sequence of indices, which we can access with the **values** and **index** attributes.\n",
    "\n",
    "The values are simply a familiar **NumPy** array:"
   ]
  },
  {
   "cell_type": "code",
   "execution_count": 3,
   "id": "d434811f",
   "metadata": {
    "slideshow": {
     "slide_type": "-"
    }
   },
   "outputs": [
    {
     "data": {
      "text/plain": [
       "array([0.25, 0.5 , 0.75, 1.  ])"
      ]
     },
     "execution_count": 3,
     "metadata": {},
     "output_type": "execute_result"
    }
   ],
   "source": [
    "data.values"
   ]
  },
  {
   "cell_type": "markdown",
   "id": "1761f4e2",
   "metadata": {
    "slideshow": {
     "slide_type": "slide"
    }
   },
   "source": [
    "The index is an array-like object of type `pd.Index`:"
   ]
  },
  {
   "cell_type": "code",
   "execution_count": 4,
   "id": "e1b2da67",
   "metadata": {
    "slideshow": {
     "slide_type": "-"
    }
   },
   "outputs": [
    {
     "data": {
      "text/plain": [
       "RangeIndex(start=0, stop=4, step=1)"
      ]
     },
     "execution_count": 4,
     "metadata": {},
     "output_type": "execute_result"
    }
   ],
   "source": [
    "data.index"
   ]
  },
  {
   "cell_type": "markdown",
   "id": "36c1ed6c",
   "metadata": {
    "slideshow": {
     "slide_type": "-"
    }
   },
   "source": [
    "Like with a **NumPy** array, data can be accessed by the associated index via the familiar Python **square-bracket** notation:\n"
   ]
  },
  {
   "cell_type": "code",
   "execution_count": 5,
   "id": "9255fc5c-823e-4e3f-a8e7-99e551b28994",
   "metadata": {
    "slideshow": {
     "slide_type": "-"
    }
   },
   "outputs": [
    {
     "data": {
      "text/plain": [
       "0.5"
      ]
     },
     "execution_count": 5,
     "metadata": {},
     "output_type": "execute_result"
    }
   ],
   "source": [
    "data[1]"
   ]
  },
  {
   "cell_type": "code",
   "execution_count": 6,
   "id": "9261ca45-5673-4c8e-a25e-0e5bf305b0dc",
   "metadata": {
    "slideshow": {
     "slide_type": "-"
    }
   },
   "outputs": [
    {
     "data": {
      "text/plain": [
       "1    0.50\n",
       "2    0.75\n",
       "dtype: float64"
      ]
     },
     "execution_count": 6,
     "metadata": {},
     "output_type": "execute_result"
    }
   ],
   "source": [
    "data[1:3]"
   ]
  },
  {
   "cell_type": "markdown",
   "id": "76dbfe5b",
   "metadata": {
    "slideshow": {
     "slide_type": "-"
    }
   },
   "source": [
    "Note that the **slice** operation slices also the index."
   ]
  },
  {
   "cell_type": "markdown",
   "id": "76dff313",
   "metadata": {
    "slideshow": {
     "slide_type": "slide"
    }
   },
   "source": [
    "However, the basic general to create a Series is to **call**:"
   ]
  },
  {
   "cell_type": "code",
   "execution_count": 9,
   "id": "e54d0707",
   "metadata": {
    "slideshow": {
     "slide_type": "-"
    }
   },
   "outputs": [
    {
     "data": {
      "text/plain": [
       "0    0.25\n",
       "1    0.50\n",
       "2    0.75\n",
       "3    1.00\n",
       "dtype: float64"
      ]
     },
     "execution_count": 9,
     "metadata": {},
     "output_type": "execute_result"
    }
   ],
   "source": [
    "index = range(4)\n",
    "s = pd.Series(data, index=index)\n",
    "s"
   ]
  },
  {
   "cell_type": "markdown",
   "id": "a2f7508d",
   "metadata": {
    "slideshow": {
     "slide_type": "-"
    }
   },
   "source": [
    "The passed index is a list of axis labels:"
   ]
  },
  {
   "cell_type": "code",
   "execution_count": 11,
   "id": "5f0de43f",
   "metadata": {
    "slideshow": {
     "slide_type": "-"
    }
   },
   "outputs": [
    {
     "data": {
      "text/plain": [
       "a   -0.274444\n",
       "b   -0.029130\n",
       "c   -0.245662\n",
       "d    1.039529\n",
       "e   -0.189887\n",
       "dtype: float64"
      ]
     },
     "execution_count": 11,
     "metadata": {},
     "output_type": "execute_result"
    }
   ],
   "source": [
    "import numpy as np\n",
    "\n",
    "s = pd.Series(np.random.randn(5), index=['a', 'b', 'c', 'd', 'e'])\n",
    "s"
   ]
  },
  {
   "cell_type": "markdown",
   "id": "9a5bd9c7",
   "metadata": {
    "slideshow": {
     "slide_type": "-"
    }
   },
   "source": [
    "An index can be used to **access** the related **item**(using also slicing):"
   ]
  },
  {
   "cell_type": "code",
   "execution_count": 12,
   "id": "651fa793",
   "metadata": {
    "slideshow": {
     "slide_type": "-"
    }
   },
   "outputs": [
    {
     "data": {
      "text/plain": [
       "-0.029130449152501688"
      ]
     },
     "execution_count": 12,
     "metadata": {},
     "output_type": "execute_result"
    }
   ],
   "source": [
    "s['b']"
   ]
  },
  {
   "cell_type": "markdown",
   "id": "d78a284d",
   "metadata": {
    "slideshow": {
     "slide_type": "slide"
    }
   },
   "source": [
    "Series can be instantiated from `dicts`:"
   ]
  },
  {
   "cell_type": "code",
   "execution_count": 13,
   "id": "cf451e07",
   "metadata": {
    "slideshow": {
     "slide_type": "-"
    }
   },
   "outputs": [
    {
     "data": {
      "text/plain": [
       "b    1\n",
       "a    0\n",
       "c    2\n",
       "dtype: int64"
      ]
     },
     "execution_count": 13,
     "metadata": {},
     "output_type": "execute_result"
    }
   ],
   "source": [
    "d = {'b': 1, 'a': 0, 'c': 2}\n",
    "\n",
    "pd.Series(d)"
   ]
  },
  {
   "cell_type": "markdown",
   "id": "548a2cf0",
   "metadata": {
    "slideshow": {
     "slide_type": "-"
    }
   },
   "source": [
    "If an index is passed, the values in data corresponding to the labels in the index will be pulled out. `NaN`(not a number) is the standard missing data marker used in Pandas:"
   ]
  },
  {
   "cell_type": "code",
   "execution_count": 14,
   "id": "b25e7b81",
   "metadata": {
    "slideshow": {
     "slide_type": "-"
    }
   },
   "outputs": [
    {
     "data": {
      "text/plain": [
       "b    1.0\n",
       "c    2.0\n",
       "d    NaN\n",
       "a    0.0\n",
       "dtype: float64"
      ]
     },
     "execution_count": 14,
     "metadata": {},
     "output_type": "execute_result"
    }
   ],
   "source": [
    "pd.Series(d, index=['b', 'c', 'd', 'a'])"
   ]
  },
  {
   "cell_type": "markdown",
   "id": "c87d5dcc",
   "metadata": {
    "slideshow": {
     "slide_type": "slide"
    }
   },
   "source": [
    "To recap, item in a Pandas Series can be accessed by an **explicit indexing**(by the name of the indices, e.g., `s['a':'c']`) or by an **implicit indexing** (by the index positional value, e.g., `s[1:3]`).\n",
    "\n",
    "This can be cause of **confusion**, especially when we set numerical indices that can be confused with their positional values (the index **3** could not be necessary the third one!).\n",
    "To avoid such confusion, we can use two indexers:\n",
    "1. `loc`, which uses the explicit indexing:"
   ]
  },
  {
   "cell_type": "code",
   "execution_count": 15,
   "id": "5ac36a5c",
   "metadata": {
    "slideshow": {
     "slide_type": "-"
    }
   },
   "outputs": [
    {
     "data": {
      "text/plain": [
       "-0.029130449152501688"
      ]
     },
     "execution_count": 15,
     "metadata": {},
     "output_type": "execute_result"
    }
   ],
   "source": [
    "s.loc['b']"
   ]
  },
  {
   "cell_type": "markdown",
   "id": "c7b9f28b-5d31-49b9-ad0c-c9195f6da68e",
   "metadata": {},
   "source": [
    "2. `iloc`, which uses the implicit indexing:"
   ]
  },
  {
   "cell_type": "code",
   "execution_count": 16,
   "id": "c22acc54",
   "metadata": {
    "slideshow": {
     "slide_type": "-"
    }
   },
   "outputs": [
    {
     "data": {
      "text/plain": [
       "-0.029130449152501688"
      ]
     },
     "execution_count": 16,
     "metadata": {},
     "output_type": "execute_result"
    }
   ],
   "source": [
    "s.iloc[1]"
   ]
  },
  {
   "cell_type": "markdown",
   "id": "6d96d4ce",
   "metadata": {
    "slideshow": {
     "slide_type": "slide"
    }
   },
   "source": [
    "#### Pandas DataFrame\n",
    "\n",
    "DataFrame is a 2-dimensional labeled data structure with columns of potentially different types. You can think of it like a spreadsheet or a table.\n",
    "\n",
    "<img src=\"Pandas_DataFrame.png\"/>\n",
    "\n",
    "If a `Series` is an analog of a one-dimensional array with flexible indices, a `DataFrame` is an analog of a two-dimensional array with both flexible row indices and flexible column names.\n"
   ]
  },
  {
   "cell_type": "markdown",
   "id": "35c3e3ec",
   "metadata": {
    "slideshow": {
     "slide_type": "slide"
    }
   },
   "source": [
    "A DataFrame can be constructed from Series, by constructing a dictionary of Series. \n",
    "\n",
    "The resulting index will be the **union** of the indexes of the various Series:"
   ]
  },
  {
   "cell_type": "code",
   "execution_count": 18,
   "id": "13a46119-88f8-4eae-a063-a7c4867c5873",
   "metadata": {},
   "outputs": [
    {
     "data": {
      "text/html": [
       "<div>\n",
       "<style scoped>\n",
       "    .dataframe tbody tr th:only-of-type {\n",
       "        vertical-align: middle;\n",
       "    }\n",
       "\n",
       "    .dataframe tbody tr th {\n",
       "        vertical-align: top;\n",
       "    }\n",
       "\n",
       "    .dataframe thead th {\n",
       "        text-align: right;\n",
       "    }\n",
       "</style>\n",
       "<table border=\"1\" class=\"dataframe\">\n",
       "  <thead>\n",
       "    <tr style=\"text-align: right;\">\n",
       "      <th></th>\n",
       "      <th>one</th>\n",
       "      <th>two</th>\n",
       "      <th>three</th>\n",
       "    </tr>\n",
       "  </thead>\n",
       "  <tbody>\n",
       "    <tr>\n",
       "      <th>a</th>\n",
       "      <td>1.0</td>\n",
       "      <td>1.0</td>\n",
       "      <td>1.0</td>\n",
       "    </tr>\n",
       "    <tr>\n",
       "      <th>b</th>\n",
       "      <td>2.0</td>\n",
       "      <td>2.0</td>\n",
       "      <td>2.0</td>\n",
       "    </tr>\n",
       "    <tr>\n",
       "      <th>c</th>\n",
       "      <td>3.0</td>\n",
       "      <td>3.0</td>\n",
       "      <td>NaN</td>\n",
       "    </tr>\n",
       "    <tr>\n",
       "      <th>d</th>\n",
       "      <td>NaN</td>\n",
       "      <td>4.0</td>\n",
       "      <td>4.0</td>\n",
       "    </tr>\n",
       "  </tbody>\n",
       "</table>\n",
       "</div>"
      ],
      "text/plain": [
       "   one  two  three\n",
       "a  1.0  1.0    1.0\n",
       "b  2.0  2.0    2.0\n",
       "c  3.0  3.0    NaN\n",
       "d  NaN  4.0    4.0"
      ]
     },
     "execution_count": 18,
     "metadata": {},
     "output_type": "execute_result"
    }
   ],
   "source": [
    "d1 = pd.Series([1., 2., 3.], index=['a', 'b', 'c'])\n",
    "d2 = pd.Series([1., 2., 3., 4.], index=['a', 'b', 'c', 'd'])\n",
    "d3 = pd.Series([1., 2., 4.], index=['a', 'b', 'd'])\n",
    "\n",
    "d = {'one': d1, 'two': d2, 'three': d3}\n",
    "df = pd.DataFrame(d)\n",
    "df"
   ]
  },
  {
   "cell_type": "markdown",
   "id": "92a576fa",
   "metadata": {
    "slideshow": {
     "slide_type": "slide"
    }
   },
   "source": [
    "A DataFrame can be also constructed from a two-dimensional NumPy array:"
   ]
  },
  {
   "cell_type": "code",
   "execution_count": 19,
   "id": "b00cb7a7",
   "metadata": {
    "slideshow": {
     "slide_type": "-"
    }
   },
   "outputs": [
    {
     "data": {
      "text/html": [
       "<div>\n",
       "<style scoped>\n",
       "    .dataframe tbody tr th:only-of-type {\n",
       "        vertical-align: middle;\n",
       "    }\n",
       "\n",
       "    .dataframe tbody tr th {\n",
       "        vertical-align: top;\n",
       "    }\n",
       "\n",
       "    .dataframe thead th {\n",
       "        text-align: right;\n",
       "    }\n",
       "</style>\n",
       "<table border=\"1\" class=\"dataframe\">\n",
       "  <thead>\n",
       "    <tr style=\"text-align: right;\">\n",
       "      <th></th>\n",
       "      <th>One</th>\n",
       "      <th>Two</th>\n",
       "    </tr>\n",
       "  </thead>\n",
       "  <tbody>\n",
       "    <tr>\n",
       "      <th>a</th>\n",
       "      <td>0.719037</td>\n",
       "      <td>0.421093</td>\n",
       "    </tr>\n",
       "    <tr>\n",
       "      <th>b</th>\n",
       "      <td>0.328306</td>\n",
       "      <td>0.812867</td>\n",
       "    </tr>\n",
       "    <tr>\n",
       "      <th>c</th>\n",
       "      <td>0.487391</td>\n",
       "      <td>0.976488</td>\n",
       "    </tr>\n",
       "  </tbody>\n",
       "</table>\n",
       "</div>"
      ],
      "text/plain": [
       "        One       Two\n",
       "a  0.719037  0.421093\n",
       "b  0.328306  0.812867\n",
       "c  0.487391  0.976488"
      ]
     },
     "execution_count": 19,
     "metadata": {},
     "output_type": "execute_result"
    }
   ],
   "source": [
    "data = np.random.rand(3, 2)\n",
    "df2 = pd.DataFrame(data, columns=['One', 'Two'], index=['a', 'b', 'c'])\n",
    "df2"
   ]
  },
  {
   "cell_type": "markdown",
   "id": "a332254d",
   "metadata": {
    "slideshow": {
     "slide_type": "-"
    }
   },
   "source": [
    "The index names, column names, and data values can be retrieved by using:"
   ]
  },
  {
   "cell_type": "code",
   "execution_count": 20,
   "id": "a279234d-1307-4ac3-9911-0050c79a714a",
   "metadata": {
    "slideshow": {
     "slide_type": "-"
    }
   },
   "outputs": [
    {
     "data": {
      "text/plain": [
       "Index(['a', 'b', 'c'], dtype='object')"
      ]
     },
     "execution_count": 20,
     "metadata": {},
     "output_type": "execute_result"
    }
   ],
   "source": [
    "df2.index"
   ]
  },
  {
   "cell_type": "code",
   "execution_count": 21,
   "id": "6e8ceb85-668d-4ab1-ab0e-e001bcc3959b",
   "metadata": {
    "slideshow": {
     "slide_type": "-"
    }
   },
   "outputs": [
    {
     "data": {
      "text/plain": [
       "Index(['One', 'Two'], dtype='object')"
      ]
     },
     "execution_count": 21,
     "metadata": {},
     "output_type": "execute_result"
    }
   ],
   "source": [
    "df2.columns"
   ]
  },
  {
   "cell_type": "code",
   "execution_count": 22,
   "id": "f7131640-10e8-495f-957f-6475927f5bb3",
   "metadata": {
    "slideshow": {
     "slide_type": "-"
    }
   },
   "outputs": [
    {
     "data": {
      "text/plain": [
       "array([[0.7190365 , 0.42109331],\n",
       "       [0.3283064 , 0.81286741],\n",
       "       [0.48739068, 0.97648814]])"
      ]
     },
     "execution_count": 22,
     "metadata": {},
     "output_type": "execute_result"
    }
   ],
   "source": [
    "df2.values"
   ]
  },
  {
   "cell_type": "markdown",
   "id": "03816bab",
   "metadata": {
    "slideshow": {
     "slide_type": "slide"
    }
   },
   "source": [
    "A Pandas DataFrame **column** can be obtained by addressing the column name:"
   ]
  },
  {
   "cell_type": "code",
   "execution_count": 23,
   "id": "ad74a635",
   "metadata": {
    "slideshow": {
     "slide_type": "-"
    }
   },
   "outputs": [
    {
     "data": {
      "text/plain": [
       "a    1.0\n",
       "b    2.0\n",
       "c    3.0\n",
       "d    4.0\n",
       "Name: two, dtype: float64"
      ]
     },
     "execution_count": 23,
     "metadata": {},
     "output_type": "execute_result"
    }
   ],
   "source": [
    "df['two']"
   ]
  },
  {
   "cell_type": "markdown",
   "id": "f47cd382",
   "metadata": {
    "slideshow": {
     "slide_type": "-"
    }
   },
   "source": [
    "This is equivalent also to:"
   ]
  },
  {
   "cell_type": "code",
   "execution_count": 24,
   "id": "20dde1c5",
   "metadata": {
    "slideshow": {
     "slide_type": "-"
    }
   },
   "outputs": [
    {
     "data": {
      "text/plain": [
       "a    1.0\n",
       "b    2.0\n",
       "c    3.0\n",
       "d    4.0\n",
       "Name: two, dtype: float64"
      ]
     },
     "execution_count": 24,
     "metadata": {},
     "output_type": "execute_result"
    }
   ],
   "source": [
    "df.two"
   ]
  },
  {
   "cell_type": "markdown",
   "id": "93d1e576",
   "metadata": {
    "slideshow": {
     "slide_type": "-"
    }
   },
   "source": [
    "A DataFrame **row** can be obtained by **slicing** the row index or name:"
   ]
  },
  {
   "cell_type": "code",
   "execution_count": 25,
   "id": "6edf39a8",
   "metadata": {
    "slideshow": {
     "slide_type": "-"
    }
   },
   "outputs": [
    {
     "data": {
      "text/html": [
       "<div>\n",
       "<style scoped>\n",
       "    .dataframe tbody tr th:only-of-type {\n",
       "        vertical-align: middle;\n",
       "    }\n",
       "\n",
       "    .dataframe tbody tr th {\n",
       "        vertical-align: top;\n",
       "    }\n",
       "\n",
       "    .dataframe thead th {\n",
       "        text-align: right;\n",
       "    }\n",
       "</style>\n",
       "<table border=\"1\" class=\"dataframe\">\n",
       "  <thead>\n",
       "    <tr style=\"text-align: right;\">\n",
       "      <th></th>\n",
       "      <th>one</th>\n",
       "      <th>two</th>\n",
       "      <th>three</th>\n",
       "    </tr>\n",
       "  </thead>\n",
       "  <tbody>\n",
       "    <tr>\n",
       "      <th>b</th>\n",
       "      <td>2.0</td>\n",
       "      <td>2.0</td>\n",
       "      <td>2.0</td>\n",
       "    </tr>\n",
       "    <tr>\n",
       "      <th>c</th>\n",
       "      <td>3.0</td>\n",
       "      <td>3.0</td>\n",
       "      <td>NaN</td>\n",
       "    </tr>\n",
       "  </tbody>\n",
       "</table>\n",
       "</div>"
      ],
      "text/plain": [
       "   one  two  three\n",
       "b  2.0  2.0    2.0\n",
       "c  3.0  3.0    NaN"
      ]
     },
     "execution_count": 25,
     "metadata": {},
     "output_type": "execute_result"
    }
   ],
   "source": [
    "df[1:3]  # or df['b':'c']"
   ]
  },
  {
   "cell_type": "markdown",
   "id": "d86fcfc8",
   "metadata": {
    "slideshow": {
     "slide_type": "slide"
    }
   },
   "source": [
    "**Attention!** While **indexing** refers to columns, **slicing** refers to rows.\n",
    "\n",
    "This is more evident if both indexes and columns names are **numbers**:"
   ]
  },
  {
   "cell_type": "code",
   "execution_count": 26,
   "id": "eabc22cf-eb39-4b64-9dae-8c441dbdc5f0",
   "metadata": {
    "slideshow": {
     "slide_type": "-"
    }
   },
   "outputs": [
    {
     "data": {
      "text/html": [
       "<div>\n",
       "<style scoped>\n",
       "    .dataframe tbody tr th:only-of-type {\n",
       "        vertical-align: middle;\n",
       "    }\n",
       "\n",
       "    .dataframe tbody tr th {\n",
       "        vertical-align: top;\n",
       "    }\n",
       "\n",
       "    .dataframe thead th {\n",
       "        text-align: right;\n",
       "    }\n",
       "</style>\n",
       "<table border=\"1\" class=\"dataframe\">\n",
       "  <thead>\n",
       "    <tr style=\"text-align: right;\">\n",
       "      <th></th>\n",
       "      <th>0</th>\n",
       "      <th>1</th>\n",
       "    </tr>\n",
       "  </thead>\n",
       "  <tbody>\n",
       "    <tr>\n",
       "      <th>0</th>\n",
       "      <td>0.107026</td>\n",
       "      <td>0.526149</td>\n",
       "    </tr>\n",
       "    <tr>\n",
       "      <th>1</th>\n",
       "      <td>0.865302</td>\n",
       "      <td>0.974719</td>\n",
       "    </tr>\n",
       "    <tr>\n",
       "      <th>2</th>\n",
       "      <td>0.258737</td>\n",
       "      <td>0.587081</td>\n",
       "    </tr>\n",
       "  </tbody>\n",
       "</table>\n",
       "</div>"
      ],
      "text/plain": [
       "          0         1\n",
       "0  0.107026  0.526149\n",
       "1  0.865302  0.974719\n",
       "2  0.258737  0.587081"
      ]
     },
     "execution_count": 26,
     "metadata": {},
     "output_type": "execute_result"
    }
   ],
   "source": [
    "data = np.random.rand(3, 2)\n",
    "df3 = pd.DataFrame(data)\n",
    "df3"
   ]
  },
  {
   "cell_type": "code",
   "execution_count": 27,
   "id": "4e4773d3-17ae-4e05-8b77-0d26b664e5d3",
   "metadata": {
    "slideshow": {
     "slide_type": "-"
    }
   },
   "outputs": [
    {
     "data": {
      "text/plain": [
       "0    0.526149\n",
       "1    0.974719\n",
       "2    0.587081\n",
       "Name: 1, dtype: float64"
      ]
     },
     "execution_count": 27,
     "metadata": {},
     "output_type": "execute_result"
    }
   ],
   "source": [
    "df3[1]"
   ]
  },
  {
   "cell_type": "code",
   "execution_count": 28,
   "id": "2cae8704-8fc5-4c65-a5ff-3f55eb906d2b",
   "metadata": {
    "slideshow": {
     "slide_type": "-"
    }
   },
   "outputs": [
    {
     "data": {
      "text/html": [
       "<div>\n",
       "<style scoped>\n",
       "    .dataframe tbody tr th:only-of-type {\n",
       "        vertical-align: middle;\n",
       "    }\n",
       "\n",
       "    .dataframe tbody tr th {\n",
       "        vertical-align: top;\n",
       "    }\n",
       "\n",
       "    .dataframe thead th {\n",
       "        text-align: right;\n",
       "    }\n",
       "</style>\n",
       "<table border=\"1\" class=\"dataframe\">\n",
       "  <thead>\n",
       "    <tr style=\"text-align: right;\">\n",
       "      <th></th>\n",
       "      <th>0</th>\n",
       "      <th>1</th>\n",
       "    </tr>\n",
       "  </thead>\n",
       "  <tbody>\n",
       "    <tr>\n",
       "      <th>1</th>\n",
       "      <td>0.865302</td>\n",
       "      <td>0.974719</td>\n",
       "    </tr>\n",
       "  </tbody>\n",
       "</table>\n",
       "</div>"
      ],
      "text/plain": [
       "          0         1\n",
       "1  0.865302  0.974719"
      ]
     },
     "execution_count": 28,
     "metadata": {},
     "output_type": "execute_result"
    }
   ],
   "source": [
    "df3[1:2]"
   ]
  },
  {
   "cell_type": "markdown",
   "id": "394c5eec",
   "metadata": {
    "slideshow": {
     "slide_type": "slide"
    }
   },
   "source": [
    "Also for a DataFrame we can use an **explicit** or by an **implicit** indexing. We can use three indexers:\n",
    "1. `loc`, which uses the explicit indexing:"
   ]
  },
  {
   "cell_type": "code",
   "execution_count": 29,
   "id": "031b2364",
   "metadata": {
    "slideshow": {
     "slide_type": "-"
    }
   },
   "outputs": [
    {
     "data": {
      "text/html": [
       "<div>\n",
       "<style scoped>\n",
       "    .dataframe tbody tr th:only-of-type {\n",
       "        vertical-align: middle;\n",
       "    }\n",
       "\n",
       "    .dataframe tbody tr th {\n",
       "        vertical-align: top;\n",
       "    }\n",
       "\n",
       "    .dataframe thead th {\n",
       "        text-align: right;\n",
       "    }\n",
       "</style>\n",
       "<table border=\"1\" class=\"dataframe\">\n",
       "  <thead>\n",
       "    <tr style=\"text-align: right;\">\n",
       "      <th></th>\n",
       "      <th>one</th>\n",
       "      <th>two</th>\n",
       "      <th>three</th>\n",
       "    </tr>\n",
       "  </thead>\n",
       "  <tbody>\n",
       "    <tr>\n",
       "      <th>a</th>\n",
       "      <td>1.0</td>\n",
       "      <td>1.0</td>\n",
       "      <td>1.0</td>\n",
       "    </tr>\n",
       "    <tr>\n",
       "      <th>b</th>\n",
       "      <td>2.0</td>\n",
       "      <td>2.0</td>\n",
       "      <td>2.0</td>\n",
       "    </tr>\n",
       "  </tbody>\n",
       "</table>\n",
       "</div>"
      ],
      "text/plain": [
       "   one  two  three\n",
       "a  1.0  1.0    1.0\n",
       "b  2.0  2.0    2.0"
      ]
     },
     "execution_count": 29,
     "metadata": {},
     "output_type": "execute_result"
    }
   ],
   "source": [
    "df.loc[['a', 'b']]"
   ]
  },
  {
   "cell_type": "markdown",
   "id": "d0feef9e-22bf-4f34-ab14-6694fed48fbd",
   "metadata": {},
   "source": [
    "2. `iloc`, which uses the implicit indexing:"
   ]
  },
  {
   "cell_type": "code",
   "execution_count": 30,
   "id": "61208071",
   "metadata": {
    "slideshow": {
     "slide_type": "-"
    }
   },
   "outputs": [
    {
     "data": {
      "text/html": [
       "<div>\n",
       "<style scoped>\n",
       "    .dataframe tbody tr th:only-of-type {\n",
       "        vertical-align: middle;\n",
       "    }\n",
       "\n",
       "    .dataframe tbody tr th {\n",
       "        vertical-align: top;\n",
       "    }\n",
       "\n",
       "    .dataframe thead th {\n",
       "        text-align: right;\n",
       "    }\n",
       "</style>\n",
       "<table border=\"1\" class=\"dataframe\">\n",
       "  <thead>\n",
       "    <tr style=\"text-align: right;\">\n",
       "      <th></th>\n",
       "      <th>one</th>\n",
       "      <th>two</th>\n",
       "      <th>three</th>\n",
       "    </tr>\n",
       "  </thead>\n",
       "  <tbody>\n",
       "    <tr>\n",
       "      <th>b</th>\n",
       "      <td>2.0</td>\n",
       "      <td>2.0</td>\n",
       "      <td>2.0</td>\n",
       "    </tr>\n",
       "    <tr>\n",
       "      <th>c</th>\n",
       "      <td>3.0</td>\n",
       "      <td>3.0</td>\n",
       "      <td>NaN</td>\n",
       "    </tr>\n",
       "  </tbody>\n",
       "</table>\n",
       "</div>"
      ],
      "text/plain": [
       "   one  two  three\n",
       "b  2.0  2.0    2.0\n",
       "c  3.0  3.0    NaN"
      ]
     },
     "execution_count": 30,
     "metadata": {},
     "output_type": "execute_result"
    }
   ],
   "source": [
    "df.iloc[[1, 2]]"
   ]
  },
  {
   "cell_type": "markdown",
   "id": "2e517283-f980-4f9a-8a09-bcc1eff5851e",
   "metadata": {},
   "source": [
    "3. `iat`, which accesses a single value for a row/column pair by integer position:"
   ]
  },
  {
   "cell_type": "code",
   "execution_count": 31,
   "id": "c01dcd44",
   "metadata": {
    "slideshow": {
     "slide_type": "-"
    }
   },
   "outputs": [
    {
     "data": {
      "text/plain": [
       "2.0"
      ]
     },
     "execution_count": 31,
     "metadata": {},
     "output_type": "execute_result"
    }
   ],
   "source": [
    "df.iat[1, 2]"
   ]
  },
  {
   "cell_type": "markdown",
   "id": "70347660",
   "metadata": {
    "slideshow": {
     "slide_type": "slide"
    }
   },
   "source": [
    "Finally, `loc` and `iloc` can be used also to extract some sub-matrix from the DataFrame, by addressing suitable rows and/or columns:"
   ]
  },
  {
   "cell_type": "code",
   "execution_count": 32,
   "id": "8febe1f7-bdde-483d-bbb7-8cd70826c339",
   "metadata": {
    "slideshow": {
     "slide_type": "-"
    }
   },
   "outputs": [
    {
     "data": {
      "text/html": [
       "<div>\n",
       "<style scoped>\n",
       "    .dataframe tbody tr th:only-of-type {\n",
       "        vertical-align: middle;\n",
       "    }\n",
       "\n",
       "    .dataframe tbody tr th {\n",
       "        vertical-align: top;\n",
       "    }\n",
       "\n",
       "    .dataframe thead th {\n",
       "        text-align: right;\n",
       "    }\n",
       "</style>\n",
       "<table border=\"1\" class=\"dataframe\">\n",
       "  <thead>\n",
       "    <tr style=\"text-align: right;\">\n",
       "      <th></th>\n",
       "      <th>one</th>\n",
       "      <th>two</th>\n",
       "    </tr>\n",
       "  </thead>\n",
       "  <tbody>\n",
       "    <tr>\n",
       "      <th>a</th>\n",
       "      <td>1.0</td>\n",
       "      <td>1.0</td>\n",
       "    </tr>\n",
       "    <tr>\n",
       "      <th>b</th>\n",
       "      <td>2.0</td>\n",
       "      <td>2.0</td>\n",
       "    </tr>\n",
       "  </tbody>\n",
       "</table>\n",
       "</div>"
      ],
      "text/plain": [
       "   one  two\n",
       "a  1.0  1.0\n",
       "b  2.0  2.0"
      ]
     },
     "execution_count": 32,
     "metadata": {},
     "output_type": "execute_result"
    }
   ],
   "source": [
    "df.loc[:'b',:'two']"
   ]
  },
  {
   "cell_type": "code",
   "execution_count": 33,
   "id": "699575f1-c0c4-4aab-86c2-fd02a2e18ab2",
   "metadata": {
    "slideshow": {
     "slide_type": "-"
    }
   },
   "outputs": [
    {
     "data": {
      "text/html": [
       "<div>\n",
       "<style scoped>\n",
       "    .dataframe tbody tr th:only-of-type {\n",
       "        vertical-align: middle;\n",
       "    }\n",
       "\n",
       "    .dataframe tbody tr th {\n",
       "        vertical-align: top;\n",
       "    }\n",
       "\n",
       "    .dataframe thead th {\n",
       "        text-align: right;\n",
       "    }\n",
       "</style>\n",
       "<table border=\"1\" class=\"dataframe\">\n",
       "  <thead>\n",
       "    <tr style=\"text-align: right;\">\n",
       "      <th></th>\n",
       "      <th>one</th>\n",
       "      <th>two</th>\n",
       "    </tr>\n",
       "  </thead>\n",
       "  <tbody>\n",
       "    <tr>\n",
       "      <th>a</th>\n",
       "      <td>1.0</td>\n",
       "      <td>1.0</td>\n",
       "    </tr>\n",
       "    <tr>\n",
       "      <th>b</th>\n",
       "      <td>2.0</td>\n",
       "      <td>2.0</td>\n",
       "    </tr>\n",
       "    <tr>\n",
       "      <th>c</th>\n",
       "      <td>3.0</td>\n",
       "      <td>3.0</td>\n",
       "    </tr>\n",
       "  </tbody>\n",
       "</table>\n",
       "</div>"
      ],
      "text/plain": [
       "   one  two\n",
       "a  1.0  1.0\n",
       "b  2.0  2.0\n",
       "c  3.0  3.0"
      ]
     },
     "execution_count": 33,
     "metadata": {},
     "output_type": "execute_result"
    }
   ],
   "source": [
    "df.iloc[:3,:2]"
   ]
  },
  {
   "cell_type": "markdown",
   "id": "62c46e4a",
   "metadata": {
    "slideshow": {
     "slide_type": "-"
    }
   },
   "source": [
    "Any of these indexing conventions may also be used to set or modify values, link in NumPy:"
   ]
  },
  {
   "cell_type": "code",
   "execution_count": 34,
   "id": "92624793",
   "metadata": {
    "slideshow": {
     "slide_type": "-"
    }
   },
   "outputs": [
    {
     "data": {
      "text/html": [
       "<div>\n",
       "<style scoped>\n",
       "    .dataframe tbody tr th:only-of-type {\n",
       "        vertical-align: middle;\n",
       "    }\n",
       "\n",
       "    .dataframe tbody tr th {\n",
       "        vertical-align: top;\n",
       "    }\n",
       "\n",
       "    .dataframe thead th {\n",
       "        text-align: right;\n",
       "    }\n",
       "</style>\n",
       "<table border=\"1\" class=\"dataframe\">\n",
       "  <thead>\n",
       "    <tr style=\"text-align: right;\">\n",
       "      <th></th>\n",
       "      <th>one</th>\n",
       "      <th>two</th>\n",
       "      <th>three</th>\n",
       "    </tr>\n",
       "  </thead>\n",
       "  <tbody>\n",
       "    <tr>\n",
       "      <th>a</th>\n",
       "      <td>1.0</td>\n",
       "      <td>5.0</td>\n",
       "      <td>1.0</td>\n",
       "    </tr>\n",
       "    <tr>\n",
       "      <th>b</th>\n",
       "      <td>2.0</td>\n",
       "      <td>2.0</td>\n",
       "      <td>2.0</td>\n",
       "    </tr>\n",
       "    <tr>\n",
       "      <th>c</th>\n",
       "      <td>3.0</td>\n",
       "      <td>3.0</td>\n",
       "      <td>NaN</td>\n",
       "    </tr>\n",
       "    <tr>\n",
       "      <th>d</th>\n",
       "      <td>NaN</td>\n",
       "      <td>4.0</td>\n",
       "      <td>4.0</td>\n",
       "    </tr>\n",
       "  </tbody>\n",
       "</table>\n",
       "</div>"
      ],
      "text/plain": [
       "   one  two  three\n",
       "a  1.0  5.0    1.0\n",
       "b  2.0  2.0    2.0\n",
       "c  3.0  3.0    NaN\n",
       "d  NaN  4.0    4.0"
      ]
     },
     "execution_count": 34,
     "metadata": {},
     "output_type": "execute_result"
    }
   ],
   "source": [
    "df.iloc[0, 1] = 5\n",
    "df"
   ]
  },
  {
   "cell_type": "markdown",
   "id": "5af9577c",
   "metadata": {
    "slideshow": {
     "slide_type": "slide"
    }
   },
   "source": [
    "### Essential basic functionality\n",
    "\n",
    "To view a small sample of a Series or DataFrame object, use the `head()` and `tail()` methods. The default number of elements to display is **five**, but you may pass a custom number:"
   ]
  },
  {
   "cell_type": "code",
   "execution_count": 35,
   "id": "4d37e3da-3e6e-4e84-b787-3904dddbb6aa",
   "metadata": {
    "slideshow": {
     "slide_type": "-"
    }
   },
   "outputs": [
    {
     "data": {
      "text/plain": [
       "0   -0.347044\n",
       "1   -0.775654\n",
       "2   -1.241580\n",
       "3   -0.479773\n",
       "4   -0.548573\n",
       "dtype: float64"
      ]
     },
     "execution_count": 35,
     "metadata": {},
     "output_type": "execute_result"
    }
   ],
   "source": [
    "long_series = pd.Series(np.random.randn(1000))\n",
    "\n",
    "long_series.head()"
   ]
  },
  {
   "cell_type": "code",
   "execution_count": 36,
   "id": "24106281-4611-4504-bc05-7a13c04321d9",
   "metadata": {
    "slideshow": {
     "slide_type": "-"
    }
   },
   "outputs": [
    {
     "data": {
      "text/plain": [
       "997   -0.014159\n",
       "998   -1.289442\n",
       "999    0.650147\n",
       "dtype: float64"
      ]
     },
     "execution_count": 36,
     "metadata": {},
     "output_type": "execute_result"
    }
   ],
   "source": [
    "long_series.tail(3)"
   ]
  },
  {
   "cell_type": "markdown",
   "id": "ebb7ba19",
   "metadata": {
    "slideshow": {
     "slide_type": "slide"
    }
   },
   "source": [
    "Given the following DataFrame object:"
   ]
  },
  {
   "cell_type": "code",
   "execution_count": 38,
   "id": "b9fa44fa",
   "metadata": {
    "slideshow": {
     "slide_type": "-"
    }
   },
   "outputs": [
    {
     "data": {
      "text/html": [
       "<div>\n",
       "<style scoped>\n",
       "    .dataframe tbody tr th:only-of-type {\n",
       "        vertical-align: middle;\n",
       "    }\n",
       "\n",
       "    .dataframe tbody tr th {\n",
       "        vertical-align: top;\n",
       "    }\n",
       "\n",
       "    .dataframe thead th {\n",
       "        text-align: right;\n",
       "    }\n",
       "</style>\n",
       "<table border=\"1\" class=\"dataframe\">\n",
       "  <thead>\n",
       "    <tr style=\"text-align: right;\">\n",
       "      <th></th>\n",
       "      <th>A</th>\n",
       "      <th>B</th>\n",
       "      <th>C</th>\n",
       "    </tr>\n",
       "  </thead>\n",
       "  <tbody>\n",
       "    <tr>\n",
       "      <th>2000-01-01</th>\n",
       "      <td>0.844548</td>\n",
       "      <td>1.468936</td>\n",
       "      <td>0.882553</td>\n",
       "    </tr>\n",
       "    <tr>\n",
       "      <th>2000-01-02</th>\n",
       "      <td>-0.226764</td>\n",
       "      <td>-1.546553</td>\n",
       "      <td>0.501065</td>\n",
       "    </tr>\n",
       "    <tr>\n",
       "      <th>2000-01-03</th>\n",
       "      <td>1.172823</td>\n",
       "      <td>0.445329</td>\n",
       "      <td>-0.304587</td>\n",
       "    </tr>\n",
       "    <tr>\n",
       "      <th>2000-01-04</th>\n",
       "      <td>0.663638</td>\n",
       "      <td>-1.228805</td>\n",
       "      <td>0.543703</td>\n",
       "    </tr>\n",
       "    <tr>\n",
       "      <th>2000-01-05</th>\n",
       "      <td>-0.060712</td>\n",
       "      <td>-1.917687</td>\n",
       "      <td>-1.148560</td>\n",
       "    </tr>\n",
       "    <tr>\n",
       "      <th>2000-01-06</th>\n",
       "      <td>0.803664</td>\n",
       "      <td>-1.823464</td>\n",
       "      <td>-0.563253</td>\n",
       "    </tr>\n",
       "    <tr>\n",
       "      <th>2000-01-07</th>\n",
       "      <td>1.318961</td>\n",
       "      <td>0.516707</td>\n",
       "      <td>-0.970342</td>\n",
       "    </tr>\n",
       "    <tr>\n",
       "      <th>2000-01-08</th>\n",
       "      <td>0.322948</td>\n",
       "      <td>-1.227461</td>\n",
       "      <td>0.343019</td>\n",
       "    </tr>\n",
       "  </tbody>\n",
       "</table>\n",
       "</div>"
      ],
      "text/plain": [
       "                   A         B         C\n",
       "2000-01-01  0.844548  1.468936  0.882553\n",
       "2000-01-02 -0.226764 -1.546553  0.501065\n",
       "2000-01-03  1.172823  0.445329 -0.304587\n",
       "2000-01-04  0.663638 -1.228805  0.543703\n",
       "2000-01-05 -0.060712 -1.917687 -1.148560\n",
       "2000-01-06  0.803664 -1.823464 -0.563253\n",
       "2000-01-07  1.318961  0.516707 -0.970342\n",
       "2000-01-08  0.322948 -1.227461  0.343019"
      ]
     },
     "execution_count": 38,
     "metadata": {},
     "output_type": "execute_result"
    }
   ],
   "source": [
    "index = pd.date_range('1/1/2000', periods=8)\n",
    "df = pd.DataFrame(np.random.randn(8, 3), index=index, columns=['A', 'B', 'C'])\n",
    "df"
   ]
  },
  {
   "cell_type": "markdown",
   "id": "9a073a49",
   "metadata": {
    "slideshow": {
     "slide_type": "-"
    }
   },
   "source": [
    "Hence, we can use some attributes to access the metadata and safely **assign** to variables. For example, we convert to lowercase row variables:"
   ]
  },
  {
   "cell_type": "code",
   "execution_count": 39,
   "id": "3e0e1a79-d55f-4069-bedf-e0f355e6d5f2",
   "metadata": {
    "slideshow": {
     "slide_type": "-"
    }
   },
   "outputs": [
    {
     "data": {
      "text/html": [
       "<div>\n",
       "<style scoped>\n",
       "    .dataframe tbody tr th:only-of-type {\n",
       "        vertical-align: middle;\n",
       "    }\n",
       "\n",
       "    .dataframe tbody tr th {\n",
       "        vertical-align: top;\n",
       "    }\n",
       "\n",
       "    .dataframe thead th {\n",
       "        text-align: right;\n",
       "    }\n",
       "</style>\n",
       "<table border=\"1\" class=\"dataframe\">\n",
       "  <thead>\n",
       "    <tr style=\"text-align: right;\">\n",
       "      <th></th>\n",
       "      <th>A</th>\n",
       "      <th>B</th>\n",
       "      <th>C</th>\n",
       "    </tr>\n",
       "  </thead>\n",
       "  <tbody>\n",
       "    <tr>\n",
       "      <th>2000-01-01</th>\n",
       "      <td>0.844548</td>\n",
       "      <td>1.468936</td>\n",
       "      <td>0.882553</td>\n",
       "    </tr>\n",
       "    <tr>\n",
       "      <th>2000-01-02</th>\n",
       "      <td>-0.226764</td>\n",
       "      <td>-1.546553</td>\n",
       "      <td>0.501065</td>\n",
       "    </tr>\n",
       "  </tbody>\n",
       "</table>\n",
       "</div>"
      ],
      "text/plain": [
       "                   A         B         C\n",
       "2000-01-01  0.844548  1.468936  0.882553\n",
       "2000-01-02 -0.226764 -1.546553  0.501065"
      ]
     },
     "execution_count": 39,
     "metadata": {},
     "output_type": "execute_result"
    }
   ],
   "source": [
    "df[:2]"
   ]
  },
  {
   "cell_type": "code",
   "execution_count": 40,
   "id": "fce29b2c-c600-4d08-aa81-f88d0fa93ddf",
   "metadata": {
    "slideshow": {
     "slide_type": "-"
    }
   },
   "outputs": [
    {
     "data": {
      "text/html": [
       "<div>\n",
       "<style scoped>\n",
       "    .dataframe tbody tr th:only-of-type {\n",
       "        vertical-align: middle;\n",
       "    }\n",
       "\n",
       "    .dataframe tbody tr th {\n",
       "        vertical-align: top;\n",
       "    }\n",
       "\n",
       "    .dataframe thead th {\n",
       "        text-align: right;\n",
       "    }\n",
       "</style>\n",
       "<table border=\"1\" class=\"dataframe\">\n",
       "  <thead>\n",
       "    <tr style=\"text-align: right;\">\n",
       "      <th></th>\n",
       "      <th>a</th>\n",
       "      <th>b</th>\n",
       "      <th>c</th>\n",
       "    </tr>\n",
       "  </thead>\n",
       "  <tbody>\n",
       "    <tr>\n",
       "      <th>2000-01-01</th>\n",
       "      <td>0.844548</td>\n",
       "      <td>1.468936</td>\n",
       "      <td>0.882553</td>\n",
       "    </tr>\n",
       "    <tr>\n",
       "      <th>2000-01-02</th>\n",
       "      <td>-0.226764</td>\n",
       "      <td>-1.546553</td>\n",
       "      <td>0.501065</td>\n",
       "    </tr>\n",
       "    <tr>\n",
       "      <th>2000-01-03</th>\n",
       "      <td>1.172823</td>\n",
       "      <td>0.445329</td>\n",
       "      <td>-0.304587</td>\n",
       "    </tr>\n",
       "    <tr>\n",
       "      <th>2000-01-04</th>\n",
       "      <td>0.663638</td>\n",
       "      <td>-1.228805</td>\n",
       "      <td>0.543703</td>\n",
       "    </tr>\n",
       "    <tr>\n",
       "      <th>2000-01-05</th>\n",
       "      <td>-0.060712</td>\n",
       "      <td>-1.917687</td>\n",
       "      <td>-1.148560</td>\n",
       "    </tr>\n",
       "  </tbody>\n",
       "</table>\n",
       "</div>"
      ],
      "text/plain": [
       "                   a         b         c\n",
       "2000-01-01  0.844548  1.468936  0.882553\n",
       "2000-01-02 -0.226764 -1.546553  0.501065\n",
       "2000-01-03  1.172823  0.445329 -0.304587\n",
       "2000-01-04  0.663638 -1.228805  0.543703\n",
       "2000-01-05 -0.060712 -1.917687 -1.148560"
      ]
     },
     "execution_count": 40,
     "metadata": {},
     "output_type": "execute_result"
    }
   ],
   "source": [
    "df.columns = [x.lower() for x in df.columns]\n",
    "df[:5]"
   ]
  },
  {
   "cell_type": "markdown",
   "id": "ce88ee46",
   "metadata": {
    "slideshow": {
     "slide_type": "slide"
    }
   },
   "source": [
    "If you know you need a **NumPy** array, use `to_numpy()` or `numpy.asarray()` functions:"
   ]
  },
  {
   "cell_type": "code",
   "execution_count": 41,
   "id": "a5025e49-f888-4049-b277-63fb5653dcea",
   "metadata": {
    "slideshow": {
     "slide_type": "-"
    }
   },
   "outputs": [
    {
     "data": {
      "text/plain": [
       "array([ 0.33557066, -0.89968574, -0.6583013 ,  0.87119718, -0.66936681])"
      ]
     },
     "execution_count": 41,
     "metadata": {},
     "output_type": "execute_result"
    }
   ],
   "source": [
    "s = pd.Series(np.random.randn(5), index=['a', 'b', 'c', 'd', 'e'])\n",
    "\n",
    "s.to_numpy()"
   ]
  },
  {
   "cell_type": "code",
   "execution_count": 42,
   "id": "0c2af122-7572-4810-9fa6-126758956dde",
   "metadata": {
    "slideshow": {
     "slide_type": "-"
    }
   },
   "outputs": [
    {
     "data": {
      "text/plain": [
       "array([ 0.33557066, -0.89968574, -0.6583013 ,  0.87119718, -0.66936681])"
      ]
     },
     "execution_count": 42,
     "metadata": {},
     "output_type": "execute_result"
    }
   ],
   "source": [
    "np.asarray(s)"
   ]
  },
  {
   "cell_type": "markdown",
   "id": "9c1c2965",
   "metadata": {
    "slideshow": {
     "slide_type": "slide"
    }
   },
   "source": [
    "DataFrame has the methods `add()`, `sub()`, `mul()`, `div()` for carrying out element-wise summation, subtraction, multiplication, and division:"
   ]
  },
  {
   "cell_type": "code",
   "execution_count": 43,
   "id": "3d2a2f32-e2b9-40e1-aa7a-076159bafae7",
   "metadata": {
    "slideshow": {
     "slide_type": "-"
    }
   },
   "outputs": [
    {
     "data": {
      "text/html": [
       "<div>\n",
       "<style scoped>\n",
       "    .dataframe tbody tr th:only-of-type {\n",
       "        vertical-align: middle;\n",
       "    }\n",
       "\n",
       "    .dataframe tbody tr th {\n",
       "        vertical-align: top;\n",
       "    }\n",
       "\n",
       "    .dataframe thead th {\n",
       "        text-align: right;\n",
       "    }\n",
       "</style>\n",
       "<table border=\"1\" class=\"dataframe\">\n",
       "  <thead>\n",
       "    <tr style=\"text-align: right;\">\n",
       "      <th></th>\n",
       "      <th>one</th>\n",
       "      <th>two</th>\n",
       "      <th>three</th>\n",
       "    </tr>\n",
       "  </thead>\n",
       "  <tbody>\n",
       "    <tr>\n",
       "      <th>a</th>\n",
       "      <td>-1.890360</td>\n",
       "      <td>2.256092</td>\n",
       "      <td>NaN</td>\n",
       "    </tr>\n",
       "    <tr>\n",
       "      <th>b</th>\n",
       "      <td>0.000000</td>\n",
       "      <td>0.000000</td>\n",
       "      <td>0.000000</td>\n",
       "    </tr>\n",
       "    <tr>\n",
       "      <th>c</th>\n",
       "      <td>0.582507</td>\n",
       "      <td>1.555815</td>\n",
       "      <td>-0.724867</td>\n",
       "    </tr>\n",
       "    <tr>\n",
       "      <th>d</th>\n",
       "      <td>NaN</td>\n",
       "      <td>3.652482</td>\n",
       "      <td>0.623335</td>\n",
       "    </tr>\n",
       "  </tbody>\n",
       "</table>\n",
       "</div>"
      ],
      "text/plain": [
       "        one       two     three\n",
       "a -1.890360  2.256092       NaN\n",
       "b  0.000000  0.000000  0.000000\n",
       "c  0.582507  1.555815 -0.724867\n",
       "d       NaN  3.652482  0.623335"
      ]
     },
     "execution_count": 43,
     "metadata": {},
     "output_type": "execute_result"
    }
   ],
   "source": [
    "df = pd.DataFrame({\n",
    "    'one': pd.Series(np.random.randn(3), index=['a', 'b', 'c']),\n",
    "    'two': pd.Series(np.random.randn(4), index=['a', 'b', 'c', 'd']),\n",
    "    'three': pd.Series(np.random.randn(3), index=['b', 'c', 'd'])})\n",
    "\t\t\t\t\n",
    "row = df.iloc[1]\n",
    "column = df['two']\n",
    "\n",
    "df.sub(row, axis='columns')"
   ]
  },
  {
   "cell_type": "code",
   "execution_count": 44,
   "id": "bb47d1dd-e2a3-4e1d-b068-786d5e249db1",
   "metadata": {
    "slideshow": {
     "slide_type": "-"
    }
   },
   "outputs": [
    {
     "data": {
      "text/html": [
       "<div>\n",
       "<style scoped>\n",
       "    .dataframe tbody tr th:only-of-type {\n",
       "        vertical-align: middle;\n",
       "    }\n",
       "\n",
       "    .dataframe tbody tr th {\n",
       "        vertical-align: top;\n",
       "    }\n",
       "\n",
       "    .dataframe thead th {\n",
       "        text-align: right;\n",
       "    }\n",
       "</style>\n",
       "<table border=\"1\" class=\"dataframe\">\n",
       "  <thead>\n",
       "    <tr style=\"text-align: right;\">\n",
       "      <th></th>\n",
       "      <th>one</th>\n",
       "      <th>two</th>\n",
       "      <th>three</th>\n",
       "    </tr>\n",
       "  </thead>\n",
       "  <tbody>\n",
       "    <tr>\n",
       "      <th>a</th>\n",
       "      <td>-1.838819</td>\n",
       "      <td>0.0</td>\n",
       "      <td>NaN</td>\n",
       "    </tr>\n",
       "    <tr>\n",
       "      <th>b</th>\n",
       "      <td>2.307633</td>\n",
       "      <td>0.0</td>\n",
       "      <td>2.548193</td>\n",
       "    </tr>\n",
       "    <tr>\n",
       "      <th>c</th>\n",
       "      <td>1.334326</td>\n",
       "      <td>0.0</td>\n",
       "      <td>0.267511</td>\n",
       "    </tr>\n",
       "    <tr>\n",
       "      <th>d</th>\n",
       "      <td>NaN</td>\n",
       "      <td>0.0</td>\n",
       "      <td>-0.480954</td>\n",
       "    </tr>\n",
       "  </tbody>\n",
       "</table>\n",
       "</div>"
      ],
      "text/plain": [
       "        one  two     three\n",
       "a -1.838819  0.0       NaN\n",
       "b  2.307633  0.0  2.548193\n",
       "c  1.334326  0.0  0.267511\n",
       "d       NaN  0.0 -0.480954"
      ]
     },
     "execution_count": 44,
     "metadata": {},
     "output_type": "execute_result"
    }
   ],
   "source": [
    "df.sub(column, axis='index')"
   ]
  },
  {
   "cell_type": "markdown",
   "id": "dd94e5d4",
   "metadata": {
    "slideshow": {
     "slide_type": "slide"
    }
   },
   "source": [
    "#### Basic iterations\n",
    "\n",
    "The behavior of basic iteration over pandas objects depends on the type. When iterating over a Series, it is regarded as array-like, and basic iteration produces the values. DataFrames follow the dict-like convention of iterating over the *keys* of the objects.\n",
    "\n",
    "In short, basic iteration (`for i in object`) produces:\n",
    "\n",
    "* Series: values\n",
    "\t\n",
    "* DataFrame: column labels\n",
    "\n",
    "Thus, for example, **iterating** over a DataFrame gives the column names:"
   ]
  },
  {
   "cell_type": "code",
   "execution_count": 45,
   "id": "b0817724",
   "metadata": {
    "slideshow": {
     "slide_type": "-"
    }
   },
   "outputs": [
    {
     "name": "stdout",
     "output_type": "stream",
     "text": [
      "col1\n",
      "col2\n"
     ]
    }
   ],
   "source": [
    "df = pd.DataFrame({'col1': np.random.randn(3), 'col2': np.random.randn(3)}, index=['a', 'b', 'c'])\n",
    "for col in df:\n",
    "    print(col)"
   ]
  },
  {
   "cell_type": "markdown",
   "id": "57645254",
   "metadata": {
    "slideshow": {
     "slide_type": "-"
    }
   },
   "source": [
    "Pandas objects have also methods: `items()` to iterate over the (key, value) pairs and `iterrows()` to iterate over the rows as (index, Series) pairs.\n"
   ]
  },
  {
   "cell_type": "markdown",
   "id": "14f9d402",
   "metadata": {
    "slideshow": {
     "slide_type": "slide"
    }
   },
   "source": [
    "### Basic data manipulations\n"
   ]
  },
  {
   "cell_type": "markdown",
   "id": "58d15511",
   "metadata": {
    "slideshow": {
     "slide_type": "slide"
    }
   },
   "source": [
    "#### Reading and writing data\n",
    "\n",
    "Pandas provides the `read_csv()` function to **read** data stored as a CSV file into a Pandas DataFrame. Pandas supports many different file formats or data sources (csv, excel, sql, json, parquet, ...).\n",
    "\n",
    "<img src=\"Pandas_IO.pdf\"/>\n",
    "\n",
    "To **load** the titanic passenger data, available as a CSV file:"
   ]
  },
  {
   "cell_type": "code",
   "execution_count": 46,
   "id": "6c0d0e9b",
   "metadata": {
    "slideshow": {
     "slide_type": "-"
    }
   },
   "outputs": [],
   "source": [
    "titanic = pd.read_csv(\"../data/titanic.csv\")"
   ]
  },
  {
   "cell_type": "markdown",
   "id": "5d46df48",
   "metadata": {
    "slideshow": {
     "slide_type": "-"
    }
   },
   "source": [
    "The equivalent read function for Excel data:\n"
   ]
  },
  {
   "cell_type": "code",
   "execution_count": 48,
   "id": "306ce264",
   "metadata": {
    "slideshow": {
     "slide_type": "-"
    }
   },
   "outputs": [],
   "source": [
    "titanic = pd.read_excel('../data/titanic.xlsx', sheet_name='passengers')"
   ]
  },
  {
   "cell_type": "markdown",
   "id": "3f758257",
   "metadata": {
    "slideshow": {
     "slide_type": "slide"
    }
   },
   "source": [
    "The `header=None` option **avoid** to read the column names, while with the `sep` option we can specify the delimiter used to separate values in the file.\n",
    "\n",
    "In order to **write** data to CSV file:"
   ]
  },
  {
   "cell_type": "code",
   "execution_count": 47,
   "id": "afc078b8",
   "metadata": {
    "slideshow": {
     "slide_type": "-"
    }
   },
   "outputs": [],
   "source": [
    "titanic.to_csv('../data/titanic_new.csv', index=False)"
   ]
  },
  {
   "cell_type": "markdown",
   "id": "581755fd",
   "metadata": {
    "slideshow": {
     "slide_type": "-"
    }
   },
   "source": [
    "Similarly, to **write** data to Excel file:"
   ]
  },
  {
   "cell_type": "code",
   "execution_count": 49,
   "id": "1ac50e6f",
   "metadata": {
    "slideshow": {
     "slide_type": "-"
    }
   },
   "outputs": [],
   "source": [
    "titanic.to_excel('titanic_new.xlsx', sheet_name='passengers', index=False)"
   ]
  },
  {
   "cell_type": "markdown",
   "id": "c3f67152",
   "metadata": {
    "slideshow": {
     "slide_type": "-"
    }
   },
   "source": [
    "The `index=False` option **does not** write the row names in the file.\n"
   ]
  },
  {
   "cell_type": "markdown",
   "id": "06346c3f",
   "metadata": {
    "slideshow": {
     "slide_type": "slide"
    }
   },
   "source": [
    "#### Select a subset of a DataFrame\n",
    "\n",
    "\\justifying <img src=\"Pandas_Subset.pdf\"/>\n",
    "\n",
    "To **select** a single column, use square brackets `[ ]` with the column name of the column of interest:"
   ]
  },
  {
   "cell_type": "code",
   "execution_count": 51,
   "id": "2cec4495",
   "metadata": {
    "slideshow": {
     "slide_type": "-"
    }
   },
   "outputs": [
    {
     "data": {
      "text/plain": [
       "0      22.0\n",
       "1      38.0\n",
       "2      26.0\n",
       "3      35.0\n",
       "4      35.0\n",
       "       ... \n",
       "886    27.0\n",
       "887    19.0\n",
       "888     NaN\n",
       "889    26.0\n",
       "890    32.0\n",
       "Name: Age, Length: 891, dtype: float64"
      ]
     },
     "execution_count": 51,
     "metadata": {},
     "output_type": "execute_result"
    }
   ],
   "source": [
    "titanic = pd.read_csv(\"../data/titanic.csv\")\n",
    "\n",
    "ages = titanic[\"Age\"]\n",
    "ages"
   ]
  },
  {
   "cell_type": "code",
   "execution_count": 52,
   "id": "5e1d49af-572e-460f-8be7-70d1ac5df8fc",
   "metadata": {},
   "outputs": [
    {
     "data": {
      "text/html": [
       "<div>\n",
       "<style scoped>\n",
       "    .dataframe tbody tr th:only-of-type {\n",
       "        vertical-align: middle;\n",
       "    }\n",
       "\n",
       "    .dataframe tbody tr th {\n",
       "        vertical-align: top;\n",
       "    }\n",
       "\n",
       "    .dataframe thead th {\n",
       "        text-align: right;\n",
       "    }\n",
       "</style>\n",
       "<table border=\"1\" class=\"dataframe\">\n",
       "  <thead>\n",
       "    <tr style=\"text-align: right;\">\n",
       "      <th></th>\n",
       "      <th>Age</th>\n",
       "      <th>Sex</th>\n",
       "    </tr>\n",
       "  </thead>\n",
       "  <tbody>\n",
       "    <tr>\n",
       "      <th>0</th>\n",
       "      <td>22.0</td>\n",
       "      <td>male</td>\n",
       "    </tr>\n",
       "    <tr>\n",
       "      <th>1</th>\n",
       "      <td>38.0</td>\n",
       "      <td>female</td>\n",
       "    </tr>\n",
       "    <tr>\n",
       "      <th>2</th>\n",
       "      <td>26.0</td>\n",
       "      <td>female</td>\n",
       "    </tr>\n",
       "    <tr>\n",
       "      <th>3</th>\n",
       "      <td>35.0</td>\n",
       "      <td>female</td>\n",
       "    </tr>\n",
       "    <tr>\n",
       "      <th>4</th>\n",
       "      <td>35.0</td>\n",
       "      <td>male</td>\n",
       "    </tr>\n",
       "    <tr>\n",
       "      <th>...</th>\n",
       "      <td>...</td>\n",
       "      <td>...</td>\n",
       "    </tr>\n",
       "    <tr>\n",
       "      <th>886</th>\n",
       "      <td>27.0</td>\n",
       "      <td>male</td>\n",
       "    </tr>\n",
       "    <tr>\n",
       "      <th>887</th>\n",
       "      <td>19.0</td>\n",
       "      <td>female</td>\n",
       "    </tr>\n",
       "    <tr>\n",
       "      <th>888</th>\n",
       "      <td>NaN</td>\n",
       "      <td>female</td>\n",
       "    </tr>\n",
       "    <tr>\n",
       "      <th>889</th>\n",
       "      <td>26.0</td>\n",
       "      <td>male</td>\n",
       "    </tr>\n",
       "    <tr>\n",
       "      <th>890</th>\n",
       "      <td>32.0</td>\n",
       "      <td>male</td>\n",
       "    </tr>\n",
       "  </tbody>\n",
       "</table>\n",
       "<p>891 rows × 2 columns</p>\n",
       "</div>"
      ],
      "text/plain": [
       "      Age     Sex\n",
       "0    22.0    male\n",
       "1    38.0  female\n",
       "2    26.0  female\n",
       "3    35.0  female\n",
       "4    35.0    male\n",
       "..    ...     ...\n",
       "886  27.0    male\n",
       "887  19.0  female\n",
       "888   NaN  female\n",
       "889  26.0    male\n",
       "890  32.0    male\n",
       "\n",
       "[891 rows x 2 columns]"
      ]
     },
     "execution_count": 52,
     "metadata": {},
     "output_type": "execute_result"
    }
   ],
   "source": [
    "age_sex = titanic[[\"Age\", \"Sex\"]]\n",
    "age_sex"
   ]
  },
  {
   "cell_type": "markdown",
   "id": "55a130a6",
   "metadata": {
    "slideshow": {
     "slide_type": "-"
    }
   },
   "source": [
    "As a single column is selected, the returned object is a Pandas DataFrame. \n",
    "\n",
    "To select multiple columns, use a **list** of column names within the selection brackets `[ ]`. The returned data type is a Pandas DataFrame.\n"
   ]
  },
  {
   "cell_type": "markdown",
   "id": "c1ba0366",
   "metadata": {
    "slideshow": {
     "slide_type": "slide"
    }
   },
   "source": [
    "To **select** rows based on a conditional expression, it suffices to use a condition **inside** the selection brackets `[ ]`:"
   ]
  },
  {
   "cell_type": "code",
   "execution_count": 53,
   "id": "fbd3a8dd",
   "metadata": {
    "slideshow": {
     "slide_type": "-"
    }
   },
   "outputs": [],
   "source": [
    "above_35 = titanic[titanic[\"Age\"] > 35]\n",
    "class_23 = titanic[(titanic[\"Pclass\"] == 2) | (titanic[\"Pclass\"] == 3)]"
   ]
  },
  {
   "cell_type": "markdown",
   "id": "6de5471b",
   "metadata": {
    "slideshow": {
     "slide_type": "-"
    }
   },
   "source": [
    "The condition *inside* the selection brackets `titanic[\"Age\"] > 35` checks for which rows the Age column has a value **larger** than 35. All the others conditions (\\$ >=, \\$ ==, \\$ !=, \\$ <, \\$ <=) can be used. \n",
    "\n",
    "When **combining** multiple conditional statements, each condition must be surrounded by parentheses `()`. Moreover, you can not use or/and but need to use the **or** operator `|` and the **and** operator `&`.\n"
   ]
  },
  {
   "cell_type": "markdown",
   "id": "4b0ef9cd",
   "metadata": {
    "slideshow": {
     "slide_type": "slide"
    }
   },
   "source": [
    "It is also possible to:\n",
    "* **select** specific rows and/or columns using `loc` when using the row and column names;\n",
    "\t\n",
    "* **select** specific rows and/or columns using `iloc` when using the positions in the table;\n",
    "\t\n",
    "* **assign** new values to a selection based on `loc`/`iloc`.\n"
   ]
  },
  {
   "cell_type": "code",
   "execution_count": 54,
   "id": "08dc800f",
   "metadata": {
    "slideshow": {
     "slide_type": "-"
    }
   },
   "outputs": [],
   "source": [
    "adult_names = titanic.loc[titanic[\"Age\"] > 35, \"Name\"]\n",
    "some_passengers = titanic.iloc[9:25, 2:5]\n",
    "titanic.iloc[0:3, 3] = \"anonymous\""
   ]
  },
  {
   "cell_type": "markdown",
   "id": "2cd7223b",
   "metadata": {
    "slideshow": {
     "slide_type": "slide"
    }
   },
   "source": [
    "#### Deleting some rows or columns\n",
    "\n",
    "<img src=\"Pandas_Drop.pdf\"/>\n",
    "\n",
    "In order to **delete** a row or a column(or both) from a DataFrame, you can use:"
   ]
  },
  {
   "cell_type": "code",
   "execution_count": 55,
   "id": "67119a11",
   "metadata": {
    "slideshow": {
     "slide_type": "-"
    }
   },
   "outputs": [],
   "source": [
    "# Removing two specified columns\n",
    "new_df1 = titanic.drop(['Age', 'Sex'], axis=1) \n",
    "\n",
    "# Removing two specified rows\n",
    "new_df2 = titanic.drop([0, 1], axis=0)\n",
    "\n",
    "# Removing both a row and a column\n",
    "new_df3 = titanic.drop(index=20, columns='Sex')"
   ]
  },
  {
   "cell_type": "markdown",
   "id": "3da63220",
   "metadata": {
    "slideshow": {
     "slide_type": "slide"
    }
   },
   "source": [
    "#### Creating new columns derived from existing columns\n",
    "\n",
    "<img src=\"Pandas_NewColumn.pdf\"/>\n",
    "\n",
    "It is possible to **create** new column by performing mathematical operation between other columns or by renaming the columns:"
   ]
  },
  {
   "cell_type": "code",
   "execution_count": 58,
   "id": "5e2a385f",
   "metadata": {
    "slideshow": {
     "slide_type": "-"
    }
   },
   "outputs": [
    {
     "data": {
      "text/html": [
       "<div>\n",
       "<style scoped>\n",
       "    .dataframe tbody tr th:only-of-type {\n",
       "        vertical-align: middle;\n",
       "    }\n",
       "\n",
       "    .dataframe tbody tr th {\n",
       "        vertical-align: top;\n",
       "    }\n",
       "\n",
       "    .dataframe thead th {\n",
       "        text-align: right;\n",
       "    }\n",
       "</style>\n",
       "<table border=\"1\" class=\"dataframe\">\n",
       "  <thead>\n",
       "    <tr style=\"text-align: right;\">\n",
       "      <th></th>\n",
       "      <th>BETR801</th>\n",
       "      <th>FR04014</th>\n",
       "      <th>Roma</th>\n",
       "      <th>col4</th>\n",
       "      <th>col5</th>\n",
       "    </tr>\n",
       "  </thead>\n",
       "  <tbody>\n",
       "    <tr>\n",
       "      <th>0</th>\n",
       "      <td>0.844548</td>\n",
       "      <td>1.468936</td>\n",
       "      <td>0.882553</td>\n",
       "      <td>1.589439</td>\n",
       "      <td>1.664417</td>\n",
       "    </tr>\n",
       "    <tr>\n",
       "      <th>1</th>\n",
       "      <td>-0.226764</td>\n",
       "      <td>-1.546553</td>\n",
       "      <td>0.501065</td>\n",
       "      <td>-0.426770</td>\n",
       "      <td>-3.086532</td>\n",
       "    </tr>\n",
       "    <tr>\n",
       "      <th>2</th>\n",
       "      <td>1.172823</td>\n",
       "      <td>0.445329</td>\n",
       "      <td>-0.304587</td>\n",
       "      <td>2.207253</td>\n",
       "      <td>-1.462075</td>\n",
       "    </tr>\n",
       "    <tr>\n",
       "      <th>3</th>\n",
       "      <td>0.663638</td>\n",
       "      <td>-1.228805</td>\n",
       "      <td>0.543703</td>\n",
       "      <td>1.248967</td>\n",
       "      <td>-2.260067</td>\n",
       "    </tr>\n",
       "    <tr>\n",
       "      <th>4</th>\n",
       "      <td>-0.060712</td>\n",
       "      <td>-1.917687</td>\n",
       "      <td>-1.148560</td>\n",
       "      <td>-0.114260</td>\n",
       "      <td>1.669645</td>\n",
       "    </tr>\n",
       "    <tr>\n",
       "      <th>5</th>\n",
       "      <td>0.803664</td>\n",
       "      <td>-1.823464</td>\n",
       "      <td>-0.563253</td>\n",
       "      <td>1.512496</td>\n",
       "      <td>3.237380</td>\n",
       "    </tr>\n",
       "    <tr>\n",
       "      <th>6</th>\n",
       "      <td>1.318961</td>\n",
       "      <td>0.516707</td>\n",
       "      <td>-0.970342</td>\n",
       "      <td>2.482285</td>\n",
       "      <td>-0.532500</td>\n",
       "    </tr>\n",
       "    <tr>\n",
       "      <th>7</th>\n",
       "      <td>0.322948</td>\n",
       "      <td>-1.227461</td>\n",
       "      <td>0.343019</td>\n",
       "      <td>0.607788</td>\n",
       "      <td>-3.578405</td>\n",
       "    </tr>\n",
       "  </tbody>\n",
       "</table>\n",
       "</div>"
      ],
      "text/plain": [
       "    BETR801   FR04014      Roma      col4      col5\n",
       "0  0.844548  1.468936  0.882553  1.589439  1.664417\n",
       "1 -0.226764 -1.546553  0.501065 -0.426770 -3.086532\n",
       "2  1.172823  0.445329 -0.304587  2.207253 -1.462075\n",
       "3  0.663638 -1.228805  0.543703  1.248967 -2.260067\n",
       "4 -0.060712 -1.917687 -1.148560 -0.114260  1.669645\n",
       "5  0.803664 -1.823464 -0.563253  1.512496  3.237380\n",
       "6  1.318961  0.516707 -0.970342  2.482285 -0.532500\n",
       "7  0.322948 -1.227461  0.343019  0.607788 -3.578405"
      ]
     },
     "execution_count": 58,
     "metadata": {},
     "output_type": "execute_result"
    }
   ],
   "source": [
    "table = pd.read_csv(\"../data/mydata.csv\")\n",
    "table[\"col4\"] = table[\"col1\"] * 1.882\n",
    "table[\"col5\"] = table[\"col2\"] / table[\"col3\"]\n",
    "\n",
    "table_new = table.rename(\n",
    "  columns={\"col1\": \"BETR801\",\n",
    "           \"col2\": \"FR04014\",\n",
    "           \"col3\": \"Roma\"})\n",
    "\n",
    "table_new"
   ]
  },
  {
   "cell_type": "markdown",
   "id": "9c35eb55",
   "metadata": {
    "slideshow": {
     "slide_type": "slide"
    }
   },
   "source": [
    "#### Evaluating summary statistics\n",
    "\n",
    "<img src=\"Pandas_Aggregate.pdf\"/>\n",
    "\n",
    "One powerful characteristics is the ability of **evaluating** aggregating statistics, also grouped:"
   ]
  },
  {
   "cell_type": "code",
   "execution_count": 59,
   "id": "54f3fbcb-fe71-49e3-9214-0c63d40dce91",
   "metadata": {
    "slideshow": {
     "slide_type": "-"
    }
   },
   "outputs": [
    {
     "data": {
      "text/plain": [
       "29.69911764705882"
      ]
     },
     "execution_count": 59,
     "metadata": {},
     "output_type": "execute_result"
    }
   ],
   "source": [
    "titanic = pd.read_csv(\"../data/titanic.csv\")\n",
    "\n",
    "titanic[\"Age\"].mean()"
   ]
  },
  {
   "cell_type": "code",
   "execution_count": 60,
   "id": "fab2b557-de4a-407c-9457-ac8a971208d0",
   "metadata": {
    "slideshow": {
     "slide_type": "-"
    }
   },
   "outputs": [
    {
     "data": {
      "text/plain": [
       "Age     28.0000\n",
       "Fare    14.4542\n",
       "dtype: float64"
      ]
     },
     "execution_count": 60,
     "metadata": {},
     "output_type": "execute_result"
    }
   ],
   "source": [
    "titanic[[\"Age\", \"Fare\"]].median()"
   ]
  },
  {
   "cell_type": "code",
   "execution_count": 61,
   "id": "e7d0eadb-1997-41cb-a071-0961e412e076",
   "metadata": {
    "slideshow": {
     "slide_type": "-"
    }
   },
   "outputs": [
    {
     "data": {
      "text/html": [
       "<div>\n",
       "<style scoped>\n",
       "    .dataframe tbody tr th:only-of-type {\n",
       "        vertical-align: middle;\n",
       "    }\n",
       "\n",
       "    .dataframe tbody tr th {\n",
       "        vertical-align: top;\n",
       "    }\n",
       "\n",
       "    .dataframe thead th {\n",
       "        text-align: right;\n",
       "    }\n",
       "</style>\n",
       "<table border=\"1\" class=\"dataframe\">\n",
       "  <thead>\n",
       "    <tr style=\"text-align: right;\">\n",
       "      <th></th>\n",
       "      <th>Age</th>\n",
       "      <th>Fare</th>\n",
       "    </tr>\n",
       "  </thead>\n",
       "  <tbody>\n",
       "    <tr>\n",
       "      <th>min</th>\n",
       "      <td>0.420000</td>\n",
       "      <td>0.000000</td>\n",
       "    </tr>\n",
       "    <tr>\n",
       "      <th>max</th>\n",
       "      <td>80.000000</td>\n",
       "      <td>512.329200</td>\n",
       "    </tr>\n",
       "    <tr>\n",
       "      <th>median</th>\n",
       "      <td>28.000000</td>\n",
       "      <td>14.454200</td>\n",
       "    </tr>\n",
       "    <tr>\n",
       "      <th>skew</th>\n",
       "      <td>0.389108</td>\n",
       "      <td>NaN</td>\n",
       "    </tr>\n",
       "    <tr>\n",
       "      <th>mean</th>\n",
       "      <td>NaN</td>\n",
       "      <td>32.204208</td>\n",
       "    </tr>\n",
       "  </tbody>\n",
       "</table>\n",
       "</div>"
      ],
      "text/plain": [
       "              Age        Fare\n",
       "min      0.420000    0.000000\n",
       "max     80.000000  512.329200\n",
       "median  28.000000   14.454200\n",
       "skew     0.389108         NaN\n",
       "mean          NaN   32.204208"
      ]
     },
     "execution_count": 61,
     "metadata": {},
     "output_type": "execute_result"
    }
   ],
   "source": [
    "titanic.agg({'Age': ['min', 'max', 'median', 'skew'],\n",
    "            'Fare': ['min', 'max', 'median', 'mean']})"
   ]
  },
  {
   "cell_type": "code",
   "execution_count": 62,
   "id": "3e0442b4-f072-406f-afb8-5c9616f3fa6b",
   "metadata": {
    "slideshow": {
     "slide_type": "-"
    }
   },
   "outputs": [
    {
     "data": {
      "text/html": [
       "<div>\n",
       "<style scoped>\n",
       "    .dataframe tbody tr th:only-of-type {\n",
       "        vertical-align: middle;\n",
       "    }\n",
       "\n",
       "    .dataframe tbody tr th {\n",
       "        vertical-align: top;\n",
       "    }\n",
       "\n",
       "    .dataframe thead th {\n",
       "        text-align: right;\n",
       "    }\n",
       "</style>\n",
       "<table border=\"1\" class=\"dataframe\">\n",
       "  <thead>\n",
       "    <tr style=\"text-align: right;\">\n",
       "      <th></th>\n",
       "      <th>Age</th>\n",
       "    </tr>\n",
       "    <tr>\n",
       "      <th>Sex</th>\n",
       "      <th></th>\n",
       "    </tr>\n",
       "  </thead>\n",
       "  <tbody>\n",
       "    <tr>\n",
       "      <th>female</th>\n",
       "      <td>27.915709</td>\n",
       "    </tr>\n",
       "    <tr>\n",
       "      <th>male</th>\n",
       "      <td>30.726645</td>\n",
       "    </tr>\n",
       "  </tbody>\n",
       "</table>\n",
       "</div>"
      ],
      "text/plain": [
       "              Age\n",
       "Sex              \n",
       "female  27.915709\n",
       "male    30.726645"
      ]
     },
     "execution_count": 62,
     "metadata": {},
     "output_type": "execute_result"
    }
   ],
   "source": [
    "titanic[[\"Sex\", \"Age\"]].groupby(\"Sex\").mean()"
   ]
  },
  {
   "cell_type": "code",
   "execution_count": 63,
   "id": "48919f0b-7284-4984-8275-5ceba354b826",
   "metadata": {
    "slideshow": {
     "slide_type": "-"
    }
   },
   "outputs": [
    {
     "data": {
      "text/plain": [
       "Pclass\n",
       "3    491\n",
       "1    216\n",
       "2    184\n",
       "Name: count, dtype: int64"
      ]
     },
     "execution_count": 63,
     "metadata": {},
     "output_type": "execute_result"
    }
   ],
   "source": [
    "titanic[\"Pclass\"].value_counts()"
   ]
  },
  {
   "cell_type": "markdown",
   "id": "8d2d391f",
   "metadata": {
    "slideshow": {
     "slide_type": "slide"
    }
   },
   "source": [
    "The `groupby` operation allows to make **aggregation** conditionally on some label or index.\n",
    "\n",
    "The aggregating statistic can be calculated for multiple columns at the same time by using the `describe` function:"
   ]
  },
  {
   "cell_type": "code",
   "execution_count": 64,
   "id": "23149cc0",
   "metadata": {
    "slideshow": {
     "slide_type": "-"
    }
   },
   "outputs": [
    {
     "data": {
      "text/html": [
       "<div>\n",
       "<style scoped>\n",
       "    .dataframe tbody tr th:only-of-type {\n",
       "        vertical-align: middle;\n",
       "    }\n",
       "\n",
       "    .dataframe tbody tr th {\n",
       "        vertical-align: top;\n",
       "    }\n",
       "\n",
       "    .dataframe thead th {\n",
       "        text-align: right;\n",
       "    }\n",
       "</style>\n",
       "<table border=\"1\" class=\"dataframe\">\n",
       "  <thead>\n",
       "    <tr style=\"text-align: right;\">\n",
       "      <th></th>\n",
       "      <th>Age</th>\n",
       "      <th>Fare</th>\n",
       "    </tr>\n",
       "  </thead>\n",
       "  <tbody>\n",
       "    <tr>\n",
       "      <th>count</th>\n",
       "      <td>714.000000</td>\n",
       "      <td>891.000000</td>\n",
       "    </tr>\n",
       "    <tr>\n",
       "      <th>mean</th>\n",
       "      <td>29.699118</td>\n",
       "      <td>32.204208</td>\n",
       "    </tr>\n",
       "    <tr>\n",
       "      <th>std</th>\n",
       "      <td>14.526497</td>\n",
       "      <td>49.693429</td>\n",
       "    </tr>\n",
       "    <tr>\n",
       "      <th>min</th>\n",
       "      <td>0.420000</td>\n",
       "      <td>0.000000</td>\n",
       "    </tr>\n",
       "    <tr>\n",
       "      <th>25%</th>\n",
       "      <td>20.125000</td>\n",
       "      <td>7.910400</td>\n",
       "    </tr>\n",
       "    <tr>\n",
       "      <th>50%</th>\n",
       "      <td>28.000000</td>\n",
       "      <td>14.454200</td>\n",
       "    </tr>\n",
       "    <tr>\n",
       "      <th>75%</th>\n",
       "      <td>38.000000</td>\n",
       "      <td>31.000000</td>\n",
       "    </tr>\n",
       "    <tr>\n",
       "      <th>max</th>\n",
       "      <td>80.000000</td>\n",
       "      <td>512.329200</td>\n",
       "    </tr>\n",
       "  </tbody>\n",
       "</table>\n",
       "</div>"
      ],
      "text/plain": [
       "              Age        Fare\n",
       "count  714.000000  891.000000\n",
       "mean    29.699118   32.204208\n",
       "std     14.526497   49.693429\n",
       "min      0.420000    0.000000\n",
       "25%     20.125000    7.910400\n",
       "50%     28.000000   14.454200\n",
       "75%     38.000000   31.000000\n",
       "max     80.000000  512.329200"
      ]
     },
     "execution_count": 64,
     "metadata": {},
     "output_type": "execute_result"
    }
   ],
   "source": [
    "titanic[[\"Age\", \"Fare\"]].describe()"
   ]
  },
  {
   "cell_type": "markdown",
   "id": "4db96e04",
   "metadata": {
    "slideshow": {
     "slide_type": "slide"
    }
   },
   "source": [
    "#### Sorting and reshaping\n",
    "\n",
    "<img src=\"Pandas_Reshape.pdf\"/>\n",
    "\n",
    "If we are interested in **sorting** values in a DataFrame:"
   ]
  },
  {
   "cell_type": "code",
   "execution_count": 65,
   "id": "9506ca49-ca52-486b-825b-29698266329d",
   "metadata": {
    "slideshow": {
     "slide_type": "-"
    }
   },
   "outputs": [
    {
     "data": {
      "text/html": [
       "<div>\n",
       "<style scoped>\n",
       "    .dataframe tbody tr th:only-of-type {\n",
       "        vertical-align: middle;\n",
       "    }\n",
       "\n",
       "    .dataframe tbody tr th {\n",
       "        vertical-align: top;\n",
       "    }\n",
       "\n",
       "    .dataframe thead th {\n",
       "        text-align: right;\n",
       "    }\n",
       "</style>\n",
       "<table border=\"1\" class=\"dataframe\">\n",
       "  <thead>\n",
       "    <tr style=\"text-align: right;\">\n",
       "      <th></th>\n",
       "      <th>PassengerId</th>\n",
       "      <th>Survived</th>\n",
       "      <th>Pclass</th>\n",
       "      <th>Name</th>\n",
       "      <th>Sex</th>\n",
       "      <th>Age</th>\n",
       "      <th>SibSp</th>\n",
       "      <th>Parch</th>\n",
       "      <th>Ticket</th>\n",
       "      <th>Fare</th>\n",
       "      <th>Cabin</th>\n",
       "      <th>Embarked</th>\n",
       "    </tr>\n",
       "  </thead>\n",
       "  <tbody>\n",
       "    <tr>\n",
       "      <th>803</th>\n",
       "      <td>804</td>\n",
       "      <td>1</td>\n",
       "      <td>3</td>\n",
       "      <td>Thomas, Master. Assad Alexander</td>\n",
       "      <td>male</td>\n",
       "      <td>0.42</td>\n",
       "      <td>0</td>\n",
       "      <td>1</td>\n",
       "      <td>2625</td>\n",
       "      <td>8.5167</td>\n",
       "      <td>NaN</td>\n",
       "      <td>C</td>\n",
       "    </tr>\n",
       "    <tr>\n",
       "      <th>755</th>\n",
       "      <td>756</td>\n",
       "      <td>1</td>\n",
       "      <td>2</td>\n",
       "      <td>Hamalainen, Master. Viljo</td>\n",
       "      <td>male</td>\n",
       "      <td>0.67</td>\n",
       "      <td>1</td>\n",
       "      <td>1</td>\n",
       "      <td>250649</td>\n",
       "      <td>14.5000</td>\n",
       "      <td>NaN</td>\n",
       "      <td>S</td>\n",
       "    </tr>\n",
       "    <tr>\n",
       "      <th>644</th>\n",
       "      <td>645</td>\n",
       "      <td>1</td>\n",
       "      <td>3</td>\n",
       "      <td>Baclini, Miss. Eugenie</td>\n",
       "      <td>female</td>\n",
       "      <td>0.75</td>\n",
       "      <td>2</td>\n",
       "      <td>1</td>\n",
       "      <td>2666</td>\n",
       "      <td>19.2583</td>\n",
       "      <td>NaN</td>\n",
       "      <td>C</td>\n",
       "    </tr>\n",
       "    <tr>\n",
       "      <th>469</th>\n",
       "      <td>470</td>\n",
       "      <td>1</td>\n",
       "      <td>3</td>\n",
       "      <td>Baclini, Miss. Helene Barbara</td>\n",
       "      <td>female</td>\n",
       "      <td>0.75</td>\n",
       "      <td>2</td>\n",
       "      <td>1</td>\n",
       "      <td>2666</td>\n",
       "      <td>19.2583</td>\n",
       "      <td>NaN</td>\n",
       "      <td>C</td>\n",
       "    </tr>\n",
       "    <tr>\n",
       "      <th>78</th>\n",
       "      <td>79</td>\n",
       "      <td>1</td>\n",
       "      <td>2</td>\n",
       "      <td>Caldwell, Master. Alden Gates</td>\n",
       "      <td>male</td>\n",
       "      <td>0.83</td>\n",
       "      <td>0</td>\n",
       "      <td>2</td>\n",
       "      <td>248738</td>\n",
       "      <td>29.0000</td>\n",
       "      <td>NaN</td>\n",
       "      <td>S</td>\n",
       "    </tr>\n",
       "    <tr>\n",
       "      <th>...</th>\n",
       "      <td>...</td>\n",
       "      <td>...</td>\n",
       "      <td>...</td>\n",
       "      <td>...</td>\n",
       "      <td>...</td>\n",
       "      <td>...</td>\n",
       "      <td>...</td>\n",
       "      <td>...</td>\n",
       "      <td>...</td>\n",
       "      <td>...</td>\n",
       "      <td>...</td>\n",
       "      <td>...</td>\n",
       "    </tr>\n",
       "    <tr>\n",
       "      <th>859</th>\n",
       "      <td>860</td>\n",
       "      <td>0</td>\n",
       "      <td>3</td>\n",
       "      <td>Razi, Mr. Raihed</td>\n",
       "      <td>male</td>\n",
       "      <td>NaN</td>\n",
       "      <td>0</td>\n",
       "      <td>0</td>\n",
       "      <td>2629</td>\n",
       "      <td>7.2292</td>\n",
       "      <td>NaN</td>\n",
       "      <td>C</td>\n",
       "    </tr>\n",
       "    <tr>\n",
       "      <th>863</th>\n",
       "      <td>864</td>\n",
       "      <td>0</td>\n",
       "      <td>3</td>\n",
       "      <td>Sage, Miss. Dorothy Edith \"Dolly\"</td>\n",
       "      <td>female</td>\n",
       "      <td>NaN</td>\n",
       "      <td>8</td>\n",
       "      <td>2</td>\n",
       "      <td>CA. 2343</td>\n",
       "      <td>69.5500</td>\n",
       "      <td>NaN</td>\n",
       "      <td>S</td>\n",
       "    </tr>\n",
       "    <tr>\n",
       "      <th>868</th>\n",
       "      <td>869</td>\n",
       "      <td>0</td>\n",
       "      <td>3</td>\n",
       "      <td>van Melkebeke, Mr. Philemon</td>\n",
       "      <td>male</td>\n",
       "      <td>NaN</td>\n",
       "      <td>0</td>\n",
       "      <td>0</td>\n",
       "      <td>345777</td>\n",
       "      <td>9.5000</td>\n",
       "      <td>NaN</td>\n",
       "      <td>S</td>\n",
       "    </tr>\n",
       "    <tr>\n",
       "      <th>878</th>\n",
       "      <td>879</td>\n",
       "      <td>0</td>\n",
       "      <td>3</td>\n",
       "      <td>Laleff, Mr. Kristo</td>\n",
       "      <td>male</td>\n",
       "      <td>NaN</td>\n",
       "      <td>0</td>\n",
       "      <td>0</td>\n",
       "      <td>349217</td>\n",
       "      <td>7.8958</td>\n",
       "      <td>NaN</td>\n",
       "      <td>S</td>\n",
       "    </tr>\n",
       "    <tr>\n",
       "      <th>888</th>\n",
       "      <td>889</td>\n",
       "      <td>0</td>\n",
       "      <td>3</td>\n",
       "      <td>Johnston, Miss. Catherine Helen \"Carrie\"</td>\n",
       "      <td>female</td>\n",
       "      <td>NaN</td>\n",
       "      <td>1</td>\n",
       "      <td>2</td>\n",
       "      <td>W./C. 6607</td>\n",
       "      <td>23.4500</td>\n",
       "      <td>NaN</td>\n",
       "      <td>S</td>\n",
       "    </tr>\n",
       "  </tbody>\n",
       "</table>\n",
       "<p>891 rows × 12 columns</p>\n",
       "</div>"
      ],
      "text/plain": [
       "     PassengerId  Survived  Pclass                                      Name  \\\n",
       "803          804         1       3           Thomas, Master. Assad Alexander   \n",
       "755          756         1       2                 Hamalainen, Master. Viljo   \n",
       "644          645         1       3                    Baclini, Miss. Eugenie   \n",
       "469          470         1       3             Baclini, Miss. Helene Barbara   \n",
       "78            79         1       2             Caldwell, Master. Alden Gates   \n",
       "..           ...       ...     ...                                       ...   \n",
       "859          860         0       3                          Razi, Mr. Raihed   \n",
       "863          864         0       3         Sage, Miss. Dorothy Edith \"Dolly\"   \n",
       "868          869         0       3               van Melkebeke, Mr. Philemon   \n",
       "878          879         0       3                        Laleff, Mr. Kristo   \n",
       "888          889         0       3  Johnston, Miss. Catherine Helen \"Carrie\"   \n",
       "\n",
       "        Sex   Age  SibSp  Parch      Ticket     Fare Cabin Embarked  \n",
       "803    male  0.42      0      1        2625   8.5167   NaN        C  \n",
       "755    male  0.67      1      1      250649  14.5000   NaN        S  \n",
       "644  female  0.75      2      1        2666  19.2583   NaN        C  \n",
       "469  female  0.75      2      1        2666  19.2583   NaN        C  \n",
       "78     male  0.83      0      2      248738  29.0000   NaN        S  \n",
       "..      ...   ...    ...    ...         ...      ...   ...      ...  \n",
       "859    male   NaN      0      0        2629   7.2292   NaN        C  \n",
       "863  female   NaN      8      2    CA. 2343  69.5500   NaN        S  \n",
       "868    male   NaN      0      0      345777   9.5000   NaN        S  \n",
       "878    male   NaN      0      0      349217   7.8958   NaN        S  \n",
       "888  female   NaN      1      2  W./C. 6607  23.4500   NaN        S  \n",
       "\n",
       "[891 rows x 12 columns]"
      ]
     },
     "execution_count": 65,
     "metadata": {},
     "output_type": "execute_result"
    }
   ],
   "source": [
    "titanic.sort_values(by=\"Age\")"
   ]
  },
  {
   "cell_type": "code",
   "execution_count": 66,
   "id": "f4b61fa5-68cd-42d7-a97e-feb61953082a",
   "metadata": {
    "slideshow": {
     "slide_type": "-"
    }
   },
   "outputs": [
    {
     "data": {
      "text/html": [
       "<div>\n",
       "<style scoped>\n",
       "    .dataframe tbody tr th:only-of-type {\n",
       "        vertical-align: middle;\n",
       "    }\n",
       "\n",
       "    .dataframe tbody tr th {\n",
       "        vertical-align: top;\n",
       "    }\n",
       "\n",
       "    .dataframe thead th {\n",
       "        text-align: right;\n",
       "    }\n",
       "</style>\n",
       "<table border=\"1\" class=\"dataframe\">\n",
       "  <thead>\n",
       "    <tr style=\"text-align: right;\">\n",
       "      <th></th>\n",
       "      <th>PassengerId</th>\n",
       "      <th>Survived</th>\n",
       "      <th>Pclass</th>\n",
       "      <th>Name</th>\n",
       "      <th>Sex</th>\n",
       "      <th>Age</th>\n",
       "      <th>SibSp</th>\n",
       "      <th>Parch</th>\n",
       "      <th>Ticket</th>\n",
       "      <th>Fare</th>\n",
       "      <th>Cabin</th>\n",
       "      <th>Embarked</th>\n",
       "    </tr>\n",
       "  </thead>\n",
       "  <tbody>\n",
       "    <tr>\n",
       "      <th>851</th>\n",
       "      <td>852</td>\n",
       "      <td>0</td>\n",
       "      <td>3</td>\n",
       "      <td>Svensson, Mr. Johan</td>\n",
       "      <td>male</td>\n",
       "      <td>74.0</td>\n",
       "      <td>0</td>\n",
       "      <td>0</td>\n",
       "      <td>347060</td>\n",
       "      <td>7.7750</td>\n",
       "      <td>NaN</td>\n",
       "      <td>S</td>\n",
       "    </tr>\n",
       "    <tr>\n",
       "      <th>116</th>\n",
       "      <td>117</td>\n",
       "      <td>0</td>\n",
       "      <td>3</td>\n",
       "      <td>Connors, Mr. Patrick</td>\n",
       "      <td>male</td>\n",
       "      <td>70.5</td>\n",
       "      <td>0</td>\n",
       "      <td>0</td>\n",
       "      <td>370369</td>\n",
       "      <td>7.7500</td>\n",
       "      <td>NaN</td>\n",
       "      <td>Q</td>\n",
       "    </tr>\n",
       "    <tr>\n",
       "      <th>280</th>\n",
       "      <td>281</td>\n",
       "      <td>0</td>\n",
       "      <td>3</td>\n",
       "      <td>Duane, Mr. Frank</td>\n",
       "      <td>male</td>\n",
       "      <td>65.0</td>\n",
       "      <td>0</td>\n",
       "      <td>0</td>\n",
       "      <td>336439</td>\n",
       "      <td>7.7500</td>\n",
       "      <td>NaN</td>\n",
       "      <td>Q</td>\n",
       "    </tr>\n",
       "    <tr>\n",
       "      <th>483</th>\n",
       "      <td>484</td>\n",
       "      <td>1</td>\n",
       "      <td>3</td>\n",
       "      <td>Turkula, Mrs. (Hedwig)</td>\n",
       "      <td>female</td>\n",
       "      <td>63.0</td>\n",
       "      <td>0</td>\n",
       "      <td>0</td>\n",
       "      <td>4134</td>\n",
       "      <td>9.5875</td>\n",
       "      <td>NaN</td>\n",
       "      <td>S</td>\n",
       "    </tr>\n",
       "    <tr>\n",
       "      <th>326</th>\n",
       "      <td>327</td>\n",
       "      <td>0</td>\n",
       "      <td>3</td>\n",
       "      <td>Nysveen, Mr. Johan Hansen</td>\n",
       "      <td>male</td>\n",
       "      <td>61.0</td>\n",
       "      <td>0</td>\n",
       "      <td>0</td>\n",
       "      <td>345364</td>\n",
       "      <td>6.2375</td>\n",
       "      <td>NaN</td>\n",
       "      <td>S</td>\n",
       "    </tr>\n",
       "    <tr>\n",
       "      <th>...</th>\n",
       "      <td>...</td>\n",
       "      <td>...</td>\n",
       "      <td>...</td>\n",
       "      <td>...</td>\n",
       "      <td>...</td>\n",
       "      <td>...</td>\n",
       "      <td>...</td>\n",
       "      <td>...</td>\n",
       "      <td>...</td>\n",
       "      <td>...</td>\n",
       "      <td>...</td>\n",
       "      <td>...</td>\n",
       "    </tr>\n",
       "    <tr>\n",
       "      <th>766</th>\n",
       "      <td>767</td>\n",
       "      <td>0</td>\n",
       "      <td>1</td>\n",
       "      <td>Brewe, Dr. Arthur Jackson</td>\n",
       "      <td>male</td>\n",
       "      <td>NaN</td>\n",
       "      <td>0</td>\n",
       "      <td>0</td>\n",
       "      <td>112379</td>\n",
       "      <td>39.6000</td>\n",
       "      <td>NaN</td>\n",
       "      <td>C</td>\n",
       "    </tr>\n",
       "    <tr>\n",
       "      <th>793</th>\n",
       "      <td>794</td>\n",
       "      <td>0</td>\n",
       "      <td>1</td>\n",
       "      <td>Hoyt, Mr. William Fisher</td>\n",
       "      <td>male</td>\n",
       "      <td>NaN</td>\n",
       "      <td>0</td>\n",
       "      <td>0</td>\n",
       "      <td>PC 17600</td>\n",
       "      <td>30.6958</td>\n",
       "      <td>NaN</td>\n",
       "      <td>C</td>\n",
       "    </tr>\n",
       "    <tr>\n",
       "      <th>815</th>\n",
       "      <td>816</td>\n",
       "      <td>0</td>\n",
       "      <td>1</td>\n",
       "      <td>Fry, Mr. Richard</td>\n",
       "      <td>male</td>\n",
       "      <td>NaN</td>\n",
       "      <td>0</td>\n",
       "      <td>0</td>\n",
       "      <td>112058</td>\n",
       "      <td>0.0000</td>\n",
       "      <td>B102</td>\n",
       "      <td>S</td>\n",
       "    </tr>\n",
       "    <tr>\n",
       "      <th>839</th>\n",
       "      <td>840</td>\n",
       "      <td>1</td>\n",
       "      <td>1</td>\n",
       "      <td>Marechal, Mr. Pierre</td>\n",
       "      <td>male</td>\n",
       "      <td>NaN</td>\n",
       "      <td>0</td>\n",
       "      <td>0</td>\n",
       "      <td>11774</td>\n",
       "      <td>29.7000</td>\n",
       "      <td>C47</td>\n",
       "      <td>C</td>\n",
       "    </tr>\n",
       "    <tr>\n",
       "      <th>849</th>\n",
       "      <td>850</td>\n",
       "      <td>1</td>\n",
       "      <td>1</td>\n",
       "      <td>Goldenberg, Mrs. Samuel L (Edwiga Grabowska)</td>\n",
       "      <td>female</td>\n",
       "      <td>NaN</td>\n",
       "      <td>1</td>\n",
       "      <td>0</td>\n",
       "      <td>17453</td>\n",
       "      <td>89.1042</td>\n",
       "      <td>C92</td>\n",
       "      <td>C</td>\n",
       "    </tr>\n",
       "  </tbody>\n",
       "</table>\n",
       "<p>891 rows × 12 columns</p>\n",
       "</div>"
      ],
      "text/plain": [
       "     PassengerId  Survived  Pclass  \\\n",
       "851          852         0       3   \n",
       "116          117         0       3   \n",
       "280          281         0       3   \n",
       "483          484         1       3   \n",
       "326          327         0       3   \n",
       "..           ...       ...     ...   \n",
       "766          767         0       1   \n",
       "793          794         0       1   \n",
       "815          816         0       1   \n",
       "839          840         1       1   \n",
       "849          850         1       1   \n",
       "\n",
       "                                             Name     Sex   Age  SibSp  Parch  \\\n",
       "851                           Svensson, Mr. Johan    male  74.0      0      0   \n",
       "116                          Connors, Mr. Patrick    male  70.5      0      0   \n",
       "280                              Duane, Mr. Frank    male  65.0      0      0   \n",
       "483                        Turkula, Mrs. (Hedwig)  female  63.0      0      0   \n",
       "326                     Nysveen, Mr. Johan Hansen    male  61.0      0      0   \n",
       "..                                            ...     ...   ...    ...    ...   \n",
       "766                     Brewe, Dr. Arthur Jackson    male   NaN      0      0   \n",
       "793                      Hoyt, Mr. William Fisher    male   NaN      0      0   \n",
       "815                              Fry, Mr. Richard    male   NaN      0      0   \n",
       "839                          Marechal, Mr. Pierre    male   NaN      0      0   \n",
       "849  Goldenberg, Mrs. Samuel L (Edwiga Grabowska)  female   NaN      1      0   \n",
       "\n",
       "       Ticket     Fare Cabin Embarked  \n",
       "851    347060   7.7750   NaN        S  \n",
       "116    370369   7.7500   NaN        Q  \n",
       "280    336439   7.7500   NaN        Q  \n",
       "483      4134   9.5875   NaN        S  \n",
       "326    345364   6.2375   NaN        S  \n",
       "..        ...      ...   ...      ...  \n",
       "766    112379  39.6000   NaN        C  \n",
       "793  PC 17600  30.6958   NaN        C  \n",
       "815    112058   0.0000  B102        S  \n",
       "839     11774  29.7000   C47        C  \n",
       "849     17453  89.1042   C92        C  \n",
       "\n",
       "[891 rows x 12 columns]"
      ]
     },
     "execution_count": 66,
     "metadata": {},
     "output_type": "execute_result"
    }
   ],
   "source": [
    "titanic.sort_values(by=['Pclass', 'Age'], ascending=False)"
   ]
  },
  {
   "cell_type": "code",
   "execution_count": 68,
   "id": "52f19c1f-3ae4-468c-a6d7-4cc0e4f94a8a",
   "metadata": {
    "slideshow": {
     "slide_type": "-"
    }
   },
   "outputs": [
    {
     "ename": "KeyError",
     "evalue": "'Embarked'",
     "output_type": "error",
     "traceback": [
      "\u001b[1;31m---------------------------------------------------------------------------\u001b[0m",
      "\u001b[1;31mKeyError\u001b[0m                                  Traceback (most recent call last)",
      "Cell \u001b[1;32mIn[68], line 1\u001b[0m\n\u001b[1;32m----> 1\u001b[0m table_subset \u001b[38;5;241m=\u001b[39m table\u001b[38;5;241m.\u001b[39msort_index()\u001b[38;5;241m.\u001b[39mgroupby([\u001b[38;5;124m\"\u001b[39m\u001b[38;5;124mEmbarked\u001b[39m\u001b[38;5;124m\"\u001b[39m])\n",
      "File \u001b[1;32m~\\anaconda3\\Lib\\site-packages\\pandas\\core\\frame.py:8869\u001b[0m, in \u001b[0;36mDataFrame.groupby\u001b[1;34m(self, by, axis, level, as_index, sort, group_keys, observed, dropna)\u001b[0m\n\u001b[0;32m   8866\u001b[0m \u001b[38;5;28;01mif\u001b[39;00m level \u001b[38;5;129;01mis\u001b[39;00m \u001b[38;5;28;01mNone\u001b[39;00m \u001b[38;5;129;01mand\u001b[39;00m by \u001b[38;5;129;01mis\u001b[39;00m \u001b[38;5;28;01mNone\u001b[39;00m:\n\u001b[0;32m   8867\u001b[0m     \u001b[38;5;28;01mraise\u001b[39;00m \u001b[38;5;167;01mTypeError\u001b[39;00m(\u001b[38;5;124m\"\u001b[39m\u001b[38;5;124mYou have to supply one of \u001b[39m\u001b[38;5;124m'\u001b[39m\u001b[38;5;124mby\u001b[39m\u001b[38;5;124m'\u001b[39m\u001b[38;5;124m and \u001b[39m\u001b[38;5;124m'\u001b[39m\u001b[38;5;124mlevel\u001b[39m\u001b[38;5;124m'\u001b[39m\u001b[38;5;124m\"\u001b[39m)\n\u001b[1;32m-> 8869\u001b[0m \u001b[38;5;28;01mreturn\u001b[39;00m DataFrameGroupBy(\n\u001b[0;32m   8870\u001b[0m     obj\u001b[38;5;241m=\u001b[39m\u001b[38;5;28mself\u001b[39m,\n\u001b[0;32m   8871\u001b[0m     keys\u001b[38;5;241m=\u001b[39mby,\n\u001b[0;32m   8872\u001b[0m     axis\u001b[38;5;241m=\u001b[39maxis,\n\u001b[0;32m   8873\u001b[0m     level\u001b[38;5;241m=\u001b[39mlevel,\n\u001b[0;32m   8874\u001b[0m     as_index\u001b[38;5;241m=\u001b[39mas_index,\n\u001b[0;32m   8875\u001b[0m     sort\u001b[38;5;241m=\u001b[39msort,\n\u001b[0;32m   8876\u001b[0m     group_keys\u001b[38;5;241m=\u001b[39mgroup_keys,\n\u001b[0;32m   8877\u001b[0m     observed\u001b[38;5;241m=\u001b[39mobserved,\n\u001b[0;32m   8878\u001b[0m     dropna\u001b[38;5;241m=\u001b[39mdropna,\n\u001b[0;32m   8879\u001b[0m )\n",
      "File \u001b[1;32m~\\anaconda3\\Lib\\site-packages\\pandas\\core\\groupby\\groupby.py:1278\u001b[0m, in \u001b[0;36mGroupBy.__init__\u001b[1;34m(self, obj, keys, axis, level, grouper, exclusions, selection, as_index, sort, group_keys, observed, dropna)\u001b[0m\n\u001b[0;32m   1275\u001b[0m \u001b[38;5;28mself\u001b[39m\u001b[38;5;241m.\u001b[39mdropna \u001b[38;5;241m=\u001b[39m dropna\n\u001b[0;32m   1277\u001b[0m \u001b[38;5;28;01mif\u001b[39;00m grouper \u001b[38;5;129;01mis\u001b[39;00m \u001b[38;5;28;01mNone\u001b[39;00m:\n\u001b[1;32m-> 1278\u001b[0m     grouper, exclusions, obj \u001b[38;5;241m=\u001b[39m get_grouper(\n\u001b[0;32m   1279\u001b[0m         obj,\n\u001b[0;32m   1280\u001b[0m         keys,\n\u001b[0;32m   1281\u001b[0m         axis\u001b[38;5;241m=\u001b[39maxis,\n\u001b[0;32m   1282\u001b[0m         level\u001b[38;5;241m=\u001b[39mlevel,\n\u001b[0;32m   1283\u001b[0m         sort\u001b[38;5;241m=\u001b[39msort,\n\u001b[0;32m   1284\u001b[0m         observed\u001b[38;5;241m=\u001b[39m\u001b[38;5;28;01mFalse\u001b[39;00m \u001b[38;5;28;01mif\u001b[39;00m observed \u001b[38;5;129;01mis\u001b[39;00m lib\u001b[38;5;241m.\u001b[39mno_default \u001b[38;5;28;01melse\u001b[39;00m observed,\n\u001b[0;32m   1285\u001b[0m         dropna\u001b[38;5;241m=\u001b[39m\u001b[38;5;28mself\u001b[39m\u001b[38;5;241m.\u001b[39mdropna,\n\u001b[0;32m   1286\u001b[0m     )\n\u001b[0;32m   1288\u001b[0m \u001b[38;5;28;01mif\u001b[39;00m observed \u001b[38;5;129;01mis\u001b[39;00m lib\u001b[38;5;241m.\u001b[39mno_default:\n\u001b[0;32m   1289\u001b[0m     \u001b[38;5;28;01mif\u001b[39;00m \u001b[38;5;28many\u001b[39m(ping\u001b[38;5;241m.\u001b[39m_passed_categorical \u001b[38;5;28;01mfor\u001b[39;00m ping \u001b[38;5;129;01min\u001b[39;00m grouper\u001b[38;5;241m.\u001b[39mgroupings):\n",
      "File \u001b[1;32m~\\anaconda3\\Lib\\site-packages\\pandas\\core\\groupby\\grouper.py:1009\u001b[0m, in \u001b[0;36mget_grouper\u001b[1;34m(obj, key, axis, level, sort, observed, validate, dropna)\u001b[0m\n\u001b[0;32m   1007\u001b[0m         in_axis, level, gpr \u001b[38;5;241m=\u001b[39m \u001b[38;5;28;01mFalse\u001b[39;00m, gpr, \u001b[38;5;28;01mNone\u001b[39;00m\n\u001b[0;32m   1008\u001b[0m     \u001b[38;5;28;01melse\u001b[39;00m:\n\u001b[1;32m-> 1009\u001b[0m         \u001b[38;5;28;01mraise\u001b[39;00m \u001b[38;5;167;01mKeyError\u001b[39;00m(gpr)\n\u001b[0;32m   1010\u001b[0m \u001b[38;5;28;01melif\u001b[39;00m \u001b[38;5;28misinstance\u001b[39m(gpr, Grouper) \u001b[38;5;129;01mand\u001b[39;00m gpr\u001b[38;5;241m.\u001b[39mkey \u001b[38;5;129;01mis\u001b[39;00m \u001b[38;5;129;01mnot\u001b[39;00m \u001b[38;5;28;01mNone\u001b[39;00m:\n\u001b[0;32m   1011\u001b[0m     \u001b[38;5;66;03m# Add key to exclusions\u001b[39;00m\n\u001b[0;32m   1012\u001b[0m     exclusions\u001b[38;5;241m.\u001b[39madd(gpr\u001b[38;5;241m.\u001b[39mkey)\n",
      "\u001b[1;31mKeyError\u001b[0m: 'Embarked'"
     ]
    }
   ],
   "source": [
    "table_subset = table.sort_index().groupby([\"Embarked\"])"
   ]
  },
  {
   "cell_type": "markdown",
   "id": "ac59fb60",
   "metadata": {
    "slideshow": {
     "slide_type": "slide"
    }
   },
   "source": [
    "#### Combining data from multiple tables\n",
    "\n",
    "<img src=\"Pandas_Join.pdf\"/>\n",
    "\n",
    "A very common operation is to **combine** two tables with a similar structure, in a single table:"
   ]
  },
  {
   "cell_type": "code",
   "execution_count": 69,
   "id": "f30669df",
   "metadata": {
    "slideshow": {
     "slide_type": "-"
    }
   },
   "outputs": [
    {
     "ename": "FileNotFoundError",
     "evalue": "[Errno 2] No such file or directory: './data/air_quality_no2_long.csv'",
     "output_type": "error",
     "traceback": [
      "\u001b[1;31m---------------------------------------------------------------------------\u001b[0m",
      "\u001b[1;31mFileNotFoundError\u001b[0m                         Traceback (most recent call last)",
      "Cell \u001b[1;32mIn[69], line 1\u001b[0m\n\u001b[1;32m----> 1\u001b[0m no2_data \u001b[38;5;241m=\u001b[39m pd\u001b[38;5;241m.\u001b[39mread_csv(\u001b[38;5;124m\"\u001b[39m\u001b[38;5;124m./data/air_quality_no2_long.csv\u001b[39m\u001b[38;5;124m\"\u001b[39m)\n\u001b[0;32m      2\u001b[0m pm25_data \u001b[38;5;241m=\u001b[39m pd\u001b[38;5;241m.\u001b[39mread_csv(\u001b[38;5;124m\"\u001b[39m\u001b[38;5;124m./data/air_quality_pm25_long.csv\u001b[39m\u001b[38;5;124m\"\u001b[39m)\n\u001b[0;32m      4\u001b[0m air_quality \u001b[38;5;241m=\u001b[39m pd\u001b[38;5;241m.\u001b[39mconcat([pm25_data, no2_data], axis\u001b[38;5;241m=\u001b[39m\u001b[38;5;241m0\u001b[39m)\n",
      "File \u001b[1;32m~\\anaconda3\\Lib\\site-packages\\pandas\\io\\parsers\\readers.py:948\u001b[0m, in \u001b[0;36mread_csv\u001b[1;34m(filepath_or_buffer, sep, delimiter, header, names, index_col, usecols, dtype, engine, converters, true_values, false_values, skipinitialspace, skiprows, skipfooter, nrows, na_values, keep_default_na, na_filter, verbose, skip_blank_lines, parse_dates, infer_datetime_format, keep_date_col, date_parser, date_format, dayfirst, cache_dates, iterator, chunksize, compression, thousands, decimal, lineterminator, quotechar, quoting, doublequote, escapechar, comment, encoding, encoding_errors, dialect, on_bad_lines, delim_whitespace, low_memory, memory_map, float_precision, storage_options, dtype_backend)\u001b[0m\n\u001b[0;32m    935\u001b[0m kwds_defaults \u001b[38;5;241m=\u001b[39m _refine_defaults_read(\n\u001b[0;32m    936\u001b[0m     dialect,\n\u001b[0;32m    937\u001b[0m     delimiter,\n\u001b[1;32m   (...)\u001b[0m\n\u001b[0;32m    944\u001b[0m     dtype_backend\u001b[38;5;241m=\u001b[39mdtype_backend,\n\u001b[0;32m    945\u001b[0m )\n\u001b[0;32m    946\u001b[0m kwds\u001b[38;5;241m.\u001b[39mupdate(kwds_defaults)\n\u001b[1;32m--> 948\u001b[0m \u001b[38;5;28;01mreturn\u001b[39;00m _read(filepath_or_buffer, kwds)\n",
      "File \u001b[1;32m~\\anaconda3\\Lib\\site-packages\\pandas\\io\\parsers\\readers.py:611\u001b[0m, in \u001b[0;36m_read\u001b[1;34m(filepath_or_buffer, kwds)\u001b[0m\n\u001b[0;32m    608\u001b[0m _validate_names(kwds\u001b[38;5;241m.\u001b[39mget(\u001b[38;5;124m\"\u001b[39m\u001b[38;5;124mnames\u001b[39m\u001b[38;5;124m\"\u001b[39m, \u001b[38;5;28;01mNone\u001b[39;00m))\n\u001b[0;32m    610\u001b[0m \u001b[38;5;66;03m# Create the parser.\u001b[39;00m\n\u001b[1;32m--> 611\u001b[0m parser \u001b[38;5;241m=\u001b[39m TextFileReader(filepath_or_buffer, \u001b[38;5;241m*\u001b[39m\u001b[38;5;241m*\u001b[39mkwds)\n\u001b[0;32m    613\u001b[0m \u001b[38;5;28;01mif\u001b[39;00m chunksize \u001b[38;5;129;01mor\u001b[39;00m iterator:\n\u001b[0;32m    614\u001b[0m     \u001b[38;5;28;01mreturn\u001b[39;00m parser\n",
      "File \u001b[1;32m~\\anaconda3\\Lib\\site-packages\\pandas\\io\\parsers\\readers.py:1448\u001b[0m, in \u001b[0;36mTextFileReader.__init__\u001b[1;34m(self, f, engine, **kwds)\u001b[0m\n\u001b[0;32m   1445\u001b[0m     \u001b[38;5;28mself\u001b[39m\u001b[38;5;241m.\u001b[39moptions[\u001b[38;5;124m\"\u001b[39m\u001b[38;5;124mhas_index_names\u001b[39m\u001b[38;5;124m\"\u001b[39m] \u001b[38;5;241m=\u001b[39m kwds[\u001b[38;5;124m\"\u001b[39m\u001b[38;5;124mhas_index_names\u001b[39m\u001b[38;5;124m\"\u001b[39m]\n\u001b[0;32m   1447\u001b[0m \u001b[38;5;28mself\u001b[39m\u001b[38;5;241m.\u001b[39mhandles: IOHandles \u001b[38;5;241m|\u001b[39m \u001b[38;5;28;01mNone\u001b[39;00m \u001b[38;5;241m=\u001b[39m \u001b[38;5;28;01mNone\u001b[39;00m\n\u001b[1;32m-> 1448\u001b[0m \u001b[38;5;28mself\u001b[39m\u001b[38;5;241m.\u001b[39m_engine \u001b[38;5;241m=\u001b[39m \u001b[38;5;28mself\u001b[39m\u001b[38;5;241m.\u001b[39m_make_engine(f, \u001b[38;5;28mself\u001b[39m\u001b[38;5;241m.\u001b[39mengine)\n",
      "File \u001b[1;32m~\\anaconda3\\Lib\\site-packages\\pandas\\io\\parsers\\readers.py:1705\u001b[0m, in \u001b[0;36mTextFileReader._make_engine\u001b[1;34m(self, f, engine)\u001b[0m\n\u001b[0;32m   1703\u001b[0m     \u001b[38;5;28;01mif\u001b[39;00m \u001b[38;5;124m\"\u001b[39m\u001b[38;5;124mb\u001b[39m\u001b[38;5;124m\"\u001b[39m \u001b[38;5;129;01mnot\u001b[39;00m \u001b[38;5;129;01min\u001b[39;00m mode:\n\u001b[0;32m   1704\u001b[0m         mode \u001b[38;5;241m+\u001b[39m\u001b[38;5;241m=\u001b[39m \u001b[38;5;124m\"\u001b[39m\u001b[38;5;124mb\u001b[39m\u001b[38;5;124m\"\u001b[39m\n\u001b[1;32m-> 1705\u001b[0m \u001b[38;5;28mself\u001b[39m\u001b[38;5;241m.\u001b[39mhandles \u001b[38;5;241m=\u001b[39m get_handle(\n\u001b[0;32m   1706\u001b[0m     f,\n\u001b[0;32m   1707\u001b[0m     mode,\n\u001b[0;32m   1708\u001b[0m     encoding\u001b[38;5;241m=\u001b[39m\u001b[38;5;28mself\u001b[39m\u001b[38;5;241m.\u001b[39moptions\u001b[38;5;241m.\u001b[39mget(\u001b[38;5;124m\"\u001b[39m\u001b[38;5;124mencoding\u001b[39m\u001b[38;5;124m\"\u001b[39m, \u001b[38;5;28;01mNone\u001b[39;00m),\n\u001b[0;32m   1709\u001b[0m     compression\u001b[38;5;241m=\u001b[39m\u001b[38;5;28mself\u001b[39m\u001b[38;5;241m.\u001b[39moptions\u001b[38;5;241m.\u001b[39mget(\u001b[38;5;124m\"\u001b[39m\u001b[38;5;124mcompression\u001b[39m\u001b[38;5;124m\"\u001b[39m, \u001b[38;5;28;01mNone\u001b[39;00m),\n\u001b[0;32m   1710\u001b[0m     memory_map\u001b[38;5;241m=\u001b[39m\u001b[38;5;28mself\u001b[39m\u001b[38;5;241m.\u001b[39moptions\u001b[38;5;241m.\u001b[39mget(\u001b[38;5;124m\"\u001b[39m\u001b[38;5;124mmemory_map\u001b[39m\u001b[38;5;124m\"\u001b[39m, \u001b[38;5;28;01mFalse\u001b[39;00m),\n\u001b[0;32m   1711\u001b[0m     is_text\u001b[38;5;241m=\u001b[39mis_text,\n\u001b[0;32m   1712\u001b[0m     errors\u001b[38;5;241m=\u001b[39m\u001b[38;5;28mself\u001b[39m\u001b[38;5;241m.\u001b[39moptions\u001b[38;5;241m.\u001b[39mget(\u001b[38;5;124m\"\u001b[39m\u001b[38;5;124mencoding_errors\u001b[39m\u001b[38;5;124m\"\u001b[39m, \u001b[38;5;124m\"\u001b[39m\u001b[38;5;124mstrict\u001b[39m\u001b[38;5;124m\"\u001b[39m),\n\u001b[0;32m   1713\u001b[0m     storage_options\u001b[38;5;241m=\u001b[39m\u001b[38;5;28mself\u001b[39m\u001b[38;5;241m.\u001b[39moptions\u001b[38;5;241m.\u001b[39mget(\u001b[38;5;124m\"\u001b[39m\u001b[38;5;124mstorage_options\u001b[39m\u001b[38;5;124m\"\u001b[39m, \u001b[38;5;28;01mNone\u001b[39;00m),\n\u001b[0;32m   1714\u001b[0m )\n\u001b[0;32m   1715\u001b[0m \u001b[38;5;28;01massert\u001b[39;00m \u001b[38;5;28mself\u001b[39m\u001b[38;5;241m.\u001b[39mhandles \u001b[38;5;129;01mis\u001b[39;00m \u001b[38;5;129;01mnot\u001b[39;00m \u001b[38;5;28;01mNone\u001b[39;00m\n\u001b[0;32m   1716\u001b[0m f \u001b[38;5;241m=\u001b[39m \u001b[38;5;28mself\u001b[39m\u001b[38;5;241m.\u001b[39mhandles\u001b[38;5;241m.\u001b[39mhandle\n",
      "File \u001b[1;32m~\\anaconda3\\Lib\\site-packages\\pandas\\io\\common.py:863\u001b[0m, in \u001b[0;36mget_handle\u001b[1;34m(path_or_buf, mode, encoding, compression, memory_map, is_text, errors, storage_options)\u001b[0m\n\u001b[0;32m    858\u001b[0m \u001b[38;5;28;01melif\u001b[39;00m \u001b[38;5;28misinstance\u001b[39m(handle, \u001b[38;5;28mstr\u001b[39m):\n\u001b[0;32m    859\u001b[0m     \u001b[38;5;66;03m# Check whether the filename is to be opened in binary mode.\u001b[39;00m\n\u001b[0;32m    860\u001b[0m     \u001b[38;5;66;03m# Binary mode does not support 'encoding' and 'newline'.\u001b[39;00m\n\u001b[0;32m    861\u001b[0m     \u001b[38;5;28;01mif\u001b[39;00m ioargs\u001b[38;5;241m.\u001b[39mencoding \u001b[38;5;129;01mand\u001b[39;00m \u001b[38;5;124m\"\u001b[39m\u001b[38;5;124mb\u001b[39m\u001b[38;5;124m\"\u001b[39m \u001b[38;5;129;01mnot\u001b[39;00m \u001b[38;5;129;01min\u001b[39;00m ioargs\u001b[38;5;241m.\u001b[39mmode:\n\u001b[0;32m    862\u001b[0m         \u001b[38;5;66;03m# Encoding\u001b[39;00m\n\u001b[1;32m--> 863\u001b[0m         handle \u001b[38;5;241m=\u001b[39m \u001b[38;5;28mopen\u001b[39m(\n\u001b[0;32m    864\u001b[0m             handle,\n\u001b[0;32m    865\u001b[0m             ioargs\u001b[38;5;241m.\u001b[39mmode,\n\u001b[0;32m    866\u001b[0m             encoding\u001b[38;5;241m=\u001b[39mioargs\u001b[38;5;241m.\u001b[39mencoding,\n\u001b[0;32m    867\u001b[0m             errors\u001b[38;5;241m=\u001b[39merrors,\n\u001b[0;32m    868\u001b[0m             newline\u001b[38;5;241m=\u001b[39m\u001b[38;5;124m\"\u001b[39m\u001b[38;5;124m\"\u001b[39m,\n\u001b[0;32m    869\u001b[0m         )\n\u001b[0;32m    870\u001b[0m     \u001b[38;5;28;01melse\u001b[39;00m:\n\u001b[0;32m    871\u001b[0m         \u001b[38;5;66;03m# Binary mode\u001b[39;00m\n\u001b[0;32m    872\u001b[0m         handle \u001b[38;5;241m=\u001b[39m \u001b[38;5;28mopen\u001b[39m(handle, ioargs\u001b[38;5;241m.\u001b[39mmode)\n",
      "\u001b[1;31mFileNotFoundError\u001b[0m: [Errno 2] No such file or directory: './data/air_quality_no2_long.csv'"
     ]
    }
   ],
   "source": [
    "no2_data = pd.read_csv(\"./data/air_quality_no2_long.csv\")\n",
    "pm25_data = pd.read_csv(\"./data/air_quality_pm25_long.csv\")\n",
    "\n",
    "air_quality = pd.concat([pm25_data, no2_data], axis=0)"
   ]
  },
  {
   "cell_type": "markdown",
   "id": "55555f99",
   "metadata": {
    "slideshow": {
     "slide_type": "-"
    }
   },
   "source": [
    "By default concatenation is along `axis 0`, so the resulting table combines the rows of the input tables. In order to combine the columns, we have to use `axis 1`:"
   ]
  },
  {
   "cell_type": "code",
   "execution_count": null,
   "id": "b01f00f6",
   "metadata": {
    "slideshow": {
     "slide_type": "-"
    }
   },
   "outputs": [],
   "source": [
    "air_quality = pd.concat([pm25_data, no2_data], axis=1)"
   ]
  },
  {
   "cell_type": "markdown",
   "id": "045e424e",
   "metadata": {
    "slideshow": {
     "slide_type": "slide"
    }
   },
   "source": [
    "We can make plot of data contained in Pandas Series and DataFrame by using **directly** some methods of Pandas, without explicitly calling the Matplotlib. \n",
    "\n",
    "To this purpose, we can use the `plot` method of Pandas, selecting the type of desired graphic with the `kind` parameter (by default is `line`, the classical plot):"
   ]
  },
  {
   "cell_type": "code",
   "execution_count": null,
   "id": "ed7e400d-2446-4ebd-87d1-dc73f95ba645",
   "metadata": {
    "slideshow": {
     "slide_type": "-"
    }
   },
   "outputs": [],
   "source": [
    "titanic['Age'].plot()"
   ]
  },
  {
   "cell_type": "code",
   "execution_count": null,
   "id": "e4898424-8d0c-48fd-88ae-72b82dcc896c",
   "metadata": {
    "slideshow": {
     "slide_type": "-"
    }
   },
   "outputs": [],
   "source": [
    "titanic['Fare'].plot(kind='line')"
   ]
  },
  {
   "cell_type": "code",
   "execution_count": null,
   "id": "676c56ec-4048-48ee-866c-518ca4b49f68",
   "metadata": {
    "slideshow": {
     "slide_type": "-"
    }
   },
   "outputs": [],
   "source": [
    "titanic['Pclass'].plot(kind='bar')"
   ]
  },
  {
   "cell_type": "code",
   "execution_count": null,
   "id": "527479cd-f9ef-432a-ae36-49740a4a16d6",
   "metadata": {
    "slideshow": {
     "slide_type": "-"
    }
   },
   "outputs": [],
   "source": [
    "titanic['Survived'].plot(kind='hist')"
   ]
  },
  {
   "cell_type": "code",
   "execution_count": null,
   "id": "9db12c1b-cb5d-4c98-8a3b-27e76c1a628c",
   "metadata": {
    "slideshow": {
     "slide_type": "-"
    }
   },
   "outputs": [],
   "source": [
    "titanic.plot(x='Pclass',y='Fare',kind='scatter')"
   ]
  },
  {
   "cell_type": "markdown",
   "id": "e8cf5100",
   "metadata": {
    "slideshow": {
     "slide_type": "slide"
    }
   },
   "source": [
    "#### Manipulating textual data\n",
    "\n",
    "When tables contain textual data, it becomes very important to handle some useful functions able to manipulate text.\n",
    "\n",
    "One procedure is to make all name characters **lowercase**:"
   ]
  },
  {
   "cell_type": "code",
   "execution_count": null,
   "id": "943b915a",
   "metadata": {
    "slideshow": {
     "slide_type": "-"
    }
   },
   "outputs": [],
   "source": [
    "titanic = pd.read_csv(\"../data/titanic.csv\")\n",
    "titanic[\"Name\"].str.lower()"
   ]
  },
  {
   "cell_type": "markdown",
   "id": "c93e7338",
   "metadata": {
    "slideshow": {
     "slide_type": "-"
    }
   },
   "source": [
    "When there are names separated by a comma, it is possible to **extract** the part before the comma and **create** a **new** column:"
   ]
  },
  {
   "cell_type": "code",
   "execution_count": null,
   "id": "b5cc989f",
   "metadata": {
    "slideshow": {
     "slide_type": "-"
    }
   },
   "outputs": [],
   "source": [
    "titanic[\"Surname\"] = titanic[\"Name\"].str.split(\",\").str.get(0)"
   ]
  },
  {
   "cell_type": "markdown",
   "id": "a4312c84",
   "metadata": {
    "slideshow": {
     "slide_type": "-"
    }
   },
   "source": [
    "The `str.get()` method extract a string in position `0` in the Series`Name`."
   ]
  },
  {
   "cell_type": "markdown",
   "id": "2dbb566c",
   "metadata": {
    "slideshow": {
     "slide_type": "slide"
    }
   },
   "source": [
    "If we are interested in **extracting** some data that **contains** a specific word, we can apply:"
   ]
  },
  {
   "cell_type": "code",
   "execution_count": null,
   "id": "07f1a1ea",
   "metadata": {
    "slideshow": {
     "slide_type": "-"
    }
   },
   "outputs": [],
   "source": [
    "idx = titanic[\"Name\"].str.contains(\"Countess\")\n",
    "passengers = titanic[idx]"
   ]
  },
  {
   "cell_type": "markdown",
   "id": "51148019",
   "metadata": {
    "slideshow": {
     "slide_type": "-"
    }
   },
   "source": [
    "The string method `str.contains()` checks for each of the values in the column `Name` if the string contains the word `Countess` and **returns** for each of the values **True** (`Countess` is part of the name) or **False** (`Countess` is not part of the name). This output can be used to sub-select the data using conditional (*boolean*) indexing.\n",
    "\n",
    "It is possible to **replace** some word values with others:"
   ]
  },
  {
   "cell_type": "code",
   "execution_count": null,
   "id": "0812b449",
   "metadata": {
    "slideshow": {
     "slide_type": "-"
    }
   },
   "outputs": [],
   "source": [
    "titanic[\"Sex_short\"] = titanic[\"Sex\"].replace({\"male\": \"M\", \"female\": \"F\"})"
   ]
  },
  {
   "cell_type": "markdown",
   "id": "0728ac6f",
   "metadata": {
    "slideshow": {
     "slide_type": "slide"
    }
   },
   "source": [
    "#### Handling missing data\n",
    "\n",
    "A number of schemes have been developed to indicate the **presence** or **missing** data in a table or DataFrame. Fundamentally, there are **two** ways to handle missing data. \n",
    "\n",
    "The first sentinel value used by Pandas is `None`, a Python singleton object that is often used for missing data in Python code. Because `None` is a Python object, it cannot be used in any arbitrary NumPy/Pandas array, but only in arrays with data type `object`. For example:"
   ]
  },
  {
   "cell_type": "code",
   "execution_count": null,
   "id": "16160ab7",
   "metadata": {
    "slideshow": {
     "slide_type": "-"
    }
   },
   "outputs": [],
   "source": [
    "v1 = np.array([1, None, 3, 4])"
   ]
  },
  {
   "cell_type": "markdown",
   "id": "3f301422",
   "metadata": {
    "slideshow": {
     "slide_type": "-"
    }
   },
   "source": [
    "The other missing data representation, `NaN` (acronym for *Not a Number*), is a special floating-point value:"
   ]
  },
  {
   "cell_type": "code",
   "execution_count": null,
   "id": "f6cba294",
   "metadata": {
    "slideshow": {
     "slide_type": "-"
    }
   },
   "outputs": [],
   "source": [
    "v2 = np.array([1, np.nan, 3, 4])"
   ]
  },
  {
   "cell_type": "markdown",
   "id": "181914b7",
   "metadata": {
    "slideshow": {
     "slide_type": "-"
    }
   },
   "source": [
    "Regardless of the operation, the result of arithmetic with `NaN` will be another `NaN`."
   ]
  },
  {
   "cell_type": "markdown",
   "id": "132915d6",
   "metadata": {
    "slideshow": {
     "slide_type": "slide"
    }
   },
   "source": [
    "`NaN` and `None` both have their place, and Pandas is built to handle the two of them nearly interchangeably, converting between them where appropriate:"
   ]
  },
  {
   "cell_type": "code",
   "execution_count": null,
   "id": "ed3f952e",
   "metadata": {
    "slideshow": {
     "slide_type": "-"
    }
   },
   "outputs": [],
   "source": [
    "v3 = pd.Series([1, np.nan, 2, None])"
   ]
  },
  {
   "cell_type": "markdown",
   "id": "a6844681",
   "metadata": {
    "slideshow": {
     "slide_type": "-"
    }
   },
   "source": [
    "There are several useful methods for detecting, removing, and replacing null values in Pandas data structures:\n",
    "* `isnull()`: generate a Boolean mask indicating missing values\n",
    "* `notnull()`: opposite of `isnull()`\n",
    "* `dropna()`: return a filtered version of the data\n",
    "* `fillna()`: return a copy of the data with missing values**filled** or **imputed**\n",
    "* \n",
    "For example, we can **fill** the missing value in a Panda Series with **0**:"
   ]
  },
  {
   "cell_type": "code",
   "execution_count": null,
   "id": "026aa9df",
   "metadata": {
    "slideshow": {
     "slide_type": "-"
    }
   },
   "outputs": [],
   "source": [
    "data = pd.Series([1, np.nan, 2, None, 3], index=list('abcde'))\n",
    "data_new = data.fillna(0)\n",
    "data_new"
   ]
  },
  {
   "cell_type": "markdown",
   "id": "409bf766",
   "metadata": {
    "slideshow": {
     "slide_type": "slide"
    }
   },
   "source": [
    "For **counting** the number of missing values in a DataFrame, we can use a double `sum()` command after the `isnull()`, since this last returns a binary mask:"
   ]
  },
  {
   "cell_type": "code",
   "execution_count": null,
   "id": "4277033b",
   "metadata": {
    "slideshow": {
     "slide_type": "-"
    }
   },
   "outputs": [],
   "source": [
    "N = df.isnull().sum().sum()\n",
    "N"
   ]
  },
  {
   "cell_type": "markdown",
   "id": "dcc2d7af",
   "metadata": {
    "slideshow": {
     "slide_type": "-"
    }
   },
   "source": [
    "Hence, we can decide removing the rows or the columns containing missing values:"
   ]
  },
  {
   "cell_type": "code",
   "execution_count": null,
   "id": "07aa9e16-cf6d-4b1a-91f1-ea5e89ad7f6d",
   "metadata": {
    "slideshow": {
     "slide_type": "-"
    }
   },
   "outputs": [],
   "source": [
    "df.dropna()"
   ]
  },
  {
   "cell_type": "code",
   "execution_count": null,
   "id": "30088766-c2de-439f-a255-4c0f97e6b64c",
   "metadata": {
    "slideshow": {
     "slide_type": "-"
    }
   },
   "outputs": [],
   "source": [
    "df.dropna(axis='columns')"
   ]
  },
  {
   "cell_type": "markdown",
   "id": "a701505e",
   "metadata": {
    "slideshow": {
     "slide_type": "slide"
    }
   },
   "source": [
    "## Data formats <a id=\"Data_formats\"></a>\n"
   ]
  },
  {
   "cell_type": "markdown",
   "id": "4246df95",
   "metadata": {
    "slideshow": {
     "slide_type": "slide"
    }
   },
   "source": [
    "### Data representation\n"
   ]
  },
  {
   "cell_type": "markdown",
   "id": "224fe612",
   "metadata": {
    "slideshow": {
     "slide_type": "slide"
    }
   },
   "source": [
    "A **dataset** is a collection of instances or examples that collect a number of descriptors(**features**) that characterize the current instance.\n",
    "\n",
    "A table layout makes clear that the information can be **split** into two subsets. The first is a two-dimensional numerical array or matrix, which we will call the features matrix. By convention, this features matrix is often stored in a variable named `X`. The features matrix is assumed to be two-dimensional, with shape `[n_samples, n_features]`, and is most often contained in a NumPy array or a Pandas DataFrame.\n",
    "\n",
    "In addition to the feature matrix `X`, we also generally work with a label or target array, which by convention we will usually call `y`. The target array is usually one dimensional, with length `n_samples`, and is generally contained in a NumPy array or Pandas Series. The target array may have continuous numerical values, or discrete classes/labels.\n"
   ]
  },
  {
   "cell_type": "markdown",
   "id": "5f95eed1",
   "metadata": {
    "slideshow": {
     "slide_type": "slide"
    }
   },
   "source": [
    "<img src=\"Data_Layout.pdf\"/>\n",
    "\n",
    "Note that the target array differs from the other features columns. The distinguishing feature of the target array is that it is usually the quantity we want to **predict** from the data: in statistical terms, it is the **dependent** variable.\n"
   ]
  },
  {
   "cell_type": "markdown",
   "id": "dff5e768",
   "metadata": {
    "slideshow": {
     "slide_type": "slide"
    }
   },
   "source": [
    "### The Iris dataset\n",
    "\n",
    "A well known data-set is the **Iris** one, which dates back to seminal work by the eminent statistician R.A. Fisher in the mid-1930s and is arguably the most famous data-set used in machine learning, contains 50 examples each of **three** types of plant: *Iris setosa*, *Iris versicolor*, and *Iris virginica*. \n",
    "\n",
    "There are four attributes: *sepal length*, *sepal width*, *petal length*, and *petal width* (all measured in centimeters). All attributes have values that are **numeric**.\n",
    "\n",
    "<img src=\"IRIS_sepal_petal.jpg\"/>\n"
   ]
  },
  {
   "cell_type": "markdown",
   "id": "ad458ed5",
   "metadata": {
    "slideshow": {
     "slide_type": "slide"
    }
   },
   "source": [
    "An excerpt of the **Iris** data-set is shown in the following table.\n",
    "\n",
    "| **N.** | **Sepal Length** | **Sepal Width** | **Petal Length** | **Petal Width** | **Type**            |\n",
    "|:-------|:----------------:|:---------------:|:----------------:|:---------------:|:--------------------|\n",
    "| 1      |  5.1             |  3.5            |  1.4             |  0.2            |  *Iris setosa*      |\n",
    "| 2      |  4.9             |  3.0            |  1.4             |  0.2            |  *Iris setosa*      |\n",
    "| 3      |  4.7             |  3.2            |  1.3             |  0.2            |  *Iris setosa*      |\n",
    "| 4      |  4.6             |  3.1            |  1.5             |  0.2            |  *Iris setosa*      |\n",
    "| 5      |  5.0             |  3.6            |  1.4             |  0.2            |  *Iris setosa*      |\n",
    "| ...    |                  |                 |                  |                 |   ...               |\n",
    "| 51     |  7.0             |  3.2            |  4.7             |  1.4            |  *Iris versicolor*  |\n",
    "| 52     |  6.4             |  3.2            |  4.5             |  1.5            |  *Iris versicolor*  |\n",
    "| 53     |  6.9             |  3.1            |  4.9             |  1.5            |  *Iris versicolor*  |\n",
    "| 54     |  5.5             |  2.3            |  4.0             |  1.3            |  *Iris versicolor*  |\n",
    "| 55     |  6.5             |  2.8            |  4.6             |  1.5            |  *Iris versicolor*  |\n",
    "| ...    |                  |                 |                  |                 |   ...               |\n",
    "| 101    |  6.3             |  3.3            |  6.0             |  2.5            |  *Iris virginica*   |\n",
    "| 102    |  5.8             |  2.7            |  5.1             |  1.9            |  *Iris virginica*   |\n",
    "| 103    |  7.1             |  3.0            |  5.9             |  2.1            |  *Iris virginica*   |\n",
    "| 104    |  6.3             |  2.9            |  5.6             |  1.8            |  *Iris virginica*   |\n",
    "| 105    |  6.5             |  3.0            |  5.8             |  2.2            |  *Iris virginica*   |\n",
    "| ...    |                  |                 |                  |                 |   ...               |\n"
   ]
  },
  {
   "cell_type": "markdown",
   "id": "7f84a0d8",
   "metadata": {
    "slideshow": {
     "slide_type": "slide"
    }
   },
   "source": [
    "### The MNIST dataset\n",
    "\n",
    "The **MNIST** dataset (Modified National Institute of Standards and Technology) is a large collection of *handwritten digits*. It has a training set of 60,000 examples, and a test set of 10,000 examples. All images are $28 \\times 28$ pixel size in gray-scale levels ($[0, \\, 255]$). Each example is a **vector** of $28 \\times 28 = 784$ entries.\n",
    "\n",
    "<img src=\"MNIST.png\"/>\n"
   ]
  },
  {
   "cell_type": "markdown",
   "id": "074fbfc9",
   "metadata": {
    "slideshow": {
     "slide_type": "slide"
    }
   },
   "source": [
    "### The CPU dataset\n",
    "\n",
    "The following table shows, instead, a data-set suitable for the regression problem. It is related to the performance of a **CPU** on the basis of six relevant attributes, for a total of 209 instances.\n",
    "\n",
    "| **N.** | **MYCT** | **Mmin** | **Mmax** | **CACH** | **CHmin** | **CHmax** | **PRP** |\n",
    "|:------:|:--------:|:--------:|:--------:|:--------:|:---------:|:---------:|:-------:|\n",
    "| 1      |  125     |  256     |  6000    |  256     |   16      |  128      | 198     |\n",
    "| 2      |   29     | 8000     | 32000    |   32     |    8      |   32      | 269     |\n",
    "| 3      |   29     | 8000     | 32000    |   32     |    8      |   32      | 220     |\n",
    "| 4      |   29     | 8000     | 32000    |   32     |    8      |   32      | 172     |\n",
    "| 5      |   29     | 8000     | 16000    |   32     |    8      |   16      | 132     |\n",
    "| ...    |          |          |          |          |           |           | ...     |\n",
    "| 207    |  125     | 2000     |  8000    |    0     |    2      |   14      |  52     |\n",
    "| 208    |  480     |  512     |  8000    |   32     |    0      |    0      |  67     |\n",
    "| 209    |  480     | 1000     |  4000    |    0     |    0      |    0      |  45     |\n"
   ]
  },
  {
   "cell_type": "markdown",
   "id": "fca255bc",
   "metadata": {
    "slideshow": {
     "slide_type": "slide"
    }
   },
   "source": [
    "## Loading a dataset\n",
    "\n",
    "Usually, datasets are available for downloading in **CSV** format. This is a file where data are organized in lines (*examples*) of different values (*features*) separated by a comma. Sometimes, also **other** file formats are available.\n",
    "\n",
    "We can use Pandas to read this kind of file into a DataFrame. For example, to load the Iris dataset:"
   ]
  },
  {
   "cell_type": "code",
   "execution_count": null,
   "id": "60eebd53",
   "metadata": {
    "slideshow": {
     "slide_type": "-"
    }
   },
   "outputs": [],
   "source": [
    "import pandas as pd\n",
    "\n",
    "data = pd.read_csv('../data/iris.csv', header=None)"
   ]
  },
  {
   "cell_type": "markdown",
   "id": "4ec55006",
   "metadata": {
    "slideshow": {
     "slide_type": "-"
    }
   },
   "source": [
    "Otherwise, we can **load** it directly from the online repository:"
   ]
  },
  {
   "cell_type": "code",
   "execution_count": null,
   "id": "21f10ab0",
   "metadata": {
    "slideshow": {
     "slide_type": "-"
    }
   },
   "outputs": [],
   "source": [
    "url = 'https://archive.ics.uci.edu/ml/machine-learning-databases/iris/iris.data'\n",
    "data = pd.read_csv(url, header=None)"
   ]
  },
  {
   "cell_type": "markdown",
   "id": "8fcd1d5f",
   "metadata": {
    "slideshow": {
     "slide_type": "slide"
    }
   },
   "source": [
    "After reading the dataset, we have to **select** all the *features* (the first four columns in the DataFrame) and the *class labels* (the last column).\n",
    "\n",
    "This can be done simply selecting the suitable columns from the DataFrame `data`:"
   ]
  },
  {
   "cell_type": "code",
   "execution_count": null,
   "id": "6d81a497",
   "metadata": {
    "slideshow": {
     "slide_type": "-"
    }
   },
   "outputs": [],
   "source": [
    "X = data.iloc[:, :4].values\n",
    "y = data.iloc[:, 4].values"
   ]
  },
  {
   "cell_type": "markdown",
   "id": "94e593cf",
   "metadata": {
    "slideshow": {
     "slide_type": "-"
    }
   },
   "source": [
    "The `values` is used in order to obtain a NumPy bi-dimensional array for the **features** and a vector for the **labels**.\n"
   ]
  },
  {
   "cell_type": "markdown",
   "id": "4814e12b",
   "metadata": {
    "slideshow": {
     "slide_type": "slide"
    }
   },
   "source": [
    "## Useful file formats <a id=\"File_formats\"></a>\n",
    "\n",
    "Apart text files, numpy files, csv and excel files, there are many other useful file formats that can be used to pack information.\n",
    "\n",
    "Among these, we cite the *Hierachical Data Fotmat* (**HDF**), the *JavaScript Object Notation* (**JSON**), and the *eXtensible Markup Language* (**XML**) file formats.\n",
    "\n",
    "Moreover, it is also possible to save information in a **database** and interact to them by using the **SQL** language.\n"
   ]
  },
  {
   "cell_type": "markdown",
   "id": "b495b8c3",
   "metadata": {
    "slideshow": {
     "slide_type": "slide"
    }
   },
   "source": [
    "### Saving generic data\n",
    "\n",
    "A good practice for reproducibility is to **save** data on the hard disc. \n",
    "\n",
    "There are two very simple solutions: using the Python library `pickle` or install and use the `joblib` library. Their use is quite similar. To **save** some data to a file with `pickle`:"
   ]
  },
  {
   "cell_type": "code",
   "execution_count": null,
   "id": "451e78d5",
   "metadata": {
    "slideshow": {
     "slide_type": "-"
    }
   },
   "outputs": [],
   "source": [
    "import pickle\n",
    "\n",
    "filename = 'my_file.sav'\n",
    "pickle.dump(data, open(filename, 'wb'))"
   ]
  },
  {
   "cell_type": "markdown",
   "id": "23cd27d4",
   "metadata": {
    "slideshow": {
     "slide_type": "-"
    }
   },
   "source": [
    "Then we can **load** the data and use it:"
   ]
  },
  {
   "cell_type": "code",
   "execution_count": null,
   "id": "cc0950af",
   "metadata": {
    "slideshow": {
     "slide_type": "-"
    }
   },
   "outputs": [],
   "source": [
    "data = pickle.load(open(filename, 'rb'))\n",
    "# y_pred = model.predict(data)  # E.g., using a model on loaded data"
   ]
  },
  {
   "cell_type": "markdown",
   "id": "663a8173",
   "metadata": {
    "slideshow": {
     "slide_type": "-"
    }
   },
   "source": [
    "We can use any extension to save the file. However, often the `*.pickle` or `*.pkl` are preferred."
   ]
  },
  {
   "cell_type": "markdown",
   "id": "83968f46",
   "metadata": {
    "slideshow": {
     "slide_type": "slide"
    }
   },
   "source": [
    "The same can be done in `joblib`:"
   ]
  },
  {
   "cell_type": "code",
   "execution_count": null,
   "id": "6516e775-4c33-4382-a9b5-a2c128e29ad6",
   "metadata": {
    "slideshow": {
     "slide_type": "-"
    }
   },
   "outputs": [],
   "source": [
    "import joblib\n",
    "\n",
    "filename = \"my_file.joblib\"\n",
    "\n",
    "# Save data\n",
    "joblib.dump(data, filename)"
   ]
  },
  {
   "cell_type": "code",
   "execution_count": null,
   "id": "61db098a-ac94-4dc1-b26d-9a4915aa251d",
   "metadata": {
    "slideshow": {
     "slide_type": "-"
    }
   },
   "outputs": [],
   "source": [
    "# Load data\n",
    "data = joblib.load(filename)"
   ]
  },
  {
   "cell_type": "markdown",
   "id": "a882d7a0",
   "metadata": {
    "slideshow": {
     "slide_type": "-"
    }
   },
   "source": [
    "The `pickle` package is **faster** in saving and loading models, and by default produce smaller files. However, the `joblib` can produce smaller file sizes thanks to **compression**, by further increasing the saving and loading times. \n",
    "\n",
    "**Attention!** There is a note in the `pickle` documentation that it can be **insecure**. It is shouldn't be used to load files from untrusted sources, because it can execute malicious code. For example, if you are building online ML service that accepts uploaded models, then you should use `joblib`.\n"
   ]
  },
  {
   "cell_type": "markdown",
   "id": "fcd15bb3",
   "metadata": {
    "slideshow": {
     "slide_type": "slide"
    }
   },
   "source": [
    "### Saving preprocessed data\n",
    "\n",
    "Data pre-processing can be a very time consuming task. As a consequence, it could be helpful to **save** preprocessed data on the hard drive and **load** them directly when needed.\n",
    "\n",
    "The way for saving this data is depending from the specific data type. For example, we can use Pandas to save CSV files. However, we can again use the `pickle` library as done for models.\n",
    "\n",
    "If data are contained in NumPy arrays, the **best** way is to save them in NumPy format, in three different modalities. If we want to save and load **single** variables:"
   ]
  },
  {
   "cell_type": "code",
   "execution_count": null,
   "id": "a99dfce1-ef94-45c9-b922-d50fba47f0ff",
   "metadata": {
    "slideshow": {
     "slide_type": "-"
    }
   },
   "outputs": [],
   "source": [
    "import numpy as np\n",
    "\n",
    "np.save('features.npy', X)\n",
    "np.save('labels.npy', y)"
   ]
  },
  {
   "cell_type": "code",
   "execution_count": null,
   "id": "984476a5-9fdd-4932-9188-1f0c4316ab36",
   "metadata": {
    "slideshow": {
     "slide_type": "-"
    }
   },
   "outputs": [],
   "source": [
    "feats  = np.load('features.npy')\n",
    "labels = np.load('labels.npy')"
   ]
  },
  {
   "cell_type": "markdown",
   "id": "52b0dc43",
   "metadata": {
    "slideshow": {
     "slide_type": "-"
    }
   },
   "source": [
    "The `np.save` function saves an array to a binary file in NumPy `*.npy` format.\n"
   ]
  },
  {
   "cell_type": "markdown",
   "id": "8e8d0c25",
   "metadata": {
    "slideshow": {
     "slide_type": "slide"
    }
   },
   "source": [
    "Similarly, the `np.savez` and `np.savez_compressed` functions save **several** arrays into a single file in uncompressed and compressed `*.npz` format, respectively. In this kind of file a *dictionary-like* object is returned, and we can retrieve data by selecting each variable name:"
   ]
  },
  {
   "cell_type": "code",
   "execution_count": null,
   "id": "05e61294",
   "metadata": {
    "slideshow": {
     "slide_type": "-"
    }
   },
   "outputs": [],
   "source": [
    "np.savez('my_data.npz', X=X, y=y)\n",
    "\n",
    "data = np.load('my_data.npz')\n",
    "feats  = data['X']\n",
    "labels = data['y']"
   ]
  },
  {
   "cell_type": "markdown",
   "id": "4ebce930",
   "metadata": {
    "slideshow": {
     "slide_type": "-"
    }
   },
   "source": [
    "If the file is a `*.npz` file, the returned value supports the context manager **protocol** in a similar fashion to the `open` function:"
   ]
  },
  {
   "cell_type": "code",
   "execution_count": null,
   "id": "d1fa2be8",
   "metadata": {
    "slideshow": {
     "slide_type": "-"
    }
   },
   "outputs": [],
   "source": [
    "with load('my_data.npz') as data:\n",
    "    X = data['X']"
   ]
  },
  {
   "cell_type": "markdown",
   "id": "1d3b457b",
   "metadata": {
    "slideshow": {
     "slide_type": "slide"
    }
   },
   "source": [
    "### The HDF5 file format\n",
    "\n",
    "We can also use the *Hierarchical Data Format* (**HDF5**), which is a container for two kinds of objects: datasets, which are array-like collections of data, and groups, which are folder-like containers that hold datasets and other groups. It can be used as:"
   ]
  },
  {
   "cell_type": "code",
   "execution_count": null,
   "id": "34a40aa3-2aa7-4b24-a62d-2bb506da136d",
   "metadata": {
    "slideshow": {
     "slide_type": "-"
    }
   },
   "outputs": [],
   "source": [
    "import h5py\n",
    "\n",
    "# Saving data in a HDF5 file\n",
    "h5f = h5py.File('my_data.h5', 'w')\n",
    "h5f.create_dataset('X', data=X)\n",
    "h5f.close()"
   ]
  },
  {
   "cell_type": "code",
   "execution_count": null,
   "id": "1001ea6f-3dc8-4ba5-83d7-dd7b5aced824",
   "metadata": {
    "slideshow": {
     "slide_type": "-"
    }
   },
   "outputs": [],
   "source": [
    "# Loading data from a HDF5 file\n",
    "h5f = h5py.File('my_data.h5','r')\n",
    "feats = h5f['X'][:]\n",
    "h5f.close()"
   ]
  },
  {
   "cell_type": "markdown",
   "id": "fd592e0f",
   "metadata": {
    "slideshow": {
     "slide_type": "-"
    }
   },
   "source": [
    "Remember that we need to **explicitly** close a HDF5 file.\n"
   ]
  },
  {
   "cell_type": "markdown",
   "id": "64b6a0ca",
   "metadata": {
    "slideshow": {
     "slide_type": "slide"
    }
   },
   "source": [
    "### The JSON file format\n",
    "\n",
    "The *JavaScript Object Notation* (**JSON**) is a lightweight format for storing and transporting data, it is often used when data is sent from a server to a web page. JSON is \"self-describing\" and easy to understand. Usually, a *dictionary-like* variable is **serialized** to a JSON object and then saved to a file and viceversa it is deserialized:"
   ]
  },
  {
   "cell_type": "code",
   "execution_count": null,
   "id": "c7ffff94-3461-4787-84d4-c07db6d3d1ab",
   "metadata": {
    "slideshow": {
     "slide_type": "-"
    }
   },
   "outputs": [],
   "source": [
    "import json\n",
    "\n",
    "# Open and read the JSON file\n",
    "with open(\"data.json\", \"r\") as infile:\n",
    "    data = json.load(infile)\n",
    "\t\t\t\t\n",
    "# Deserializing json\n",
    "my_dictionary = json.dumps(data)"
   ]
  },
  {
   "cell_type": "code",
   "execution_count": null,
   "id": "00428398-45e7-4d73-bee1-8aaa77c612e4",
   "metadata": {
    "slideshow": {
     "slide_type": "-"
    }
   },
   "outputs": [],
   "source": [
    "# Serializing json\n",
    "json_object = json.dumps(my_dictionary)\t\t\t\t\n",
    "\n",
    "# Writing to JSON file\n",
    "with open(\"data.json\", \"w\") as outfile:\n",
    "    outfile.write(json_object)"
   ]
  },
  {
   "cell_type": "markdown",
   "id": "beac7a4d",
   "metadata": {
    "slideshow": {
     "slide_type": "slide"
    }
   },
   "source": [
    "### The XML file format\n",
    "\n",
    "The *eXtensible Markup Language* (**XML**) is a software- and hardware-independent tool for storing and transporting data. **XML** is just information wrapped in **tags**.\n",
    "\n",
    "For reading and writing **XML** files it is necessary to use an external package, such as the BeautifulSoup:"
   ]
  },
  {
   "cell_type": "code",
   "execution_count": null,
   "id": "52a10376-2223-44ea-a0db-a4852c45106f",
   "metadata": {
    "slideshow": {
     "slide_type": "-"
    }
   },
   "outputs": [],
   "source": [
    "from bs4 import BeautifulSoup\n",
    "\n",
    "# Reading the data inside the xml\n",
    "with open(\"dict.xml\", \"r\") as infile:\n",
    "    data = infile.read()\n",
    "\n",
    "# Extracting data\n",
    "Bs_data = BeautifulSoup(data, \"xml\")"
   ]
  },
  {
   "cell_type": "code",
   "execution_count": null,
   "id": "45aaef31-6750-4dc6-9a5d-87ccbaa53da5",
   "metadata": {
    "slideshow": {
     "slide_type": "-"
    }
   },
   "outputs": [],
   "source": [
    "# Writing data to an xml file\n",
    "with open(\"myfile.xml\", \"wb\") as outfile:\n",
    "    outfile.write(Bs_data)"
   ]
  },
  {
   "cell_type": "markdown",
   "id": "2b8abe79",
   "metadata": {
    "slideshow": {
     "slide_type": "slide"
    }
   },
   "source": [
    "## References <a id=\"References\"></a>\n",
    "\n",
    "1. Jake VanderPlas, Python Data Science Handbook: Tools and Techniques for Developers, Fist Edition, O'Reilly Media, 2016.\n",
    "2. Wes McKinney, Python for Data Analysis: Data Wrangling with Pandas, NumPy, and IPython, Second Edition, O'Reilly Media, 2017.\n",
    "3. Joel Grus, Data Science from Scratch, Second Edition, O'Reilly Media, 2019.\n",
    "4. Naomi Ceder, The Quick Python Book, Third Edition, Manning, 2018.\n",
    "5. Naomi Ceder, Python - Guida alla sintassi, alle funzionalità avanzate e all'analisi dei dati, Apogeo, 2019.\n"
   ]
  }
 ],
 "metadata": {
  "celltoolbar": "Slideshow",
  "kernelspec": {
   "display_name": "Python 3 (ipykernel)",
   "language": "python",
   "name": "python3"
  },
  "language": "python",
  "language_info": {
   "codemirror_mode": {
    "name": "ipython",
    "version": 3
   },
   "file_extension": ".py",
   "mimetype": "text/x-python",
   "name": "python",
   "nbconvert_exporter": "python",
   "pygments_lexer": "ipython3",
   "version": "3.11.7"
  },
  "livereveal": {
   "controls": true,
   "help": true,
   "scroll": true,
   "slideNumber": true,
   "transition": "none"
  }
 },
 "nbformat": 4,
 "nbformat_minor": 5
}
