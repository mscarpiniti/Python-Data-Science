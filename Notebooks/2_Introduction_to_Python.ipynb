{
 "cells": [
  {
   "cell_type": "markdown",
   "id": "cc7d8153",
   "metadata": {
    "slideshow": {
     "slide_type": "slide"
    }
   },
   "source": [
    "# A brief introduction to Python\n",
    "\n",
    "**Prof. Michele Scarpiniti**\n"
   ]
  },
  {
   "cell_type": "markdown",
   "id": "7412afed",
   "metadata": {
    "slideshow": {
     "slide_type": "slide"
    }
   },
   "source": [
    "## Outline\n",
    "\n",
    "- [The Python language](#Python)\n",
    "- [Obtaining and installing Python](#Install)\n",
    "- [Installing new packages](#New_packages)\n",
    "- [IDE Environments](#IDE)\n",
    "- [Markdown syntax](#Markdown)\n",
    "- [References](References)"
   ]
  },
  {
   "cell_type": "markdown",
   "id": "8083db3b",
   "metadata": {
    "slideshow": {
     "slide_type": "slide"
    }
   },
   "source": [
    "## The Python Language <a id=\"Python\"></a>\n",
    "\n",
    "**Python** is very a popular and easy to learn programming language. Its popularity is due to its simplicity in programming, it is cross-platform, it is able to simply manage big data and there are available lots of libraries that extend its basic functionality.\n",
    "\n",
    "Python is an interpreted, high-level, general-purpose programming language. It can be used in mathematics, software development, system scripting, web development and many other purposes.\n",
    "\n",
    "The aim of the set of slides is to provide a **brief** introduction to the general characteristics of the **Python** language and its application to the Data Science. Some useful packages, such as NumPy, Matplotlib and SciPy will be also discussed.\n"
   ]
  },
  {
   "cell_type": "markdown",
   "id": "a7392a84",
   "metadata": {
    "slideshow": {
     "slide_type": "slide"
    }
   },
   "source": [
    "### History and characteristics\n",
    "\n",
    "**Python** has been created by Guido van Rossum and first released in 1991. The language name is a tribute of the author to the British comedy group **Monty Python**.\n",
    "\n",
    "**Python**'s design philosophy emphasizes code **readability** with its notable use of significant white spaces. Its language constructs and object-oriented approach aim at helping programmers to write clear and logical code for small and large-scale projects.\n",
    "\n",
    "**Python** interpreters are available for **many** operating systems. A global community of programmers develops and maintains **CPython**, an open source reference implementation. A non-profit organization, the **Python Software Foundation** (available at: <https://www.python.org/>), manages and directs resources for Python and CPython development. \n"
   ]
  },
  {
   "cell_type": "markdown",
   "id": "58621b28",
   "metadata": {
    "slideshow": {
     "slide_type": "slide"
    }
   },
   "source": [
    "### Advantages of Python\n",
    "\n",
    "Python shows many strengths and advantages:\n",
    "\n",
    "*  it is easy to use and fast to develop complex programs\n",
    "*  it is highly **expressive** (a single code row may implement very complicated tasks)\n",
    "*  it is very **readable**\n",
    "*  it is a general purpose language\n",
    "*  it is **multiplatform**\n",
    "*  it is **free** and open source\n"
   ]
  },
  {
   "cell_type": "markdown",
   "id": "01c0e9a8",
   "metadata": {
    "slideshow": {
     "slide_type": "slide"
    }
   },
   "source": [
    "### Disadvantages of Python\n",
    "\n",
    "However, Python shows also some disadvantages and weaknesses:\n",
    "\n",
    "*  it is **not** particularly fast in execution\n",
    "*  it is a **weakly** or **dynamically typed**\n",
    "*  it does **not** offer much support for mobile systems\n",
    "*  it does **not** well exploit multiprocessor systems\n"
   ]
  },
  {
   "cell_type": "markdown",
   "id": "fcd6ce05",
   "metadata": {
    "slideshow": {
     "slide_type": "slide"
    }
   },
   "source": [
    "## Obtaining and installing Python <a id=\"Install\"></a>\n",
    "\n",
    "An Internet search will turn up working distributions as self-extracting zip files for the major operating systems, which will include the **Python** interpreter and all of the used packages. If you download individual packages, then they generally come with a setup script (`setup.py`) that can be run from a shell. Package webpages generally give instructions.\n",
    "\n",
    "There are two ways that **Python** is commonly used:\n",
    " \n",
    "*  The first is as an interactive command environment, such as iPython or IDLE, which are commonly bundled with the Python interpreter. Starting **Python** with one of these results in a script window with alert command prompt (which will be shown as `>>>`).\n",
    "\t\n",
    "*  The second one is to use a **Python IDEs** and code editors available for various operating systems. \n"
   ]
  },
  {
   "cell_type": "markdown",
   "id": "06fb6084",
   "metadata": {
    "slideshow": {
     "slide_type": "slide"
    }
   },
   "source": [
    "### Python interpreter\n",
    "\n",
    "After installing the Python interpreter, it is possible to launch the app that will open a console in which you can type commands.\n",
    "\n",
    "This console shows the symbol sequence `>>>`, known as the prompt and it shows that the interpreter is ready to accept commands.\n",
    "\n",
    "For example, we can begin typing some simple commands:"
   ]
  },
  {
   "cell_type": "code",
   "execution_count": 1,
   "id": "d4fc4f70-338c-458c-a162-5145055cf597",
   "metadata": {
    "slideshow": {
     "slide_type": "-"
    }
   },
   "outputs": [
    {
     "data": {
      "text/plain": [
       "5"
      ]
     },
     "execution_count": 1,
     "metadata": {},
     "output_type": "execute_result"
    }
   ],
   "source": [
    "3 + 2"
   ]
  },
  {
   "cell_type": "code",
   "execution_count": 2,
   "id": "31bbc381-fd40-400e-8520-00bd4d869e33",
   "metadata": {
    "slideshow": {
     "slide_type": "-"
    }
   },
   "outputs": [
    {
     "data": {
      "text/plain": [
       "21"
      ]
     },
     "execution_count": 2,
     "metadata": {},
     "output_type": "execute_result"
    }
   ],
   "source": [
    "x = 7\n",
    "3*x"
   ]
  },
  {
   "cell_type": "markdown",
   "id": "fff3d090",
   "metadata": {
    "slideshow": {
     "slide_type": "-"
    }
   },
   "source": [
    "Due to the simplicity of these commands, no further explanation are needed.\n"
   ]
  },
  {
   "cell_type": "markdown",
   "id": "72a859b7",
   "metadata": {
    "slideshow": {
     "slide_type": "slide"
    }
   },
   "source": [
    "The problem of the Python interpret is its lack in many features, like interactivity. A solution is using the **IPython**(Interactive Python) interpreter, which is a console offering introspection, interactive plots, highlighted syntax, automatic compilation and history. IPython also allows parallel computing support.\n",
    "\n",
    "Differently from the Python interpreter that uses the `>>>` prompt, the IPython one shows numbered commands, with a different style for input and output. Just to show some few examples:"
   ]
  },
  {
   "cell_type": "raw",
   "id": "b1a2d005-95a4-4127-9e26-73bcd7c4d4e7",
   "metadata": {
    "slideshow": {
     "slide_type": "-"
    }
   },
   "source": [
    "In [1]: 3 + 2\n",
    "Out[1]: 5\n",
    "\n",
    "In [2]: x = 7\n",
    "\n",
    "In [3]: 3*x\n",
    "Out[3]: 21\n"
   ]
  },
  {
   "cell_type": "markdown",
   "id": "8c323cc2",
   "metadata": {
    "slideshow": {
     "slide_type": "-"
    }
   },
   "source": [
    "IPython can be installed from the official website, available at: <https://ipython.org/install.html>.\n"
   ]
  },
  {
   "cell_type": "markdown",
   "id": "30c0134c",
   "metadata": {
    "slideshow": {
     "slide_type": "slide"
    }
   },
   "source": [
    "### Anaconda\n",
    "\n",
    "However, the best way to have the IPython interpreter along with the main scientific and machine learning**libraries** already available, is to install the **Anaconda** distribution (available at: <https://anaconda.com>) or its compact version **Miniconda**.\n",
    "\n",
    "Anaconda, in its Individual Edition, is an open source framework for Python software development with a huge number of pre-installed **packages** for scientific applications. Hence, it is the ideal environment for students.\n",
    "\n",
    "**Miniconda** (available at: <https://docs.conda.io/en/latest/miniconda.html>) is a *light* version of Anaconda, particularly suitable for old PC with a limited disc space or for who needs only a limited number of packages.\n",
    "\n",
    "Anaconda and Miniconda can be simply installed after the download of the installer and its execution.\n"
   ]
  },
  {
   "cell_type": "markdown",
   "id": "67790d02",
   "metadata": {
    "slideshow": {
     "slide_type": "slide"
    }
   },
   "source": [
    "## Installing new packages <a id=\"New_packages\"></a>\n",
    "\n",
    "The Anaconda environment can be configured by a graphical interface, called **Anaconda Navigator**. This interface can be opened by clicking on the related App in the App list in your computer.\n",
    "\n",
    "However, it is more simple and powerful to operate with the Anaconda Console, by opening the **Anaconda Prompt** in the App list. Using this console, we can use **Conda**, the management software of the packages available in the Anaconda environment.\n",
    "\n",
    "In some rare cases, a package could not be available in the Conda environment. In these cases, we can use the **Pip** management software, normally used in other Python distribution.\n"
   ]
  },
  {
   "cell_type": "markdown",
   "id": "f9b631e7",
   "metadata": {
    "slideshow": {
     "slide_type": "slide"
    }
   },
   "source": [
    "### Using Conda\n",
    "\n",
    "Using Conda is very simple, it works by typing **commands** on a console.\n",
    "\n",
    "To install a new package, we can type:"
   ]
  },
  {
   "cell_type": "raw",
   "id": "c71555f9-69d0-4733-82ed-e2ddd14c7646",
   "metadata": {
    "slideshow": {
     "slide_type": "-"
    }
   },
   "source": [
    "> conda install newPackage"
   ]
  },
  {
   "cell_type": "markdown",
   "id": "e9859b1e",
   "metadata": {
    "slideshow": {
     "slide_type": "-"
    }
   },
   "source": [
    "Often, conda will ask if performing an operation (downloading a module, installing or updating it). You can type `y` to perform the operation, otherwise type `n` to abort it:"
   ]
  },
  {
   "cell_type": "raw",
   "id": "10bc9ab5-a719-4b71-9df1-cef1c13c504b",
   "metadata": {
    "slideshow": {
     "slide_type": "-"
    }
   },
   "source": [
    "> Proceed ([y]/n)?  y"
   ]
  },
  {
   "cell_type": "markdown",
   "id": "3d0082cc",
   "metadata": {
    "slideshow": {
     "slide_type": "-"
    }
   },
   "source": [
    "It is also possible to search a package by its name:"
   ]
  },
  {
   "cell_type": "raw",
   "id": "5e371aa2-393e-4cc8-9ca7-f9a59b904d59",
   "metadata": {
    "slideshow": {
     "slide_type": "-"
    }
   },
   "source": [
    "> conda search newPackage"
   ]
  },
  {
   "cell_type": "markdown",
   "id": "3e6e0b98",
   "metadata": {
    "slideshow": {
     "slide_type": "-"
    }
   },
   "source": [
    "Often, the official conda repository is **slow** to be updated. It can be useful to install the last version of a package by the conda-forge repository, a package collection managed from a user community. In this case, the installation is done as:"
   ]
  },
  {
   "cell_type": "raw",
   "id": "f14894c1-cc60-4e3b-9b3b-2102cf8f29f8",
   "metadata": {
    "slideshow": {
     "slide_type": "-"
    }
   },
   "source": [
    "> conda install -c conda-forge newPackage"
   ]
  },
  {
   "cell_type": "markdown",
   "id": "2729cdcb",
   "metadata": {
    "slideshow": {
     "slide_type": "-"
    }
   },
   "source": [
    "The list of all installed packages can be obtained by typing:"
   ]
  },
  {
   "cell_type": "raw",
   "id": "c4d900b5-3697-4623-a5c4-6b08f8cb8885",
   "metadata": {
    "slideshow": {
     "slide_type": "-"
    }
   },
   "source": [
    "> conda (*list*)"
   ]
  },
  {
   "cell_type": "markdown",
   "id": "d9d856e0",
   "metadata": {
    "slideshow": {
     "slide_type": "-"
    }
   },
   "source": [
    "Periodically, it is helpful to **update** conda and all the installed packages. This can be made by typing:"
   ]
  },
  {
   "cell_type": "raw",
   "id": "2b385d8d-4e1f-4d35-9f5e-ec0ef8b23363",
   "metadata": {
    "slideshow": {
     "slide_type": "-"
    }
   },
   "source": [
    "> conda update conda\n",
    "> conda update --all"
   ]
  },
  {
   "cell_type": "markdown",
   "id": "70187cef",
   "metadata": {
    "slideshow": {
     "slide_type": "-"
    }
   },
   "source": [
    "If you need to update only a subset of packages, you can type:"
   ]
  },
  {
   "cell_type": "raw",
   "id": "cb1b99af-fdb3-4cab-bf5e-376afa39f296",
   "metadata": {
    "slideshow": {
     "slide_type": "-"
    }
   },
   "source": [
    "> conda update newPackage1 newPackage2 newPackage3 ..."
   ]
  },
  {
   "cell_type": "markdown",
   "id": "acd1a1d1",
   "metadata": {
    "slideshow": {
     "slide_type": "-"
    }
   },
   "source": [
    "Often, to write a script for a program, you need particular packages, maybe in a specific release, which can **conflict** with a subset of other installed packages. In this case, you can create a virtual environment:"
   ]
  },
  {
   "cell_type": "raw",
   "id": "6ffe4ddc-4e01-4849-a432-56a47a706f41",
   "metadata": {
    "slideshow": {
     "slide_type": "-"
    }
   },
   "source": [
    "> conda create --name myEnvironment"
   ]
  },
  {
   "cell_type": "markdown",
   "id": "d4f4ee25",
   "metadata": {
    "slideshow": {
     "slide_type": "-"
    }
   },
   "source": [
    "If you need to install some packages at the creation of a virtual environment:"
   ]
  },
  {
   "cell_type": "raw",
   "id": "6c25e300-9839-4a0c-afa3-9e9c85bad911",
   "metadata": {
    "slideshow": {
     "slide_type": "-"
    }
   },
   "source": [
    "> conda create --name myEnvironment newPackage1 newPackage2 ..."
   ]
  },
  {
   "cell_type": "markdown",
   "id": "67bbf38c",
   "metadata": {
    "slideshow": {
     "slide_type": "-"
    }
   },
   "source": [
    "After the creation, to use a virtual environment you need to **activate** it:"
   ]
  },
  {
   "cell_type": "raw",
   "id": "393845bc-0af0-4f28-a61e-c81e7c9748fa",
   "metadata": {
    "slideshow": {
     "slide_type": "-"
    }
   },
   "source": [
    "> conda activate myEnvironment"
   ]
  },
  {
   "cell_type": "markdown",
   "id": "87a9e4c7",
   "metadata": {
    "slideshow": {
     "slide_type": "-"
    }
   },
   "source": [
    "You are now ready to use the new environment as the default one. To switch to the base environment, simply type:"
   ]
  },
  {
   "cell_type": "raw",
   "id": "b93e7b5c-a69e-4a2a-87c8-fcebbdf97bb6",
   "metadata": {
    "slideshow": {
     "slide_type": "-"
    }
   },
   "source": [
    "> conda activate"
   ]
  },
  {
   "cell_type": "markdown",
   "id": "70cbe434",
   "metadata": {
    "slideshow": {
     "slide_type": "-"
    }
   },
   "source": [
    "To see all the available virtual environments, type:"
   ]
  },
  {
   "cell_type": "raw",
   "id": "1c0df0dd-6670-4ae0-a330-ef12a806532a",
   "metadata": {
    "slideshow": {
     "slide_type": "-"
    }
   },
   "source": [
    "> conda info --envs"
   ]
  },
  {
   "cell_type": "markdown",
   "id": "7906d834",
   "metadata": {
    "slideshow": {
     "slide_type": "-"
    }
   },
   "source": [
    "One of the main interesting features of virtual environments is that each can use a different version of Python. For example, if you need an environment using Python 3.8, you can type:"
   ]
  },
  {
   "cell_type": "raw",
   "id": "5e7d2d5d-c2a1-4d73-abee-5a59d60efb24",
   "metadata": {
    "slideshow": {
     "slide_type": "-"
    }
   },
   "source": [
    "> conda create --name myEnvironment python=3.8"
   ]
  },
  {
   "cell_type": "markdown",
   "id": "7f8e4890",
   "metadata": {
    "slideshow": {
     "slide_type": "-"
    }
   },
   "source": [
    "To check the Python version used by the current environment, type:"
   ]
  },
  {
   "cell_type": "raw",
   "id": "77648c05-57fb-43c7-8ed5-1d885e3448dc",
   "metadata": {
    "slideshow": {
     "slide_type": "-"
    }
   },
   "source": [
    "> python --version"
   ]
  },
  {
   "cell_type": "markdown",
   "id": "6f72e0a8",
   "metadata": {
    "slideshow": {
     "slide_type": "slide"
    }
   },
   "source": [
    "### Using Pip\n",
    "\n",
    "Similarly to conda, in order to install a package using **Pip**, you can type:"
   ]
  },
  {
   "cell_type": "raw",
   "id": "b8d6089d-6351-42f8-89a9-dc648837f021",
   "metadata": {
    "slideshow": {
     "slide_type": "-"
    }
   },
   "source": [
    "> pip install newPackage"
   ]
  },
  {
   "cell_type": "markdown",
   "id": "e16033f6",
   "metadata": {
    "slideshow": {
     "slide_type": "-"
    }
   },
   "source": [
    "Or, if interested in installing multiple packages:"
   ]
  },
  {
   "cell_type": "raw",
   "id": "051ad006-239d-4483-b328-d1cf9e2799c2",
   "metadata": {
    "slideshow": {
     "slide_type": "-"
    }
   },
   "source": [
    "> pip install newPackage1 newPackage2 newPackage3 ..."
   ]
  },
  {
   "cell_type": "markdown",
   "id": "358a475e",
   "metadata": {
    "slideshow": {
     "slide_type": "-"
    }
   },
   "source": [
    "To update one or more package, you can use:"
   ]
  },
  {
   "cell_type": "raw",
   "id": "de05b6de-3782-4d03-b5b5-3f916662a3a6",
   "metadata": {
    "slideshow": {
     "slide_type": "-"
    }
   },
   "source": [
    "> pip install --upgrade newPackage1 newPackage2 ..."
   ]
  },
  {
   "cell_type": "markdown",
   "id": "fbf1dff9",
   "metadata": {
    "slideshow": {
     "slide_type": "-"
    }
   },
   "source": [
    "If you need to **update** pip itself, type:"
   ]
  },
  {
   "cell_type": "raw",
   "id": "b0396890-f7af-4a5a-9259-c983c1e4d602",
   "metadata": {
    "slideshow": {
     "slide_type": "-"
    }
   },
   "source": [
    "> pip install --upgrade pip"
   ]
  },
  {
   "cell_type": "markdown",
   "id": "91b6ff83",
   "metadata": {
    "slideshow": {
     "slide_type": "-"
    }
   },
   "source": [
    "Often, Python programs are distributed with the text file `requirements.txt` that lists all the necessary modules for running the project. You can install**all** the packages listed in this file by simply typing:"
   ]
  },
  {
   "cell_type": "raw",
   "id": "5d3abe48-4bbf-4bbe-9f79-0f525a4d04db",
   "metadata": {
    "slideshow": {
     "slide_type": "-"
    }
   },
   "source": [
    "> pip install -r requirements.txt"
   ]
  },
  {
   "cell_type": "markdown",
   "id": "4e42a2a5",
   "metadata": {
    "slideshow": {
     "slide_type": "-"
    }
   },
   "source": [
    "Note that, in some operating systems(e.g., **Linux**) you need the **root rights** to install a new package.\n"
   ]
  },
  {
   "cell_type": "markdown",
   "id": "c13bfc9b",
   "metadata": {
    "slideshow": {
     "slide_type": "slide"
    }
   },
   "source": [
    "## IDE Environments <a id=\"IDE\"></a>\n"
   ]
  },
  {
   "cell_type": "markdown",
   "id": "d4c6670b",
   "metadata": {
    "slideshow": {
     "slide_type": "slide"
    }
   },
   "source": [
    "### Where writing the code\n",
    "\n",
    "Typing code directly in the Python interpreter console is boring and tedious, since every time you need to run a program, you need to **write** each command in the console.\n",
    "\n",
    "As a better alternative, you can **pack** all the commands implementing a program in a script file. This file has usually the `.py` extension.\n",
    "\n",
    "Is then possible to **run** the script `myScript.py` in the console, by typing its name:"
   ]
  },
  {
   "cell_type": "raw",
   "id": "47e21f26-db0f-48e9-b2b4-c6dcb1b4a5a9",
   "metadata": {
    "slideshow": {
     "slide_type": "-"
    }
   },
   "source": [
    "> python myScript.py"
   ]
  },
  {
   "cell_type": "markdown",
   "id": "d914c9e2",
   "metadata": {
    "slideshow": {
     "slide_type": "-"
    }
   },
   "source": [
    "However, it is preferable to use an Integrated Development Environment (**IDE**) to **write** code, since an IDE helps the programmers and provides many useful and additional tools.\n"
   ]
  },
  {
   "cell_type": "markdown",
   "id": "4d0b6396",
   "metadata": {
    "slideshow": {
     "slide_type": "slide"
    }
   },
   "source": [
    "### IDLE \\& co.\n",
    "\n",
    "The very basic Python IDE is **IDLE** (more info at: <https://docs.python.org/3/library/idle.html>), usually distributed with the basic Python installation.\n",
    "\n",
    "Another Python IDE for beginners is **Thonny** (available at: <https://thonny.org/>), which is very simple to use.\n",
    "\n",
    "IDLE and Thonny can be used to type some scripts, however they are very basic and possess **no** interesting tools.\n",
    "\n",
    "Very interestingly, there some online version of the interpreter (available at: <https://www.programiz.com/python-programming/online-compiler/>), which can be used for simply projects **without** any installation.\n"
   ]
  },
  {
   "cell_type": "markdown",
   "id": "7e426875",
   "metadata": {
    "slideshow": {
     "slide_type": "slide"
    }
   },
   "source": [
    "### More powerful IDEs\n",
    "\n",
    "However, the best way is to install a more complete **IDE** that will make easier to write code. There are many powerful IDEs available on the web, some supporting several programming languages.\n",
    "\n",
    "Two nice possibilities are **Spyder** (available at: <https://www.spyder-ide.org/>), which is aimed at exactly the kind of scientific Python (and installed by default in Anaconda environment), and **Visual Studio Code** (available at: <https://code.visualstudio.com/>).\n",
    "\n",
    "A very powerful IDE is **PyCharm** (available at: <https://www.jetbrains.com/pycharm/>), which has many tools helping the programmer and it is free in the Community Edition. However, many tools are available only in the Professional Edition that must be purchased."
   ]
  },
  {
   "cell_type": "markdown",
   "id": "172ddfab",
   "metadata": {
    "slideshow": {
     "slide_type": "slide"
    }
   },
   "source": [
    "Other solutions are **Wing** (available at: <https://wingware.com/>), which also provide a professional version, and **PyDev** (available at: <https://www.pydev.org/>), which is an extension of the Eclipse environment.\n",
    "\n",
    "Finally, there are some general purpose **editors** that provide intelligent support for many programming language. The most important editor are: \n",
    "\n",
    "1. **Atom** (available at: <https://atom.io/>), very nice editor but dismissed on 15 December 2022;\n",
    "\t\n",
    "2. **Sublime Text** (available at: <https://www.sublimetext.com/>), similar to Atom with a very nice readability;\n",
    "\t\n",
    "3. **Notepad++** (available at: <https://notepad-plus-plus.org/>), nice and light general purpose editor;\n",
    "\t\n",
    "4. **Vim** (available at: <https://www.vim.org/>), available for Unix and Mac OS users.\n"
   ]
  },
  {
   "cell_type": "markdown",
   "id": "27d31456",
   "metadata": {
    "slideshow": {
     "slide_type": "slide"
    }
   },
   "source": [
    "### Recommended IDE\n",
    "\n",
    "Personally, I **prefer** to work with the **Spyder** IDE, pre-installed with the Anaconda distribution.\n"
   ]
  },
  {
   "cell_type": "markdown",
   "id": "14fc1c57",
   "metadata": {
    "slideshow": {
     "slide_type": "slide"
    }
   },
   "source": [
    "### Notebook based IDE\n"
   ]
  },
  {
   "cell_type": "markdown",
   "id": "f55a5c9c",
   "metadata": {
    "slideshow": {
     "slide_type": "slide"
    }
   },
   "source": [
    "#### Jupyter Notebook\n",
    "\n",
    "An alternative solution to an IDE is to use the **Jupyter Notebook**, a particular file format that allows code execution, inserting of text, figures, and interactive functionalities, all included in file with extension `.ipynb`.\n",
    "\n",
    "The Jupyter Notebook, created by the Jupyter Project (see: <https://jupyter.org/>), is a notebook where inserting blocks of text and blocks of code. It is opened in a common web browser.\n",
    "\n",
    "The notebook can be useful for software development and for sharing the projects with other users, since the notebook **integrates** also the results (both text and figures) after the code execution. For this reason it is used for didactic and many authors share the Jupyter Notebooks of their books.\n",
    "\n",
    "Jupyter Notebook can be opened by using the Anaconda console. After changing the directory to the working one, it is sufficient to type:"
   ]
  },
  {
   "cell_type": "raw",
   "id": "3e7e7087-c8a5-43a1-bd2c-d57d9469ac5a",
   "metadata": {
    "slideshow": {
     "slide_type": "-"
    }
   },
   "source": [
    "> jupyter notebook"
   ]
  },
  {
   "cell_type": "markdown",
   "id": "18243f8c",
   "metadata": {
    "slideshow": {
     "slide_type": "-"
    }
   },
   "source": [
    "In order to insert a new **text** cell, you can select the *Insert* menu and choose to insert a new cell above or below the current one. By default, the cell is enable for **code**; if you need a text cell, you can select the menu *Markdown* $\\rightarrow$ *Markdown* or *Markdown* $\\rightarrow$ *Raw* for code cells that must **not** be executed (i.e, code used as a guideline).\n",
    "\n",
    "In order to **execute** a cell, you can click the **Play** button inside the icon group below the main menu. If the cell has to print a result, this will be provided immediately after the cell itself. Finally, the whole script can be execute by selecting the menu *Run* $\\rightarrow$ *Run* all cells. It is also possible to run all the **above** or **below** cells from the same menu.\n"
   ]
  },
  {
   "cell_type": "markdown",
   "id": "7c111946",
   "metadata": {
    "slideshow": {
     "slide_type": "slide"
    }
   },
   "source": [
    "#### Colaboratory\n",
    "\n",
    "A very comfortable and efficient alternative is to use a Google solution that allows to write and execute Python code directly in the browser. This application is called **Colaboratory** (available at: <https://colab.research.google.com>) or simply **Colab**.\n"
   ]
  },
  {
   "cell_type": "markdown",
   "id": "29d1f78d",
   "metadata": {
    "slideshow": {
     "slide_type": "slide"
    }
   },
   "source": [
    "Colab is working with notebook files with extension `.ipynb`, automatically saved in the \"Colab Notebooks\" folder of Google Drive. The general working of Colab is similar to Jupyter Notebook.\n",
    "\n",
    "However, Colab offers some advantages compared to Jupyter Notebook:\n",
    " \n",
    "*  there is **no need** to configure the environment. You need only to **create** a text or code block and write it;\n",
    "  \n",
    "*  you can use for free a **GPU** (*Graphical Processing Unit*) and also a **TPU**(*Tensor Processing Unit*), to perform in an efficient way tensors evaluation, as is usually done in Deep Learning algorithms. Colab offers also a RAM memory for data, always greater than 12 GB per user. The exact amount of memory and computational resource depends on the number of connected users;\n",
    "  \n",
    "*  it allows a simply sharing of the script with other users for working together on the same file. To access to Colab it is only sufficient to have a Google account.\n"
   ]
  },
  {
   "cell_type": "markdown",
   "id": "61eb225b",
   "metadata": {
    "slideshow": {
     "slide_type": "slide"
    }
   },
   "source": [
    "However, Colab has some **limitations** in order to avoid abuses:\n",
    "\n",
    "*  after the ending of the execution of a script, all the uploaded data will be automatically **deleted** from the virtual memory;\n",
    "\t\n",
    "*  the execution of a notebook cannot overcome 12 consecutive hours, after which the execution will be **interrupted** even if the script has not yet ended;\n",
    "\t\n",
    "*  the notebooks are **disabled** after 90 minutes of inactivity. In order to resume the work you will reconnect again by running all the previous code blocks. Since this is a new connection, the amount of memory and computational resources could be **different** from the previous one.\n",
    "\n",
    "Colab is always free of charge to use, but to overcome previous limitations and if your computing needs grow, there are **paid** options to meet them, both in subscription and pay as you go solutions. \n"
   ]
  },
  {
   "cell_type": "markdown",
   "id": "1e7cd14f",
   "metadata": {
    "slideshow": {
     "slide_type": "slide"
    }
   },
   "source": [
    "## Markdown syntax <a id=\"Markdown\"></a>\n",
    "\n",
    "The text (*markdown*) cells in both the Jupyter Notebook and Colab are written accordingly to the **markdown syntax** (refer to: <https://www.markdownguide.org/basic-syntax/>).\n",
    "\n",
    "**Markdown** is a lightweight *markup language* for creating **sophisticated** formatted text using a plain-text editor.\n",
    "\n",
    "It simply consists in writing some **tags** before or before and after a word, to chance its formatting. It also interpret the **LaTeX** commands for typesetting equations.\n"
   ]
  },
  {
   "cell_type": "markdown",
   "id": "2227d2c8",
   "metadata": {
    "slideshow": {
     "slide_type": "slide"
    }
   },
   "source": [
    "Just to provide some simple examples:\n",
    "\n",
    "* `# Title`: is a first level heading\n",
    "\t\n",
    "* `## Title`: is a second level heading\n",
    "\t\n",
    "*  ...\n",
    "\t\n",
    "* `*Word*`: makes the word in *italic* font\n",
    "\t\n",
    "* `**Word**`: makes the word in **bold** font\n",
    "\t\n",
    "* `***Word***`: makes the word in ***bold italic*** font\n",
    "\t\n",
    "* `Word`: for `code` commands\n",
    "\n",
    "The  complete syntax and other hints can be found online or in dedicated books. There are also available some useful Cheat Sheets (see: <https://www.datacamp.com/cheat-sheet/markdown-cheat-sheet-23>).\n"
   ]
  },
  {
   "cell_type": "markdown",
   "id": "9a901f3a",
   "metadata": {
    "slideshow": {
     "slide_type": "slide"
    }
   },
   "source": [
    "## References <a id=\"References\"></a>\n",
    "\n",
    "1. Naomi Ceder, The Quick Python Book, Third Edition, Manning, 2018.\n",
    "2. Naomi Ceder, Python -- Guida alla sintassi, alle funzionalit\\`a avanzate e all'analisi dei dati, Apogeo, 2019.\n",
    "3. Jake VanderPlas, A Whirlwind Tour of Python, O'Reilly Media, 2016 (<https://jakevdp.github.io/WhirlwindTourOfPython/>)\n",
    "4. K. A. Lambert, Fundamentals of Python: First Programs, 2-nd Edition, Course Technology, 2018.\n",
    "5. K. A. Lambert, Programmazione in Python, 2-nd Edition, Apogeo Education, 2018.\n",
    "6. M. L. Hetland., Beginning Python: From Novice to Professional, 2-nd Edition, Apress Inc., 2008.\n",
    "\n",
    "\n",
    "\n",
    "\n",
    "\n",
    "\n",
    "\n",
    "\n",
    "\n",
    "\n",
    "\n",
    "\n",
    "\n",
    "\n",
    "\n",
    "\n"
   ]
  }
 ],
 "metadata": {
  "celltoolbar": "Slideshow",
  "kernelspec": {
   "display_name": "Python 3 (ipykernel)",
   "language": "python",
   "name": "python3"
  },
  "language": "python",
  "language_info": {
   "codemirror_mode": {
    "name": "ipython",
    "version": 3
   },
   "file_extension": ".py",
   "mimetype": "text/x-python",
   "name": "python",
   "nbconvert_exporter": "python",
   "pygments_lexer": "ipython3",
   "version": "3.11.7"
  },
  "livereveal": {
   "controls": true,
   "help": true,
   "scroll": true,
   "slideNumber": true,
   "transition": "none"
  }
 },
 "nbformat": 4,
 "nbformat_minor": 5
}
